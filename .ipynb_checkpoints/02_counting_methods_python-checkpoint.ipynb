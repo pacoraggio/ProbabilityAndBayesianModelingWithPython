{
 "cells": [
  {
   "cell_type": "markdown",
   "id": "valid-conspiracy",
   "metadata": {},
   "source": [
    "# Counting Methods - Python"
   ]
  },
  {
   "cell_type": "markdown",
   "id": "comfortable-davis",
   "metadata": {},
   "source": [
    "### Creating \\ drawing graphs in Python"
   ]
  },
  {
   "cell_type": "markdown",
   "id": "aerial-qatar",
   "metadata": {},
   "source": [
    "##### NetworkX"
   ]
  },
  {
   "cell_type": "code",
   "execution_count": 1,
   "id": "pending-seeking",
   "metadata": {},
   "outputs": [],
   "source": [
    "# Install NetworkX\n",
    "\n",
    "# pip install networkx"
   ]
  },
  {
   "cell_type": "markdown",
   "id": "engaged-plasma",
   "metadata": {},
   "source": [
    "##### Creating a graph"
   ]
  },
  {
   "cell_type": "code",
   "execution_count": 2,
   "id": "specified-given",
   "metadata": {},
   "outputs": [],
   "source": [
    "pos = {0: (0, 0), \n",
    "       1: (1, 15), 2: (1, 0), 3: (1, -15),\n",
    "       4: (2,23), 5: (2,19), 6: (2,15), 7: (2,11),\n",
    "       8: (2,7), 9: (2,3), 10: (2,-3), 11: (2,-7),\n",
    "       12: (2,-11), 13: (2,-15), 14: (2,-19), 15: (2,-23),\n",
    "       16: (3,24), 17: (3,22), 18: (3,20), 19: (3,18), 20: (3,16), 21: (3,14), 22: (3,12), 23: (3,10),\n",
    "       24: (3,8), 25: (3,6), 26: (3,4), 27: (3,2), 28: (3,-2), 29: (3,-4), 30: (3,-6), 31: (3,-8),\n",
    "       32: (3,-10), 33: (3,-12), 34: (3,-14), 35: (3,-16), 36: (3,-18), 37: (3,-20), 38: (3,-22), 39: (3,-24),\n",
    "      } \n",
    "\n",
    "name = {0:'root', 1:'soup', 2:'fruit cup', 3:'quesadillas',\n",
    "       4:'chicken', 5:'beef', 6:'fish',7:'lamb',\n",
    "       8:'chicken', 9:'beef', 10:'fish',11:'lamb',\n",
    "       12:'chicken', 13:'beef', 14:'fish',15:'lamb',\n",
    "       16:'pie', 17:'ice cream',18:'pie', 19:'ice cream',20:'pie', 21:'ice cream',22:'pie', 23:'ice cream',\n",
    "       24:'pie', 25:'ice cream',26:'pie', 27:'ice cream',28:'pie', 29:'ice cream',30:'pie', 31:'ice cream',\n",
    "       32:'pie', 33:'ice cream',34:'pie', 35:'ice cream',36:'pie', 37:'ice cream',38:'pie', 39:'ice cream',}"
   ]
  },
  {
   "cell_type": "code",
   "execution_count": 29,
   "id": "bright-blame",
   "metadata": {},
   "outputs": [],
   "source": [
    "pos_label = {0: (0, 3), \n",
    "       1: (1, 18), 2: (1, 3), 3: (1, -12),\n",
    "       4: (2,26), 5: (2,22), 6: (2,18), 7: (2,14),\n",
    "       8: (2,10), 9: (2,6), 10: (2,0), 11: (2,-4),\n",
    "       12: (2,-18), 13: (2,-12), 14: (2,-16), 15: (2,-20),\n",
    "       16: (3,27), 17: (3,25), 18: (3,23), 19: (3,21), 20: (3,19), 21: (3,17), 22: (3,15), 23: (3,13),\n",
    "       24: (3,11), 25: (3,9), 26: (3,7), 27: (3,5), 28: (3,1), 29: (3,-1), 30: (3,-3), 31: (3,-5),\n",
    "       32: (3,-7), 33: (3,-9), 34: (3,-11), 35: (3,-13), 36: (3,-15), 37: (3,-17), 38: (3,-19), 39: (3,-21),\n",
    "      } "
   ]
  },
  {
   "cell_type": "code",
   "execution_count": 39,
   "id": "recorded-begin",
   "metadata": {},
   "outputs": [
    {
     "data": {
      "text/plain": [
       "3"
      ]
     },
     "execution_count": 39,
     "metadata": {},
     "output_type": "execute_result"
    }
   ],
   "source": [
    "\n",
    "pos_label[0]"
   ]
  },
  {
   "cell_type": "code",
   "execution_count": 3,
   "id": "great-supply",
   "metadata": {},
   "outputs": [],
   "source": [
    "nnode = [i for i in range(0,40)]\n",
    "nnames = [i for i in name.values()]"
   ]
  },
  {
   "cell_type": "code",
   "execution_count": 4,
   "id": "awful-parcel",
   "metadata": {},
   "outputs": [],
   "source": [
    "import networkx as nx"
   ]
  },
  {
   "cell_type": "code",
   "execution_count": 5,
   "id": "leading-blackjack",
   "metadata": {},
   "outputs": [],
   "source": [
    "X=nx.Graph()"
   ]
  },
  {
   "cell_type": "code",
   "execution_count": 6,
   "id": "amazing-partnership",
   "metadata": {},
   "outputs": [],
   "source": [
    "X.add_nodes_from(pos.keys())"
   ]
  },
  {
   "cell_type": "code",
   "execution_count": 7,
   "id": "selective-energy",
   "metadata": {},
   "outputs": [],
   "source": [
    "X.add_edges_from([\n",
    "    (0, 1), \n",
    "    (0, 2),\n",
    "    (0, 3),\n",
    "    (1, 4),\n",
    "    (1, 5),\n",
    "    (1, 6),\n",
    "    (1, 7),\n",
    "    (2, 8),\n",
    "    (2, 9),\n",
    "    (2, 10),\n",
    "    (2, 11),\n",
    "    (3, 12),\n",
    "    (3, 13),\n",
    "    (3, 14),\n",
    "    (3, 15),\n",
    "    (4, 16),\n",
    "    (4, 17),\n",
    "    (5, 18),\n",
    "    (5, 19),\n",
    "    (6, 20),\n",
    "    (6, 21),\n",
    "    (7, 22),\n",
    "    (7, 23),\n",
    "    (8, 24),\n",
    "    (8, 25),\n",
    "    (9, 26),\n",
    "    (9, 27),\n",
    "    (10, 28),\n",
    "    (10, 29),\n",
    "    (11, 30),\n",
    "    (11, 31),\n",
    "    (12, 32),\n",
    "    (12, 33),\n",
    "    (13, 34),\n",
    "    (13, 35),\n",
    "    (14, 36),\n",
    "    (14, 37),\n",
    "    (15, 38),\n",
    "    (15, 39),\n",
    "])"
   ]
  },
  {
   "cell_type": "code",
   "execution_count": 8,
   "id": "radio-antigua",
   "metadata": {
    "code_folding": []
   },
   "outputs": [],
   "source": [
    "for i in range(0,40):\n",
    "    X.add_nodes_from([i], name = nnames[i])"
   ]
  },
  {
   "cell_type": "code",
   "execution_count": 9,
   "id": "active-argument",
   "metadata": {},
   "outputs": [
    {
     "data": {
      "text/plain": [
       "NodeDataView({0: {'name': 'root'}, 1: {'name': 'soup'}, 2: {'name': 'fruit cup'}, 3: {'name': 'quesadillas'}, 4: {'name': 'chicken'}, 5: {'name': 'beef'}, 6: {'name': 'fish'}, 7: {'name': 'lamb'}, 8: {'name': 'chicken'}, 9: {'name': 'beef'}, 10: {'name': 'fish'}, 11: {'name': 'lamb'}, 12: {'name': 'chicken'}, 13: {'name': 'beef'}, 14: {'name': 'fish'}, 15: {'name': 'lamb'}, 16: {'name': 'pie'}, 17: {'name': 'ice cream'}, 18: {'name': 'pie'}, 19: {'name': 'ice cream'}, 20: {'name': 'pie'}, 21: {'name': 'ice cream'}, 22: {'name': 'pie'}, 23: {'name': 'ice cream'}, 24: {'name': 'pie'}, 25: {'name': 'ice cream'}, 26: {'name': 'pie'}, 27: {'name': 'ice cream'}, 28: {'name': 'pie'}, 29: {'name': 'ice cream'}, 30: {'name': 'pie'}, 31: {'name': 'ice cream'}, 32: {'name': 'pie'}, 33: {'name': 'ice cream'}, 34: {'name': 'pie'}, 35: {'name': 'ice cream'}, 36: {'name': 'pie'}, 37: {'name': 'ice cream'}, 38: {'name': 'pie'}, 39: {'name': 'ice cream'}})"
      ]
     },
     "execution_count": 9,
     "metadata": {},
     "output_type": "execute_result"
    }
   ],
   "source": [
    "X.nodes.data()"
   ]
  },
  {
   "cell_type": "code",
   "execution_count": 28,
   "id": "incorrect-biodiversity",
   "metadata": {},
   "outputs": [
    {
     "data": {
      "text/plain": [
       "{0: (0, 2),\n",
       " 1: (1, 15),\n",
       " 2: (1, 0),\n",
       " 3: (1, -15),\n",
       " 4: (2, 23),\n",
       " 5: (2, 19),\n",
       " 6: (2, 15),\n",
       " 7: (2, 11),\n",
       " 8: (2, 7),\n",
       " 9: (2, 3),\n",
       " 10: (2, -3),\n",
       " 11: (2, -7),\n",
       " 12: (2, -11),\n",
       " 13: (2, -15),\n",
       " 14: (2, -19),\n",
       " 15: (2, -23),\n",
       " 16: (3, 24),\n",
       " 17: (3, 22),\n",
       " 18: (3, 20),\n",
       " 19: (3, 18),\n",
       " 20: (3, 16),\n",
       " 21: (3, 14),\n",
       " 22: (3, 12),\n",
       " 23: (3, 10),\n",
       " 24: (3, 8),\n",
       " 25: (3, 6),\n",
       " 26: (3, 4),\n",
       " 27: (3, 2),\n",
       " 28: (3, -2),\n",
       " 29: (3, -4),\n",
       " 30: (3, -6),\n",
       " 31: (3, -8),\n",
       " 32: (3, -10),\n",
       " 33: (3, -12),\n",
       " 34: (3, -14),\n",
       " 35: (3, -16),\n",
       " 36: (3, -18),\n",
       " 37: (3, -20),\n",
       " 38: (3, -22),\n",
       " 39: (3, -24)}"
      ]
     },
     "execution_count": 28,
     "metadata": {},
     "output_type": "execute_result"
    }
   ],
   "source": [
    "pos_label"
   ]
  },
  {
   "cell_type": "code",
   "execution_count": 30,
   "id": "collected-wyoming",
   "metadata": {},
   "outputs": [
    {
     "data": {
      "image/png": "[encoded data removed]",
      "text/plain": [
       "<Figure size 432x288 with 1 Axes>"
      ]
     },
     "metadata": {},
     "output_type": "display_data"
    }
   ],
   "source": [
    "size = [1 for _ in range(0,40)]\n",
    "\n",
    "nx.draw(X, pos, node_size = size)\n",
    "\n",
    "node_labels = nx.get_node_attributes(X,'name')\n",
    "nx.draw_networkx_labels(X, pos_label, labels = node_labels);\n",
    "#nx.draw_spring(X, nodelist=sorted(X.nodes()), font_size=20, width=2,\n",
    "#               node_size = size)"
   ]
  },
  {
   "cell_type": "code",
   "execution_count": null,
   "id": "running-cursor",
   "metadata": {},
   "outputs": [],
   "source": []
  },
  {
   "cell_type": "code",
   "execution_count": null,
   "id": "greenhouse-donna",
   "metadata": {},
   "outputs": [],
   "source": [
    "X.nodes"
   ]
  },
  {
   "cell_type": "code",
   "execution_count": null,
   "id": "seasonal-command",
   "metadata": {},
   "outputs": [],
   "source": [
    "X.add_nodes_from([0,1,2,3,4], name = ['root','soup','fruit cup','quesadillas'])"
   ]
  },
  {
   "cell_type": "code",
   "execution_count": null,
   "id": "pleased-glossary",
   "metadata": {},
   "outputs": [],
   "source": []
  },
  {
   "cell_type": "code",
   "execution_count": null,
   "id": "prospective-citation",
   "metadata": {},
   "outputs": [],
   "source": []
  },
  {
   "cell_type": "code",
   "execution_count": null,
   "id": "distinct-restaurant",
   "metadata": {},
   "outputs": [],
   "source": [
    "G.nodes.data()"
   ]
  },
  {
   "cell_type": "code",
   "execution_count": null,
   "id": "patent-bridges",
   "metadata": {},
   "outputs": [],
   "source": []
  },
  {
   "cell_type": "code",
   "execution_count": null,
   "id": "amino-rubber",
   "metadata": {},
   "outputs": [],
   "source": [
    "X.nodes('pos')"
   ]
  },
  {
   "cell_type": "code",
   "execution_count": null,
   "id": "original-accused",
   "metadata": {},
   "outputs": [],
   "source": [
    "nx.draw(X, pos)"
   ]
  },
  {
   "cell_type": "code",
   "execution_count": null,
   "id": "handy-convention",
   "metadata": {},
   "outputs": [],
   "source": [
    "edge_name = nx.get_node_attributes(G, 'name')"
   ]
  },
  {
   "cell_type": "code",
   "execution_count": null,
   "id": "awful-spanish",
   "metadata": {},
   "outputs": [],
   "source": [
    "nx.draw(G, pos)\n",
    "\n",
    "node_labels = nx.get_node_attributes(G,'name')\n",
    "nx.draw_networkx_labels(G, pos, labels = node_labels);"
   ]
  },
  {
   "cell_type": "code",
   "execution_count": null,
   "id": "fuzzy-vector",
   "metadata": {},
   "outputs": [],
   "source": [
    "name = {()}"
   ]
  },
  {
   "cell_type": "code",
   "execution_count": null,
   "id": "seventh-whale",
   "metadata": {},
   "outputs": [],
   "source": [
    "cl = [G.nodes('color')[i] for i in range(0,18)]"
   ]
  },
  {
   "cell_type": "code",
   "execution_count": null,
   "id": "optional-congress",
   "metadata": {},
   "outputs": [],
   "source": [
    "import matplotlib.pyplot as plt\n",
    "\n",
    "nx.draw(G, with_labels=True, font_weight='bold',\n",
    "       node_color = cl)"
   ]
  },
  {
   "cell_type": "code",
   "execution_count": null,
   "id": "defined-banks",
   "metadata": {},
   "outputs": [],
   "source": []
  },
  {
   "cell_type": "code",
   "execution_count": null,
   "id": "fourth-transition",
   "metadata": {},
   "outputs": [],
   "source": [
    "# !pip install python-igraph"
   ]
  },
  {
   "cell_type": "code",
   "execution_count": null,
   "id": "flying-directory",
   "metadata": {},
   "outputs": [],
   "source": [
    "import igraph\n",
    "from igraph import Graph, EdgeSeq\n",
    "nr_vertices = 96\n",
    "v_label = list(map(str, range(nr_vertices)))\n",
    "G = Graph.Tree(nr_vertices, 2) # 2 stands for children number\n",
    "lay = G.layout('rt')\n",
    "\n",
    "position = {k: lay[k] for k in range(nr_vertices)}\n",
    "Y = [lay[k][1] for k in range(nr_vertices)]\n",
    "M = max(Y)\n",
    "\n",
    "es = EdgeSeq(G) # sequence of edges\n",
    "E = [e.tuple for e in G.es] # list of edges\n",
    "\n",
    "L = len(position)\n",
    "Xn = [position[k][0] for k in range(L)]\n",
    "Yn = [2*M-position[k][1] for k in range(L)]\n",
    "Xe = []\n",
    "Ye = []\n",
    "for edge in E:\n",
    "    Xe+=[position[edge[0]][0],position[edge[1]][0], None]\n",
    "    Ye+=[2*M-position[edge[0]][1],2*M-position[edge[1]][1], None]\n",
    "\n",
    "labels = v_label"
   ]
  },
  {
   "cell_type": "code",
   "execution_count": null,
   "id": "lucky-reality",
   "metadata": {},
   "outputs": [],
   "source": [
    "import plotly.graph_objects as go\n",
    "fig = go.Figure()\n",
    "fig.add_trace(go.Scatter(x=Xe,\n",
    "                   y=Ye,\n",
    "                   mode='lines',\n",
    "                   line=dict(color='rgb(210,210,210)', width=1),\n",
    "                   hoverinfo='none'\n",
    "                   ))\n",
    "fig.add_trace(go.Scatter(x=Xn,\n",
    "                  y=Yn,\n",
    "                  mode='markers',\n",
    "                  name='bla',\n",
    "                  marker=dict(symbol='circle-dot',\n",
    "                                size=18,\n",
    "                                color='#6175c1',    #'#DB4551',\n",
    "                                line=dict(color='rgb(50,50,50)', width=1)\n",
    "                                ),\n",
    "                  text=labels,\n",
    "                  hoverinfo='text',\n",
    "                  opacity=0.8\n",
    "                  ))"
   ]
  },
  {
   "cell_type": "code",
   "execution_count": null,
   "id": "molecular-stocks",
   "metadata": {},
   "outputs": [],
   "source": [
    "g1 = Graph()\n",
    "g2 = Graph()"
   ]
  },
  {
   "cell_type": "code",
   "execution_count": null,
   "id": "extended-fleet",
   "metadata": {},
   "outputs": [],
   "source": [
    "g1.add_vertices(3)\n",
    "g2.add_vertices(4)"
   ]
  },
  {
   "cell_type": "code",
   "execution_count": null,
   "id": "durable-district",
   "metadata": {},
   "outputs": [],
   "source": [
    "g1.add_edges([(0,1),(1,2)])"
   ]
  },
  {
   "cell_type": "code",
   "execution_count": null,
   "id": "ordinary-liability",
   "metadata": {},
   "outputs": [],
   "source": [
    "g2.add_edges([(0,1),(0,2),(0,3)])"
   ]
  },
  {
   "cell_type": "code",
   "execution_count": null,
   "id": "focal-negotiation",
   "metadata": {},
   "outputs": [],
   "source": [
    "g1.add_edges([(2,0)])\n",
    "g1.add_vertices(3)"
   ]
  },
  {
   "cell_type": "code",
   "execution_count": null,
   "id": "coordinate-verse",
   "metadata": {},
   "outputs": [],
   "source": [
    "print(g1)"
   ]
  },
  {
   "cell_type": "code",
   "execution_count": null,
   "id": "female-vanilla",
   "metadata": {},
   "outputs": [],
   "source": [
    "g1.add_edges([(2, 3), (3, 4), (4, 5), (5, 3)])\n",
    "print(g1)"
   ]
  },
  {
   "cell_type": "code",
   "execution_count": null,
   "id": "thorough-allergy",
   "metadata": {},
   "outputs": [],
   "source": [
    "g2.add_vertices(4)"
   ]
  },
  {
   "cell_type": "code",
   "execution_count": null,
   "id": "recognized-array",
   "metadata": {},
   "outputs": [],
   "source": [
    "g2.add_edges([(1,4),(1,5),(1,6),(1,7)])"
   ]
  },
  {
   "cell_type": "code",
   "execution_count": null,
   "id": "growing-classroom",
   "metadata": {},
   "outputs": [],
   "source": [
    "print(g2)"
   ]
  },
  {
   "cell_type": "code",
   "execution_count": null,
   "id": "familiar-orleans",
   "metadata": {},
   "outputs": [],
   "source": [
    "layout = g2.layout(\"kk\")"
   ]
  },
  {
   "cell_type": "code",
   "execution_count": null,
   "id": "right-astronomy",
   "metadata": {},
   "outputs": [],
   "source": [
    "from igraph import *\n",
    " #plot(g2, layout = layout)"
   ]
  },
  {
   "cell_type": "code",
   "execution_count": null,
   "id": "accepting-baseline",
   "metadata": {},
   "outputs": [],
   "source": [
    "# layout = g.layout_reingold_tilford(root=[2])\n",
    "# layout = g.layout(\"rt\", [2])"
   ]
  },
  {
   "cell_type": "code",
   "execution_count": null,
   "id": "established-uncle",
   "metadata": {},
   "outputs": [],
   "source": [
    "g = Graph([(0,1), (0,2), (2,3), (3,4), (4,2), (2,5), (5,0), (6,3), (5,6)])\n"
   ]
  },
  {
   "cell_type": "code",
   "execution_count": null,
   "id": "middle-fancy",
   "metadata": {},
   "outputs": [],
   "source": [
    "g.vs"
   ]
  },
  {
   "cell_type": "code",
   "execution_count": null,
   "id": "color-davis",
   "metadata": {},
   "outputs": [],
   "source": [
    "g.vs[\"name\"] = [\"Alice\", \"Bob\", \"Claire\", \"Dennis\", \"Esther\", \"Frank\", \"George\"]\n",
    "g.vs[\"age\"] = [25, 31, 18, 47, 22, 23, 50]\n",
    "g.vs[\"gender\"] = [\"f\", \"m\", \"f\", \"m\", \"f\", \"m\", \"m\"]\n",
    "g.es[\"is_formal\"] = [False, False, True, True, True, False, True, False, False]"
   ]
  },
  {
   "cell_type": "code",
   "execution_count": null,
   "id": "ancient-rebound",
   "metadata": {},
   "outputs": [],
   "source": [
    "g.es[0]"
   ]
  },
  {
   "cell_type": "code",
   "execution_count": null,
   "id": "current-treasurer",
   "metadata": {},
   "outputs": [],
   "source": [
    "g.es[0].attributes()"
   ]
  },
  {
   "cell_type": "code",
   "execution_count": null,
   "id": "nonprofit-belle",
   "metadata": {},
   "outputs": [],
   "source": [
    "g.es[0][\"is_formal\"] = True"
   ]
  },
  {
   "cell_type": "code",
   "execution_count": null,
   "id": "hawaiian-information",
   "metadata": {},
   "outputs": [],
   "source": [
    "g.es[0]"
   ]
  },
  {
   "cell_type": "code",
   "execution_count": null,
   "id": "regulation-panic",
   "metadata": {},
   "outputs": [],
   "source": [
    "g.degree()"
   ]
  },
  {
   "cell_type": "code",
   "execution_count": null,
   "id": "latin-montana",
   "metadata": {},
   "outputs": [],
   "source": [
    " g.edge_betweenness()"
   ]
  },
  {
   "cell_type": "code",
   "execution_count": null,
   "id": "brown-circumstances",
   "metadata": {},
   "outputs": [],
   "source": [
    "g.vs.select(_degree = g.maxdegree())[\"name\"]"
   ]
  },
  {
   "cell_type": "code",
   "execution_count": null,
   "id": "naughty-october",
   "metadata": {},
   "outputs": [],
   "source": [
    "g.vs.select(age_lt=30)"
   ]
  },
  {
   "cell_type": "code",
   "execution_count": null,
   "id": "constant-schedule",
   "metadata": {},
   "outputs": [],
   "source": [
    " g.vs.select(gender=\"m\")"
   ]
  },
  {
   "cell_type": "code",
   "execution_count": null,
   "id": "wound-evaluation",
   "metadata": {},
   "outputs": [],
   "source": [
    "g.degree(\"Dennis\")"
   ]
  },
  {
   "cell_type": "code",
   "execution_count": null,
   "id": "advised-salad",
   "metadata": {},
   "outputs": [],
   "source": [
    "g.get_adjacency()"
   ]
  },
  {
   "cell_type": "code",
   "execution_count": null,
   "id": "elementary-property",
   "metadata": {},
   "outputs": [],
   "source": [
    "layout = g.layout_kamada_kawai()"
   ]
  },
  {
   "cell_type": "code",
   "execution_count": null,
   "id": "burning-romantic",
   "metadata": {},
   "outputs": [],
   "source": [
    "layout = g.layout_reingold_tilford(root=[2])"
   ]
  },
  {
   "cell_type": "code",
   "execution_count": null,
   "id": "muslim-matter",
   "metadata": {},
   "outputs": [],
   "source": [
    "layout = g.layout(\"kk\")"
   ]
  },
  {
   "cell_type": "code",
   "execution_count": null,
   "id": "silent-slovenia",
   "metadata": {},
   "outputs": [],
   "source": [
    "plot(g, layout = layout)"
   ]
  },
  {
   "cell_type": "code",
   "execution_count": null,
   "id": "reflected-strip",
   "metadata": {},
   "outputs": [],
   "source": []
  }
 ],
 "metadata": {
  "kernelspec": {
   "display_name": "Python 3",
   "language": "python",
   "name": "python3"
  },
  "language_info": {
   "codemirror_mode": {
    "name": "ipython",
    "version": 3
   },
   "file_extension": ".py",
   "mimetype": "text/x-python",
   "name": "python",
   "nbconvert_exporter": "python",
   "pygments_lexer": "ipython3",
   "version": "3.7.9"
  }
 },
 "nbformat": 4,
 "nbformat_minor": 5
}
