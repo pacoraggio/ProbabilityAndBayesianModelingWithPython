{
 "cells": [
  {
   "cell_type": "markdown",
   "metadata": {},
   "source": [
    "# Continuous Distributions"
   ]
  },
  {
   "cell_type": "markdown",
   "metadata": {},
   "source": [
    "resources:\n",
    "\n",
    "- [Difference between random draws from scipy.stats…rvs and numpy.random](https://stackoverflow.com/questions/4001577/difference-between-random-draws-from-scipy-stats-rvs-and-numpy-random)\n",
    "- [Normal distributions (and generally, continuous distributions in SciPy)](http://www.cse.chalmers.se/~richajo/dit862/L4/Lecture%204%20(normal%20distribution).html)"
   ]
  },
  {
   "cell_type": "markdown",
   "metadata": {},
   "source": [
    "## Normal Distribution\n",
    "\n",
    "### Normal probability curve\n",
    "\n",
    "From the book:\n",
    "\n",
    "\"One of the most popular races in the United States is marathon, a grueling 26-mile run. Most people are familiar with the Boston Marathon that is held in Boston, Massachusetts every April. But other cities in the U.S. hold yearly marathons. Here we look at data collected from Grandma’s Marathon that is held in Duluth, Minnesota every June.\n",
    "\n",
    "In the year 2003, there were 2515 women who completed Grandma’s Marathon. The completion times in minutes for all of these women can be downloaded from the marathon’s website. A histogram of these times, measured in minutes, is shown in Figure 5.17.\"\n",
    "\n",
    "In the book I could not find any reference about how to collect the data and so I tried to search on the internet how to retrieve it. After a while, I was able to download a pdf file containing \"Grandma's Marathon - Grandma's Marathon - results\" (apparently from OnlineRaceResults.com web site). They don't look from 2003 but I was happy enough to have a starting point to show some interesting results about Normal probability curve using real data. Moreover, it was an interesting exercise in Python about retrieving data, cleaning and plotting. In the following I will show the methodology I used for getting the data."
   ]
  },
  {
   "cell_type": "markdown",
   "metadata": {},
   "source": [
    "### Goal\n",
    "\n",
    "The goal is to show that marathon results follow a normal distribution and so the main measure I am interested in is the arrival time. The document containing the data is a `pdf` file, not the ideal source, but luckly Python has a good library ([tabula](https://pypi.org/project/tabula-py/)) for importing data in this format into data frame."
   ]
  },
  {
   "cell_type": "code",
   "execution_count": 1,
   "metadata": {},
   "outputs": [],
   "source": [
    "import tabula\n",
    "import pandas as pd\n",
    "\n",
    "a1 = tabula.read_pdf('./data/grandmasmarathon.pdf', stream = True, pages = 'all')"
   ]
  },
  {
   "cell_type": "markdown",
   "metadata": {},
   "source": [
    "Let's see now what I was able to load into da data frame"
   ]
  },
  {
   "cell_type": "code",
   "execution_count": 2,
   "metadata": {},
   "outputs": [
    {
     "data": {
      "text/html": [
       "<div>\n",
       "<style scoped>\n",
       "    .dataframe tbody tr th:only-of-type {\n",
       "        vertical-align: middle;\n",
       "    }\n",
       "\n",
       "    .dataframe tbody tr th {\n",
       "        vertical-align: top;\n",
       "    }\n",
       "\n",
       "    .dataframe thead th {\n",
       "        text-align: right;\n",
       "    }\n",
       "</style>\n",
       "<table border=\"1\" class=\"dataframe\">\n",
       "  <thead>\n",
       "    <tr style=\"text-align: right;\">\n",
       "      <th></th>\n",
       "      <th>nameage sex location</th>\n",
       "      <th>split_1</th>\n",
       "      <th>split_2</th>\n",
       "      <th>split_3</th>\n",
       "      <th>split_4</th>\n",
       "      <th>split_5</th>\n",
       "      <th>pace</th>\n",
       "      <th>time</th>\n",
       "    </tr>\n",
       "  </thead>\n",
       "  <tbody>\n",
       "    <tr>\n",
       "      <th>0</th>\n",
       "      <td>---------------------- --- --- ---------------...</td>\n",
       "      <td>NaN</td>\n",
       "      <td>NaN</td>\n",
       "      <td>NaN</td>\n",
       "      <td>NaN</td>\n",
       "      <td>NaN</td>\n",
       "      <td>NaN</td>\n",
       "      <td>NaN</td>\n",
       "    </tr>\n",
       "    <tr>\n",
       "      <th>1</th>\n",
       "      <td>Wesly Ngetich29  MKenya</td>\n",
       "      <td>32:38</td>\n",
       "      <td>1:08:35</td>\n",
       "      <td>1:43:28</td>\n",
       "      <td>32:27</td>\n",
       "      <td>2:15:54</td>\n",
       "      <td>5:12</td>\n",
       "      <td>2:15:55</td>\n",
       "    </tr>\n",
       "    <tr>\n",
       "      <th>2</th>\n",
       "      <td>Joseph Kahugu36  MKenya</td>\n",
       "      <td>32:38</td>\n",
       "      <td>1:08:41</td>\n",
       "      <td>1:43:39</td>\n",
       "      <td>33:49</td>\n",
       "      <td>2:17:28</td>\n",
       "      <td>5:15</td>\n",
       "      <td>2:17:29</td>\n",
       "    </tr>\n",
       "    <tr>\n",
       "      <th>3</th>\n",
       "      <td>Andrew Letherby33  M</td>\n",
       "      <td>32:39</td>\n",
       "      <td>1:08:42</td>\n",
       "      <td>1:44:54</td>\n",
       "      <td>33:06</td>\n",
       "      <td>2:18:00</td>\n",
       "      <td>5:16</td>\n",
       "      <td>2:18:00</td>\n",
       "    </tr>\n",
       "    <tr>\n",
       "      <th>4</th>\n",
       "      <td>James Karanja31  MNairobi</td>\n",
       "      <td>32:38</td>\n",
       "      <td>1:08:40</td>\n",
       "      <td>1:44:04</td>\n",
       "      <td>34:52</td>\n",
       "      <td>2:18:56</td>\n",
       "      <td>5:18</td>\n",
       "      <td>2:18:56</td>\n",
       "    </tr>\n",
       "  </tbody>\n",
       "</table>\n",
       "</div>"
      ],
      "text/plain": [
       "                                nameage sex location split_1  split_2  \\\n",
       "0  ---------------------- --- --- ---------------...     NaN      NaN   \n",
       "1                            Wesly Ngetich29  MKenya   32:38  1:08:35   \n",
       "2                            Joseph Kahugu36  MKenya   32:38  1:08:41   \n",
       "3                               Andrew Letherby33  M   32:39  1:08:42   \n",
       "4                          James Karanja31  MNairobi   32:38  1:08:40   \n",
       "\n",
       "   split_3 split_4  split_5  pace     time  \n",
       "0      NaN     NaN      NaN   NaN      NaN  \n",
       "1  1:43:28   32:27  2:15:54  5:12  2:15:55  \n",
       "2  1:43:39   33:49  2:17:28  5:15  2:17:29  \n",
       "3  1:44:54   33:06  2:18:00  5:16  2:18:00  \n",
       "4  1:44:04   34:52  2:18:56  5:18  2:18:56  "
      ]
     },
     "execution_count": 2,
     "metadata": {},
     "output_type": "execute_result"
    }
   ],
   "source": [
    "a1.head()"
   ]
  },
  {
   "cell_type": "code",
   "execution_count": 3,
   "metadata": {},
   "outputs": [
    {
     "name": "stdout",
     "output_type": "stream",
     "text": [
      "(7119, 8)\n"
     ]
    },
    {
     "data": {
      "text/plain": [
       "Index(['nameage sex location', 'split_1', 'split_2', 'split_3', 'split_4',\n",
       "       'split_5', 'pace', 'time'],\n",
       "      dtype='object')"
      ]
     },
     "execution_count": 3,
     "metadata": {},
     "output_type": "execute_result"
    }
   ],
   "source": [
    "print(a1.shape)\n",
    "a1.columns"
   ]
  },
  {
   "cell_type": "markdown",
   "metadata": {},
   "source": [
    "As I was expecting, the formatting is not perfect but since my goal is to get the arrival times it can be enough. \n",
    "\n",
    "The next step was to retrieve the information about the sex of the partecipant. In the book, in fact, the results for the female group was considered as it's a good approach to deal with data that are homogeneus. One hypothesis is that female results will follow a normal distribution. And that's true fom male ones as well so, in principle, if we split the results into these two categories we will obtain two normal distributions (and will allow us to see some theoretical results as well).\n",
    "\n",
    "If we explore the `nameage sex location` column we can notice that the sex of the partecipant follows her/his age. We can use this information to extract the partecipant sex from this column and form a new column called `sex`. The strategy is to find the partecipant age (first number in the `nameage sex location` column) and then take the first character after the age."
   ]
  },
  {
   "cell_type": "code",
   "execution_count": 4,
   "metadata": {},
   "outputs": [],
   "source": [
    "a1.drop(a1[a1['time'].str.contains(':') == False].index, inplace = True)\n",
    "a1.drop(a1[a1['time'].isnull()].index, inplace = True)"
   ]
  },
  {
   "cell_type": "code",
   "execution_count": 5,
   "metadata": {},
   "outputs": [],
   "source": [
    "import re\n",
    "import numpy as np\n",
    "\n",
    "def find_sex(record):\n",
    "    '''\n",
    "    record: string\n",
    "    return: int\n",
    "    '''\n",
    "    record = record.replace(\" \", \"\")\n",
    "    m = re.search(r\"\\d\",record).start()\n",
    "    return(record[m + 2])\n",
    "\n"
   ]
  },
  {
   "cell_type": "code",
   "execution_count": 6,
   "metadata": {},
   "outputs": [
    {
     "data": {
      "text/plain": [
       "array(['M', 'M', 'M', 'M', 'M', 'M', 'M', 'M', 'M', 'M', 'M', 'M', 'M',\n",
       "       'M', 'M', 'M', 'M', 'M', 'M', 'M'], dtype='<U1')"
      ]
     },
     "execution_count": 6,
     "metadata": {},
     "output_type": "execute_result"
    }
   ],
   "source": [
    "# vectorized version of the function to apply to Series/np.arrays\n",
    "\n",
    "find_sex_vect = np.vectorize(find_sex)    \n",
    "\n",
    "# test on the first 10 column entries\n",
    "find_sex_vect(a1['nameage sex location'].values[:20])"
   ]
  },
  {
   "cell_type": "code",
   "execution_count": 7,
   "metadata": {},
   "outputs": [],
   "source": [
    "a1['sex'] = find_sex_vect(a1['nameage sex location'].values)"
   ]
  },
  {
   "cell_type": "markdown",
   "metadata": {},
   "source": [
    "Is the strategy working? Let's print the first rows of the data frame"
   ]
  },
  {
   "cell_type": "code",
   "execution_count": 8,
   "metadata": {},
   "outputs": [
    {
     "data": {
      "text/html": [
       "<div>\n",
       "<style scoped>\n",
       "    .dataframe tbody tr th:only-of-type {\n",
       "        vertical-align: middle;\n",
       "    }\n",
       "\n",
       "    .dataframe tbody tr th {\n",
       "        vertical-align: top;\n",
       "    }\n",
       "\n",
       "    .dataframe thead th {\n",
       "        text-align: right;\n",
       "    }\n",
       "</style>\n",
       "<table border=\"1\" class=\"dataframe\">\n",
       "  <thead>\n",
       "    <tr style=\"text-align: right;\">\n",
       "      <th></th>\n",
       "      <th>nameage sex location</th>\n",
       "      <th>split_1</th>\n",
       "      <th>split_2</th>\n",
       "      <th>split_3</th>\n",
       "      <th>split_4</th>\n",
       "      <th>split_5</th>\n",
       "      <th>pace</th>\n",
       "      <th>time</th>\n",
       "      <th>sex</th>\n",
       "    </tr>\n",
       "  </thead>\n",
       "  <tbody>\n",
       "    <tr>\n",
       "      <th>1</th>\n",
       "      <td>Wesly Ngetich29  MKenya</td>\n",
       "      <td>32:38</td>\n",
       "      <td>1:08:35</td>\n",
       "      <td>1:43:28</td>\n",
       "      <td>32:27</td>\n",
       "      <td>2:15:54</td>\n",
       "      <td>5:12</td>\n",
       "      <td>2:15:55</td>\n",
       "      <td>M</td>\n",
       "    </tr>\n",
       "    <tr>\n",
       "      <th>2</th>\n",
       "      <td>Joseph Kahugu36  MKenya</td>\n",
       "      <td>32:38</td>\n",
       "      <td>1:08:41</td>\n",
       "      <td>1:43:39</td>\n",
       "      <td>33:49</td>\n",
       "      <td>2:17:28</td>\n",
       "      <td>5:15</td>\n",
       "      <td>2:17:29</td>\n",
       "      <td>M</td>\n",
       "    </tr>\n",
       "    <tr>\n",
       "      <th>3</th>\n",
       "      <td>Andrew Letherby33  M</td>\n",
       "      <td>32:39</td>\n",
       "      <td>1:08:42</td>\n",
       "      <td>1:44:54</td>\n",
       "      <td>33:06</td>\n",
       "      <td>2:18:00</td>\n",
       "      <td>5:16</td>\n",
       "      <td>2:18:00</td>\n",
       "      <td>M</td>\n",
       "    </tr>\n",
       "    <tr>\n",
       "      <th>4</th>\n",
       "      <td>James Karanja31  MNairobi</td>\n",
       "      <td>32:38</td>\n",
       "      <td>1:08:40</td>\n",
       "      <td>1:44:04</td>\n",
       "      <td>34:52</td>\n",
       "      <td>2:18:56</td>\n",
       "      <td>5:18</td>\n",
       "      <td>2:18:56</td>\n",
       "      <td>M</td>\n",
       "    </tr>\n",
       "    <tr>\n",
       "      <th>5</th>\n",
       "      <td>Stephen Muturi31  MKenya</td>\n",
       "      <td>32:45</td>\n",
       "      <td>1:09:06</td>\n",
       "      <td>1:46:44</td>\n",
       "      <td>33:42</td>\n",
       "      <td>2:20:26</td>\n",
       "      <td>5:22</td>\n",
       "      <td>2:20:27</td>\n",
       "      <td>M</td>\n",
       "    </tr>\n",
       "  </tbody>\n",
       "</table>\n",
       "</div>"
      ],
      "text/plain": [
       "        nameage sex location split_1  split_2  split_3 split_4  split_5  pace  \\\n",
       "1    Wesly Ngetich29  MKenya   32:38  1:08:35  1:43:28   32:27  2:15:54  5:12   \n",
       "2    Joseph Kahugu36  MKenya   32:38  1:08:41  1:43:39   33:49  2:17:28  5:15   \n",
       "3       Andrew Letherby33  M   32:39  1:08:42  1:44:54   33:06  2:18:00  5:16   \n",
       "4  James Karanja31  MNairobi   32:38  1:08:40  1:44:04   34:52  2:18:56  5:18   \n",
       "5   Stephen Muturi31  MKenya   32:45  1:09:06  1:46:44   33:42  2:20:26  5:22   \n",
       "\n",
       "      time sex  \n",
       "1  2:15:55   M  \n",
       "2  2:17:29   M  \n",
       "3  2:18:00   M  \n",
       "4  2:18:56   M  \n",
       "5  2:20:27   M  "
      ]
     },
     "execution_count": 8,
     "metadata": {},
     "output_type": "execute_result"
    }
   ],
   "source": [
    "a1.head()"
   ]
  },
  {
   "cell_type": "markdown",
   "metadata": {},
   "source": [
    "Is the `sex` columns contains only capitals `M` or `F`?"
   ]
  },
  {
   "cell_type": "code",
   "execution_count": 9,
   "metadata": {},
   "outputs": [
    {
     "data": {
      "text/plain": [
       "array(['M', 'F', 'N'], dtype=object)"
      ]
     },
     "execution_count": 9,
     "metadata": {},
     "output_type": "execute_result"
    }
   ],
   "source": [
    "a1['sex'].unique()"
   ]
  },
  {
   "cell_type": "raw",
   "metadata": {},
   "source": [
    "As we can see, there is a `N` and by inspecting the row we can understand what happened"
   ]
  },
  {
   "cell_type": "code",
   "execution_count": 10,
   "metadata": {},
   "outputs": [
    {
     "data": {
      "text/html": [
       "<div>\n",
       "<style scoped>\n",
       "    .dataframe tbody tr th:only-of-type {\n",
       "        vertical-align: middle;\n",
       "    }\n",
       "\n",
       "    .dataframe tbody tr th {\n",
       "        vertical-align: top;\n",
       "    }\n",
       "\n",
       "    .dataframe thead th {\n",
       "        text-align: right;\n",
       "    }\n",
       "</style>\n",
       "<table border=\"1\" class=\"dataframe\">\n",
       "  <thead>\n",
       "    <tr style=\"text-align: right;\">\n",
       "      <th></th>\n",
       "      <th>nameage sex location</th>\n",
       "      <th>split_1</th>\n",
       "      <th>split_2</th>\n",
       "      <th>split_3</th>\n",
       "      <th>split_4</th>\n",
       "      <th>split_5</th>\n",
       "      <th>pace</th>\n",
       "      <th>time</th>\n",
       "      <th>sex</th>\n",
       "    </tr>\n",
       "  </thead>\n",
       "  <tbody>\n",
       "    <tr>\n",
       "      <th>689</th>\n",
       "      <td>Eric Normen0MNew Hope, MN</td>\n",
       "      <td>48:51</td>\n",
       "      <td>1:43:30</td>\n",
       "      <td>2:38:17</td>\n",
       "      <td>49:56</td>\n",
       "      <td>3:28:12</td>\n",
       "      <td>8:00</td>\n",
       "      <td>3:29:43</td>\n",
       "      <td>N</td>\n",
       "    </tr>\n",
       "  </tbody>\n",
       "</table>\n",
       "</div>"
      ],
      "text/plain": [
       "          nameage sex location split_1  split_2  split_3 split_4  split_5  \\\n",
       "689  Eric Normen0MNew Hope, MN   48:51  1:43:30  2:38:17   49:56  3:28:12   \n",
       "\n",
       "     pace     time sex  \n",
       "689  8:00  3:29:43   N  "
      ]
     },
     "execution_count": 10,
     "metadata": {},
     "output_type": "execute_result"
    }
   ],
   "source": [
    "a1[a1['sex'] == 'N']"
   ]
  },
  {
   "cell_type": "markdown",
   "metadata": {},
   "source": [
    "The record shows that in this case the age was not reported correcty (just one digit). Of course, the function for extracting the information about the sex was a \"lazy\" one, trusting that every record was correct without anticipating any possible mistake. This is my personal strategy: start lazy and optimistic and then check what went wrong and figure out how to solve it. In this case I've been lucky and I get just one record that can be easily amended (of course, as Murphy law would suggest there can be other corrupted records in which I have another one digit age followed by a location starting with `M` or `F` but I think that in this case we can avoid further thinking and go on happily!)  "
   ]
  },
  {
   "cell_type": "code",
   "execution_count": 11,
   "metadata": {},
   "outputs": [
    {
     "data": {
      "text/plain": [
       "Int64Index([689], dtype='int64')"
      ]
     },
     "execution_count": 11,
     "metadata": {},
     "output_type": "execute_result"
    }
   ],
   "source": [
    "a1[a1['sex'] == 'N'].index"
   ]
  },
  {
   "cell_type": "code",
   "execution_count": 12,
   "metadata": {},
   "outputs": [
    {
     "data": {
      "text/html": [
       "<div>\n",
       "<style scoped>\n",
       "    .dataframe tbody tr th:only-of-type {\n",
       "        vertical-align: middle;\n",
       "    }\n",
       "\n",
       "    .dataframe tbody tr th {\n",
       "        vertical-align: top;\n",
       "    }\n",
       "\n",
       "    .dataframe thead th {\n",
       "        text-align: right;\n",
       "    }\n",
       "</style>\n",
       "<table border=\"1\" class=\"dataframe\">\n",
       "  <thead>\n",
       "    <tr style=\"text-align: right;\">\n",
       "      <th></th>\n",
       "      <th>nameage sex location</th>\n",
       "      <th>split_1</th>\n",
       "      <th>split_2</th>\n",
       "      <th>split_3</th>\n",
       "      <th>split_4</th>\n",
       "      <th>split_5</th>\n",
       "      <th>pace</th>\n",
       "      <th>time</th>\n",
       "      <th>sex</th>\n",
       "    </tr>\n",
       "  </thead>\n",
       "  <tbody>\n",
       "    <tr>\n",
       "      <th>689</th>\n",
       "      <td>Eric Normen0MNew Hope, MN</td>\n",
       "      <td>48:51</td>\n",
       "      <td>1:43:30</td>\n",
       "      <td>2:38:17</td>\n",
       "      <td>49:56</td>\n",
       "      <td>3:28:12</td>\n",
       "      <td>8:00</td>\n",
       "      <td>3:29:43</td>\n",
       "      <td>N</td>\n",
       "    </tr>\n",
       "  </tbody>\n",
       "</table>\n",
       "</div>"
      ],
      "text/plain": [
       "          nameage sex location split_1  split_2  split_3 split_4  split_5  \\\n",
       "689  Eric Normen0MNew Hope, MN   48:51  1:43:30  2:38:17   49:56  3:28:12   \n",
       "\n",
       "     pace     time sex  \n",
       "689  8:00  3:29:43   N  "
      ]
     },
     "execution_count": 12,
     "metadata": {},
     "output_type": "execute_result"
    }
   ],
   "source": [
    "a1.loc[a1[a1['sex'] == 'N'].index]"
   ]
  },
  {
   "cell_type": "code",
   "execution_count": 13,
   "metadata": {},
   "outputs": [],
   "source": [
    "a1.loc[a1[a1['sex'] == 'N'].index.values[0]]['sex'] = 'M'"
   ]
  },
  {
   "cell_type": "code",
   "execution_count": 14,
   "metadata": {},
   "outputs": [
    {
     "data": {
      "text/plain": [
       "array(['M', 'F'], dtype=object)"
      ]
     },
     "execution_count": 14,
     "metadata": {},
     "output_type": "execute_result"
    }
   ],
   "source": [
    "a1['sex'].unique()"
   ]
  },
  {
   "cell_type": "code",
   "execution_count": 15,
   "metadata": {},
   "outputs": [
    {
     "data": {
      "text/plain": [
       "nameage sex location    Eric Normen0MNew Hope, MN\n",
       "split_1                                     48:51\n",
       "split_2                                   1:43:30\n",
       "split_3                                   2:38:17\n",
       "split_4                                     49:56\n",
       "split_5                                   3:28:12\n",
       "pace                                         8:00\n",
       "time                                      3:29:43\n",
       "sex                                             M\n",
       "Name: 689, dtype: object"
      ]
     },
     "execution_count": 15,
     "metadata": {},
     "output_type": "execute_result"
    }
   ],
   "source": [
    "a1.loc[689]"
   ]
  },
  {
   "cell_type": "markdown",
   "metadata": {},
   "source": [
    "So far, so good. I now build a dataframe consisting of the `sex` and `times` columns only"
   ]
  },
  {
   "cell_type": "code",
   "execution_count": 16,
   "metadata": {},
   "outputs": [],
   "source": [
    "df_times_data = a1[['sex', 'time']].reset_index(drop = True) "
   ]
  },
  {
   "cell_type": "code",
   "execution_count": 17,
   "metadata": {},
   "outputs": [
    {
     "data": {
      "text/html": [
       "<div>\n",
       "<style scoped>\n",
       "    .dataframe tbody tr th:only-of-type {\n",
       "        vertical-align: middle;\n",
       "    }\n",
       "\n",
       "    .dataframe tbody tr th {\n",
       "        vertical-align: top;\n",
       "    }\n",
       "\n",
       "    .dataframe thead th {\n",
       "        text-align: right;\n",
       "    }\n",
       "</style>\n",
       "<table border=\"1\" class=\"dataframe\">\n",
       "  <thead>\n",
       "    <tr style=\"text-align: right;\">\n",
       "      <th></th>\n",
       "      <th>sex</th>\n",
       "      <th>time</th>\n",
       "    </tr>\n",
       "  </thead>\n",
       "  <tbody>\n",
       "    <tr>\n",
       "      <th>0</th>\n",
       "      <td>M</td>\n",
       "      <td>2:15:55</td>\n",
       "    </tr>\n",
       "    <tr>\n",
       "      <th>1</th>\n",
       "      <td>M</td>\n",
       "      <td>2:17:29</td>\n",
       "    </tr>\n",
       "    <tr>\n",
       "      <th>2</th>\n",
       "      <td>M</td>\n",
       "      <td>2:18:00</td>\n",
       "    </tr>\n",
       "    <tr>\n",
       "      <th>3</th>\n",
       "      <td>M</td>\n",
       "      <td>2:18:56</td>\n",
       "    </tr>\n",
       "    <tr>\n",
       "      <th>4</th>\n",
       "      <td>M</td>\n",
       "      <td>2:20:27</td>\n",
       "    </tr>\n",
       "  </tbody>\n",
       "</table>\n",
       "</div>"
      ],
      "text/plain": [
       "  sex     time\n",
       "0   M  2:15:55\n",
       "1   M  2:17:29\n",
       "2   M  2:18:00\n",
       "3   M  2:18:56\n",
       "4   M  2:20:27"
      ]
     },
     "execution_count": 17,
     "metadata": {},
     "output_type": "execute_result"
    }
   ],
   "source": [
    "df_times_data.head()"
   ]
  },
  {
   "cell_type": "code",
   "execution_count": 18,
   "metadata": {},
   "outputs": [
    {
     "data": {
      "text/plain": [
       "str"
      ]
     },
     "execution_count": 18,
     "metadata": {},
     "output_type": "execute_result"
    }
   ],
   "source": [
    "type(df_times_data['time'][0])"
   ]
  },
  {
   "cell_type": "markdown",
   "metadata": {},
   "source": [
    "As expected, the `time` column contains string. We need to transform in integer representing how many minutes it took for the partecipant to finish the marathon. "
   ]
  },
  {
   "cell_type": "code",
   "execution_count": 19,
   "metadata": {},
   "outputs": [],
   "source": [
    "from operator import mul\n",
    "\n",
    "def convert_h2min(to_convert):\n",
    "    ''' \n",
    "    to_convert: string\n",
    "    returns int\n",
    "    '''\n",
    "    factors = (60, 1, 1/60)\n",
    "\n",
    "    return(sum(i*j for i, j in zip(map(int, to_convert.split(':')), factors)))\n",
    "    # return(sum(map(mul, map(int, to_convert.split(':')), factors)))\n",
    "convert_h2min_vect = np.vectorize(convert_h2min)"
   ]
  },
  {
   "cell_type": "code",
   "execution_count": 20,
   "metadata": {},
   "outputs": [],
   "source": [
    "df_times_data['minutes'] = convert_h2min_vect(df_times_data['time'])"
   ]
  },
  {
   "cell_type": "code",
   "execution_count": 21,
   "metadata": {},
   "outputs": [
    {
     "data": {
      "text/html": [
       "<div>\n",
       "<style scoped>\n",
       "    .dataframe tbody tr th:only-of-type {\n",
       "        vertical-align: middle;\n",
       "    }\n",
       "\n",
       "    .dataframe tbody tr th {\n",
       "        vertical-align: top;\n",
       "    }\n",
       "\n",
       "    .dataframe thead th {\n",
       "        text-align: right;\n",
       "    }\n",
       "</style>\n",
       "<table border=\"1\" class=\"dataframe\">\n",
       "  <thead>\n",
       "    <tr style=\"text-align: right;\">\n",
       "      <th></th>\n",
       "      <th>sex</th>\n",
       "      <th>time</th>\n",
       "      <th>minutes</th>\n",
       "    </tr>\n",
       "  </thead>\n",
       "  <tbody>\n",
       "    <tr>\n",
       "      <th>0</th>\n",
       "      <td>M</td>\n",
       "      <td>2:15:55</td>\n",
       "      <td>135.916667</td>\n",
       "    </tr>\n",
       "    <tr>\n",
       "      <th>1</th>\n",
       "      <td>M</td>\n",
       "      <td>2:17:29</td>\n",
       "      <td>137.483333</td>\n",
       "    </tr>\n",
       "    <tr>\n",
       "      <th>2</th>\n",
       "      <td>M</td>\n",
       "      <td>2:18:00</td>\n",
       "      <td>138.000000</td>\n",
       "    </tr>\n",
       "    <tr>\n",
       "      <th>3</th>\n",
       "      <td>M</td>\n",
       "      <td>2:18:56</td>\n",
       "      <td>138.933333</td>\n",
       "    </tr>\n",
       "    <tr>\n",
       "      <th>4</th>\n",
       "      <td>M</td>\n",
       "      <td>2:20:27</td>\n",
       "      <td>140.450000</td>\n",
       "    </tr>\n",
       "  </tbody>\n",
       "</table>\n",
       "</div>"
      ],
      "text/plain": [
       "  sex     time     minutes\n",
       "0   M  2:15:55  135.916667\n",
       "1   M  2:17:29  137.483333\n",
       "2   M  2:18:00  138.000000\n",
       "3   M  2:18:56  138.933333\n",
       "4   M  2:20:27  140.450000"
      ]
     },
     "execution_count": 21,
     "metadata": {},
     "output_type": "execute_result"
    }
   ],
   "source": [
    "df_times_data.head()"
   ]
  },
  {
   "cell_type": "code",
   "execution_count": 22,
   "metadata": {},
   "outputs": [],
   "source": [
    "# df_times_data.to_pickle('./data/df_times_data.pkl')"
   ]
  },
  {
   "cell_type": "markdown",
   "metadata": {},
   "source": [
    "How does the histogram of `minutes` look like? "
   ]
  },
  {
   "cell_type": "code",
   "execution_count": 23,
   "metadata": {},
   "outputs": [
    {
     "data": {
      "image/png": "[encoded data removed]",
      "text/plain": [
       "<Figure size 432x288 with 1 Axes>"
      ]
     },
     "metadata": {
      "needs_background": "light"
     },
     "output_type": "display_data"
    }
   ],
   "source": [
    "import seaborn as sns\n",
    "\n",
    "sns.histplot(data=df_times_data[df_times_data['sex'] == 'M'],\n",
    "            x = 'minutes',\n",
    "            bins = 15);"
   ]
  },
  {
   "cell_type": "code",
   "execution_count": 24,
   "metadata": {},
   "outputs": [
    {
     "data": {
      "image/png": "[encoded data removed]",
      "text/plain": [
       "<Figure size 432x288 with 1 Axes>"
      ]
     },
     "metadata": {
      "needs_background": "light"
     },
     "output_type": "display_data"
    }
   ],
   "source": [
    "import seaborn as sns\n",
    "\n",
    "sns.histplot(data=df_times_data[df_times_data['sex'] == 'F'],\n",
    "            x = 'minutes', \n",
    "             color = 'orange',\n",
    "             bins = 15);"
   ]
  },
  {
   "cell_type": "code",
   "execution_count": 25,
   "metadata": {},
   "outputs": [
    {
     "data": {
      "image/png": "[encoded data removed]",
      "text/plain": [
       "<Figure size 432x288 with 1 Axes>"
      ]
     },
     "metadata": {
      "needs_background": "light"
     },
     "output_type": "display_data"
    }
   ],
   "source": [
    "import seaborn as sns\n",
    "\n",
    "sns.histplot(data=df_times_data,\n",
    "            x = 'minutes',\n",
    "             color= 'gray',\n",
    "             bins = 15);"
   ]
  },
  {
   "cell_type": "code",
   "execution_count": 26,
   "metadata": {},
   "outputs": [
    {
     "data": {
      "image/png": "[encoded data removed]",
      "text/plain": [
       "<Figure size 432x288 with 1 Axes>"
      ]
     },
     "metadata": {
      "needs_background": "light"
     },
     "output_type": "display_data"
    }
   ],
   "source": [
    "import seaborn as sns\n",
    "\n",
    "sns.histplot(data=df_times_data,\n",
    "            x = 'minutes', \n",
    "             hue = 'sex',\n",
    "             bins = 15);"
   ]
  },
  {
   "cell_type": "markdown",
   "metadata": {},
   "source": [
    "## Adolphe Quetelet Chest dataset"
   ]
  },
  {
   "cell_type": "markdown",
   "metadata": {},
   "source": [
    "A \"lazy\" search on the internet to find Adolphe Quetelet was unsuccessful (I was surprised I could not find anything on Kaggle). Luckly there is an easy way to retrieve this data as R programming ACSWR package provides the `chest` dataframe that can be explorted into a `csv` file. Once you export it from R, you can import in Python"
   ]
  },
  {
   "cell_type": "code",
   "execution_count": 27,
   "metadata": {},
   "outputs": [
    {
     "data": {
      "text/html": [
       "<div>\n",
       "<style scoped>\n",
       "    .dataframe tbody tr th:only-of-type {\n",
       "        vertical-align: middle;\n",
       "    }\n",
       "\n",
       "    .dataframe tbody tr th {\n",
       "        vertical-align: top;\n",
       "    }\n",
       "\n",
       "    .dataframe thead th {\n",
       "        text-align: right;\n",
       "    }\n",
       "</style>\n",
       "<table border=\"1\" class=\"dataframe\">\n",
       "  <thead>\n",
       "    <tr style=\"text-align: right;\">\n",
       "      <th></th>\n",
       "      <th>Chest</th>\n",
       "      <th>Count</th>\n",
       "    </tr>\n",
       "  </thead>\n",
       "  <tbody>\n",
       "    <tr>\n",
       "      <th>0</th>\n",
       "      <td>33</td>\n",
       "      <td>3</td>\n",
       "    </tr>\n",
       "    <tr>\n",
       "      <th>1</th>\n",
       "      <td>34</td>\n",
       "      <td>18</td>\n",
       "    </tr>\n",
       "    <tr>\n",
       "      <th>2</th>\n",
       "      <td>35</td>\n",
       "      <td>81</td>\n",
       "    </tr>\n",
       "    <tr>\n",
       "      <th>3</th>\n",
       "      <td>36</td>\n",
       "      <td>185</td>\n",
       "    </tr>\n",
       "    <tr>\n",
       "      <th>4</th>\n",
       "      <td>37</td>\n",
       "      <td>420</td>\n",
       "    </tr>\n",
       "  </tbody>\n",
       "</table>\n",
       "</div>"
      ],
      "text/plain": [
       "   Chest  Count\n",
       "0     33      3\n",
       "1     34     18\n",
       "2     35     81\n",
       "3     36    185\n",
       "4     37    420"
      ]
     },
     "execution_count": 27,
     "metadata": {},
     "output_type": "execute_result"
    }
   ],
   "source": [
    "df_chest = pd.read_csv('./data/chest.csv').drop('Unnamed: 0',axis= 1).reset_index(drop = True)\n",
    "df_chest.head()"
   ]
  },
  {
   "cell_type": "markdown",
   "metadata": {},
   "source": [
    "The dataset is counting the occourrences (frequency) of the different chest measurements (in inchs). An easy way to visualize it is using a bar plot:"
   ]
  },
  {
   "cell_type": "code",
   "execution_count": 28,
   "metadata": {},
   "outputs": [
    {
     "data": {
      "image/png": "[encoded data removed]",
      "text/plain": [
       "<Figure size 432x288 with 1 Axes>"
      ]
     },
     "metadata": {
      "needs_background": "light"
     },
     "output_type": "display_data"
    }
   ],
   "source": [
    "sns.barplot(data=df_chest,\n",
    "            x='Chest',\n",
    "            y='Count',\n",
    "           color='blue');"
   ]
  },
  {
   "cell_type": "markdown",
   "metadata": {},
   "source": [
    "Just for fun, let's transform the data in a way more suitable for a histogram format, i.e. moving from frequencies to actual measurements."
   ]
  },
  {
   "cell_type": "code",
   "execution_count": 29,
   "metadata": {},
   "outputs": [
    {
     "data": {
      "image/png": "[encoded data removed]",
      "text/plain": [
       "<Figure size 432x288 with 1 Axes>"
      ]
     },
     "metadata": {
      "needs_background": "light"
     },
     "output_type": "display_data"
    }
   ],
   "source": [
    "sns.histplot(np.repeat(df_chest.Chest, df_chest.Count).values,\n",
    "             bins = df_chest.shape[0],\n",
    "            color='blue');\n",
    "#np.repeat(df_chest.Chest, df_chest.Count).values;"
   ]
  },
  {
   "cell_type": "code",
   "execution_count": 30,
   "metadata": {},
   "outputs": [
    {
     "data": {
      "text/plain": [
       "16"
      ]
     },
     "execution_count": 30,
     "metadata": {},
     "output_type": "execute_result"
    }
   ],
   "source": [
    "df_chest.shape[0]"
   ]
  },
  {
   "cell_type": "markdown",
   "metadata": {},
   "source": [
    "## Normal Distribution in Python"
   ]
  },
  {
   "cell_type": "markdown",
   "metadata": {},
   "source": [
    "While `R` does not any special library to deal with distributions, in Python we have several ways to deal with probabilities. My \"lazy\" strategy, of course, is to refer to the basics: `numpy` and `scipy.stats` as the share a similar philosophy\\vocabulary.  "
   ]
  },
  {
   "cell_type": "markdown",
   "metadata": {},
   "source": [
    "#### Drawing samples from a Norma Distribution"
   ]
  },
  {
   "cell_type": "markdown",
   "metadata": {},
   "source": [
    "There are mainly two ways to draw samples from a normal distribution: using `numpy.random.normal` and `scipy.stats.norm.rvs`"
   ]
  },
  {
   "cell_type": "code",
   "execution_count": 31,
   "metadata": {},
   "outputs": [],
   "source": [
    "mu = 250\n",
    "sigma = 34"
   ]
  },
  {
   "cell_type": "code",
   "execution_count": 32,
   "metadata": {},
   "outputs": [],
   "source": [
    "import numpy as np\n",
    "\n",
    "np.random.seed(1234)\n",
    "a1 = np.random.normal(loc = mu, scale = sigma, size = 1000)"
   ]
  },
  {
   "cell_type": "code",
   "execution_count": 33,
   "metadata": {},
   "outputs": [
    {
     "data": {
      "text/plain": [
       "numpy.ndarray"
      ]
     },
     "execution_count": 33,
     "metadata": {},
     "output_type": "execute_result"
    }
   ],
   "source": [
    "type(a1)"
   ]
  },
  {
   "cell_type": "code",
   "execution_count": 34,
   "metadata": {},
   "outputs": [
    {
     "data": {
      "text/plain": [
       "array([266.02879557, 209.50682638, 298.71203693, 239.36983553,\n",
       "       225.49998307])"
      ]
     },
     "execution_count": 34,
     "metadata": {},
     "output_type": "execute_result"
    }
   ],
   "source": [
    "a1[:5]"
   ]
  },
  {
   "cell_type": "code",
   "execution_count": 35,
   "metadata": {},
   "outputs": [],
   "source": [
    "from scipy.stats import norm\n",
    "\n",
    "np.random.seed(1234)\n",
    "a2 = norm.rvs(loc = mu, scale = sigma, size = 1000)"
   ]
  },
  {
   "cell_type": "code",
   "execution_count": 36,
   "metadata": {},
   "outputs": [
    {
     "data": {
      "text/plain": [
       "numpy.ndarray"
      ]
     },
     "execution_count": 36,
     "metadata": {},
     "output_type": "execute_result"
    }
   ],
   "source": [
    "type(a2)"
   ]
  },
  {
   "cell_type": "code",
   "execution_count": 37,
   "metadata": {},
   "outputs": [
    {
     "data": {
      "text/plain": [
       "array([266.02879557, 209.50682638, 298.71203693, 239.36983553,\n",
       "       225.49998307])"
      ]
     },
     "execution_count": 37,
     "metadata": {},
     "output_type": "execute_result"
    }
   ],
   "source": [
    "a2[:5]"
   ]
  },
  {
   "cell_type": "markdown",
   "metadata": {},
   "source": [
    "##### Marathon data"
   ]
  },
  {
   "cell_type": "markdown",
   "metadata": {},
   "source": [
    "Analysing the Grandma’s Marathon we made the assumption that the arrival times of the Female competition is following a normal distribution with mean $\\mu$= 284.0 minutes and $\\sigma$= 47.0 minutes. We can build the density function using `scipy.stats.norm` function"
   ]
  },
  {
   "cell_type": "code",
   "execution_count": 38,
   "metadata": {},
   "outputs": [],
   "source": [
    "arrival_times = norm(loc = 284, scale = 47)"
   ]
  },
  {
   "cell_type": "markdown",
   "metadata": {},
   "source": [
    "If we are interested in the probability that a woman marathon runner completes the race in under 240, we can use the `cdf()` function"
   ]
  },
  {
   "cell_type": "code",
   "execution_count": 39,
   "metadata": {},
   "outputs": [
    {
     "data": {
      "text/plain": [
       "0.1745927785587299"
      ]
     },
     "execution_count": 39,
     "metadata": {},
     "output_type": "execute_result"
    }
   ],
   "source": [
    "arrival_times.cdf(240)"
   ]
  },
  {
   "cell_type": "markdown",
   "metadata": {},
   "source": [
    "And if we are interested in computing the probability that a marathon runner completes a race between two values, such as $P(230 < X < 280)$ we can calculate the difference of two `cdf()`s"
   ]
  },
  {
   "cell_type": "code",
   "execution_count": 40,
   "metadata": {},
   "outputs": [
    {
     "data": {
      "text/plain": [
       "0.04930162775894026"
      ]
     },
     "execution_count": 40,
     "metadata": {},
     "output_type": "execute_result"
    }
   ],
   "source": [
    "arrival_times.cdf(240) - arrival_times.cdf(230)"
   ]
  },
  {
   "cell_type": "markdown",
   "metadata": {},
   "source": [
    "### Plotting the normal curve"
   ]
  },
  {
   "cell_type": "code",
   "execution_count": 41,
   "metadata": {},
   "outputs": [
    {
     "data": {
      "image/png": "[encoded data removed]",
      "text/plain": [
       "<Figure size 432x288 with 1 Axes>"
      ]
     },
     "metadata": {
      "needs_background": "light"
     },
     "output_type": "display_data"
    }
   ],
   "source": [
    "import matplotlib.pyplot as plt\n",
    "\n",
    "fig = plt.figure();\n",
    "ax = fig.add_axes((0.1, 0.2, 0.8, 0.7))\n",
    "\n",
    "interval = np.linspace(100, 500,200)\n",
    "section = np.linspace(220, 260,40)\n",
    "\n",
    "ax.fill_between(section,arrival_times.pdf(section), color = '#0e0e92')\n",
    "\n",
    "ax = sns.lineplot(x=interval,\n",
    "            y = arrival_times.pdf(interval))"
   ]
  },
  {
   "cell_type": "markdown",
   "metadata": {},
   "source": [
    "### Quantile function (percent point function, ppf)"
   ]
  },
  {
   "cell_type": "markdown",
   "metadata": {},
   "source": [
    "From Wikipedia\n",
    "\n",
    "The **quantile function**, associated with a probability distribution of a random variable, specifies the value of the random variable such that the probability of the variable being less than or equal to that value equals the given probability. It is also called the **percent-point function** or **inverse cumulative distribution function**.\n",
    "\n",
    "From Little Inference Book\n",
    "\n",
    "The $\\alpha^{th}$ quantile of a distribution with distribution function F is the point $x_{\\alpha}$ so that\n",
    "\n",
    "$$F(x_{\\alpha}) = \\alpha $$\n",
    "\n",
    "So the 0.95 quantile of a distribution is the point so that 95% of the mass of the density lies below it. Or, in other words, the point so that the probability of getting a randomly sampled point below it is 0.95. This is analogous to the sample quantiles where the 0.95 sample quantile is the value so that 95% of the data lies below it.\n",
    "\n",
    "A **percentile** is simply a quantile with $\\alpha$ expressed as a percent rather than a proportion. The (population) median is the 50<sup>th</sup> percentile. "
   ]
  },
  {
   "cell_type": "markdown",
   "metadata": {},
   "source": [
    "For the normal distributution we have `stats.norm.ppf` that compute its percentile."
   ]
  },
  {
   "cell_type": "code",
   "execution_count": 42,
   "metadata": {},
   "outputs": [
    {
     "data": {
      "text/plain": [
       "0.8416212335729143"
      ]
     },
     "execution_count": 42,
     "metadata": {},
     "output_type": "execute_result"
    }
   ],
   "source": [
    "norm.ppf(0.8, loc = 0, scale = 1)"
   ]
  },
  {
   "cell_type": "code",
   "execution_count": 43,
   "metadata": {},
   "outputs": [
    {
     "data": {
      "text/plain": [
       "<AxesSubplot:>"
      ]
     },
     "execution_count": 43,
     "metadata": {},
     "output_type": "execute_result"
    },
    {
     "data": {
      "image/png": "[encoded data removed]",
      "text/plain": [
       "<Figure size 432x288 with 1 Axes>"
      ]
     },
     "metadata": {
      "needs_background": "light"
     },
     "output_type": "display_data"
    }
   ],
   "source": [
    "interval = np.linspace(-3,3,100)\n",
    "sns.lineplot(interval,\n",
    "            norm.ppf(interval, 0, 1))"
   ]
  },
  {
   "cell_type": "code",
   "execution_count": 44,
   "metadata": {},
   "outputs": [
    {
     "data": {
      "text/plain": [
       "<AxesSubplot:>"
      ]
     },
     "execution_count": 44,
     "metadata": {},
     "output_type": "execute_result"
    },
    {
     "data": {
      "image/png": "[encoded data removed]",
      "text/plain": [
       "<Figure size 432x288 with 1 Axes>"
      ]
     },
     "metadata": {
      "needs_background": "light"
     },
     "output_type": "display_data"
    }
   ],
   "source": [
    "interval = np.linspace(-3,3,100)\n",
    "sns.lineplot(interval,\n",
    "            norm.cdf(interval, 0, 1))"
   ]
  },
  {
   "cell_type": "markdown",
   "metadata": {},
   "source": [
    "## The Central Limit Theorem works for any population"
   ]
  },
  {
   "cell_type": "markdown",
   "metadata": {},
   "source": [
    "To show how the Central Limit Theorem works, it's helpful to consider a custom probability distribution from which extracting random samples. I am going to use the density curve of the population of distance described in the book. The information i have is that this distribution models the fact that \"the large number of students whose homes are in the ranges 0 to 40 miles and 70 to 130 miles\" and so we can chose two normal distribution with means 20 and 100 and standard deviations 6 and 14 respectively.\n",
    "\n",
    "If we want to build a pdf summing the two normal pdfs, we have to divide the sum by 2 as the integral of the resulting function within the domain must be 1\n",
    "\n",
    "$$\n",
    "\\begin{align}\n",
    "X &= \\mathcal{N}(\\mu_{1},\\,\\sigma_{1}^{2}) + \\mathcal{N}(\\mu_{2},\\,\\sigma_{2}^{2}) \\\\\n",
    "&= \\mathcal{N}(20,\\,(6)^{2}) + \\mathcal{N}(100,\\,(14)^{2})\n",
    "\\end{align}\n",
    "$$"
   ]
  },
  {
   "cell_type": "code",
   "execution_count": 4,
   "metadata": {},
   "outputs": [],
   "source": [
    "from scipy.stats import norm\n",
    "\n",
    "norm_1 = norm(loc = 20, scale = 6)"
   ]
  },
  {
   "cell_type": "code",
   "execution_count": 5,
   "metadata": {},
   "outputs": [],
   "source": [
    "from scipy.stats import norm\n",
    "\n",
    "norm_2 = norm(loc = 100, scale = 14)"
   ]
  },
  {
   "cell_type": "code",
   "execution_count": 8,
   "metadata": {},
   "outputs": [],
   "source": [
    "import numpy as np\n",
    "\n",
    "interval = np.linspace(0,150,300)"
   ]
  },
  {
   "cell_type": "code",
   "execution_count": 10,
   "metadata": {},
   "outputs": [
    {
     "data": {
      "image/png": "[encoded data removed]",
      "text/plain": [
       "<Figure size 432x288 with 1 Axes>"
      ]
     },
     "metadata": {
      "needs_background": "light"
     },
     "output_type": "display_data"
    }
   ],
   "source": [
    "import seaborn as sns\n",
    "\n",
    "sns.lineplot(x = interval,\n",
    "             y = norm_1.pdf(interval),\n",
    "            color = 'blue');\n",
    "\n",
    "sns.lineplot(x = interval,\n",
    "             y = norm_2.pdf(interval),\n",
    "            color = 'red');"
   ]
  },
  {
   "cell_type": "markdown",
   "metadata": {},
   "source": [
    "\n",
    "\n"
   ]
  },
  {
   "cell_type": "code",
   "execution_count": 12,
   "metadata": {},
   "outputs": [
    {
     "data": {
      "text/plain": [
       "60.0"
      ]
     },
     "execution_count": 12,
     "metadata": {},
     "output_type": "execute_result"
    }
   ],
   "source": [
    "120/2"
   ]
  },
  {
   "cell_type": "code",
   "execution_count": 13,
   "metadata": {},
   "outputs": [
    {
     "data": {
      "text/plain": [
       "58.0"
      ]
     },
     "execution_count": 13,
     "metadata": {},
     "output_type": "execute_result"
    }
   ],
   "source": []
  },
  {
   "cell_type": "code",
   "execution_count": 51,
   "metadata": {},
   "outputs": [
    {
     "data": {
      "image/png": "[encoded data removed]",
      "text/plain": [
       "<Figure size 432x288 with 1 Axes>"
      ]
     },
     "metadata": {
      "needs_background": "light"
     },
     "output_type": "display_data"
    }
   ],
   "source": [
    "sns.lineplot(x = interval,\n",
    "            y = (norm_1.pdf(interval) + norm_2.pdf(interval))/2,\n",
    "            color = 'black');"
   ]
  },
  {
   "cell_type": "code",
   "execution_count": 52,
   "metadata": {},
   "outputs": [],
   "source": [
    "norm_result = norm_1.pdf(interval) + norm_2.pdf(interval)"
   ]
  },
  {
   "cell_type": "markdown",
   "metadata": {},
   "source": [
    "Now we draw 20 samples from the sum"
   ]
  },
  {
   "cell_type": "code",
   "execution_count": 53,
   "metadata": {},
   "outputs": [],
   "source": [
    "k = (norm_1.rvs(20) + norm_2.rvs(20))/2"
   ]
  },
  {
   "cell_type": "code",
   "execution_count": 54,
   "metadata": {},
   "outputs": [
    {
     "data": {
      "text/plain": [
       "59.5"
      ]
     },
     "execution_count": 54,
     "metadata": {},
     "output_type": "execute_result"
    }
   ],
   "source": [
    "np.int16(k).mean()"
   ]
  },
  {
   "cell_type": "code",
   "execution_count": 55,
   "metadata": {},
   "outputs": [
    {
     "data": {
      "text/plain": [
       "5.818075283115543"
      ]
     },
     "execution_count": 55,
     "metadata": {},
     "output_type": "execute_result"
    }
   ],
   "source": [
    "np.int16(k).std()"
   ]
  },
  {
   "cell_type": "code",
   "execution_count": 56,
   "metadata": {},
   "outputs": [
    {
     "data": {
      "text/plain": [
       "<AxesSubplot:ylabel='Density'>"
      ]
     },
     "execution_count": 56,
     "metadata": {},
     "output_type": "execute_result"
    },
    {
     "data": {
      "image/png": "[encoded data removed]",
      "text/plain": [
       "<Figure size 432x288 with 1 Axes>"
      ]
     },
     "metadata": {
      "needs_background": "light"
     },
     "output_type": "display_data"
    }
   ],
   "source": [
    "sizes = [1,2,5,20]\n",
    "n_samples = 20\n",
    "\n",
    "k = (norm_1.rvs(20) + norm_2.rvs(20))/2\n",
    "sns.histplot(k,\n",
    "            bins=18,\n",
    "            stat = 'density')"
   ]
  },
  {
   "cell_type": "code",
   "execution_count": 59,
   "metadata": {},
   "outputs": [
    {
     "data": {
      "text/plain": [
       "23.399814584472544"
      ]
     },
     "execution_count": 59,
     "metadata": {},
     "output_type": "execute_result"
    }
   ],
   "source": [
    "from scipy import stats\n",
    "\n",
    "class comb_distribution(stats.rv_continuous):\n",
    "    norm_1 = norm(loc = 25, scale = 6)\n",
    "    norm_2 = norm(loc = 100, scale = 14)\n",
    "    \n",
    "    def _pdf(self, x):\n",
    "        return ((norm_1.pdf(x) + norm_2.pdf(x))/2)\n",
    "\n",
    "distribution = comb_distribution(a = 0, b = 150)\n",
    "distribution.rvs()"
   ]
  },
  {
   "cell_type": "code",
   "execution_count": null,
   "metadata": {},
   "outputs": [],
   "source": [
    "k = np.repeat((norm_1.rvs(20) + norm_2.rvs(20))/2,2)"
   ]
  },
  {
   "cell_type": "code",
   "execution_count": null,
   "metadata": {},
   "outputs": [],
   "source": []
  },
  {
   "cell_type": "code",
   "execution_count": 60,
   "metadata": {},
   "outputs": [],
   "source": [
    "def draw_sample(n_samples):\n",
    "    return(np.array([np.int(distribution.rvs()) for _ in np.arange(n_samples)]))"
   ]
  },
  {
   "cell_type": "code",
   "execution_count": 61,
   "metadata": {},
   "outputs": [],
   "source": [
    "n_samples = 50\n",
    "\n",
    "test1 = draw_sample(n_samples)"
   ]
  },
  {
   "cell_type": "code",
   "execution_count": 62,
   "metadata": {},
   "outputs": [
    {
     "data": {
      "text/plain": [
       "60.18"
      ]
     },
     "execution_count": 62,
     "metadata": {},
     "output_type": "execute_result"
    }
   ],
   "source": [
    "test1.mean()"
   ]
  },
  {
   "cell_type": "code",
   "execution_count": 63,
   "metadata": {},
   "outputs": [
    {
     "data": {
      "text/plain": [
       "38.9017685973273"
      ]
     },
     "execution_count": 63,
     "metadata": {},
     "output_type": "execute_result"
    }
   ],
   "source": [
    "test1.std()"
   ]
  },
  {
   "cell_type": "code",
   "execution_count": null,
   "metadata": {},
   "outputs": [],
   "source": []
  },
  {
   "cell_type": "code",
   "execution_count": null,
   "metadata": {},
   "outputs": [],
   "source": []
  },
  {
   "cell_type": "code",
   "execution_count": 64,
   "metadata": {},
   "outputs": [],
   "source": [
    "#df_test1 = pd.DataFrame({'draw':np.arange(n_samples),\n",
    "#            'result':test1})"
   ]
  },
  {
   "cell_type": "code",
   "execution_count": 65,
   "metadata": {},
   "outputs": [],
   "source": [
    "#df_test1.to_pickle('./data/test1.pkl')"
   ]
  },
  {
   "cell_type": "code",
   "execution_count": null,
   "metadata": {},
   "outputs": [],
   "source": []
  },
  {
   "cell_type": "code",
   "execution_count": 66,
   "metadata": {},
   "outputs": [
    {
     "data": {
      "text/plain": [
       "38.9017685973273"
      ]
     },
     "execution_count": 66,
     "metadata": {},
     "output_type": "execute_result"
    }
   ],
   "source": [
    "test1.std()"
   ]
  },
  {
   "cell_type": "code",
   "execution_count": 67,
   "metadata": {},
   "outputs": [
    {
     "data": {
      "text/plain": [
       "50"
      ]
     },
     "execution_count": 67,
     "metadata": {},
     "output_type": "execute_result"
    }
   ],
   "source": [
    "len(test1)"
   ]
  },
  {
   "cell_type": "code",
   "execution_count": 68,
   "metadata": {},
   "outputs": [
    {
     "data": {
      "image/png": "[encoded data removed]",
      "text/plain": [
       "<Figure size 432x288 with 1 Axes>"
      ]
     },
     "metadata": {
      "needs_background": "light"
     },
     "output_type": "display_data"
    }
   ],
   "source": [
    "sns.histplot(test1,\n",
    "            bins=11,\n",
    "            stat = 'density');"
   ]
  },
  {
   "cell_type": "code",
   "execution_count": 69,
   "metadata": {},
   "outputs": [
    {
     "data": {
      "text/plain": [
       "60.18"
      ]
     },
     "execution_count": 69,
     "metadata": {},
     "output_type": "execute_result"
    }
   ],
   "source": [
    "test1.mean()"
   ]
  },
  {
   "cell_type": "code",
   "execution_count": 70,
   "metadata": {},
   "outputs": [
    {
     "data": {
      "text/plain": [
       "38.9017685973273"
      ]
     },
     "execution_count": 70,
     "metadata": {},
     "output_type": "execute_result"
    }
   ],
   "source": [
    "test1.std()"
   ]
  },
  {
   "cell_type": "markdown",
   "metadata": {},
   "source": [
    "Is there any difference about drawing a sample n times or just drawing n samples? Let's see"
   ]
  },
  {
   "cell_type": "code",
   "execution_count": 77,
   "metadata": {},
   "outputs": [
    {
     "name": "stdout",
     "output_type": "stream",
     "text": [
      "9.15000000532018e-07\n"
     ]
    }
   ],
   "source": [
    "np.random.seed(1234)\n",
    "n = 30\n",
    "\n",
    "import timeit\n",
    "import numpy as np\n",
    "\n",
    "code_to_test = \"\"\"\n",
    "import numpy as np\n",
    "k = np.sqrt(30)\n",
    "\"\"\"\n",
    "draw_sample(1)\n",
    "elapsed_time = timeit.timeit(code_to_test, number=100)/100\n",
    "print(elapsed_time)\n"
   ]
  },
  {
   "cell_type": "code",
   "execution_count": 78,
   "metadata": {},
   "outputs": [
    {
     "data": {
      "text/plain": [
       "array([73.66110195, 73.66110195, 52.00063788, 52.00063788, 60.73175052,\n",
       "       60.73175052, 77.39420154, 77.39420154, 66.52669923, 66.52669923,\n",
       "       58.4535764 , 58.4535764 , 67.62365326, 67.62365326, 78.17410719,\n",
       "       78.17410719, 60.78212833, 60.78212833, 60.59891642, 60.59891642,\n",
       "       59.40550029, 59.40550029, 62.99794493, 62.99794493, 58.69436491,\n",
       "       58.69436491, 56.46986396, 56.46986396, 56.89319217, 56.89319217,\n",
       "       60.85158148, 60.85158148, 57.56099767, 57.56099767, 80.7409065 ,\n",
       "       80.7409065 , 68.24118827, 68.24118827, 54.78504101, 54.78504101])"
      ]
     },
     "execution_count": 78,
     "metadata": {},
     "output_type": "execute_result"
    }
   ],
   "source": [
    "k"
   ]
  },
  {
   "cell_type": "code",
   "execution_count": 79,
   "metadata": {},
   "outputs": [],
   "source": [
    "np.random.seed(1234)\n",
    "\n",
    "k2 = np.array([draw_sample(1)[0] for _ in np.arange(30)])"
   ]
  },
  {
   "cell_type": "code",
   "execution_count": 80,
   "metadata": {},
   "outputs": [
    {
     "data": {
      "text/plain": [
       "array([ 23,  90,  31, 102, 102,  25,  25, 103, 119, 109,  28,  59,  95,\n",
       "        97,  28,  83,  64,  13, 101, 110,  28,  89,  18,  28, 115,  92,\n",
       "        29, 102,  27,  84])"
      ]
     },
     "execution_count": 80,
     "metadata": {},
     "output_type": "execute_result"
    }
   ],
   "source": [
    "k2"
   ]
  },
  {
   "cell_type": "code",
   "execution_count": 81,
   "metadata": {},
   "outputs": [
    {
     "data": {
      "text/plain": [
       "108"
      ]
     },
     "execution_count": 81,
     "metadata": {},
     "output_type": "execute_result"
    }
   ],
   "source": [
    "draw_sample(1)[0]"
   ]
  },
  {
   "cell_type": "code",
   "execution_count": null,
   "metadata": {},
   "outputs": [],
   "source": []
  },
  {
   "cell_type": "code",
   "execution_count": 82,
   "metadata": {},
   "outputs": [],
   "source": [
    "r_5 = np.array([draw_sample(n_samples).mean() for _ in np.arange(5)])"
   ]
  },
  {
   "cell_type": "code",
   "execution_count": 83,
   "metadata": {},
   "outputs": [
    {
     "data": {
      "text/plain": [
       "64.876"
      ]
     },
     "execution_count": 83,
     "metadata": {},
     "output_type": "execute_result"
    }
   ],
   "source": [
    "r_5.mean()"
   ]
  },
  {
   "cell_type": "code",
   "execution_count": 84,
   "metadata": {},
   "outputs": [
    {
     "data": {
      "text/plain": [
       "5.701163390045928"
      ]
     },
     "execution_count": 84,
     "metadata": {},
     "output_type": "execute_result"
    }
   ],
   "source": [
    "r_5.std()"
   ]
  },
  {
   "cell_type": "code",
   "execution_count": 85,
   "metadata": {},
   "outputs": [],
   "source": [
    "r_10 = np.array([draw_sample(n_samples).mean() for _ in np.arange(10)])"
   ]
  },
  {
   "cell_type": "code",
   "execution_count": 86,
   "metadata": {},
   "outputs": [],
   "source": [
    "d_100 = draw_sample(100)"
   ]
  },
  {
   "cell_type": "code",
   "execution_count": 87,
   "metadata": {},
   "outputs": [],
   "source": [
    "np.random.seed(1234)\n",
    "\n",
    "k = 5\n",
    "n_samples = 20\n",
    "\n",
    "l_5 = np.zeros(k)\n",
    "for i in np.arange(k):\n",
    "    a1 = draw_sample(n_samples)\n",
    "    l_5[i] = a1.mean()"
   ]
  },
  {
   "cell_type": "code",
   "execution_count": 88,
   "metadata": {},
   "outputs": [
    {
     "data": {
      "text/plain": [
       "array([70.35, 67.45, 68.15, 46.85, 72.95])"
      ]
     },
     "execution_count": 88,
     "metadata": {},
     "output_type": "execute_result"
    }
   ],
   "source": [
    "l_5"
   ]
  },
  {
   "cell_type": "code",
   "execution_count": 89,
   "metadata": {},
   "outputs": [],
   "source": [
    "np.random.seed(1234)\n",
    "\n",
    "k = 20\n",
    "n_samples = 20\n",
    "\n",
    "c_20 = np.array([draw_sample(n_samples).mean() for _ in np.arange(k)])"
   ]
  },
  {
   "cell_type": "code",
   "execution_count": 90,
   "metadata": {},
   "outputs": [
    {
     "data": {
      "image/png": "[encoded data removed]",
      "text/plain": [
       "<Figure size 432x288 with 1 Axes>"
      ]
     },
     "metadata": {
      "needs_background": "light"
     },
     "output_type": "display_data"
    }
   ],
   "source": [
    "sns.histplot(c_20,\n",
    "            bins=15,\n",
    "            stat = 'density');"
   ]
  },
  {
   "cell_type": "code",
   "execution_count": 91,
   "metadata": {},
   "outputs": [
    {
     "ename": "NameError",
     "evalue": "name 'c_200' is not defined",
     "output_type": "error",
     "traceback": [
      "\u001b[1;31m---------------------------------------------------------------------------\u001b[0m",
      "\u001b[1;31mNameError\u001b[0m                                 Traceback (most recent call last)",
      "\u001b[1;32m<ipython-input-91-aad70a322d4c>\u001b[0m in \u001b[0;36m<module>\u001b[1;34m\u001b[0m\n\u001b[1;32m----> 1\u001b[1;33m sns.histplot(c_200,\n\u001b[0m\u001b[0;32m      2\u001b[0m             \u001b[0mbins\u001b[0m\u001b[1;33m=\u001b[0m\u001b[1;36m15\u001b[0m\u001b[1;33m,\u001b[0m\u001b[1;33m\u001b[0m\u001b[1;33m\u001b[0m\u001b[0m\n\u001b[0;32m      3\u001b[0m             stat = 'density');\n",
      "\u001b[1;31mNameError\u001b[0m: name 'c_200' is not defined"
     ]
    }
   ],
   "source": [
    "sns.histplot(c_200,\n",
    "            bins=15,\n",
    "            stat = 'density');"
   ]
  },
  {
   "cell_type": "code",
   "execution_count": null,
   "metadata": {},
   "outputs": [],
   "source": [
    "np.random.seed(1234)\n",
    "\n",
    "k = 200\n",
    "n_samples = 20\n",
    "\n",
    "c_200 = np.array([draw_sample(n_samples).mean() for _ in np.arange(k)])"
   ]
  },
  {
   "cell_type": "code",
   "execution_count": null,
   "metadata": {},
   "outputs": [],
   "source": [
    "np.random.seed(1234)\n",
    "\n",
    "k = 200\n",
    "n_samples = 1\n",
    "\n",
    "c_200_1 = np.array([draw_sample(n_samples).mean() for _ in np.arange(k)])"
   ]
  },
  {
   "cell_type": "code",
   "execution_count": null,
   "metadata": {},
   "outputs": [],
   "source": [
    "sns.histplot(c_200_1,\n",
    "            bins=15,\n",
    "            stat = 'density');"
   ]
  },
  {
   "cell_type": "code",
   "execution_count": null,
   "metadata": {},
   "outputs": [],
   "source": [
    "c_200_1.mean()"
   ]
  },
  {
   "cell_type": "code",
   "execution_count": null,
   "metadata": {},
   "outputs": [],
   "source": [
    "c_200_1.std()"
   ]
  },
  {
   "cell_type": "code",
   "execution_count": null,
   "metadata": {},
   "outputs": [],
   "source": [
    "c_200.mean()"
   ]
  },
  {
   "cell_type": "code",
   "execution_count": null,
   "metadata": {},
   "outputs": [],
   "source": [
    "c_200.std()"
   ]
  },
  {
   "cell_type": "code",
   "execution_count": null,
   "metadata": {},
   "outputs": [],
   "source": []
  },
  {
   "cell_type": "code",
   "execution_count": null,
   "metadata": {},
   "outputs": [],
   "source": []
  },
  {
   "cell_type": "code",
   "execution_count": null,
   "metadata": {},
   "outputs": [],
   "source": [
    "#\n"
   ]
  },
  {
   "cell_type": "code",
   "execution_count": null,
   "metadata": {},
   "outputs": [],
   "source": []
  },
  {
   "cell_type": "code",
   "execution_count": null,
   "metadata": {},
   "outputs": [],
   "source": [
    "l1"
   ]
  },
  {
   "cell_type": "code",
   "execution_count": null,
   "metadata": {},
   "outputs": [],
   "source": [
    "sns.histplot(l1,\n",
    "            bins=15,\n",
    "            stat = 'density')"
   ]
  },
  {
   "cell_type": "code",
   "execution_count": null,
   "metadata": {},
   "outputs": [],
   "source": [
    "np.random.seed(1234)\n",
    "\n",
    "k = 100\n",
    "n_samples = 1\n",
    "\n",
    "l1 = np.zeros(100)\n",
    "for i in np.arange(k):\n",
    "    a1 = draw_sample(n_samples)\n",
    "    l1[i] = a1.mean()"
   ]
  },
  {
   "cell_type": "code",
   "execution_count": null,
   "metadata": {},
   "outputs": [],
   "source": [
    "sns.histplot(l1,\n",
    "            bins=15,\n",
    "            stat = 'density')"
   ]
  },
  {
   "cell_type": "code",
   "execution_count": null,
   "metadata": {},
   "outputs": [],
   "source": []
  },
  {
   "cell_type": "code",
   "execution_count": null,
   "metadata": {},
   "outputs": [],
   "source": []
  },
  {
   "cell_type": "code",
   "execution_count": null,
   "metadata": {},
   "outputs": [],
   "source": []
  },
  {
   "cell_type": "code",
   "execution_count": null,
   "metadata": {},
   "outputs": [],
   "source": [
    "np.random.seed(1234)\n",
    "draw_sample(n_samples).mean()"
   ]
  },
  {
   "cell_type": "code",
   "execution_count": null,
   "metadata": {},
   "outputs": [],
   "source": []
  },
  {
   "cell_type": "code",
   "execution_count": null,
   "metadata": {},
   "outputs": [],
   "source": [
    "sns.histplot(d_100,\n",
    "            bins=15,\n",
    "            stat = 'density')"
   ]
  },
  {
   "cell_type": "code",
   "execution_count": null,
   "metadata": {},
   "outputs": [],
   "source": [
    "r_10.mean()"
   ]
  },
  {
   "cell_type": "code",
   "execution_count": null,
   "metadata": {},
   "outputs": [],
   "source": [
    "r_10.std()"
   ]
  },
  {
   "cell_type": "code",
   "execution_count": null,
   "metadata": {},
   "outputs": [],
   "source": [
    "r_20 = np.array([draw_sample(n_samples).mean() for _ in np.arange(20)])"
   ]
  },
  {
   "cell_type": "code",
   "execution_count": null,
   "metadata": {},
   "outputs": [],
   "source": [
    "r_20.mean()"
   ]
  },
  {
   "cell_type": "code",
   "execution_count": null,
   "metadata": {},
   "outputs": [],
   "source": [
    "r_20.std()"
   ]
  },
  {
   "cell_type": "code",
   "execution_count": null,
   "metadata": {},
   "outputs": [],
   "source": [
    "sns.histplot(r_10,\n",
    "            bins=4,\n",
    "            stat = 'density')"
   ]
  },
  {
   "cell_type": "code",
   "execution_count": null,
   "metadata": {},
   "outputs": [],
   "source": [
    "sns.histplot(r_20,\n",
    "            bins=11,\n",
    "            stat = 'density')"
   ]
  },
  {
   "cell_type": "code",
   "execution_count": null,
   "metadata": {},
   "outputs": [],
   "source": []
  }
 ],
 "metadata": {
  "kernelspec": {
   "display_name": "Python 3",
   "language": "python",
   "name": "python3"
  },
  "language_info": {
   "codemirror_mode": {
    "name": "ipython",
    "version": 3
   },
   "file_extension": ".py",
   "mimetype": "text/x-python",
   "name": "python",
   "nbconvert_exporter": "python",
   "pygments_lexer": "ipython3",
   "version": "3.7.9"
  }
 },
 "nbformat": 4,
 "nbformat_minor": 4
}
