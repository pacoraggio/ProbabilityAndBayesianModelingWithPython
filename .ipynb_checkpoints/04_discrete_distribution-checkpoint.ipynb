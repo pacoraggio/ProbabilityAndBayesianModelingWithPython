{
 "cells": [
  {
   "cell_type": "markdown",
   "metadata": {},
   "source": [
    "# Discrete Distribution"
   ]
  },
  {
   "cell_type": "markdown",
   "metadata": {},
   "source": [
    "## Random Variable and Probability Distribution"
   ]
  },
  {
   "cell_type": "markdown",
   "metadata": {},
   "source": [
    "Suppose that Peter and Paul play a simple coin game. A coin is tossed. If the coin lands heads, then Peter receives \\\\$2 from Paul; otherwise Peter has to pay \\\\$2 to Paul. The game is played for a total of five coin flips. After the five flips, what is Peter’s net gain (in dollars)?\n",
    "\n",
    "The answer depends on the results of the coin flips. There are two possible outcomes of each coin flip (heads or tails) and, by applying the multiplication rule, there are $2^5 = 32$ possibilities for the five flips. The 32 possible outcomes\n",
    "are written below."
   ]
  },
  {
   "cell_type": "code",
   "execution_count": 1,
   "metadata": {},
   "outputs": [
    {
     "data": {
      "text/html": [
       "<div>\n",
       "<style scoped>\n",
       "    .dataframe tbody tr th:only-of-type {\n",
       "        vertical-align: middle;\n",
       "    }\n",
       "\n",
       "    .dataframe tbody tr th {\n",
       "        vertical-align: top;\n",
       "    }\n",
       "\n",
       "    .dataframe thead th {\n",
       "        text-align: right;\n",
       "    }\n",
       "</style>\n",
       "<table border=\"1\" class=\"dataframe\">\n",
       "  <thead>\n",
       "    <tr style=\"text-align: right;\">\n",
       "      <th></th>\n",
       "      <th>0</th>\n",
       "      <th>1</th>\n",
       "      <th>2</th>\n",
       "      <th>3</th>\n",
       "    </tr>\n",
       "  </thead>\n",
       "  <tbody>\n",
       "    <tr>\n",
       "      <th>0</th>\n",
       "      <td>HHHHH</td>\n",
       "      <td>HHHHT</td>\n",
       "      <td>HHHTH</td>\n",
       "      <td>HHHTT</td>\n",
       "    </tr>\n",
       "    <tr>\n",
       "      <th>1</th>\n",
       "      <td>HHTHH</td>\n",
       "      <td>HHTHT</td>\n",
       "      <td>HHTTH</td>\n",
       "      <td>HHTTT</td>\n",
       "    </tr>\n",
       "    <tr>\n",
       "      <th>2</th>\n",
       "      <td>HTHHH</td>\n",
       "      <td>HTHHT</td>\n",
       "      <td>HTHTH</td>\n",
       "      <td>HTHTT</td>\n",
       "    </tr>\n",
       "    <tr>\n",
       "      <th>3</th>\n",
       "      <td>HTTHH</td>\n",
       "      <td>HTTHT</td>\n",
       "      <td>HTTTH</td>\n",
       "      <td>HTTTT</td>\n",
       "    </tr>\n",
       "    <tr>\n",
       "      <th>4</th>\n",
       "      <td>THHHH</td>\n",
       "      <td>THHHT</td>\n",
       "      <td>THHTH</td>\n",
       "      <td>THHTT</td>\n",
       "    </tr>\n",
       "    <tr>\n",
       "      <th>5</th>\n",
       "      <td>THTHH</td>\n",
       "      <td>THTHT</td>\n",
       "      <td>THTTH</td>\n",
       "      <td>THTTT</td>\n",
       "    </tr>\n",
       "    <tr>\n",
       "      <th>6</th>\n",
       "      <td>TTHHH</td>\n",
       "      <td>TTHHT</td>\n",
       "      <td>TTHTH</td>\n",
       "      <td>TTHTT</td>\n",
       "    </tr>\n",
       "    <tr>\n",
       "      <th>7</th>\n",
       "      <td>TTTHH</td>\n",
       "      <td>TTTHT</td>\n",
       "      <td>TTTTH</td>\n",
       "      <td>TTTTT</td>\n",
       "    </tr>\n",
       "  </tbody>\n",
       "</table>\n",
       "</div>"
      ],
      "text/plain": [
       "       0      1      2      3\n",
       "0  HHHHH  HHHHT  HHHTH  HHHTT\n",
       "1  HHTHH  HHTHT  HHTTH  HHTTT\n",
       "2  HTHHH  HTHHT  HTHTH  HTHTT\n",
       "3  HTTHH  HTTHT  HTTTH  HTTTT\n",
       "4  THHHH  THHHT  THHTH  THHTT\n",
       "5  THTHH  THTHT  THTTH  THTTT\n",
       "6  TTHHH  TTHHT  TTHTH  TTHTT\n",
       "7  TTTHH  TTTHT  TTTTH  TTTTT"
      ]
     },
     "execution_count": 1,
     "metadata": {},
     "output_type": "execute_result"
    }
   ],
   "source": [
    "import itertools\n",
    "import numpy as np\n",
    "import pandas as pd\n",
    "\n",
    "a1 = np.array([''.join(x) for x in itertools.product('HT', repeat=5)]).reshape(8,4)\n",
    "df1 = pd.DataFrame(np.array([''.join(x) for x in itertools.product('HT', repeat=5)]).reshape(8,4))\n",
    "\n",
    "#2*a1[0,0].count('H') - 2*a1[0,0].count('T')\n",
    "df1"
   ]
  },
  {
   "cell_type": "markdown",
   "metadata": {},
   "source": [
    "For each possible outcome of the flips, say $HTHHT$, there will be a corresponding net gain for Peter. For this outcome, Peter won three times and lost twice, so his net gain is $3(2)−2(2) = 2$ dollars. The net gain is an example of a random variable – this is simply a number that is assigned to each outcome of the random experiment.\n",
    "\n",
    "Generally, a capital letter will be used to represent a random variable – here the capital letter $G$ denotes Peter’s gain in this experiment. For each of the 32 outcomes, one can assign a value of $G$ – this is done in the next table "
   ]
  },
  {
   "cell_type": "code",
   "execution_count": 2,
   "metadata": {},
   "outputs": [
    {
     "data": {
      "text/html": [
       "<div>\n",
       "<style scoped>\n",
       "    .dataframe tbody tr th:only-of-type {\n",
       "        vertical-align: middle;\n",
       "    }\n",
       "\n",
       "    .dataframe tbody tr th {\n",
       "        vertical-align: top;\n",
       "    }\n",
       "\n",
       "    .dataframe thead th {\n",
       "        text-align: right;\n",
       "    }\n",
       "</style>\n",
       "<table border=\"1\" class=\"dataframe\">\n",
       "  <thead>\n",
       "    <tr style=\"text-align: right;\">\n",
       "      <th></th>\n",
       "      <th>0</th>\n",
       "      <th>1</th>\n",
       "      <th>2</th>\n",
       "      <th>3</th>\n",
       "    </tr>\n",
       "  </thead>\n",
       "  <tbody>\n",
       "    <tr>\n",
       "      <th>0</th>\n",
       "      <td>HHHHH, G = 10</td>\n",
       "      <td>HHHHT, G = 6</td>\n",
       "      <td>HHHTH, G = 6</td>\n",
       "      <td>HHHTT, G = 2</td>\n",
       "    </tr>\n",
       "    <tr>\n",
       "      <th>1</th>\n",
       "      <td>HHTHH, G = 6</td>\n",
       "      <td>HHTHT, G = 2</td>\n",
       "      <td>HHTTH, G = 2</td>\n",
       "      <td>HHTTT, G = -2</td>\n",
       "    </tr>\n",
       "    <tr>\n",
       "      <th>2</th>\n",
       "      <td>HTHHH, G = 6</td>\n",
       "      <td>HTHHT, G = 2</td>\n",
       "      <td>HTHTH, G = 2</td>\n",
       "      <td>HTHTT, G = -2</td>\n",
       "    </tr>\n",
       "    <tr>\n",
       "      <th>3</th>\n",
       "      <td>HTTHH, G = 2</td>\n",
       "      <td>HTTHT, G = -2</td>\n",
       "      <td>HTTTH, G = -2</td>\n",
       "      <td>HTTTT, G = -6</td>\n",
       "    </tr>\n",
       "    <tr>\n",
       "      <th>4</th>\n",
       "      <td>THHHH, G = 6</td>\n",
       "      <td>THHHT, G = 2</td>\n",
       "      <td>THHTH, G = 2</td>\n",
       "      <td>THHTT, G = -2</td>\n",
       "    </tr>\n",
       "    <tr>\n",
       "      <th>5</th>\n",
       "      <td>THTHH, G = 2</td>\n",
       "      <td>THTHT, G = -2</td>\n",
       "      <td>THTTH, G = -2</td>\n",
       "      <td>THTTT, G = -6</td>\n",
       "    </tr>\n",
       "    <tr>\n",
       "      <th>6</th>\n",
       "      <td>TTHHH, G = 2</td>\n",
       "      <td>TTHHT, G = -2</td>\n",
       "      <td>TTHTH, G = -2</td>\n",
       "      <td>TTHTT, G = -6</td>\n",
       "    </tr>\n",
       "    <tr>\n",
       "      <th>7</th>\n",
       "      <td>TTTHH, G = -2</td>\n",
       "      <td>TTTHT, G = -6</td>\n",
       "      <td>TTTTH, G = -6</td>\n",
       "      <td>TTTTT, G = -10</td>\n",
       "    </tr>\n",
       "  </tbody>\n",
       "</table>\n",
       "</div>"
      ],
      "text/plain": [
       "               0              1              2               3\n",
       "0  HHHHH, G = 10   HHHHT, G = 6   HHHTH, G = 6    HHHTT, G = 2\n",
       "1   HHTHH, G = 6   HHTHT, G = 2   HHTTH, G = 2   HHTTT, G = -2\n",
       "2   HTHHH, G = 6   HTHHT, G = 2   HTHTH, G = 2   HTHTT, G = -2\n",
       "3   HTTHH, G = 2  HTTHT, G = -2  HTTTH, G = -2   HTTTT, G = -6\n",
       "4   THHHH, G = 6   THHHT, G = 2   THHTH, G = 2   THHTT, G = -2\n",
       "5   THTHH, G = 2  THTHT, G = -2  THTTH, G = -2   THTTT, G = -6\n",
       "6   TTHHH, G = 2  TTHHT, G = -2  TTHTH, G = -2   TTHTT, G = -6\n",
       "7  TTTHH, G = -2  TTTHT, G = -6  TTTTH, G = -6  TTTTT, G = -10"
      ]
     },
     "execution_count": 2,
     "metadata": {},
     "output_type": "execute_result"
    }
   ],
   "source": [
    "count_revenue = lambda i: 2*i.count('H') - 2*i.count('T')\n",
    "vectorize_count_revenue = np.vectorize(count_revenue)\n",
    "\n",
    "# pd.DataFrame(vectorize_count_revenue(a1))\n",
    "\n",
    "format_rev = lambda i: i + \", G = \" + str(vectorize_count_revenue(i))\n",
    "vectorize_format_rev = np.vectorize(format_rev)\n",
    "\n",
    "pd.DataFrame(vectorize_format_rev(a1))   "
   ]
  },
  {
   "cell_type": "markdown",
   "metadata": {},
   "source": [
    "It is seen from the table that the possible gains for Peter are -10, -6, -2, 2, 6, and 10 dollars. One is interested in the probability that Peter will get each possible gain. To do this, one puts all of the possible values of the random variable in a table. Although a capital letter will be used to denote a random variable, a small letter will denote a specific value of the random variable. So $g$ refers to one specific value of the gain $G$, and $P(G=g)$ refers to the corresponding probability.\n",
    "\n",
    "| Gain $g$ (dollars) | Number of outcomes | probability $P(G=g)$|\n",
    "|:----:|:----:|:----:|\n",
    "|-10|||\n",
    "|-6|||\n",
    "|-2|||\n",
    "|2|||\n",
    "|6|||\n",
    "|10|||\n"
   ]
  },
  {
   "cell_type": "markdown",
   "metadata": {},
   "source": [
    "> What is the probability that Peter gains \\\\$6 in this game?\n",
    "\n",
    "Looking at the table of outcomes, one sees that Peter won \\\\$6 in five of the outcomes. Since there are 32 possible outcomes of the five flips, and each outcome has the same probability, one sees that the probability of Peter winning \\\\$6 is $5/32$.\n",
    "\n",
    "This process is continued for all of the possible values of $G$. In the next table, one places the number of outcomes for each value and the corresponding probability. This is an example of a probability distribution for $G$ – This is simply a list of all possible values for a random variable together with the associated probabilities.\n",
    "\n",
    "| Gain $g$ (dollars) | Number of outcomes | probability $P(G=g)$ |\n",
    "| ---- | ---- | ---- |\n",
    "|-10 | 1 | 1/32|\n",
    "|-6|5|5/32|\n",
    "|-2|10|10/32|\n",
    "|2|10|10/32|\n",
    "|6|5|5/32|\n",
    "|10|1|1/32|"
   ]
  },
  {
   "cell_type": "markdown",
   "metadata": {},
   "source": [
    "#### Probability distribution"
   ]
  },
  {
   "cell_type": "markdown",
   "metadata": {},
   "source": [
    "In general, suppose $X$ is a discrete random variable. This type of random variable only assigns probability to a discrete set of values. In other words, the support of $X$ is a set of discrete values. The function $f(x)$ is a **probability mass function (pmf)** for $X$ if the function satisfies two properties:\n",
    "\n",
    "1. $f(x)>0$ for each possible value $x$ of $X$\n",
    "2. $\\sum_{x}f(x) = 1$\n",
    "\n",
    "The table of values of the gain $G$ and the associated probabilities $f(g) = P(G = g)$ do satisfy these two properties. Each of the assigned probabilities is positive, so property (1) is satisfied. If one sums the assigned probabilities, one finds\n",
    "\n",
    "$$ \\sum_{g}P(G = g) = \\frac{1}{32} + \\frac{5}{32} + \\frac{10}{32}+ \\frac{10}{32} + \\frac{5}{32} + \\frac{1}{32}$$"
   ]
  },
  {
   "cell_type": "markdown",
   "metadata": {},
   "source": [
    "A probability distribution is a listing of the values of $X$ together with the associated values of the pmf. One graphically displays this probability distribution with a bar graph. One places all of the values of G on the horizontal axis, marks off a probability scale on the vertical scale, and then draws vertical lines on the graph corresponding to the pmf values."
   ]
  },
  {
   "cell_type": "markdown",
   "metadata": {},
   "source": [
    "##### Simulating the Peter-Paul Game (in Python)\n",
    "\n",
    "This version for simulating the Peter-Paul game makes use of a function called `one_play()` which will play the game one time. The `numpy` `random.choice` function is used to flip a coin five times and the function returns the net gain for Paul. In this simulation "
   ]
  },
  {
   "cell_type": "code",
   "execution_count": 3,
   "metadata": {},
   "outputs": [],
   "source": [
    "import numpy as np\n",
    "\n",
    "int_to_coin = lambda i: 'H' if i == 1 else 'T'\n",
    "\n",
    "def one_play():\n",
    "    flips = ''.join(np.random.choice(['H','T'], size = 5))\n",
    "    return(2*flips.count('H') - 2*flips.count('T'))"
   ]
  },
  {
   "cell_type": "code",
   "execution_count": 4,
   "metadata": {},
   "outputs": [
    {
     "data": {
      "text/plain": [
       "-6"
      ]
     },
     "execution_count": 4,
     "metadata": {},
     "output_type": "execute_result"
    }
   ],
   "source": [
    "a = one_play()\n",
    "a"
   ]
  },
  {
   "cell_type": "code",
   "execution_count": 5,
   "metadata": {},
   "outputs": [],
   "source": [
    "n_games = 50000\n",
    "\n",
    "g = np.array([one_play() for _ in np.arange(n_games)])"
   ]
  },
  {
   "cell_type": "code",
   "execution_count": 6,
   "metadata": {},
   "outputs": [
    {
     "data": {
      "image/png": "[encoded data removed]",
      "text/plain": [
       "<Figure size 432x288 with 1 Axes>"
      ]
     },
     "metadata": {
      "needs_background": "light"
     },
     "output_type": "display_data"
    }
   ],
   "source": [
    "import matplotlib.pyplot as plt\n",
    "\n",
    "plt.hist(g, bins=np.arange(g.min(), g.max()+1));"
   ]
  },
  {
   "cell_type": "code",
   "execution_count": 7,
   "metadata": {
    "code_folding": []
   },
   "outputs": [
    {
     "data": {
      "text/html": [
       "<div>\n",
       "<style scoped>\n",
       "    .dataframe tbody tr th:only-of-type {\n",
       "        vertical-align: middle;\n",
       "    }\n",
       "\n",
       "    .dataframe tbody tr th {\n",
       "        vertical-align: top;\n",
       "    }\n",
       "\n",
       "    .dataframe thead th {\n",
       "        text-align: right;\n",
       "    }\n",
       "</style>\n",
       "<table border=\"1\" class=\"dataframe\">\n",
       "  <thead>\n",
       "    <tr style=\"text-align: right;\">\n",
       "      <th></th>\n",
       "      <th>counts</th>\n",
       "    </tr>\n",
       "    <tr>\n",
       "      <th>gain</th>\n",
       "      <th></th>\n",
       "    </tr>\n",
       "  </thead>\n",
       "  <tbody>\n",
       "    <tr>\n",
       "      <th>-10</th>\n",
       "      <td>1521</td>\n",
       "    </tr>\n",
       "    <tr>\n",
       "      <th>-6</th>\n",
       "      <td>7616</td>\n",
       "    </tr>\n",
       "    <tr>\n",
       "      <th>-2</th>\n",
       "      <td>15602</td>\n",
       "    </tr>\n",
       "    <tr>\n",
       "      <th>2</th>\n",
       "      <td>15866</td>\n",
       "    </tr>\n",
       "    <tr>\n",
       "      <th>6</th>\n",
       "      <td>7824</td>\n",
       "    </tr>\n",
       "    <tr>\n",
       "      <th>10</th>\n",
       "      <td>1571</td>\n",
       "    </tr>\n",
       "  </tbody>\n",
       "</table>\n",
       "</div>"
      ],
      "text/plain": [
       "      counts\n",
       "gain        \n",
       "-10     1521\n",
       "-6      7616\n",
       "-2     15602\n",
       " 2     15866\n",
       " 6      7824\n",
       " 10     1571"
      ]
     },
     "execution_count": 7,
     "metadata": {},
     "output_type": "execute_result"
    }
   ],
   "source": [
    "unique, counts = np.unique(g, return_counts=True)\n",
    "table = pd.DataFrame({'gain' : unique,\n",
    "             'counts': counts})\n",
    "\n",
    "table.set_index('gain', inplace=True)\n",
    "table"
   ]
  },
  {
   "cell_type": "code",
   "execution_count": 8,
   "metadata": {},
   "outputs": [],
   "source": [
    "table['perc'] = table['counts']/table['counts'].sum()"
   ]
  },
  {
   "cell_type": "code",
   "execution_count": 9,
   "metadata": {},
   "outputs": [],
   "source": [
    "table['prob'] = np.array([1/32,5/32,10/32,\n",
    "                         10/32,5/32,1/32])\n"
   ]
  },
  {
   "cell_type": "code",
   "execution_count": 10,
   "metadata": {},
   "outputs": [
    {
     "data": {
      "text/html": [
       "<div>\n",
       "<style scoped>\n",
       "    .dataframe tbody tr th:only-of-type {\n",
       "        vertical-align: middle;\n",
       "    }\n",
       "\n",
       "    .dataframe tbody tr th {\n",
       "        vertical-align: top;\n",
       "    }\n",
       "\n",
       "    .dataframe thead th {\n",
       "        text-align: right;\n",
       "    }\n",
       "</style>\n",
       "<table border=\"1\" class=\"dataframe\">\n",
       "  <thead>\n",
       "    <tr style=\"text-align: right;\">\n",
       "      <th></th>\n",
       "      <th>counts</th>\n",
       "      <th>perc</th>\n",
       "      <th>prob</th>\n",
       "    </tr>\n",
       "    <tr>\n",
       "      <th>gain</th>\n",
       "      <th></th>\n",
       "      <th></th>\n",
       "      <th></th>\n",
       "    </tr>\n",
       "  </thead>\n",
       "  <tbody>\n",
       "    <tr>\n",
       "      <th>-10</th>\n",
       "      <td>1521</td>\n",
       "      <td>0.03042</td>\n",
       "      <td>0.03125</td>\n",
       "    </tr>\n",
       "    <tr>\n",
       "      <th>-6</th>\n",
       "      <td>7616</td>\n",
       "      <td>0.15232</td>\n",
       "      <td>0.15625</td>\n",
       "    </tr>\n",
       "    <tr>\n",
       "      <th>-2</th>\n",
       "      <td>15602</td>\n",
       "      <td>0.31204</td>\n",
       "      <td>0.31250</td>\n",
       "    </tr>\n",
       "    <tr>\n",
       "      <th>2</th>\n",
       "      <td>15866</td>\n",
       "      <td>0.31732</td>\n",
       "      <td>0.31250</td>\n",
       "    </tr>\n",
       "    <tr>\n",
       "      <th>6</th>\n",
       "      <td>7824</td>\n",
       "      <td>0.15648</td>\n",
       "      <td>0.15625</td>\n",
       "    </tr>\n",
       "    <tr>\n",
       "      <th>10</th>\n",
       "      <td>1571</td>\n",
       "      <td>0.03142</td>\n",
       "      <td>0.03125</td>\n",
       "    </tr>\n",
       "  </tbody>\n",
       "</table>\n",
       "</div>"
      ],
      "text/plain": [
       "      counts     perc     prob\n",
       "gain                          \n",
       "-10     1521  0.03042  0.03125\n",
       "-6      7616  0.15232  0.15625\n",
       "-2     15602  0.31204  0.31250\n",
       " 2     15866  0.31732  0.31250\n",
       " 6      7824  0.15648  0.15625\n",
       " 10     1571  0.03142  0.03125"
      ]
     },
     "execution_count": 10,
     "metadata": {},
     "output_type": "execute_result"
    }
   ],
   "source": [
    "table"
   ]
  },
  {
   "cell_type": "code",
   "execution_count": 11,
   "metadata": {},
   "outputs": [
    {
     "data": {
      "text/plain": [
       "<AxesSubplot:xlabel='gain', ylabel='counts'>"
      ]
     },
     "execution_count": 11,
     "metadata": {},
     "output_type": "execute_result"
    },
    {
     "data": {
      "image/png": "[encoded data removed]",
      "text/plain": [
       "<Figure size 432x288 with 1 Axes>"
      ]
     },
     "metadata": {
      "needs_background": "light"
     },
     "output_type": "display_data"
    }
   ],
   "source": [
    "import seaborn as sns\n",
    "\n",
    "sns.barplot(table.index,\n",
    "           table['counts'],\n",
    "           color= 'blue')"
   ]
  },
  {
   "cell_type": "markdown",
   "metadata": {},
   "source": [
    "### Summarising a Probability Distribution"
   ]
  },
  {
   "cell_type": "markdown",
   "metadata": {},
   "source": [
    "Once we have constructed a probability distribution – like was one above – it is convenient to use this to find probabilities.\n",
    "\n",
    "> What is the chance that Peter will win at least \\\\$5 in this game? \n",
    "\n",
    "Looking at the probability table, ones sees that winning “at least \\\\$5” includes the possible values:\n",
    "\n",
    "$$ G = 6 \\text{ and } G = 10$$\n",
    "\n",
    "One finds the probability of interest by adding the probabilities of the individual values.\n",
    "\n",
    "$$\n",
    "\\begin{align*} \n",
    "P(G \\geq 5) &= P(G = 6 \\text{ or } G = 10) \\\\ \n",
    "&= P(G=6) + P(G = 10)\\\\\n",
    "&= \\frac{5+1}{32} = \\frac{6}{32}\\\\\n",
    "\\end{align*}\n",
    "$$\n",
    "\n",
    "What is the probability Peter wins money in this game? Peter wins money if the gain $G$ is positive and this corresponds to the values $G = 2,6,10$. By adding up the probabilities of these three values, one sees the probability that Peter wins money is:\n",
    "\n",
    "$$\n",
    "\\begin{align*} \n",
    "P(\\text{Peter wins}) &= P(G \\gt 0) \\\\ \n",
    "&= P(G=2) + P(G=2) + P(G = 10)\\\\\n",
    "&= \\frac{10+5+1}{32} = \\frac{1}{2}\\\\\n",
    "\\end{align*}\n",
    "$$\n",
    "\n",
    "It is easy to compute the probability Peter loses money – also $1/2$. Since the probability Peter wins in the game is the same as the probability he loses, the game is clearly fair.\n",
    "\n",
    "When one has a distribution of data, it is helpful to summarize the data with a single number, such as median or mean, to get some understanding about a typical data value. In a similar fashion, it is helpful to compute an \"average\" of a probability distribution – this will give us some feeling about typical or representative values of the random variable when one observes it\n",
    "repeated times."
   ]
  },
  {
   "cell_type": "markdown",
   "metadata": {},
   "source": [
    "A common measure of \"average\" is the ***mean*** or ***expected value*** of $X$, denoted $\\mu$ or $E(X)$. The mean (or expected value) is found by:\n",
    "\n",
    "1. Computing the product of a value of $X$ and the corresponding value of the pmf f(x) = P(X = x) for all values of X.\n",
    "2. Summing the products.\n",
    "\n",
    "In other words, one finds the mean by the formula:\n",
    "\n",
    "$$ \\mu = \\sum_{x} xf(x)$$\n",
    "\n",
    "In the Peter-Paul case, for each value of the gain $G$, the value is multiplied by the associated probability. Then the products are added – one sees that the mean of $G$ is $\\mu = 0$\n",
    "\n",
    "How does one interpret a mean value of 0? Actually it is interesting to note that $G = 0$ is not a possible outcome of the game – that is, Peter cannot break even when this game is played. But if Peter and Paul play this game a large number of times, then the value $\\mu = 0$ represents (approximately) the mean winnings of Peter in all of these games."
   ]
  },
  {
   "cell_type": "markdown",
   "metadata": {},
   "source": [
    "#### Simulating  the Peter-Paul Game (continued)\n",
    "\n",
    "We previously simulated 5000 outcomes of the game in Python and Peter's winnings were stored in the $g$ numpy array. Here is a display of Peter’s winnings in the first 100 games:"
   ]
  },
  {
   "cell_type": "code",
   "execution_count": 12,
   "metadata": {},
   "outputs": [
    {
     "data": {
      "text/plain": [
       "array([-2, -6, -2, -6,  6, -2,  6,  2,  2, -6, -2, -6,  2,  6,  6, -6,  2,\n",
       "        2,  2,  6, -2, -6,  2, -2,  6,  2,  2,  2,  2, -6, -6, -2, -6,  2,\n",
       "        2, -2, -2, -2, -6,  6, -2,  2, -2, -6, -6, -2, -6,  2,  2,  6,  2,\n",
       "        2, -2, -2,  6,  2, 10, -6,  2,  2, 10,  2, -2,  2,  2,  2, -2,  2,\n",
       "        2, -2, -6,  6, -6, -2, -2, -6,  6,  2, -2,  2,  6, -6, -2,  2,  2,\n",
       "       -6, -6,  6,  2,  2, -6,  2,  6, -6, -6,  2,  2, -2,  2, -6])"
      ]
     },
     "execution_count": 12,
     "metadata": {},
     "output_type": "execute_result"
    }
   ],
   "source": [
    "g[:100]"
   ]
  },
  {
   "cell_type": "markdown",
   "metadata": {},
   "source": [
    "One approximates the mean winning µ by finding the sample mean $g$ of the winning values in the 1000 simulated games."
   ]
  },
  {
   "cell_type": "code",
   "execution_count": 13,
   "metadata": {},
   "outputs": [
    {
     "data": {
      "text/plain": [
       "0.04552"
      ]
     },
     "execution_count": 13,
     "metadata": {},
     "output_type": "execute_result"
    }
   ],
   "source": [
    "g.mean()"
   ]
  },
  {
   "cell_type": "markdown",
   "metadata": {},
   "source": [
    "This value is approximately equal to the mean of $G$, $\\mu= 0$. If Peter was able to play this game for a much larger number of games, then one would see that his average winning would be very close to $\\mu = 0$."
   ]
  },
  {
   "cell_type": "markdown",
   "metadata": {},
   "source": [
    "## Standard Deviation of a Probability Distribution"
   ]
  },
  {
   "cell_type": "markdown",
   "metadata": {},
   "source": [
    "Consider two dice – one we will call the “fair die” and the other one will be called the “loaded die”. The fair die is the familiar one where each possible number (1 through 6) has the same chance of being rolled. The loaded die is designed in a special way that 3’s or 4’s are relatively likely to occur, and the remaining numbers (1, 2, 5, and 6) are unlikely to occur"
   ]
  },
  {
   "cell_type": "markdown",
   "metadata": {},
   "source": [
    "\n",
    "| Roll fair | Probability fair | Roll loaded | Probability loaded|\n",
    "| ---- | ------------ | ----- | ----------- |\n",
    "| 1 | 1/6 | 1 | 1/12 |\n",
    "| 2 | 1/6 | 2 | 1/12 |\n",
    "| 3 | 1/6 | 3 | 1/3 |\n",
    "| 4 | 1/6 | 4 | 1/3 |\n",
    "| 5 | 1/6 | 5 | 1/12 |\n",
    "| 6 | 1/6 | 6 | 1/12 |\n",
    "\n"
   ]
  },
  {
   "cell_type": "markdown",
   "metadata": {},
   "source": [
    "How can one distinguish the fair and loaded dice? An obvious way is to roll each a number of times and see if we can distinguish the patterns of rolls that we get. One first rolls the fair die 20 times with the result"
   ]
  },
  {
   "cell_type": "code",
   "execution_count": 14,
   "metadata": {},
   "outputs": [
    {
     "data": {
      "text/plain": [
       "array([3, 5, 4, 2, 5, 1, 3, 6, 5, 2, 4, 3, 1, 4, 1, 6, 1, 1, 1, 1])"
      ]
     },
     "execution_count": 14,
     "metadata": {},
     "output_type": "execute_result"
    }
   ],
   "source": [
    "outcomes_fair = np.random.choice(np.arange(1,7), size = 20)\n",
    "outcomes_fair"
   ]
  },
  {
   "cell_type": "markdown",
   "metadata": {},
   "source": [
    "Next one rolls the loaded die 20 times with the results"
   ]
  },
  {
   "cell_type": "code",
   "execution_count": 15,
   "metadata": {},
   "outputs": [
    {
     "data": {
      "text/plain": [
       "array([4, 3, 4, 5, 4, 2, 4, 4, 4, 2, 4, 4, 4, 1, 3, 2, 4, 4, 1, 2])"
      ]
     },
     "execution_count": 15,
     "metadata": {},
     "output_type": "execute_result"
    }
   ],
   "source": [
    "p_loaded = np.array([1/12,1/12,1/3,1/3,1/12,1/12])\n",
    "\n",
    "outcomes_loaded = np.random.choice(np.arange(1,7), size = 20,p= p_loaded)\n",
    "outcomes_loaded"
   ]
  },
  {
   "cell_type": "code",
   "execution_count": 16,
   "metadata": {},
   "outputs": [
    {
     "data": {
      "text/plain": [
       "2.95"
      ]
     },
     "execution_count": 16,
     "metadata": {},
     "output_type": "execute_result"
    }
   ],
   "source": [
    "outcomes_fair.mean()"
   ]
  },
  {
   "cell_type": "code",
   "execution_count": 17,
   "metadata": {},
   "outputs": [
    {
     "data": {
      "text/plain": [
       "3.25"
      ]
     },
     "execution_count": 17,
     "metadata": {},
     "output_type": "execute_result"
    }
   ],
   "source": [
    "outcomes_loaded.mean()"
   ]
  },
  {
   "cell_type": "markdown",
   "metadata": {},
   "source": [
    "Let's now display dotplots of 50 rolls from each of the two dice."
   ]
  },
  {
   "cell_type": "code",
   "execution_count": 18,
   "metadata": {},
   "outputs": [
    {
     "data": {
      "text/plain": [
       "<AxesSubplot:xlabel='roll', ylabel='counts'>"
      ]
     },
     "execution_count": 18,
     "metadata": {},
     "output_type": "execute_result"
    },
    {
     "data": {
      "image/png": "[encoded data removed]",
      "text/plain": [
       "<Figure size 432x288 with 1 Axes>"
      ]
     },
     "metadata": {
      "needs_background": "light"
     },
     "output_type": "display_data"
    }
   ],
   "source": [
    "outcomes_fair = np.random.choice(np.arange(1,7), size = 50)\n",
    "unique, counts = np.unique(outcomes_fair, return_counts=True)\n",
    "\n",
    "df = pd.DataFrame({\"roll\":unique,\n",
    "                 \"counts\":counts})\n",
    "\n",
    "sns.barplot(x=\"roll\",\n",
    "             y=\"counts\",\n",
    "           data=df,\n",
    "           color = \"blue\")\n",
    "\n",
    "# unique.tostring()"
   ]
  },
  {
   "cell_type": "code",
   "execution_count": 19,
   "metadata": {},
   "outputs": [
    {
     "data": {
      "text/plain": [
       "<AxesSubplot:xlabel='roll', ylabel='counts'>"
      ]
     },
     "execution_count": 19,
     "metadata": {},
     "output_type": "execute_result"
    },
    {
     "data": {
      "image/png": "[encoded data removed]",
      "text/plain": [
       "<Figure size 432x288 with 1 Axes>"
      ]
     },
     "metadata": {
      "needs_background": "light"
     },
     "output_type": "display_data"
    }
   ],
   "source": [
    "p_loaded = np.array([1/12,1/12,1/3,1/3,1/12,1/12])\n",
    "\n",
    "outcomes_loaded = np.random.choice(np.arange(1,7), size = 50, p = p_loaded)\n",
    "unique, counts = np.unique(outcomes_loaded, return_counts=True)\n",
    "\n",
    "df = pd.DataFrame({\"roll\":unique,\n",
    "                 \"counts\":counts})\n",
    "\n",
    "sns.barplot(x=\"roll\",\n",
    "             y=\"counts\",\n",
    "           data=df,\n",
    "           color = \"red\")"
   ]
  },
  {
   "cell_type": "code",
   "execution_count": 20,
   "metadata": {},
   "outputs": [],
   "source": [
    "p_loaded = np.array([1/12,1/12,1/3,1/3,1/12,1/12])\n",
    "\n",
    "outcomes = np.random.choice(np.arange(1,7), size = 50000, p= p_loaded)\n",
    "\n",
    "unique, counts = np.unique(outcomes, return_counts=True)"
   ]
  },
  {
   "cell_type": "code",
   "execution_count": 21,
   "metadata": {},
   "outputs": [
    {
     "data": {
      "text/plain": [
       "<AxesSubplot:>"
      ]
     },
     "execution_count": 21,
     "metadata": {},
     "output_type": "execute_result"
    },
    {
     "data": {
      "image/png": "[encoded data removed]",
      "text/plain": [
       "<Figure size 432x288 with 1 Axes>"
      ]
     },
     "metadata": {
      "needs_background": "light"
     },
     "output_type": "display_data"
    }
   ],
   "source": [
    "sns.barplot(np.arange(1,7),\n",
    "           counts,\n",
    "           color= 'blue')"
   ]
  },
  {
   "cell_type": "markdown",
   "metadata": {},
   "source": [
    "What does one see? For the fair die, the rolls appear to be evenly spread out among the six possible numbers. In contrast, the rolls for the loaded die tend to concentrate on the values and 3 and 4, and the remaining numbers were less likely to occur."
   ]
  },
  {
   "cell_type": "markdown",
   "metadata": {},
   "source": [
    "Can one compute a summary value to contrast the probability distributions for the fair and loaded dice? One summary number for a random variable has already been discussed, the mean $\\mu$. This number represents the average outcome for the random variable when one performs the experiment many times.\n",
    "\n",
    "Suppose the mean is computed for each of the two probability distributions. For the fair die, the mean is given by\n",
    "\n",
    "$$ \\mu_{FairDie} = (1)(\\frac{1}{6}) + (2)(\\frac{1}{6}) + (3)(\\frac{1}{6}) + (4)(\\frac{1}{6}) + (5)(\\frac{1}{6}) + (6)(\\frac{1}{6}) = 3.5$$"
   ]
  },
  {
   "cell_type": "code",
   "execution_count": 22,
   "metadata": {},
   "outputs": [
    {
     "data": {
      "text/plain": [
       "3.5"
      ]
     },
     "execution_count": 22,
     "metadata": {},
     "output_type": "execute_result"
    }
   ],
   "source": [
    "(np.array([1/6 for _ in np.arange(0,6)])*np.arange(1,7)).sum()"
   ]
  },
  {
   "cell_type": "markdown",
   "metadata": {},
   "source": [
    "And for the loaded die the mean is given by:\n",
    "\n",
    "$$ \\mu_{LoadedDie} = (1)(\\frac{1}{12}) + (2)(\\frac{1}{12}) + (3)(\\frac{1}{3}) + (4)(\\frac{1}{3}) + (5)(\\frac{1}{12}) + (6)(\\frac{1}{12}) = 3.5$$"
   ]
  },
  {
   "cell_type": "code",
   "execution_count": 23,
   "metadata": {},
   "outputs": [
    {
     "data": {
      "text/plain": [
       "3.4999999999999996"
      ]
     },
     "execution_count": 23,
     "metadata": {},
     "output_type": "execute_result"
    }
   ],
   "source": [
    "(p_loaded*np.arange(1,7)).sum()"
   ]
  },
  {
   "cell_type": "markdown",
   "metadata": {},
   "source": [
    "The means of the two probability distributions are the same – this means that one will tend to get the same average roll when the fair die and the loaded die are rolled many times.\n",
    "\n",
    "But one knows from our rolling data that the two probability distributions are different. For the loaded die, it is more likely to roll 3’s or 4’s. In other words, for the loaded die, it is more likely to roll a number close to the mean\n",
    "value $\\mu = 3.5$. The standard deviation of a random variable $X$, denoted by the Greek letter $\\sigma$, measures how close the random variable is to the mean $\\mu$. It is called a **standard deviation** since it represents an \"average\" (or standard) distance (or deviation) from the mean $\\mu$. This standard deviation, denoted $\\sigma$ is defined as follows:\n",
    "\n",
    "$$ \\sigma = \\sqrt{\\sum_{x}(x-\\mu)^{2}P(X=x)} $$\n",
    "\n",
    "To find the standard deviation $\\sigma$ for a random variable, one first computes (for all values of $X$) the difference (or deviation) of $x$ from the mean value $\\mu$. Next, one squares each of the differences, and finds the average squared\n",
    "deviation by multiplying each squared deviation by the corresponding value of the pmf and summing the products. The standard deviation $\\sigma$ is the square root of the average squared deviation"
   ]
  },
  {
   "cell_type": "code",
   "execution_count": 24,
   "metadata": {},
   "outputs": [
    {
     "data": {
      "text/plain": [
       "1.71"
      ]
     },
     "execution_count": 24,
     "metadata": {},
     "output_type": "execute_result"
    }
   ],
   "source": [
    "# Fair Die  \n",
    "mu = 3.5\n",
    "p = np.array([1/6 for _ in np.arange(0,6)])\n",
    "sigma = np.sqrt((((np.arange(1,7) - mu)**2)*p).sum())\n",
    "\n",
    "np.round(sigma,2)"
   ]
  },
  {
   "cell_type": "code",
   "execution_count": 25,
   "metadata": {},
   "outputs": [
    {
     "data": {
      "text/plain": [
       "1.26"
      ]
     },
     "execution_count": 25,
     "metadata": {},
     "output_type": "execute_result"
    }
   ],
   "source": [
    "# Loaded Die \n",
    "mu = 3.5\n",
    "p = np.array([1/12,1/12,1/3,1/3,1/12,1/12])\n",
    "sigma = np.sqrt((((np.arange(1,7) - mu)**2)*p).sum())\n",
    "\n",
    "np.round(sigma,2)"
   ]
  },
  {
   "cell_type": "markdown",
   "metadata": {},
   "source": [
    "It is seen from our calculations that $\\sigma_{FairDie} = 1.71$ and $\\sigma_{LoadedDie} = 1.26$\n",
    "\n",
    "What does this mean? Since the loaded die roll has a smaller standard deviation, this means that the roll of the loaded die tends to be closer to the mean ($\\mu = 3.5$) than for the fair die. When one rolls the loaded die many times, one will\n",
    "notice a smaller spread or variation in the rolls than when one rolls the fair die many times."
   ]
  },
  {
   "cell_type": "markdown",
   "metadata": {},
   "source": [
    "###### Simulating Rolls of Fair and Loaded Dice"
   ]
  },
  {
   "cell_type": "markdown",
   "metadata": {},
   "source": [
    "#### Interpreting the standard deviation for a bell-shaped distribution"
   ]
  },
  {
   "cell_type": "markdown",
   "metadata": {},
   "source": [
    "Once one has computed a standard deviation $\\sigma$ for a random variable, how can one use this summary measure? One use of $\\sigma$ was illustrated in the dice example above. The probabilities for the roll of the loaded die were more concentrated about the mean than the probabilities for the roll of the fair die, and that resulted in a smaller value of σ for the roll of the loaded die.\n",
    "\n",
    "The standard deviation has an attractive interpretation when the probability distribution of the random variable is bell-shaped.\n",
    "\n",
    "When the probability distribution has the following shape:"
   ]
  },
  {
   "cell_type": "code",
   "execution_count": 26,
   "metadata": {},
   "outputs": [
    {
     "data": {
      "image/png": "[encoded data removed]",
      "text/plain": [
       "<Figure size 648x288 with 1 Axes>"
      ]
     },
     "metadata": {
      "needs_background": "light"
     },
     "output_type": "display_data"
    }
   ],
   "source": [
    "import matplotlib.pyplot as plt\n",
    "import numpy as np\n",
    "from scipy.stats import norm\n",
    "\n",
    "mu = 0\n",
    "sig = 1\n",
    "def gaussian(x, mu, sig):\n",
    "    return np.exp(-np.power(x - mu, 2.) / (2 * np.power(sig, 2.)))\n",
    "\n",
    "x_values = np.linspace(-5, 5, 120)\n",
    "\n",
    "fig, ax = plt.subplots(figsize=(9,4))\n",
    "plt.style.use('fivethirtyeight')\n",
    "\n",
    "fill_sig = 1\n",
    "x_sig = np.linspace(-fill_sig, fill_sig,120)\n",
    "y = gaussian(x_sig, mu, sig)\n",
    "\n",
    "ax.fill_between(x_sig,y,0, alpha=0.3, color='b')\n",
    "ax.fill_between(x_values,gaussian(x_values, mu, sig),0, alpha=0.1)\n",
    "ax.axis('off')\n",
    "\n",
    "ax.set_title('Gaussian - Bell shaped curve')\n",
    "plt.plot(x_values, gaussian(x_values, mu, sig))\n",
    "\n",
    "plt.show()"
   ]
  },
  {
   "cell_type": "markdown",
   "metadata": {},
   "source": [
    "then approximately\n",
    "- the probability that X falls within one standard deviation of the mean is 0.68.\n",
    "- the probability that X falls within two standard deviations of the mean is 0.95.\n",
    "\n",
    "Mathematically, one writes,\n",
    "\n",
    "- $Prob(\\mu - \\sigma \\lt X \\lt \\mu + \\sigma) \\approx 0.68$ \n",
    "- $Prob(\\mu - 2\\sigma \\lt X \\lt \\mu + 2\\sigma) \\approx 0.95$"
   ]
  },
  {
   "cell_type": "markdown",
   "metadata": {},
   "source": [
    "##### Simulating Rolls of Ten Dice"
   ]
  },
  {
   "cell_type": "markdown",
   "metadata": {},
   "source": [
    "To illustrate this interpretation of the standard deviation, suppose ten fair dice are rolled and the sum of the numbers appearing on the dice is recorded. It is easy to simulate this experiment in `python` using the following script. The\n",
    "function `roll10()` will roll 10 dice and sum the outcome, then we use list comprehension to create a `numpy` array containing the outcomes of 1000 trials, and the variable `sum_rolls` rolls contains the sum of the rolls from the experiments."
   ]
  },
  {
   "cell_type": "code",
   "execution_count": 27,
   "metadata": {},
   "outputs": [
    {
     "data": {
      "image/png": "[encoded data removed]",
      "text/plain": [
       "<Figure size 432x288 with 1 Axes>"
      ]
     },
     "metadata": {},
     "output_type": "display_data"
    }
   ],
   "source": [
    "import numpy as np\n",
    "import seaborn as sns\n",
    "import pandas as pd\n",
    "\n",
    "def roll10():\n",
    "    return(np.random.choice(np.arange(1,7),size=10).sum())\n",
    "\n",
    "n_rolls = 1000\n",
    "\n",
    "sum_rolls = np.array([roll10() for _ in np.arange(0,n_rolls)])\n",
    "df_rolls = pd.DataFrame({'experiment': np.arange(0,n_rolls),\n",
    "                        'Sum':sum_rolls})\n",
    "\n",
    "sns.histplot(data = df_rolls,\n",
    "             x = \"Sum\",\n",
    "              bins=14,\n",
    "            color='blue');"
   ]
  },
  {
   "cell_type": "markdown",
   "metadata": {},
   "source": [
    "Note that the shape of this histogram is approximately bell shaped about the value $35$. Since this histogram is a reflection of the probability distribution of the sum of the rolls of ten dice, this means that the shape of the probability distribution for the sum will also be bell-shaped.\n",
    "\n",
    "For this problem, it can be shown (as an end-of-chapter exercise) that the mean and standard deviation for the sum of the rolls of ten fair dice are respectively\n",
    "\n",
    "$$ \\mu = 35, \\sigma = 5.4 $$\n",
    "\n",
    "Applying our rule, the probability that the sum falls between:\n",
    "\n",
    "- $ \\mu - \\sigma$ and $ \\mu + \\sigma$, or $35 - 5.4 = 29.6$ and $35 + 5.4 = 40.4$ is approximately $0.68$\n",
    "- $ \\mu - 2\\sigma$ and $ \\mu + 2\\sigma$, or $35 - 2(5.4) = 24.2$ and $35 + 2(5.4) = 45.8$ is approximately $0.95$\n"
   ]
  },
  {
   "cell_type": "markdown",
   "metadata": {},
   "source": [
    "##### Simultating Rolls of Ten Dice (continued)"
   ]
  },
  {
   "cell_type": "markdown",
   "metadata": {},
   "source": [
    "To see if these are accurate probability computations, return to our simulation of this experiment and see how often the sum of the ten rolls fell within the above limits. Recall that the simulation sums were stored in the vector sum rolls. Below the proportions of sums of ten rolls that fall between 29.6 and 40.4, and between 24.2 and 45.8, are computed."
   ]
  },
  {
   "cell_type": "code",
   "execution_count": 28,
   "metadata": {},
   "outputs": [
    {
     "data": {
      "text/plain": [
       "34.851"
      ]
     },
     "execution_count": 28,
     "metadata": {},
     "output_type": "execute_result"
    }
   ],
   "source": [
    "sum_rolls.mean()"
   ]
  },
  {
   "cell_type": "code",
   "execution_count": 29,
   "metadata": {},
   "outputs": [
    {
     "data": {
      "text/plain": [
       "0.69"
      ]
     },
     "execution_count": 29,
     "metadata": {},
     "output_type": "execute_result"
    }
   ],
   "source": [
    "len(sum_rolls[(sum_rolls > 29.6) & (sum_rolls < 40.4)])/n_rolls"
   ]
  },
  {
   "cell_type": "code",
   "execution_count": 30,
   "metadata": {},
   "outputs": [
    {
     "data": {
      "text/plain": [
       "0.964"
      ]
     },
     "execution_count": 30,
     "metadata": {},
     "output_type": "execute_result"
    }
   ],
   "source": [
    "len(sum_rolls[(sum_rolls > 24.2) & (sum_rolls < 45.8)])/n_rolls"
   ]
  },
  {
   "cell_type": "markdown",
   "metadata": {},
   "source": [
    "One sees that the proportions of values that fall within these limits are 0.702 and 0.955, respectively. Since these proportions are close to the numbers 0.68 and 0.95, we see in this example that this rule is pretty accurate"
   ]
  },
  {
   "cell_type": "markdown",
   "metadata": {},
   "source": [
    "## Coin Tossing Distribution"
   ]
  },
  {
   "cell_type": "markdown",
   "metadata": {},
   "source": [
    "### Introduction: A Galton Board"
   ]
  },
  {
   "cell_type": "markdown",
   "metadata": {},
   "source": [
    "Consider the following random experiment. One takes a quarter and flip it ten times, recording the number of heads one gets. There are four special characteristics of this simple coin-tossing experiment.\n",
    "\n",
    "1. One is doing the same thing (flip the coin) ten times. We will call an individual coin flip a trial, and so our experiment consists of ten **identical trials**.\n",
    "2. On each trial, there are **two possible outcomes**, heads or tails.\n",
    "3. In addition, the probability of flipping heads on any trial is 1/2.\n",
    "4. The **results of different trials are independent**. This means that the probability of heads, say, on the fourth flip, does not depend on what happened on the first three flips.\n",
    "\n",
    "One is interested in the number of heads one gets – this number will be referred to $X$. In particular, one is interested in the probability of getting five heads, or $Prob(X = 5)$.\n",
    "\n",
    "In this section, one will see that this binomial probability model applies to many different random phenomena in the real world. Probability computations for the binomial and the closely related negative binomial models will be discussed and the usefulness of these models in representing the variation in real-life experiments will be illustrated."
   ]
  },
  {
   "cell_type": "markdown",
   "metadata": {},
   "source": [
    "#### Binomial probabilities\n",
    "\n",
    "Let’s return to our experiment where a quarter is flipped ten times, recording X, the number of heads. One is interested in the probability of flipping exactly five heads, that is, Prob(X = 5). To compute this probability, one first has to think of possible outcomes in this experiment. Suppose one records if each flip is heads (H) or tails (T). Then one possible outcome with ten flips is\n",
    "\n",
    "|      |   |   |   |   |   |   |   |   |   |    |\n",
    "| ---- | - | - | - | - | - | - | - | - | - | -- |  \n",
    "|Trial | 1 | 2 | 3 | 4 | 5 | 6 | 7 | 8 | 9 | 10 |\n",
    "|Result| H | H | T | T | H | T | T | H | H | T |\n",
    "\n",
    "Another possible outcome is $TTHHTHTHHH$. The sample space consists of all possible ordered listings of ten letters, where each letter is either an $H$ or a $T$.\n",
    "\n"
   ]
  },
  {
   "cell_type": "code",
   "execution_count": 31,
   "metadata": {},
   "outputs": [],
   "source": [
    "# How to compute all possible combination of strings in Python\n",
    "\n",
    "import itertools\n",
    "import numpy as np\n",
    "\n",
    "a1 = np.array([''.join(x) for x in itertools.product('HT', repeat=10)])"
   ]
  },
  {
   "cell_type": "code",
   "execution_count": 32,
   "metadata": {},
   "outputs": [],
   "source": [
    "t1 = a1[np.char.count(a1,'H') == 5]"
   ]
  },
  {
   "cell_type": "markdown",
   "metadata": {},
   "source": [
    "Next, consider computing the probability of a single outcome of ten flips such as the HHTTHHTHHT sequence shown above. The probability of this outcome is written as\n",
    "\n",
    "$$P(\\text{\"H on toss 1\" AND \"H on toss 2\" AND} \\dots \\text{AND \"T on toss 10\"})$$\n",
    "\n",
    "Using the fact that outcomes on different trials are independent, this probability is written as the product\n",
    "\n",
    "$$ P(\\text{\"H on toss 1\"}) \\times P(\\text{\"H on toss 2\"}) \\times \\dots \\times P(\\text{\"H on toss 10\"}) $$\n",
    "\n",
    "Since the probability of heads (or tails) on a given trial is 1/2, one has\n",
    "\n",
    "$$ P(HHTTHHTTHT) = \\frac{1}{2} \\times \\frac{1}{2} \\times \\dots \\times \\frac{1}{2} = (\\frac{1}{2})^{10}$$\n",
    "\n",
    "Actually, the probability of any outcome (sequence of ten letters with H’s or T’s) in this experiment is equal to $(\\frac{1}{2})^{10} $\n",
    "\n",
    "Let’s return to our original question – what is the probability that one gets exactly five heads? If one thinks of the individual outcomes of the ten trials, then one will see that there are many ways to get five heads. For example,\n",
    "one could observe\n",
    "\n",
    "$$ HHHHHTTTTT \\text{ or } HHHHTTTTTH \\text{ or } HHHTTTTTHH$$\n",
    "\n",
    "In each of the three outcomes, note that the number of heads is five. How many outcomes (like the ones shown above) will result in exactly five heads?\n",
    "\n",
    "As before, label the outcomes of the individual flips by the trial number:\n",
    "\n",
    "|      |   |   |   |   |   |   |   |   |   |    |\n",
    "| ---- | - | - | - | - | - | - | - | - | - | -- |  \n",
    "|Trial | 1 | 2 | 3 | 4 | 5 | 6 | 7 | 8 | 9 | 10 |\n",
    "|Outcome| - | - | - | - | - | - | - | - | - | - |\n",
    "\n",
    "If five heads are observed, then one wishes to place five $H$’s in the ten slots above. In the outcome $HHHHHTTTTT$, the heads occur in trials 1, 2, 3, 4, 5, and in the outcome $HHHTTTTTHH$, the heads occur in trials 1, 2, 3, 9,\n",
    "and 10. If one observes exactly 5  heads, then one must choose five numbers from the possible trial numbers 1, 2, ..., 10 to place the five $H$’s. There are $\\binom{5}{10}$ ways of choosing these trial numbers. Note that the order in which one\n",
    "chooses the trial numbers is not important. Since there are ways of getting exactly five heads, and each outcome has probability $(\\frac{1}{2})^{10}$, one sees that\n",
    "\n",
    "$$ Prob(X = 5) = \\binom{5}{10} \\left( \\frac{1}{2} \\right)^{10} = 0.246 $$\n",
    "\n",
    "From the complement property, one sees that the $Prob(\\text{five heads are not tossed}) = 1−0.246 = 0.754$. It is interesting to note that although one expects to get five heads when flipping a coin ten times, it is actually much more likely\n",
    "not to flip five heads than to flip five heads."
   ]
  },
  {
   "cell_type": "markdown",
   "metadata": {},
   "source": [
    "#### Binomial Experiments"
   ]
  },
  {
   "cell_type": "markdown",
   "metadata": {},
   "source": [
    "Although the coin tossing experiment described above seems pretty artificial, many random experiments share the same basic properties as coin tossing.\n",
    "\n",
    "Consider the following binomial experiment:\n",
    "\n",
    "1. One repeats the same basic task or trial many times – let the number of trials be denoted by $n$.\n",
    "2. On each trial, there are two possible outcomes, which are called \"success\" or \"failure\". One could call the two outcomes \"black\" and \"white\", or \"0\" or \"1\", but they are usually called `success` and `failure`.\n",
    "3. The probability of a success, denoted by $p$, is the same for each trial.\n",
    "4. The results of outcomes from different trials are independent. Here are some examples of binomial experiments.\n",
    "\n",
    "Here are some examples of binomial experiments."
   ]
  },
  {
   "cell_type": "markdown",
   "metadata": {},
   "source": [
    "**Example: A sample survey.** Suppose the Gallup organization is interested in estimating the proportion of adults in the United States who use the popular auction website eBay. They take a random sample of 100 adults and 45 say that they use eBay. In this story, we see that\n",
    "\n",
    "1. The results of this survey can be considered to be a sequence of 100 trials where one trial is asking a particular adult if he or she uses eBay.\n",
    "2. There are two possible responses to the survey question – either the adult says \"yes\" (he or she uses eBay) or \"no\" (he or she doesn’t use eBay).\n",
    "3. Suppose the proportion of all adults that use eBay is $p$. Then the probability that the adult says \"yes\" will be $p$.\n",
    "4. If the sampling is done randomly, then the chance that one person says \"yes\" will not depend on the answers of the people who were previously asked. This means that the responses of different adults to the question can be regarded as independent events."
   ]
  },
  {
   "cell_type": "markdown",
   "metadata": {},
   "source": [
    "**Example: A baseball hitter’s performance during a game.** Suppose you are going to a baseball game and your favorite player comes to bat five times during the game. This particular player is a pretty good hitter and his batting average is about 0.300. You are interested in the number of hits he will get in the game. This can also be considered a binomial experiment:\n",
    "\n",
    "1. The player will come to bat five times – these five at-bats can be considered the five trials of the experiment (n = 5).\n",
    "2. At each at-bat, there are two outcomes of interest – either the player gets a hit or he doesn’t get a hit.\n",
    "3. Since the player’s batting average is 0.300, the probability that he will get a hit in a single at-bat is p = 0.300.\n",
    "4. It is reasonable to assume that the results of the different at-bats are independent. That means that the chance that the player will get a hit in his fifth at-bat will be unrelated to his performance in the first four at-bats. We note that this is a debatable assumption, especially if you believe that a player can have a hot-hand."
   ]
  },
  {
   "cell_type": "markdown",
   "metadata": {},
   "source": [
    "**Example: Sampling without replacement.** Suppose a committee of four will be chosen at random from a group of five women and five men. You are interested in the number of women that will be in the committee. Is this a binomial experiment?\n",
    "\n",
    "1. If one thinks of selecting this committee one person at a time, then one can think this experiment as four trials (corresponding to selecting the four people).\n",
    "2. On each trial, there are two possible outcomes – either one selects a woman or a man. At this point, things are looking good – this may be a binomial experiment. But...\n",
    "3. Is the probability of choosing a woman the same for each trial? For the first pick, the chance of picking a woman is 5/10. But once this first person has been chosen, the probability of choosing a woman is not 5/10 – it will be either 4/9 or 5/9 depending on the outcome of the first trial. So the probability of a “success” is not the same for all trials, so this violates the third property of a binomial experiment.\n",
    "4. Likewise, in this experiment, the outcomes of the trials are not independent. The probability of choosing a woman on the fourth trial is dependent on who was selected in the first three trials, so again the binomial assumption is violated."
   ]
  },
  {
   "cell_type": "markdown",
   "metadata": {},
   "source": [
    "### Binomial computations"
   ]
  },
  {
   "cell_type": "markdown",
   "metadata": {},
   "source": [
    "A binomial experiment is defined by two numbers\n",
    "\n",
    "$$ n =  \\text{the number of trials} $$\n",
    "$$ p = \\text{probability of a \"success\" on a single trial} $$\n",
    "\n",
    "If one recognizes an experiment as being binomial, then all one needs to know is $n$ and $p$ to determine probabilities for the number of successes $X$. Using the same argument as was made in the coin-tossing example, one can show that the probability of $x$ successes in a binomial experiment is given by\n",
    "\n",
    "$$ P(X = x) = \\binom{n}{x}p^{x}(1-p)^{n-x}, k = x \\dots, n $$ \n",
    "\n",
    "Let’s illustrate using this formula for a few examples."
   ]
  },
  {
   "cell_type": "code",
   "execution_count": 59,
   "metadata": {},
   "outputs": [],
   "source": [
    "from scipy.special import binom\n",
    "\n",
    "def mbinom(n, x, p):\n",
    "    return(binom(n, x) * p**x * (1-p)**(n-x))"
   ]
  },
  {
   "cell_type": "markdown",
   "metadata": {},
   "source": [
    "**Example: A baseball hitter’s performance during a game (revisited).** Remember our baseball player with a true batting average of 0.300 is coming to bat five times during a game. What is the probability that he gets exactly two hits? It was shown earlier that this was a binomial experiment. Since the player has five opportunities, the number of trials is $n = 5$. If one regards a success as getting a hit, the probability of success on a single trial is p = 0.3. The random variable $X$ is the number of hits of the player during this game.\n",
    "\n",
    "Using the formula, the probability of exactly two hits is"
   ]
  },
  {
   "cell_type": "markdown",
   "metadata": {},
   "source": [
    "$$P(X = 2) = \\binom{5}{2}(0.3)^{2}(1-0.3)^{5-2} = 0.3087 $$"
   ]
  },
  {
   "cell_type": "code",
   "execution_count": 62,
   "metadata": {},
   "outputs": [
    {
     "data": {
      "text/plain": [
       "0.3087"
      ]
     },
     "execution_count": 62,
     "metadata": {},
     "output_type": "execute_result"
    }
   ],
   "source": [
    "np.round(mbinom(5,2,0.3),4)"
   ]
  },
  {
   "cell_type": "markdown",
   "metadata": {},
   "source": [
    "What is the probability that the player gets at least one hit? To do this problem, one first constructs the collection of binomial probabilities for $n = 5$ trials and probability of success $p = 0.3$. Table 4.10 shows all possible values of $X$ (0, 1, 2, 3, 4, 5) and the associated probabilities found using the binomial formula."
   ]
  },
  {
   "cell_type": "code",
   "execution_count": 72,
   "metadata": {},
   "outputs": [
    {
     "data": {
      "text/html": [
       "<div>\n",
       "<style scoped>\n",
       "    .dataframe tbody tr th:only-of-type {\n",
       "        vertical-align: middle;\n",
       "    }\n",
       "\n",
       "    .dataframe tbody tr th {\n",
       "        vertical-align: top;\n",
       "    }\n",
       "\n",
       "    .dataframe thead th {\n",
       "        text-align: right;\n",
       "    }\n",
       "</style>\n",
       "<table border=\"1\" class=\"dataframe\">\n",
       "  <thead>\n",
       "    <tr style=\"text-align: right;\">\n",
       "      <th></th>\n",
       "      <th>P(X = x)</th>\n",
       "    </tr>\n",
       "    <tr>\n",
       "      <th>x</th>\n",
       "      <th></th>\n",
       "    </tr>\n",
       "  </thead>\n",
       "  <tbody>\n",
       "    <tr>\n",
       "      <th>0</th>\n",
       "      <td>0.1681</td>\n",
       "    </tr>\n",
       "    <tr>\n",
       "      <th>1</th>\n",
       "      <td>0.3601</td>\n",
       "    </tr>\n",
       "    <tr>\n",
       "      <th>2</th>\n",
       "      <td>0.3087</td>\n",
       "    </tr>\n",
       "    <tr>\n",
       "      <th>3</th>\n",
       "      <td>0.1323</td>\n",
       "    </tr>\n",
       "    <tr>\n",
       "      <th>4</th>\n",
       "      <td>0.0283</td>\n",
       "    </tr>\n",
       "    <tr>\n",
       "      <th>5</th>\n",
       "      <td>0.0024</td>\n",
       "    </tr>\n",
       "  </tbody>\n",
       "</table>\n",
       "</div>"
      ],
      "text/plain": [
       "   P(X = x)\n",
       "x          \n",
       "0    0.1681\n",
       "1    0.3601\n",
       "2    0.3087\n",
       "3    0.1323\n",
       "4    0.0283\n",
       "5    0.0024"
      ]
     },
     "execution_count": 72,
     "metadata": {},
     "output_type": "execute_result"
    }
   ],
   "source": [
    "df = pd.DataFrame({ 'x': np.arange(0,6),\n",
    "    'P(X = x)':np.array([np.round(mbinom(5,i,0.3),4) for i in np.arange(0,6)])})\n",
    "\n",
    "df.set_index('x', inplace=True)\n",
    "df"
   ]
  },
  {
   "cell_type": "code",
   "execution_count": 83,
   "metadata": {},
   "outputs": [
    {
     "data": {
      "text/plain": [
       "0.832"
      ]
     },
     "execution_count": 83,
     "metadata": {},
     "output_type": "execute_result"
    }
   ],
   "source": [
    "np.round(df.iloc[1:6]['P(X = x)'].sum(),3)"
   ]
  },
  {
   "cell_type": "code",
   "execution_count": null,
   "metadata": {},
   "outputs": [],
   "source": []
  },
  {
   "cell_type": "code",
   "execution_count": null,
   "metadata": {},
   "outputs": [],
   "source": []
  },
  {
   "cell_type": "code",
   "execution_count": null,
   "metadata": {},
   "outputs": [],
   "source": []
  },
  {
   "cell_type": "code",
   "execution_count": null,
   "metadata": {},
   "outputs": [],
   "source": []
  },
  {
   "cell_type": "code",
   "execution_count": null,
   "metadata": {},
   "outputs": [],
   "source": []
  },
  {
   "cell_type": "code",
   "execution_count": null,
   "metadata": {},
   "outputs": [],
   "source": []
  },
  {
   "cell_type": "code",
   "execution_count": null,
   "metadata": {},
   "outputs": [],
   "source": []
  },
  {
   "cell_type": "code",
   "execution_count": null,
   "metadata": {},
   "outputs": [],
   "source": []
  },
  {
   "cell_type": "code",
   "execution_count": null,
   "metadata": {},
   "outputs": [],
   "source": []
  },
  {
   "cell_type": "code",
   "execution_count": null,
   "metadata": {},
   "outputs": [],
   "source": []
  },
  {
   "cell_type": "markdown",
   "metadata": {},
   "source": [
    "##### What I learned in Python from this section"
   ]
  },
  {
   "cell_type": "code",
   "execution_count": 49,
   "metadata": {},
   "outputs": [
    {
     "data": {
      "text/plain": [
       "array(['HHHHH', 'THHHT'], dtype='<U5')"
      ]
     },
     "execution_count": 49,
     "metadata": {},
     "output_type": "execute_result"
    }
   ],
   "source": [
    "np.array(['HHHHH', 'THHHT',])"
   ]
  },
  {
   "cell_type": "code",
   "execution_count": 50,
   "metadata": {},
   "outputs": [
    {
     "data": {
      "text/plain": [
       "array([10,  2])"
      ]
     },
     "execution_count": 50,
     "metadata": {},
     "output_type": "execute_result"
    }
   ],
   "source": [
    "vectorize_count_revenue(np.array(['HHHHH', 'THHHT',]))"
   ]
  },
  {
   "cell_type": "code",
   "execution_count": 51,
   "metadata": {},
   "outputs": [],
   "source": [
    "import numpy as np\n",
    "\n",
    "a = np.random.choice([0,1], size = 5)"
   ]
  },
  {
   "cell_type": "code",
   "execution_count": 36,
   "metadata": {},
   "outputs": [],
   "source": [
    "int_to_coin = lambda i: 'H' if i == 1 else 'T'\n",
    "int_to_coin_vect = np.vectorize(int_to_coin)"
   ]
  },
  {
   "cell_type": "code",
   "execution_count": 37,
   "metadata": {},
   "outputs": [
    {
     "data": {
      "text/plain": [
       "array([0, 1, 0, 1, 1])"
      ]
     },
     "execution_count": 37,
     "metadata": {},
     "output_type": "execute_result"
    }
   ],
   "source": [
    "np.random.choice([0,1], size = 5)"
   ]
  },
  {
   "cell_type": "code",
   "execution_count": 38,
   "metadata": {},
   "outputs": [
    {
     "data": {
      "text/plain": [
       "'HTTTH'"
      ]
     },
     "execution_count": 38,
     "metadata": {},
     "output_type": "execute_result"
    }
   ],
   "source": [
    "a = ''.join(int_to_coin_vect(np.random.choice([0,1], size = 5)))\n",
    "a"
   ]
  },
  {
   "cell_type": "code",
   "execution_count": 39,
   "metadata": {},
   "outputs": [],
   "source": [
    "n_games = 10000\n",
    "outcome = np.array([''.join(int_to_coin_vect(np.random.choice([0,1], size = 5))) for _ in range(n_games)])\n",
    "gain = vectorize_count_revenue(outcome)\n",
    "\n",
    "df = pd.DataFrame({'Outcome':outcome,\n",
    "                  'Gain':gain})"
   ]
  },
  {
   "cell_type": "code",
   "execution_count": 40,
   "metadata": {},
   "outputs": [
    {
     "data": {
      "text/plain": [
       "676"
      ]
     },
     "execution_count": 40,
     "metadata": {},
     "output_type": "execute_result"
    }
   ],
   "source": [
    "df['Gain'].sum()"
   ]
  },
  {
   "cell_type": "code",
   "execution_count": 41,
   "metadata": {},
   "outputs": [],
   "source": [
    "n_games = 1\n",
    "n_rep = 10000\n",
    "\n",
    "res = np.zeros(n_rep)\n",
    "for i in np.arange(n_rep):\n",
    "    outcome = np.array([''.join(int_to_coin_vect(np.random.choice([0,1], size = 5))) for _ in range(n_games)])\n",
    "    # gain = vectorize_count_revenue(outcome)\n",
    "    #print(outcome)\n",
    "    res[i] = vectorize_count_revenue(outcome).sum()\n",
    "\n",
    "#df_game = pd.DataFrame({'Outcome':outcome,\n",
    "#                       'Gain':gain})"
   ]
  },
  {
   "cell_type": "code",
   "execution_count": 42,
   "metadata": {},
   "outputs": [
    {
     "data": {
      "text/plain": [
       "<matplotlib.collections.PathCollection at 0x252b225e648>"
      ]
     },
     "execution_count": 42,
     "metadata": {},
     "output_type": "execute_result"
    },
    {
     "data": {
      "image/png": "[encoded data removed]",
      "text/plain": [
       "<Figure size 432x288 with 1 Axes>"
      ]
     },
     "metadata": {},
     "output_type": "display_data"
    }
   ],
   "source": [
    "import matplotlib.pyplot as plt\n",
    "\n",
    "plt.scatter(np.arange(n_rep), res)"
   ]
  },
  {
   "cell_type": "code",
   "execution_count": 43,
   "metadata": {},
   "outputs": [
    {
     "data": {
      "image/png": "[encoded data removed]",
      "text/plain": [
       "<Figure size 432x288 with 1 Axes>"
      ]
     },
     "metadata": {},
     "output_type": "display_data"
    }
   ],
   "source": [
    "plt.hist(res, bins=np.arange(res.min(), res.max()+1));"
   ]
  },
  {
   "cell_type": "code",
   "execution_count": 44,
   "metadata": {},
   "outputs": [
    {
     "data": {
      "text/plain": [
       "<matplotlib.collections.PathCollection at 0x252b3907588>"
      ]
     },
     "execution_count": 44,
     "metadata": {},
     "output_type": "execute_result"
    },
    {
     "data": {
      "image/png": "[encoded data removed]",
      "text/plain": [
       "<Figure size 432x288 with 1 Axes>"
      ]
     },
     "metadata": {},
     "output_type": "display_data"
    }
   ],
   "source": [
    "n_games = 100\n",
    "n_rep = 100\n",
    "\n",
    "res = np.zeros(n_rep)\n",
    "for i in np.arange(n_rep):\n",
    "    outcome = np.array([''.join(int_to_coin_vect(np.random.choice([0,1], size = 20))) for _ in range(n_games)])\n",
    "    # gain = vectorize_count_revenue(outcome)\n",
    "    res[i] = vectorize_count_revenue(outcome).sum()\n",
    "    \n",
    "plt.scatter(np.arange(n_rep), res)"
   ]
  },
  {
   "cell_type": "code",
   "execution_count": 45,
   "metadata": {},
   "outputs": [
    {
     "data": {
      "text/plain": [
       "<matplotlib.collections.PathCollection at 0x252b39744c8>"
      ]
     },
     "execution_count": 45,
     "metadata": {},
     "output_type": "execute_result"
    },
    {
     "data": {
      "image/png": "[encoded data removed]",
      "text/plain": [
       "<Figure size 432x288 with 1 Axes>"
      ]
     },
     "metadata": {},
     "output_type": "display_data"
    }
   ],
   "source": [
    "n_games = 1000\n",
    "n_rep = 100\n",
    "\n",
    "res = np.zeros(n_rep)\n",
    "for i in np.arange(n_rep):\n",
    "    outcome = np.array([''.join(int_to_coin_vect(np.random.choice([0,1], size = 20))) for _ in range(n_games)])\n",
    "    # gain = vectorize_count_revenue(outcome)\n",
    "    res[i] = vectorize_count_revenue(outcome).sum()\n",
    "    \n",
    "plt.scatter(np.arange(n_rep), res)"
   ]
  },
  {
   "cell_type": "code",
   "execution_count": 46,
   "metadata": {},
   "outputs": [
    {
     "data": {
      "text/plain": [
       "59.2"
      ]
     },
     "execution_count": 46,
     "metadata": {},
     "output_type": "execute_result"
    }
   ],
   "source": [
    "res.mean()"
   ]
  },
  {
   "cell_type": "code",
   "execution_count": 47,
   "metadata": {},
   "outputs": [
    {
     "data": {
      "text/plain": [
       "<matplotlib.collections.PathCollection at 0x252b39e02c8>"
      ]
     },
     "execution_count": 47,
     "metadata": {},
     "output_type": "execute_result"
    },
    {
     "data": {
      "image/png": "[encoded data removed]",
      "text/plain": [
       "<Figure size 432x288 with 1 Axes>"
      ]
     },
     "metadata": {},
     "output_type": "display_data"
    }
   ],
   "source": [
    "n_games = 1000\n",
    "n_rep = 100\n",
    "\n",
    "res = np.zeros(n_rep)\n",
    "for i in np.arange(n_rep):\n",
    "    outcome = np.array([''.join(int_to_coin_vect(np.random.choice([0,1], size = 5))) for _ in range(n_games)])\n",
    "    # gain = vectorize_count_revenue(outcome)\n",
    "    res[i] = vectorize_count_revenue(outcome).sum()\n",
    "    \n",
    "plt.scatter(np.arange(n_rep), res)"
   ]
  },
  {
   "cell_type": "code",
   "execution_count": 48,
   "metadata": {},
   "outputs": [
    {
     "data": {
      "text/plain": [
       "-11.96"
      ]
     },
     "execution_count": 48,
     "metadata": {},
     "output_type": "execute_result"
    }
   ],
   "source": [
    "res.mean()"
   ]
  },
  {
   "cell_type": "code",
   "execution_count": null,
   "metadata": {},
   "outputs": [],
   "source": []
  }
 ],
 "metadata": {
  "kernelspec": {
   "display_name": "Python 3",
   "language": "python",
   "name": "python3"
  },
  "language_info": {
   "codemirror_mode": {
    "name": "ipython",
    "version": 3
   },
   "file_extension": ".py",
   "mimetype": "text/x-python",
   "name": "python",
   "nbconvert_exporter": "python",
   "pygments_lexer": "ipython3",
   "version": "3.7.9"
  }
 },
 "nbformat": 4,
 "nbformat_minor": 4
}
