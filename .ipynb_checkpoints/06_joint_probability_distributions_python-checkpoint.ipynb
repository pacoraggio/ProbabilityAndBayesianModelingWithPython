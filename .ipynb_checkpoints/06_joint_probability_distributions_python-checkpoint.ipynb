{
 "cells": [
  {
   "cell_type": "markdown",
   "id": "better-nepal",
   "metadata": {},
   "source": [
    "# Joint Probability Distributions - Python"
   ]
  },
  {
   "cell_type": "markdown",
   "id": "computational-qualification",
   "metadata": {},
   "source": [
    "##### Multinomial with 3 (or more)"
   ]
  },
  {
   "cell_type": "markdown",
   "id": "superior-machinery",
   "metadata": {},
   "source": [
    "- $x_{1}$, $x_{2}$, $x_{3}$ random variable outcome\n",
    "- $p_{X_{1}}$, $p_{X_{2}}$, $p_{X_{3}}$ probabilities of the outcomes\n",
    "- $n$ number of trials"
   ]
  },
  {
   "cell_type": "code",
   "execution_count": 1,
   "id": "proper-shift",
   "metadata": {},
   "outputs": [],
   "source": [
    "import math\n",
    "\n",
    "def multinom(x1,x2,x3,px1,px2,px3, n):\n",
    "    k = math.factorial(n)/(math.factorial(x1)*math.factorial(x2)*math.factorial(x3))\n",
    "    t = (px1**x1)*(px2**x2)*(px3**x3)\n",
    "    return(k*t)"
   ]
  },
  {
   "cell_type": "code",
   "execution_count": 2,
   "id": "fancy-region",
   "metadata": {},
   "outputs": [
    {
     "data": {
      "text/plain": [
       "0.01200274348422496"
      ]
     },
     "execution_count": 2,
     "metadata": {},
     "output_type": "execute_result"
    }
   ],
   "source": [
    "multinom(3,5,2,1/6,2/6,3/6,10)"
   ]
  },
  {
   "cell_type": "code",
   "execution_count": 3,
   "id": "foster-escape",
   "metadata": {},
   "outputs": [],
   "source": [
    "import math\n",
    "\n",
    "def multinom(xi,pxi,n):\n",
    "    k = 0\n",
    "    t = (px1**x1)*(px2**x2)*(px3**x3)\n",
    "    return(k*t)"
   ]
  },
  {
   "cell_type": "code",
   "execution_count": 4,
   "id": "bronze-bouquet",
   "metadata": {},
   "outputs": [],
   "source": [
    "from scipy.special import factorial as scifact\n",
    "import numpy as np\n",
    "\n",
    "def m_multinom(xi, pxi, n):    \n",
    "    a_xi = np.array(xi)\n",
    "    a_pxi = np.array(pxi)\n",
    "    n = a_xi.sum()\n",
    "    k = scifact(n)/np.prod(scifact(a_xi))\n",
    "    t = np.prod(a_pxi ** a_xi)\n",
    "    return(k*t)"
   ]
  },
  {
   "cell_type": "code",
   "execution_count": 5,
   "id": "controlled-collaboration",
   "metadata": {},
   "outputs": [
    {
     "data": {
      "text/plain": [
       "0.0010669105319311076"
      ]
     },
     "execution_count": 5,
     "metadata": {},
     "output_type": "execute_result"
    }
   ],
   "source": [
    "xi = [3,5,0]\n",
    "pi = [1/6,2/6,3/6]\n",
    "\n",
    "m_multinom(xi, pi, 10)"
   ]
  },
  {
   "cell_type": "code",
   "execution_count": null,
   "id": "prompt-renewal",
   "metadata": {},
   "outputs": [],
   "source": []
  },
  {
   "cell_type": "code",
   "execution_count": 6,
   "id": "incredible-destruction",
   "metadata": {},
   "outputs": [],
   "source": [
    "\n",
    "a = np.array(xi)\n",
    "b = np.array(pi)"
   ]
  },
  {
   "cell_type": "code",
   "execution_count": 7,
   "id": "upset-roots",
   "metadata": {},
   "outputs": [],
   "source": [
    "from scipy.special import factorial as scifact"
   ]
  },
  {
   "cell_type": "code",
   "execution_count": 8,
   "id": "infinite-coach",
   "metadata": {},
   "outputs": [
    {
     "data": {
      "text/plain": [
       "1.9051973784484063e-05"
      ]
     },
     "execution_count": 8,
     "metadata": {},
     "output_type": "execute_result"
    }
   ],
   "source": [
    "np.prod(b ** a)"
   ]
  },
  {
   "cell_type": "code",
   "execution_count": 9,
   "id": "transsexual-secretary",
   "metadata": {},
   "outputs": [
    {
     "data": {
      "text/plain": [
       "0"
      ]
     },
     "execution_count": 9,
     "metadata": {},
     "output_type": "execute_result"
    }
   ],
   "source": [
    "np.prod(a)"
   ]
  },
  {
   "cell_type": "code",
   "execution_count": 10,
   "id": "incident-shopping",
   "metadata": {},
   "outputs": [
    {
     "data": {
      "text/plain": [
       "720.0"
      ]
     },
     "execution_count": 10,
     "metadata": {},
     "output_type": "execute_result"
    }
   ],
   "source": [
    "from scipy.special import factorial\n",
    "np.prod(factorial(a))"
   ]
  },
  {
   "cell_type": "code",
   "execution_count": null,
   "id": "working-campus",
   "metadata": {},
   "outputs": [],
   "source": []
  },
  {
   "cell_type": "markdown",
   "id": "premier-repository",
   "metadata": {},
   "source": [
    "### The Central Limit Theorem"
   ]
  },
  {
   "cell_type": "markdown",
   "id": "hungry-fisher",
   "metadata": {},
   "source": [
    "Suppose $X_{1}, X_{2}, \\dots, X_{n}$ are $n$ independed and identically distributed random variables each with mean $\\mu$ and variance $\\sigma^{2}$. Consider two derived random variables $Y$ and $Z$ which are respectively the sum and mean of $X_{1}, X{2}, \\dots, X_{n}$:\n",
    "\n",
    "$$Y = X_{1} + X_{2} + \\dots + X_{n} \\hspace{1cm} \\text{and} \\hspace{1cm} Z = \\frac{X_{1} + X_{2} + \\dots + X_{n}}{n}$$\n",
    "\n",
    "then \n",
    "\n",
    "$$E(Y) = n\\mu, \\text{ } Var(Y)= n\\sigma^{2} \\hspace{1cm} \\text{and} \\hspace{1cm} E(Z) = \\mu, \\text{ } Var(Z) = \\frac{\\sigma^{2}}{n}$$\n",
    "\n",
    "The Central Limit Theorem addresses the problem of how the derived random variables $Y$ and $Z$ are distributed and asserts that, as $n$ increases indefinitely, both $Y$ and $Z$ tend to a Normal distribution whatever the distribution of the individual $X_{i}$. More specifically\n",
    "\n",
    "$$Y \\text{ tends to } N(n\\mu, n\\sigma^{2}) \\hspace{1cm} \\text{and} \\hspace{1cm}  Z \\text{ tends to } N(\\mu, \\frac{\\sigma^{2}}{n})$$\n",
    "\n",
    "In many cases $Y$ and $Z$ are approximately Normal for remarkably small values of $n$."
   ]
  },
  {
   "cell_type": "markdown",
   "id": "billion-medline",
   "metadata": {},
   "source": [
    "### Bivariate Distribution -- Reference Discrete Example"
   ]
  },
  {
   "cell_type": "markdown",
   "id": "unauthorized-japan",
   "metadata": {},
   "source": [
    "In introducing examples of two continuous random variables it is useful to employ a reference example of two discrete random variables. Consider two discrete random variables $X$ and $Y$ whose values are $r$ and $s$ respectively and suppose that the probability of the event $\\{X=r\\} \\cap \\{Y=s\\}$ is given by:\n",
    "\n",
    "$$\n",
    "\\begin{equation}\n",
    "  P(X=r,Y=s) =\n",
    "    \\begin{array}{ll}\n",
    "      \\frac{r+s}{48}, \\text{if } 0 \\leq r, s \\leq 3;\\\\\n",
    "      0, \\text{ } \\text{otherwise}\\\\\n",
    "    \\end{array}       \n",
    "\\end{equation}\n",
    "$$\n"
   ]
  },
  {
   "cell_type": "markdown",
   "id": "congressional-peripheral",
   "metadata": {},
   "source": [
    "### Bivariate Distributions — Continuous Random Variables"
   ]
  },
  {
   "cell_type": "markdown",
   "id": "steady-spanish",
   "metadata": {},
   "source": [
    "When there are two continuous random variables, the equivalent of the two-dimensional array is a region of the $x–y$ (cartesian) plane. Above the plane, over the region of interest, is a surface which represents the probability density function associated with a bivariate distribution.\n",
    "\n",
    "Suppose $X$ and $Y$ are two continuous random variables and that their values, $x$ and $y$ respectively, are constrained to lie within some region $R$ of the cartesian plane. The associated probability density function has the general form $f_{XY}(x,y)$ and, regarding this function as defining a surface over region $R$, axiom II of probabilities requires:\n",
    "\n",
    "$$\\int \\int_{R} f_{XY}(x,y)dxdy = 1$$\n",
    "\n",
    "This is equivalent to requiring that the volume under the surface is 1."
   ]
  },
  {
   "cell_type": "markdown",
   "id": "qualified-cisco",
   "metadata": {},
   "source": []
  },
  {
   "cell_type": "markdown",
   "id": "connected-plaza",
   "metadata": {},
   "source": [
    "## Bivariate Normal Distribution"
   ]
  },
  {
   "cell_type": "markdown",
   "id": "western-spencer",
   "metadata": {},
   "source": [
    "Before going into the details of the Python implementation, I think it's worth to go through some basic definitions that will help understanding what the calculations are about. These part is based on Chapter 2 of Regression Models for Data Science in R by Brian Caffo."
   ]
  },
  {
   "cell_type": "markdown",
   "id": "expired-pickup",
   "metadata": {},
   "source": [
    "#### The empirical mean"
   ]
  },
  {
   "cell_type": "markdown",
   "id": "intense-needle",
   "metadata": {},
   "source": [
    "We write $x_{1}, x_{2}, \\dots, x_{n}$ to describe $n$ data points. The empirical mean is a measure of center of our data. Under sampling assumptions, it estimates a population mean of interest. Define the empirical mean as\n",
    "\n",
    "$$\\bar{x} = \\frac{1}{n} \\sum_{i=1}^{n}x_{i}$$\n",
    "\n",
    "Notice if we subtract the mean from data points, we get data that has mean 0. That is, if we define\n",
    "\n",
    "$$\\tilde x_{i} = x_{i} - \\bar{x}$$\n",
    "\n",
    "then the mean of $\\tilde x_{i}$ is 0. This process is called **centering** the random variables. Recall that the empirical mean is the least squares solution for minimizing \n",
    "\n",
    "$$\\sum_{i=1}^{n}(x_{i} - \\mu)^{2}$$"
   ]
  },
  {
   "cell_type": "markdown",
   "id": "systematic-influence",
   "metadata": {},
   "source": [
    "#### The empirical standard deviation and variance"
   ]
  },
  {
   "cell_type": "markdown",
   "id": "minute-worker",
   "metadata": {},
   "source": [
    "The variance and standard deviation are measures of how spread out our data is. Under sampling assumptions, they estimate variability in the population. We define the empirical variance as:\n",
    "\n",
    "$$S^{2} = \\frac{1}{n-1}\\sum_{i=1}^{n}(x_{i}-\\bar{x})^{2} = \\frac{1}{n-1}\\left(\\sum_{i=1}^{n}x_{i}^{2}-n\\bar{x}^2\\right)$$\n",
    "\n",
    "The empirical standard deviation is defined as $S = \\sqrt{S^{2}}$.\n",
    "\n",
    "Notice that the standard deviation has the same units as the data. The data defined by $x_{i}/s$ have empirical standard deviation 1. This is called **scaling the data**."
   ]
  },
  {
   "cell_type": "markdown",
   "id": "minus-degree",
   "metadata": {},
   "source": [
    "#### Normalization"
   ]
  },
  {
   "cell_type": "markdown",
   "id": "judicial-alias",
   "metadata": {},
   "source": [
    "We can combine centering and scaling of data as follows to get normalized data. In particular, the data defined by:\n",
    "\n",
    "$$z_{i} = \\frac{x_{i}-\\bar{x}}{s}$$\n",
    "\n",
    "has empirical mean zero and empirical standard deviation 1. The process of centering then scaling the data is called **normalizing the data**. Normalized data are centered at 0 and have units equal to standard deviations of the original data. Example, a value of 2 from normalized data means that data point was two standard deviations larger than the mean. Normalization is very useful for creating data that comparable across experiments by getting rid of any shifting or scaling effects."
   ]
  },
  {
   "cell_type": "markdown",
   "id": "residential-audit",
   "metadata": {},
   "source": [
    "#### The empirical covariance"
   ]
  },
  {
   "cell_type": "markdown",
   "id": "departmental-timothy",
   "metadata": {},
   "source": [
    "We are interested in how the data (i.e. the variables of interest) **covary**. This is estimated by the **empirical covariance**. Consider now when we have pairs of data, ($x_{i}, y_{i}$) . Their empirical covariance is defined as:\n",
    "\n",
    "$$Cov(X,Y) = \\frac{1}{n-1}\\sum_{i=1}^{n}(x_{i}-\\bar{x})(y_{i}-\\bar{y}) = \\frac{1}{n-1}\\left(\\sum_{i=1}^{n} x_{i}y_{i} -n\\bar{x}\\bar{y}\\right)$$\n",
    "\n",
    "This measure is of limited utility, since its units are the product of the units of the two variables. A more useful definition normalizes the two variables first.\n",
    "\n",
    "The **correlation** is defined as:\n",
    "\n",
    "$$Cor(X,Y) = \\frac{Cov(X,Y)}{S_{x}S_{y}}$$\n",
    "\n",
    "where $S_{x}$ and $S_{y}$ are the estimates of standard deviations for the $X$ observations and $Y$ observations, respectively. The correlation is simply the covariance of the separately normalized $X$ and $Y$ data. Because the data have been normalized, the correlation is a unit free quantity and thus has more of a hope of being interpretable across settings."
   ]
  },
  {
   "cell_type": "markdown",
   "id": "pending-bishop",
   "metadata": {},
   "source": [
    "#### Some facts about correlation"
   ]
  },
  {
   "cell_type": "markdown",
   "id": "green-chamber",
   "metadata": {},
   "source": [
    "First, the order of the arguments is irrelevant i.e. $Cov(X,Y) = Cov(Y,X)$. Secondly, it has to be between -1 and 1, $-1 \\leq Cor(X,Y) \\leq 1$. Thirdly, the correlation is exactly -1 or 1 only when the observations fall perfectly on a negatively or positively sloped, line, respectively. Fourthly, $Cor(X,Y)$ measures the strength of the linear relationship between the two variables, with stronger relationships as $Cor(X,Y)$ heads towards -1 or 1. Finally, $Cor(X,Y) = 0$ implies no linear relationship."
   ]
  },
  {
   "cell_type": "markdown",
   "id": "tired-roots",
   "metadata": {},
   "source": [
    "##### Resources"
   ]
  },
  {
   "cell_type": "code",
   "execution_count": null,
   "id": "falling-speaking",
   "metadata": {},
   "outputs": [],
   "source": []
  },
  {
   "cell_type": "markdown",
   "id": "wicked-population",
   "metadata": {},
   "source": [
    "- [Bivariate Normal Distribution I](https://mathworld.wolfram.com/BivariateNormalDistribution.html)\n",
    "- [Multivariate Normal Distribution](https://python.quantecon.org/multivariate_normal.html)\n",
    "- [Multivariate normal distribution - notes on Machine Learning](https://peterroelants.github.io/posts/multivariate-normal-primer/)\n",
    "- [Lesson 4: Multivariate Normal Distribution](https://online.stat.psu.edu/stat505/book/export/html/636)"
   ]
  },
  {
   "cell_type": "code",
   "execution_count": null,
   "id": "amazing-viewer",
   "metadata": {},
   "outputs": [],
   "source": []
  },
  {
   "cell_type": "markdown",
   "id": "southern-floating",
   "metadata": {},
   "source": [
    "##### scipy.stats.multivariate_normal"
   ]
  },
  {
   "cell_type": "markdown",
   "id": "metallic-implementation",
   "metadata": {},
   "source": [
    "If we use the `multivariate_normal` object from `scipy.stats` package, we need to specify the covariance matrix of the distribution (that must be [symmetric and positive-semidefinite for proper sampling](https://docs.scipy.org/doc//numpy-1.9.1/reference/generated/numpy.random.multivariate_normal.html)). In the case we are given the mean $\\mu$, standard deviation $\\sigma$ and correlation value $\\rho$ of two random variables, how can I compute the corresponding bivariate distribution?"
   ]
  },
  {
   "cell_type": "code",
   "execution_count": 23,
   "id": "curious-brighton",
   "metadata": {},
   "outputs": [],
   "source": [
    "mu = np.array([17.0, 23.0])\n",
    "sigma = np.array([2.0,3.0])\n",
    "rho = 0.4"
   ]
  },
  {
   "cell_type": "markdown",
   "id": "awful-emphasis",
   "metadata": {},
   "source": [
    " - **Covariance Matrix**. The covariance matrix is defined by\n",
    " \n",
    "$$\n",
    "\\begin{equation}\n",
    "V_{i,j} = \n",
    "\\begin{pmatrix}\n",
    "\\sigma_{1}^{2} & \\rho \\sigma_{1} \\sigma_{2} \\\\\n",
    "\\rho \\sigma_{2} \\sigma_{1} & \\sigma_{2}^{2}\n",
    "\\end{pmatrix}\n",
    "\\end{equation}\n",
    "$$"
   ]
  },
  {
   "cell_type": "code",
   "execution_count": 37,
   "id": "urban-fluid",
   "metadata": {},
   "outputs": [],
   "source": [
    "# https://online.stat.psu.edu/stat505/book/export/html/636\n",
    "# Covariance Matrix\n",
    "\n",
    "def cov_matrix(sigma, rho):\n",
    "    a = np.diag((rho*sigma[0]*sigma[1],rho*sigma[1]*sigma[0]))\n",
    "    return(np.diag((sigma[0]**2,sigma[1]**2)) + a[:,[1,0]])"
   ]
  },
  {
   "cell_type": "code",
   "execution_count": 40,
   "id": "genuine-whole",
   "metadata": {},
   "outputs": [
    {
     "data": {
      "text/plain": [
       "array([[ 4. , -2.4],\n",
       "       [-2.4,  9. ]])"
      ]
     },
     "execution_count": 40,
     "metadata": {},
     "output_type": "execute_result"
    }
   ],
   "source": [
    "cov_matrix(sigma, -0.4)"
   ]
  },
  {
   "cell_type": "code",
   "execution_count": null,
   "id": "manufactured-thing",
   "metadata": {},
   "outputs": [],
   "source": []
  },
  {
   "cell_type": "code",
   "execution_count": 25,
   "id": "unlikely-ottawa",
   "metadata": {},
   "outputs": [
    {
     "data": {
      "text/plain": [
       "array([[4. , 2.4],\n",
       "       [2.4, 9. ]])"
      ]
     },
     "execution_count": 25,
     "metadata": {},
     "output_type": "execute_result"
    }
   ],
   "source": [
    "cov"
   ]
  },
  {
   "cell_type": "code",
   "execution_count": 26,
   "id": "backed-culture",
   "metadata": {},
   "outputs": [],
   "source": []
  },
  {
   "cell_type": "code",
   "execution_count": 61,
   "id": "correct-stroke",
   "metadata": {},
   "outputs": [
    {
     "data": {
      "image/png": "[encoded data removed]",
      "text/plain": [
       "<Figure size 432x288 with 4 Axes>"
      ]
     },
     "metadata": {
      "needs_background": "light"
     },
     "output_type": "display_data"
    }
   ],
   "source": [
    "# https://www.askpython.com/python-modules/matplotlib/matplotlib-subplots\n",
    "\n",
    "\n",
    "import matplotlib.pyplot as plt\n",
    "import numpy as np\n",
    "from scipy.stats import multivariate_normal\n",
    "\n",
    "n = 500\n",
    "\n",
    "x = np.linspace(12, 22, n, endpoint=False)\n",
    "y = np.linspace(15, 30, n, endpoint=False)\n",
    "\n",
    "cov_1 = cov_matrix(sigma, 0.9)\n",
    "cov_2 = cov_matrix(sigma, -0.4)\n",
    "cov_3 = cov_matrix(sigma, -0.9)\n",
    "cov_4 = cov_matrix(sigma, 0.4)\n",
    "\n",
    "xv, yv = np.meshgrid(x, y)\n",
    "pos = np.empty((n, n, 2))\n",
    "pos[:, :, 0] = xv\n",
    "pos[:, :, 1] = yv\n",
    "\n",
    "pdf_1 = multivariate_normal.pdf(pos, mu, cov_1)\n",
    "pdf_2 = multivariate_normal.pdf(pos, mu, cov_2)\n",
    "pdf_3 = multivariate_normal.pdf(pos, mu, cov_3)\n",
    "pdf_4 = multivariate_normal.pdf(pos, mu, cov_4)\n",
    "\n",
    "fig = plt.figure();\n",
    "ax = fig.add_axes((0.1, 0.2, 0.8, 0.7));\n",
    "txt = 'Figure 6.4 - Beta(6, 6) density representing the distribution of probabilities of heads for a large collection of random coins.';\n",
    "\n",
    "\n",
    "plt.subplot(2,2,1)\n",
    "plt.title('$\\\\rho$  = 0.9')\n",
    "plt.contour(xv,yv,pdf_1,colors = 'blue');\n",
    "\n",
    "plt.subplot(2,2,2)\n",
    "plt.title('$\\\\rho$  = -0.4')\n",
    "plt.contour(xv,yv,pdf_2,colors = 'blue');\n",
    "\n",
    "plt.subplot(2,2,3)\n",
    "plt.title('$\\\\rho$  = -0.9')\n",
    "plt.contour(xv,yv,pdf_3,colors = 'blue');\n",
    "\n",
    "plt.subplot(2,2,4)\n",
    "plt.title('$\\\\rho$  = 0.4')\n",
    "plt.contour(xv,yv,pdf_4,colors = 'blue');\n",
    "\n",
    "plt.figtext(0.5, 0.01, txt, wrap=True, horizontalalignment='center', fontsize=12);\n"
   ]
  },
  {
   "cell_type": "code",
   "execution_count": 29,
   "id": "spectacular-finnish",
   "metadata": {},
   "outputs": [
    {
     "data": {
      "text/plain": [
       "(1000, 1000)"
      ]
     },
     "execution_count": 29,
     "metadata": {},
     "output_type": "execute_result"
    }
   ],
   "source": [
    "xv.shape"
   ]
  },
  {
   "cell_type": "code",
   "execution_count": 30,
   "id": "average-fifteen",
   "metadata": {},
   "outputs": [],
   "source": [
    "pos = np.empty((n, n, 2))"
   ]
  },
  {
   "cell_type": "code",
   "execution_count": 31,
   "id": "accurate-heart",
   "metadata": {},
   "outputs": [],
   "source": [
    "pos[:, :, 0] = xv"
   ]
  },
  {
   "cell_type": "code",
   "execution_count": 32,
   "id": "latest-washer",
   "metadata": {},
   "outputs": [],
   "source": [
    "pos[:, :, 1] = yv"
   ]
  },
  {
   "cell_type": "code",
   "execution_count": 33,
   "id": "representative-composition",
   "metadata": {},
   "outputs": [],
   "source": [
    "pdf = multivariate_normal.pdf(pos, mu, cov)"
   ]
  },
  {
   "cell_type": "code",
   "execution_count": 34,
   "id": "hazardous-example",
   "metadata": {},
   "outputs": [
    {
     "data": {
      "image/png": "[encoded data removed]",
      "text/plain": [
       "<Figure size 432x288 with 1 Axes>"
      ]
     },
     "metadata": {
      "needs_background": "light"
     },
     "output_type": "display_data"
    }
   ],
   "source": [
    "import matplotlib.pyplot as plt\n",
    "\n",
    "plt.contour(xv,yv,pdf,colors = 'blue');"
   ]
  },
  {
   "cell_type": "code",
   "execution_count": 36,
   "id": "knowing-kidney",
   "metadata": {},
   "outputs": [
    {
     "data": {
      "text/plain": [
       "array([[4.76409911e-11, 5.07591860e-11, 5.40714139e-11, ...,\n",
       "        1.04598932e-23, 9.25804992e-24, 8.19277453e-24],\n",
       "       [4.85615520e-11, 5.17425659e-11, 5.51216972e-11, ...,\n",
       "        1.12025471e-23, 9.91586462e-24, 8.77533321e-24],\n",
       "       [4.94958087e-11, 5.27406369e-11, 5.61877358e-11, ...,\n",
       "        1.19969376e-23, 1.06195412e-23, 9.39853850e-24],\n",
       "       ...,\n",
       "       [1.37491760e-20, 1.53917603e-20, 1.72273757e-20, ...,\n",
       "        7.81893710e-12, 7.27139515e-12, 6.76093856e-12],\n",
       "       [1.29060154e-20, 1.44485858e-20, 1.61725208e-20, ...,\n",
       "        7.71153767e-12, 7.17187239e-12, 6.66873314e-12],\n",
       "       [1.21135596e-20, 1.35620857e-20, 1.51810009e-20, ...,\n",
       "        7.60498472e-12, 7.07312702e-12, 6.57724144e-12]])"
      ]
     },
     "execution_count": 36,
     "metadata": {},
     "output_type": "execute_result"
    }
   ],
   "source": []
  },
  {
   "cell_type": "code",
   "execution_count": 35,
   "id": "increasing-investing",
   "metadata": {},
   "outputs": [
    {
     "data": {
      "text/plain": [
       "array([[ 5.   ,  5.025,  5.05 , ..., 29.925, 29.95 , 29.975],\n",
       "       [ 5.   ,  5.025,  5.05 , ..., 29.925, 29.95 , 29.975],\n",
       "       [ 5.   ,  5.025,  5.05 , ..., 29.925, 29.95 , 29.975],\n",
       "       ...,\n",
       "       [ 5.   ,  5.025,  5.05 , ..., 29.925, 29.95 , 29.975],\n",
       "       [ 5.   ,  5.025,  5.05 , ..., 29.925, 29.95 , 29.975],\n",
       "       [ 5.   ,  5.025,  5.05 , ..., 29.925, 29.95 , 29.975]])"
      ]
     },
     "execution_count": 35,
     "metadata": {},
     "output_type": "execute_result"
    }
   ],
   "source": [
    "xv"
   ]
  },
  {
   "cell_type": "code",
   "execution_count": null,
   "id": "persistent-mitchell",
   "metadata": {},
   "outputs": [],
   "source": [
    "\n",
    "\n",
    "sns.kdeplot(data=geyser, x=\"waiting\", y=\"duration\")"
   ]
  }
 ],
 "metadata": {
  "kernelspec": {
   "display_name": "Python 3",
   "language": "python",
   "name": "python3"
  },
  "language_info": {
   "codemirror_mode": {
    "name": "ipython",
    "version": 3
   },
   "file_extension": ".py",
   "mimetype": "text/x-python",
   "name": "python",
   "nbconvert_exporter": "python",
   "pygments_lexer": "ipython3",
   "version": "3.7.9"
  }
 },
 "nbformat": 4,
 "nbformat_minor": 5
}
