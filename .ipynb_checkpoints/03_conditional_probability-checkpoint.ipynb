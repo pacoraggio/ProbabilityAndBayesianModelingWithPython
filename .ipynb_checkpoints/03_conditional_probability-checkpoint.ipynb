{
 "cells": [
  {
   "cell_type": "markdown",
   "metadata": {},
   "source": [
    "# Conditional Probability"
   ]
  },
  {
   "cell_type": "markdown",
   "metadata": {},
   "source": [
    "## Introduction: The three card Problem\n",
    "\n",
    "Suppose one has three cards – one card is blue on both sides, one card is pink on both sides, and one card is blue on one side and pink on the other side. Suppose one chooses a card and place it down showing “blue”. What is the chance that the other side is also blue?"
   ]
  },
  {
   "cell_type": "markdown",
   "metadata": {},
   "source": [
    "### In a Two-way table\n",
    "\n",
    "It can be easier to think about, and compute conditional probabilities when they are found from observed counts in a two-way table."
   ]
  },
  {
   "cell_type": "markdown",
   "metadata": {},
   "source": [
    "The following `hs_athlets` data frame containg  high school athletes data in 14 sports that are classified with respect to their sport and their gender. These numbers are recorded in thousands, so the 454 entry in the Baseball/Softball – Male cell means that 454,000 males played baseball or softball this year.\n",
    "\n",
    "-  Counts of high school athletes by sport and gender."
   ]
  },
  {
   "cell_type": "code",
   "execution_count": 1,
   "metadata": {},
   "outputs": [
    {
     "data": {
      "text/html": [
       "<div>\n",
       "<style scoped>\n",
       "    .dataframe tbody tr th:only-of-type {\n",
       "        vertical-align: middle;\n",
       "    }\n",
       "\n",
       "    .dataframe tbody tr th {\n",
       "        vertical-align: top;\n",
       "    }\n",
       "\n",
       "    .dataframe thead th {\n",
       "        text-align: right;\n",
       "    }\n",
       "</style>\n",
       "<table border=\"1\" class=\"dataframe\">\n",
       "  <thead>\n",
       "    <tr style=\"text-align: right;\">\n",
       "      <th></th>\n",
       "      <th>Male</th>\n",
       "      <th>Female</th>\n",
       "      <th>TOTAL</th>\n",
       "    </tr>\n",
       "    <tr>\n",
       "      <th>Sport</th>\n",
       "      <th></th>\n",
       "      <th></th>\n",
       "      <th></th>\n",
       "    </tr>\n",
       "  </thead>\n",
       "  <tbody>\n",
       "    <tr>\n",
       "      <th>Baseball/Softball</th>\n",
       "      <td>454</td>\n",
       "      <td>373</td>\n",
       "      <td>827</td>\n",
       "    </tr>\n",
       "    <tr>\n",
       "      <th>Basketball</th>\n",
       "      <td>541</td>\n",
       "      <td>456</td>\n",
       "      <td>997</td>\n",
       "    </tr>\n",
       "    <tr>\n",
       "      <th>Cross Country</th>\n",
       "      <td>192</td>\n",
       "      <td>163</td>\n",
       "      <td>355</td>\n",
       "    </tr>\n",
       "    <tr>\n",
       "      <th>Football</th>\n",
       "      <td>1048</td>\n",
       "      <td>1</td>\n",
       "      <td>1049</td>\n",
       "    </tr>\n",
       "    <tr>\n",
       "      <th>Gymnastics</th>\n",
       "      <td>2</td>\n",
       "      <td>21</td>\n",
       "      <td>23</td>\n",
       "    </tr>\n",
       "    <tr>\n",
       "      <th>Golf</th>\n",
       "      <td>163</td>\n",
       "      <td>62</td>\n",
       "      <td>225</td>\n",
       "    </tr>\n",
       "    <tr>\n",
       "      <th>Ice Hockey</th>\n",
       "      <td>35</td>\n",
       "      <td>7</td>\n",
       "      <td>42</td>\n",
       "    </tr>\n",
       "    <tr>\n",
       "      <th>Lacrosse</th>\n",
       "      <td>50</td>\n",
       "      <td>39</td>\n",
       "      <td>89</td>\n",
       "    </tr>\n",
       "    <tr>\n",
       "      <th>Soccer</th>\n",
       "      <td>345</td>\n",
       "      <td>301</td>\n",
       "      <td>646</td>\n",
       "    </tr>\n",
       "    <tr>\n",
       "      <th>Swimming</th>\n",
       "      <td>95</td>\n",
       "      <td>141</td>\n",
       "      <td>236</td>\n",
       "    </tr>\n",
       "    <tr>\n",
       "      <th>Tennis</th>\n",
       "      <td>145</td>\n",
       "      <td>163</td>\n",
       "      <td>308</td>\n",
       "    </tr>\n",
       "    <tr>\n",
       "      <th>Track and Field</th>\n",
       "      <td>550</td>\n",
       "      <td>462</td>\n",
       "      <td>1012</td>\n",
       "    </tr>\n",
       "    <tr>\n",
       "      <th>Volleyball</th>\n",
       "      <td>39</td>\n",
       "      <td>397</td>\n",
       "      <td>436</td>\n",
       "    </tr>\n",
       "    <tr>\n",
       "      <th>Wrestling</th>\n",
       "      <td>240</td>\n",
       "      <td>4</td>\n",
       "      <td>244</td>\n",
       "    </tr>\n",
       "    <tr>\n",
       "      <th>TOTAL</th>\n",
       "      <td>3899</td>\n",
       "      <td>2590</td>\n",
       "      <td>6489</td>\n",
       "    </tr>\n",
       "  </tbody>\n",
       "</table>\n",
       "</div>"
      ],
      "text/plain": [
       "                   Male  Female  TOTAL\n",
       "Sport                                 \n",
       "Baseball/Softball   454     373    827\n",
       "Basketball          541     456    997\n",
       "Cross Country       192     163    355\n",
       "Football           1048       1   1049\n",
       "Gymnastics            2      21     23\n",
       "Golf                163      62    225\n",
       "Ice Hockey           35       7     42\n",
       "Lacrosse             50      39     89\n",
       "Soccer              345     301    646\n",
       "Swimming             95     141    236\n",
       "Tennis              145     163    308\n",
       "Track and Field     550     462   1012\n",
       "Volleyball           39     397    436\n",
       "Wrestling           240       4    244\n",
       "TOTAL              3899    2590   6489"
      ]
     },
     "execution_count": 1,
     "metadata": {},
     "output_type": "execute_result"
    }
   ],
   "source": [
    "import pandas as pd\n",
    "\n",
    "hs_athlets = pd.read_csv('./data/table01.csv', index_col='Sport')\n",
    "hs_athlets"
   ]
  },
  {
   "cell_type": "code",
   "execution_count": 2,
   "metadata": {},
   "outputs": [
    {
     "data": {
      "text/plain": [
       "6489"
      ]
     },
     "execution_count": 2,
     "metadata": {},
     "output_type": "execute_result"
    }
   ],
   "source": [
    "hs_athlets['TOTAL']['TOTAL']"
   ]
  },
  {
   "cell_type": "code",
   "execution_count": 3,
   "metadata": {},
   "outputs": [
    {
     "data": {
      "text/plain": [
       "3899"
      ]
     },
     "execution_count": 3,
     "metadata": {},
     "output_type": "execute_result"
    }
   ],
   "source": [
    "hs_athlets['Male'][:-1].sum()"
   ]
  },
  {
   "cell_type": "code",
   "execution_count": 4,
   "metadata": {},
   "outputs": [
    {
     "data": {
      "text/plain": [
       "2590"
      ]
     },
     "execution_count": 4,
     "metadata": {},
     "output_type": "execute_result"
    }
   ],
   "source": [
    "hs_athlets['Female'][:-1].sum()"
   ]
  },
  {
   "cell_type": "markdown",
   "metadata": {},
   "source": [
    "Suppose one chooses a high school athlete at random who is involved in one of these 14 sports. Consider several events:\n",
    "\n",
    "- $F = \\text{athlete chosen is female}$\n",
    "- $S = \\text{athlete is a swimmer}$\n",
    "- $V = \\text{athlete plays volleyball}$\n"
   ]
  },
  {
   "cell_type": "markdown",
   "metadata": {},
   "source": [
    "What is the probability that the athlete is female?"
   ]
  },
  {
   "cell_type": "code",
   "execution_count": 5,
   "metadata": {},
   "outputs": [
    {
     "data": {
      "text/plain": [
       "0.3991"
      ]
     },
     "execution_count": 5,
     "metadata": {},
     "output_type": "execute_result"
    }
   ],
   "source": [
    "round(hs_athlets['Female'][14]/hs_athlets['TOTAL'][14],4)"
   ]
  },
  {
   "cell_type": "markdown",
   "metadata": {},
   "source": [
    "Likewise, the probability that the randomly chosen athlete is a swimmer is"
   ]
  },
  {
   "cell_type": "code",
   "execution_count": 6,
   "metadata": {},
   "outputs": [
    {
     "data": {
      "text/plain": [
       "0.0364"
      ]
     },
     "execution_count": 6,
     "metadata": {},
     "output_type": "execute_result"
    }
   ],
   "source": [
    "round(hs_athlets.loc['Swimming']['TOTAL']/hs_athlets['TOTAL']['TOTAL'],4)"
   ]
  },
  {
   "cell_type": "markdown",
   "metadata": {},
   "source": [
    "and the probability he or she plays volleyball is"
   ]
  },
  {
   "cell_type": "code",
   "execution_count": 7,
   "metadata": {},
   "outputs": [
    {
     "data": {
      "text/plain": [
       "0.0672"
      ]
     },
     "execution_count": 7,
     "metadata": {},
     "output_type": "execute_result"
    }
   ],
   "source": [
    "round(hs_athlets.loc['Volleyball']['TOTAL']/hs_athlets['TOTAL']['TOTAL'],4)"
   ]
  },
  {
   "cell_type": "markdown",
   "metadata": {},
   "source": [
    "Next, consider the computation of some conditional probabilities. What is the probability a volleyball player is female? In other words, conditional on the fact that the athlete plays volleyball, what is the chance that the athlete is female:\n",
    "\n",
    "$$ P(F|V) $$"
   ]
  },
  {
   "cell_type": "markdown",
   "metadata": {},
   "source": [
    "To find this probability, restrict attention only to the volleyball players in the table."
   ]
  },
  {
   "cell_type": "code",
   "execution_count": 8,
   "metadata": {},
   "outputs": [
    {
     "data": {
      "text/html": [
       "<div>\n",
       "<style scoped>\n",
       "    .dataframe tbody tr th:only-of-type {\n",
       "        vertical-align: middle;\n",
       "    }\n",
       "\n",
       "    .dataframe tbody tr th {\n",
       "        vertical-align: top;\n",
       "    }\n",
       "\n",
       "    .dataframe thead th {\n",
       "        text-align: right;\n",
       "    }\n",
       "</style>\n",
       "<table border=\"1\" class=\"dataframe\">\n",
       "  <thead>\n",
       "    <tr style=\"text-align: right;\">\n",
       "      <th></th>\n",
       "      <th>Male</th>\n",
       "      <th>Female</th>\n",
       "      <th>TOTAL</th>\n",
       "    </tr>\n",
       "    <tr>\n",
       "      <th>Sport</th>\n",
       "      <th></th>\n",
       "      <th></th>\n",
       "      <th></th>\n",
       "    </tr>\n",
       "  </thead>\n",
       "  <tbody>\n",
       "    <tr>\n",
       "      <th>Volleyball</th>\n",
       "      <td>39</td>\n",
       "      <td>397</td>\n",
       "      <td>436</td>\n",
       "    </tr>\n",
       "  </tbody>\n",
       "</table>\n",
       "</div>"
      ],
      "text/plain": [
       "            Male  Female  TOTAL\n",
       "Sport                          \n",
       "Volleyball    39     397    436"
      ]
     },
     "execution_count": 8,
     "metadata": {},
     "output_type": "execute_result"
    }
   ],
   "source": [
    "hs_athlets[hs_athlets.index == 'Volleyball']"
   ]
  },
  {
   "cell_type": "markdown",
   "metadata": {},
   "source": [
    "Of the 436 (thousand) volleyball players, 397 are female, so\n",
    "\n",
    "$$P(F|V) = \\frac{397}{436} = 0.9106$$"
   ]
  },
  {
   "cell_type": "code",
   "execution_count": 9,
   "metadata": {},
   "outputs": [
    {
     "data": {
      "text/plain": [
       "Sport\n",
       "Volleyball    0.9106\n",
       "dtype: float64"
      ]
     },
     "execution_count": 9,
     "metadata": {},
     "output_type": "execute_result"
    }
   ],
   "source": [
    "round(hs_athlets[hs_athlets.index == 'Volleyball']['Female']/hs_athlets[hs_athlets.index == 'Volleyball']['TOTAL'],4)"
   ]
  },
  {
   "cell_type": "code",
   "execution_count": 10,
   "metadata": {},
   "outputs": [
    {
     "data": {
      "text/plain": [
       "0.9106"
      ]
     },
     "execution_count": 10,
     "metadata": {},
     "output_type": "execute_result"
    }
   ],
   "source": [
    "round(hs_athlets['Female']['Volleyball']/hs_athlets['TOTAL']['Volleyball'],4)"
   ]
  },
  {
   "cell_type": "markdown",
   "metadata": {},
   "source": [
    "What is the probability a woman athlete is a swimmer? In other words, if one knows that the athlete is female, what is the (conditional) probability she is a swimmer, or $P(S|F)$?\n",
    "\n",
    "Here since one is given the information that the athlete is female, one restricts attention to the \"Female\" column of counts. There are a total of 2590 (thousand) women who play one of these sports; of these, 141 are swimmers. So\n",
    "\n",
    "$$P(S|V) = \\frac{141}{2590} = 0.0544$$"
   ]
  },
  {
   "cell_type": "code",
   "execution_count": 11,
   "metadata": {},
   "outputs": [
    {
     "data": {
      "text/plain": [
       "0.0544"
      ]
     },
     "execution_count": 11,
     "metadata": {},
     "output_type": "execute_result"
    }
   ],
   "source": [
    "round(hs_athlets['Female']['Swimming']/hs_athlets['Female']['TOTAL'],4)"
   ]
  },
  {
   "cell_type": "markdown",
   "metadata": {},
   "source": [
    "Are event $F$ and $V$ independent? One can check this several ways. Above it was found that the probability a randomly chosen athlete is a volleyball player is $P(V) = 0.0672$. Suppose one is told that the athlete is a female ($F$). Will that change the probability that she is a volleyball player? Of the 2590 women, 397 are volleyball players, and so $P(V|F)=397/2590 = 0.1533$. Note that $P(V)$ is different from $P(V|F)$ that means that the knowledge the athlete is female has increased one’s probability that the athlete is a volleyball player. So the two events are not independent."
   ]
  },
  {
   "cell_type": "markdown",
   "metadata": {},
   "source": [
    "##### Conditional Probabilities in a Two-Way Table\n",
    "\n"
   ]
  },
  {
   "cell_type": "markdown",
   "metadata": {},
   "source": [
    "Suppose one has two spinners, each that will record a 1, 2, 3, or 4 with equal probabilities. Suppose the smaller of the two spins is 2 – what is the probability that the larger spin is equal to 4? One can answer this question by use of a simulation experiment. First one constructs a data frame – by two uses of the `sample()` function, 1000 random spins of the first spinner are stored in `Spin_1` and 1000 spins of the second spinner in `Spin_2`"
   ]
  },
  {
   "cell_type": "code",
   "execution_count": 12,
   "metadata": {},
   "outputs": [],
   "source": [
    "import numpy as np\n",
    "import pandas as pd\n",
    "\n",
    "df = pd.DataFrame({'Spin_1':np.random.choice(np.arange(1,5), size = 5000,replace = True),\n",
    "                   'Spin_2':np.random.choice(np.arange(1,5), size = 5000,replace = True)})"
   ]
  },
  {
   "cell_type": "code",
   "execution_count": 13,
   "metadata": {},
   "outputs": [
    {
     "data": {
      "text/plain": [
       "array([1, 2, 3, 4])"
      ]
     },
     "execution_count": 13,
     "metadata": {},
     "output_type": "execute_result"
    }
   ],
   "source": [
    "np.arange(1,5)"
   ]
  },
  {
   "cell_type": "code",
   "execution_count": 14,
   "metadata": {},
   "outputs": [],
   "source": [
    "df['Min'] = np.minimum(df.Spin_1, df.Spin_2)\n",
    "df['Max'] = np.maximum(df.Spin_1, df.Spin_2)\n"
   ]
  },
  {
   "cell_type": "code",
   "execution_count": 15,
   "metadata": {},
   "outputs": [],
   "source": [
    "t1 = df.groupby(['Min','Max']).count()['Spin_1']"
   ]
  },
  {
   "cell_type": "code",
   "execution_count": 16,
   "metadata": {},
   "outputs": [
    {
     "data": {
      "text/html": [
       "<div>\n",
       "<style scoped>\n",
       "    .dataframe tbody tr th:only-of-type {\n",
       "        vertical-align: middle;\n",
       "    }\n",
       "\n",
       "    .dataframe tbody tr th {\n",
       "        vertical-align: top;\n",
       "    }\n",
       "\n",
       "    .dataframe thead th {\n",
       "        text-align: right;\n",
       "    }\n",
       "</style>\n",
       "<table border=\"1\" class=\"dataframe\">\n",
       "  <thead>\n",
       "    <tr style=\"text-align: right;\">\n",
       "      <th>Max</th>\n",
       "      <th>1</th>\n",
       "      <th>2</th>\n",
       "      <th>3</th>\n",
       "      <th>4</th>\n",
       "    </tr>\n",
       "    <tr>\n",
       "      <th>Min</th>\n",
       "      <th></th>\n",
       "      <th></th>\n",
       "      <th></th>\n",
       "      <th></th>\n",
       "    </tr>\n",
       "  </thead>\n",
       "  <tbody>\n",
       "    <tr>\n",
       "      <th>1</th>\n",
       "      <td>289.0</td>\n",
       "      <td>665.0</td>\n",
       "      <td>645.0</td>\n",
       "      <td>617.0</td>\n",
       "    </tr>\n",
       "    <tr>\n",
       "      <th>2</th>\n",
       "      <td>NaN</td>\n",
       "      <td>303.0</td>\n",
       "      <td>630.0</td>\n",
       "      <td>582.0</td>\n",
       "    </tr>\n",
       "    <tr>\n",
       "      <th>3</th>\n",
       "      <td>NaN</td>\n",
       "      <td>NaN</td>\n",
       "      <td>321.0</td>\n",
       "      <td>625.0</td>\n",
       "    </tr>\n",
       "    <tr>\n",
       "      <th>4</th>\n",
       "      <td>NaN</td>\n",
       "      <td>NaN</td>\n",
       "      <td>NaN</td>\n",
       "      <td>323.0</td>\n",
       "    </tr>\n",
       "  </tbody>\n",
       "</table>\n",
       "</div>"
      ],
      "text/plain": [
       "Max      1      2      3      4\n",
       "Min                            \n",
       "1    289.0  665.0  645.0  617.0\n",
       "2      NaN  303.0  630.0  582.0\n",
       "3      NaN    NaN  321.0  625.0\n",
       "4      NaN    NaN    NaN  323.0"
      ]
     },
     "execution_count": 16,
     "metadata": {},
     "output_type": "execute_result"
    }
   ],
   "source": [
    "t1.unstack()"
   ]
  },
  {
   "cell_type": "markdown",
   "metadata": {},
   "source": [
    "Since one is told that the smaller of the two spins is equal to 2, one restricts attention to the row where `Min=2`. One observes that `Max` is equal to 2, 3, 4 with frequencies 306, 631, and 613. So"
   ]
  },
  {
   "cell_type": "code",
   "execution_count": 17,
   "metadata": {},
   "outputs": [
    {
     "data": {
      "text/plain": [
       "0.39548387096774196"
      ]
     },
     "execution_count": 17,
     "metadata": {},
     "output_type": "execute_result"
    }
   ],
   "source": [
    "613/(306+631+613)"
   ]
  },
  {
   "cell_type": "markdown",
   "metadata": {},
   "source": [
    "## Definition and The Multiplication Rule"
   ]
  },
  {
   "cell_type": "markdown",
   "metadata": {},
   "source": [
    "In this chapter, conditional probabilities have been computed by considering a reduced sample space. There is a formal definition of conditional probability that is useful in computing probabilities of complicated events.\n",
    "\n",
    "Suppose one has two events $A$ and $B$ where the probability of event $B$ is positive, that is $P(B) \\gt 0$. Then the probability of $A$ given $B$ is defined as the quotient\n",
    "\n",
    "$$P(A|B) = \\frac{P(A \\cap B)}{P(B)}$$\n"
   ]
  },
  {
   "cell_type": "markdown",
   "metadata": {},
   "source": [
    "##### How many boys?\n",
    "\n",
    "To illustrate this conditional probability definition, suppose a couple has four children. One is told that this couple has at least one boy. What is the chance that they have exactly two boys?\n",
    "\n",
    "If one lets $L$ be the event \"at least one boy\" and $B$ the event \"have two boys\", one wish to find $P(B|L)$\n",
    "\n",
    "Suppose one represents the genders of the four children (from youngest to oldest) as a sequence of four letters. For example, the sequence $BBGG$ means that the first two children were boys and the last two were girls. If we represent outcomes this way, there are 16 possible outcomes of four births:"
   ]
  },
  {
   "cell_type": "code",
   "execution_count": 18,
   "metadata": {},
   "outputs": [
    {
     "data": {
      "text/html": [
       "<div>\n",
       "<style scoped>\n",
       "    .dataframe tbody tr th:only-of-type {\n",
       "        vertical-align: middle;\n",
       "    }\n",
       "\n",
       "    .dataframe tbody tr th {\n",
       "        vertical-align: top;\n",
       "    }\n",
       "\n",
       "    .dataframe thead th {\n",
       "        text-align: right;\n",
       "    }\n",
       "</style>\n",
       "<table border=\"1\" class=\"dataframe\">\n",
       "  <thead>\n",
       "    <tr style=\"text-align: right;\">\n",
       "      <th></th>\n",
       "      <th>0</th>\n",
       "      <th>1</th>\n",
       "      <th>2</th>\n",
       "      <th>3</th>\n",
       "    </tr>\n",
       "  </thead>\n",
       "  <tbody>\n",
       "    <tr>\n",
       "      <th>0</th>\n",
       "      <td>BBBB</td>\n",
       "      <td>BBBG</td>\n",
       "      <td>BBGB</td>\n",
       "      <td>BBGG</td>\n",
       "    </tr>\n",
       "    <tr>\n",
       "      <th>1</th>\n",
       "      <td>BGBB</td>\n",
       "      <td>BGBG</td>\n",
       "      <td>BGGB</td>\n",
       "      <td>BGGG</td>\n",
       "    </tr>\n",
       "    <tr>\n",
       "      <th>2</th>\n",
       "      <td>GBBB</td>\n",
       "      <td>GBBG</td>\n",
       "      <td>GBGB</td>\n",
       "      <td>GBGG</td>\n",
       "    </tr>\n",
       "    <tr>\n",
       "      <th>3</th>\n",
       "      <td>GGBB</td>\n",
       "      <td>GGBG</td>\n",
       "      <td>GGGB</td>\n",
       "      <td>GGGG</td>\n",
       "    </tr>\n",
       "  </tbody>\n",
       "</table>\n",
       "</div>"
      ],
      "text/plain": [
       "      0     1     2     3\n",
       "0  BBBB  BBBG  BBGB  BBGG\n",
       "1  BGBB  BGBG  BGGB  BGGG\n",
       "2  GBBB  GBBG  GBGB  GBGG\n",
       "3  GGBB  GGBG  GGGB  GGGG"
      ]
     },
     "execution_count": 18,
     "metadata": {},
     "output_type": "execute_result"
    }
   ],
   "source": [
    "import itertools\n",
    "a = [''.join(x) for x in itertools.product('BG', repeat=4)]\n",
    "\n",
    "b = np.matrix([a[0:4],a[4:8],a[8:12],a[12:16]])\n",
    "pd.DataFrame(b)"
   ]
  },
  {
   "cell_type": "code",
   "execution_count": 19,
   "metadata": {},
   "outputs": [
    {
     "data": {
      "text/plain": [
       "15"
      ]
     },
     "execution_count": 19,
     "metadata": {},
     "output_type": "execute_result"
    }
   ],
   "source": [
    "len([i for i in a if i.count('B') >= 1])"
   ]
  },
  {
   "cell_type": "code",
   "execution_count": 20,
   "metadata": {},
   "outputs": [
    {
     "data": {
      "text/plain": [
       "6"
      ]
     },
     "execution_count": 20,
     "metadata": {},
     "output_type": "execute_result"
    }
   ],
   "source": [
    "len([i for i in a if i.count('B') == 2])"
   ]
  },
  {
   "cell_type": "markdown",
   "metadata": {},
   "source": [
    "If one assumes that boys and girls are equally likely (is this really true?), then each of the outcomes is equally likely and each outcome is assigned a probability of 1/16. Applying the definition of conditional probability, one has:\n",
    "\n",
    "$$P(B|L) = \\frac{P(B \\cap L)}{P(L)}$$\n",
    "\n",
    "There are 15 outcomes in the set $L$, and 6 outcomes where both events $B$ and $L$ occur. So using the definition\n",
    "\n",
    "$$P(B|L) = \\frac{6/16}{15/16}$$\n"
   ]
  },
  {
   "cell_type": "markdown",
   "metadata": {},
   "source": [
    "## The Multiplication Rule\n",
    "\n",
    "If one takes the conditional probability definition and multiplies both sides of the equation by $P(B)$, one obtains the multiplication rule:\n",
    "\n",
    "$$ P(A \\cap B)=P(B)P(A|B)$$"
   ]
  },
  {
   "cell_type": "markdown",
   "metadata": {},
   "source": [
    "#### Choosing balls from a random bowl\n",
    "\n",
    "The multiplication rule is especially useful for experiments that can be divided into stages. Suppose one has two bowls – Bowl 1 is filled with one white and 5 black balls, and Bowl 2 has 4 white and 2 black balls. One first spins the spinner below that determines which bowl to select, and then selects one ball from the bowl. What the chance that the ball one selects is white?"
   ]
  },
  {
   "cell_type": "code",
   "execution_count": 21,
   "metadata": {},
   "outputs": [
    {
     "data": {
      "text/html": [
       "<div>\n",
       "<style scoped>\n",
       "    .dataframe tbody tr th:only-of-type {\n",
       "        vertical-align: middle;\n",
       "    }\n",
       "\n",
       "    .dataframe tbody tr th {\n",
       "        vertical-align: top;\n",
       "    }\n",
       "\n",
       "    .dataframe thead th {\n",
       "        text-align: right;\n",
       "    }\n",
       "</style>\n",
       "<table border=\"1\" class=\"dataframe\">\n",
       "  <thead>\n",
       "    <tr style=\"text-align: right;\">\n",
       "      <th>Color</th>\n",
       "      <th>black</th>\n",
       "      <th>white</th>\n",
       "    </tr>\n",
       "    <tr>\n",
       "      <th>Bowl</th>\n",
       "      <th></th>\n",
       "      <th></th>\n",
       "    </tr>\n",
       "  </thead>\n",
       "  <tbody>\n",
       "    <tr>\n",
       "      <th>1</th>\n",
       "      <td>2078</td>\n",
       "      <td>411</td>\n",
       "    </tr>\n",
       "    <tr>\n",
       "      <th>2</th>\n",
       "      <td>2489</td>\n",
       "      <td>5022</td>\n",
       "    </tr>\n",
       "  </tbody>\n",
       "</table>\n",
       "</div>"
      ],
      "text/plain": [
       "Color  black  white\n",
       "Bowl               \n",
       "1       2078    411\n",
       "2       2489   5022"
      ]
     },
     "execution_count": 21,
     "metadata": {},
     "output_type": "execute_result"
    }
   ],
   "source": [
    "import numpy as np\n",
    "bowl = np.random.choice([1,2], size=10000, p=[1/4,3/4])\n",
    "\n",
    "color_1 = np.random.choice(['white','black'], size=10000, p=[1/6,5/6])\n",
    "color_2 = np.random.choice(['white','black'], size=10000, p=[4/6,2/6])\n",
    "\n",
    "# Color <- ifelse(Bowl == 1, Color_1, Color_2)\n",
    "\n",
    "a = np.where(bowl == 1, color_1, color_2)\n",
    "\n",
    "import pandas as pd\n",
    "df_bowl = pd.DataFrame({'Bowl':bowl,\n",
    "              'Color':a})\n",
    "\n",
    "pd.crosstab(index = df_bowl['Bowl'], columns=df_bowl['Color'])\n",
    "# print(pd.crosstab(index = df_bowl['Bowl'], columns=df_bowl['Color']).iloc[1]['white'])"
   ]
  },
  {
   "cell_type": "markdown",
   "metadata": {},
   "source": [
    "The probability that Bowl 1 was selected and a white ball was chosen is approximately equal to "
   ]
  },
  {
   "cell_type": "code",
   "execution_count": 22,
   "metadata": {},
   "outputs": [
    {
     "data": {
      "text/plain": [
       "0.0411"
      ]
     },
     "execution_count": 22,
     "metadata": {},
     "output_type": "execute_result"
    }
   ],
   "source": [
    "pd.crosstab(index = df_bowl['Bowl'], columns=df_bowl['Color']).loc[1]['white']/df_bowl.value_counts().sum()"
   ]
  },
  {
   "cell_type": "markdown",
   "metadata": {},
   "source": [
    " The chance of choosing a white ball is approximated by"
   ]
  },
  {
   "cell_type": "code",
   "execution_count": 23,
   "metadata": {},
   "outputs": [
    {
     "data": {
      "text/plain": [
       "0.5433"
      ]
     },
     "execution_count": 23,
     "metadata": {},
     "output_type": "execute_result"
    }
   ],
   "source": [
    "pd.crosstab(index = df_bowl['Bowl'], columns=df_bowl['Color'])['white'].sum()/df_bowl.value_counts().sum()"
   ]
  },
  {
   "cell_type": "markdown",
   "metadata": {},
   "source": [
    "## The Multiplication Rule Under Independence"
   ]
  },
  {
   "cell_type": "markdown",
   "metadata": {},
   "source": [
    "Whem two events $A$ and $B$ are **independent**, then the multiplication rule takes the simple form\n",
    "\n",
    "$$P(A \\cap B) = P(A) \\times P(B)$$\n",
    "\n",
    "Moreover, if one has a sequence of independent events, say $A_1,A_2, \\dots, A_k$ then the probability that all events happen simultaneously is the product of the probabilities of the individual events \n",
    "\n",
    "$$P(A_1 \\cap A_2 \\cap \\dots \\cap A_K) = P(A_1) \\times P(A_2) \\dots \\times P(A_k)$$\n",
    "\n",
    "By use of the assumption of independent events and multiplying, one finds probabilities of sophisticated events. We illustrate this in several examples."
   ]
  },
  {
   "cell_type": "markdown",
   "metadata": {},
   "source": [
    "#### Blood types of Couples  "
   ]
  },
  {
   "cell_type": "markdown",
   "metadata": {},
   "source": [
    "White Americans have the blood types $0$,$A$,$B$, and $AB$ with respectively proportions 0.45, 0.40, 0.11, and 0.04. Suppose two people in this group are married. \n",
    "\n",
    "1. **What is the probability that the man has blood type O and the woman has blood type A?** Let $0_M$ denote the event that the man has $0$ blood type and $A_W$ the event that the woman has $A$ blood type. Since these two people are not related, it is reasonable to assume that $0_M$ and $A_W$ are independent events. Applying the multiplication rule, the probability the couple have these two specific blood types is"
   ]
  },
  {
   "cell_type": "markdown",
   "metadata": {},
   "source": [
    "$$\n",
    "\\begin{align*} \n",
    "P(0_M \\cap A_W) &= P(0_M) \\times P(A_W)\\\\ \n",
    "&= (0.45) \\times (0.40) = 0.18\\\\ \n",
    "\\end{align*}\n",
    "$$"
   ]
  },
  {
   "cell_type": "markdown",
   "metadata": {},
   "source": [
    "2. **What is the probability the couple have O and A blood types?** This is a different question from the first one since it is not been specified who has the two blood types. Either the man has blood type $0$ and the woman has blood type $A$, or the other way around. So the probability of interest is\n",
    "\n",
    "$$\n",
    "\\begin{align*} \n",
    "P(\\text{two have} A,0 \\text{ types}) &= P((0_M \\cap A_W)) \\cup ((0_W \\cap A_M)) \\\\\n",
    "&= P(0_M \\cap A_W) + P(0_W \\cap A_M)\n",
    "\\end{align*}\n",
    "$$\n",
    "\n",
    "One adds the probabilities since $0_M \\cap A_W$ and $0_W \\cap A_M$ are different outcomes. One uses the multiplication rule with the independence assumption to find the probability:\n",
    "\n",
    "$$\n",
    "\\begin{align*} \n",
    "P(\\text{two have} A,0 \\text{ types}) &= P((0_M \\cap A_W)) \\cup ((0_W \\cap A_M)) \\\\\n",
    "&= P(0_M \\cap A_W) + P(0_W \\cap A_M) \\\\\n",
    "&= P(0_M) \\times P(A_W) + P(0_W) \\times P(A_M) \\\\\n",
    "&= (0.45) + (0.40) + (0.45) + (0.40) \\\\\n",
    "&= 0.36\n",
    "\\end{align*}\n",
    "$$\n",
    "\n",
    "3. **What is the probability the man and the woman have the same blood type?** This is a more general question than the earlier parts since one hasn’t specified the blood types – one is just interested in the event that the two people have the same type. There are four possible ways for this to happen: they can both have type $0$, they both have type $A$, they have type $B$, or they have type $AB$. One first finds the probability of each possible outcome and then sum the outcome probabilities to obtain the probability of interest. One obtains\n",
    "\n",
    "$$\n",
    "\\begin{align*} \n",
    "P(\\text{same type})  &= P((0_M \\cap 0_W) \\cup (A_M \\cap A_W) \\cup (B_M \\cap B_W) \\cap (AB_M \\cap AB_W))\\\\\n",
    "&= (0.45)^2 + (0.40)^2 + (0.11)^2 + (0.04)^2 \\\\\n",
    "&= 0.3762\n",
    "\\end{align*}\n",
    "$$"
   ]
  },
  {
   "cell_type": "markdown",
   "metadata": {},
   "source": [
    "4. **What is the probability the couple have different blood types?** One way of doing this problem is to consider all of the ways to have different blood types – the two people could have blood types $0$ and $A$, types $0$ and $B$, and so on, and add the probabilities of the different outcomes. But it is simpler to note that the event “having different blood types” is the complement of the event “have the same blood type”. Then using the complement property of probability\n",
    "\n",
    "$$\n",
    "\\begin{align*} \n",
    "P(\\text{different type})  &= 1 = P(\\text{same type})\\\\\n",
    "&= 1-P(\\text{same type}) \\\\\n",
    "&= 1-0.3762 \\\\\n",
    "&= 0.6238\n",
    "\\end{align*}\n",
    "$$"
   ]
  },
  {
   "cell_type": "markdown",
   "metadata": {},
   "source": [
    "#### A Five-Game Playoff\n",
    "\n",
    "Suppose two baseball teams play in a \"best of five\" playoff series, where the first team to win three games wins the series. Suppose the Yankees play the Angels and one believes that the probability the Yankees will win a single game is 0.6. If the results of the games are assumed independent, what is the probability the Yankees win the series?\n",
    "\n",
    "This is a more sophisticated problem than the first example, since there are numerous outcomes of this series of games. The first thing to note is that the playoff can last three games, four games, or five games. In listing outcomes, one lets $Y$ and $A$ respectively the single-game outcomes \"Yankees win\" and \"Angels win\". Then a series result is represented by a sequence of letters. For example, $YYAY$ means that the Yankees won the first two games, the Angels won the third game, and the Yankees won the fourth game and the series. Using this notation, all of the possible outcomes of the five-game series are written below."
   ]
  },
  {
   "cell_type": "code",
   "execution_count": 24,
   "metadata": {},
   "outputs": [
    {
     "data": {
      "text/plain": [
       "['AYYY',\n",
       " 'AAAY',\n",
       " 'YYAY',\n",
       " 'YAYY',\n",
       " 'YYYY',\n",
       " 'YAAY',\n",
       " 'AYAA',\n",
       " 'AAYA',\n",
       " 'AAAA',\n",
       " 'YYYA',\n",
       " 'YAAA',\n",
       " 'YYAA',\n",
       " 'YAYA',\n",
       " 'AYAY',\n",
       " 'AAYY',\n",
       " 'AYYA']"
      ]
     },
     "execution_count": 24,
     "metadata": {},
     "output_type": "execute_result"
    }
   ],
   "source": [
    "s1 = 'YYYA'\n",
    "\n",
    "[''.join(x) for x in set(itertools.product(s1, repeat = 4))]"
   ]
  },
  {
   "cell_type": "code",
   "execution_count": 49,
   "metadata": {},
   "outputs": [],
   "source": [
    "def startwith(word, rep):\n",
    "    if(word[:rep].count(a[0]) == rep):\n",
    "        return True\n",
    "    return False"
   ]
  },
  {
   "cell_type": "code",
   "execution_count": null,
   "metadata": {},
   "outputs": [],
   "source": []
  },
  {
   "cell_type": "code",
   "execution_count": 26,
   "metadata": {},
   "outputs": [],
   "source": [
    "import itertools\n",
    "\n",
    "def contains_consecutive(word):\n",
    "    groups = itertools.groupby(word)\n",
    "    return([(sum(1 for _ in group)) for label, group in groups])\n"
   ]
  },
  {
   "cell_type": "code",
   "execution_count": 27,
   "metadata": {},
   "outputs": [],
   "source": [
    "import itertools\n",
    "\n",
    "def contains_consecutive(word, rep):\n",
    "    groups = itertools.groupby(word)\n",
    "    for label, group in groups:\n",
    "        if(sum(1 for _ in group) == rep):\n",
    "            return True\n",
    "    return False\n"
   ]
  },
  {
   "cell_type": "code",
   "execution_count": 28,
   "metadata": {},
   "outputs": [
    {
     "data": {
      "text/plain": [
       "False"
      ]
     },
     "execution_count": 28,
     "metadata": {},
     "output_type": "execute_result"
    }
   ],
   "source": [
    "contains_consecutive('YYYAA',4)"
   ]
  },
  {
   "cell_type": "code",
   "execution_count": null,
   "metadata": {},
   "outputs": [],
   "source": []
  },
  {
   "cell_type": "code",
   "execution_count": null,
   "metadata": {},
   "outputs": [],
   "source": []
  },
  {
   "cell_type": "code",
   "execution_count": 29,
   "metadata": {},
   "outputs": [
    {
     "data": {
      "text/plain": [
       "['YYAAY',\n",
       " 'AYYAY',\n",
       " 'AYAYY',\n",
       " 'YAYAY',\n",
       " 'YAAYY',\n",
       " 'YYYAA',\n",
       " 'YYAYA',\n",
       " 'AYYYA',\n",
       " 'YAYYA',\n",
       " 'AAYYY']"
      ]
     },
     "execution_count": 29,
     "metadata": {},
     "output_type": "execute_result"
    }
   ],
   "source": [
    "s2 = 'YYYAA'\n",
    "[''.join(x) for x in set(itertools.permutations(s2)) if not startwith(x,3)]"
   ]
  },
  {
   "cell_type": "code",
   "execution_count": 30,
   "metadata": {},
   "outputs": [
    {
     "data": {
      "text/plain": [
       "['YYAAY', 'AYYAY', 'AYAYY', 'YAYAY', 'YAAYY', 'YYAYA', 'YAYYA']"
      ]
     },
     "execution_count": 30,
     "metadata": {},
     "output_type": "execute_result"
    }
   ],
   "source": [
    "[''.join(x) for x in set(itertools.permutations(s2)) if not contains_consecutive(x,3)]"
   ]
  },
  {
   "cell_type": "code",
   "execution_count": 31,
   "metadata": {},
   "outputs": [],
   "source": [
    "r = [''.join(x) for x in set(itertools.permutations(s2))]"
   ]
  },
  {
   "cell_type": "code",
   "execution_count": 32,
   "metadata": {},
   "outputs": [
    {
     "data": {
      "text/plain": [
       "['YYAAY',\n",
       " 'AYYAY',\n",
       " 'AYAYY',\n",
       " 'YAYAY',\n",
       " 'YAAYY',\n",
       " 'YYYAA',\n",
       " 'YYAYA',\n",
       " 'AYYYA',\n",
       " 'YAYYA',\n",
       " 'AAYYY']"
      ]
     },
     "execution_count": 32,
     "metadata": {},
     "output_type": "execute_result"
    }
   ],
   "source": [
    "r"
   ]
  },
  {
   "cell_type": "code",
   "execution_count": 33,
   "metadata": {},
   "outputs": [],
   "source": [
    "def not_last(word,c,n):\n",
    "    if(word[:-1].count(c) == n):\n",
    "        return True\n",
    "    return False"
   ]
  },
  {
   "cell_type": "code",
   "execution_count": 34,
   "metadata": {},
   "outputs": [
    {
     "name": "stdout",
     "output_type": "stream",
     "text": [
      "False\n",
      "False\n",
      "False\n",
      "False\n",
      "False\n",
      "True\n",
      "True\n",
      "True\n",
      "True\n",
      "False\n"
     ]
    }
   ],
   "source": [
    "for i in r:\n",
    "    print(not_last(i,'Y',3))"
   ]
  },
  {
   "cell_type": "code",
   "execution_count": 35,
   "metadata": {},
   "outputs": [
    {
     "data": {
      "text/plain": [
       "['YYAAY', 'AYYAY', 'AYAYY', 'YAYAY', 'YAAYY', 'AAYYY']"
      ]
     },
     "execution_count": 35,
     "metadata": {},
     "output_type": "execute_result"
    }
   ],
   "source": [
    "[''.join(x) for x in set(itertools.permutations(s2)) if not not_last(x,'Y',3)]"
   ]
  },
  {
   "cell_type": "code",
   "execution_count": 36,
   "metadata": {},
   "outputs": [
    {
     "data": {
      "text/plain": [
       "['YYAAY', 'AYYAY', 'AYAYY', 'YAYAY', 'YAAYY', 'YYAYA', 'YAYYA']"
      ]
     },
     "execution_count": 36,
     "metadata": {},
     "output_type": "execute_result"
    }
   ],
   "source": [
    "[''.join(x) for x in set(itertools.permutations(s2)) if not not_last(x,'A',3) and not contains_consecutive(x,3)]"
   ]
  },
  {
   "cell_type": "code",
   "execution_count": 37,
   "metadata": {},
   "outputs": [],
   "source": [
    "a1 = [''.join(x) for x in itertools.product('AY', repeat=5)]"
   ]
  },
  {
   "cell_type": "code",
   "execution_count": 38,
   "metadata": {},
   "outputs": [],
   "source": [
    "def correct_sequence(word, n):\n",
    "    for i in list(set(word)):\n",
    "        if(word.count(i) > n):\n",
    "            return False\n",
    "    return True"
   ]
  },
  {
   "cell_type": "code",
   "execution_count": 39,
   "metadata": {},
   "outputs": [
    {
     "data": {
      "text/plain": [
       "['AAAYY',\n",
       " 'AAYAY',\n",
       " 'AAYYA',\n",
       " 'AAYYY',\n",
       " 'AYAAY',\n",
       " 'AYAYA',\n",
       " 'AYAYY',\n",
       " 'AYYAA',\n",
       " 'AYYAY',\n",
       " 'AYYYA',\n",
       " 'YAAAY',\n",
       " 'YAAYA',\n",
       " 'YAAYY',\n",
       " 'YAYAA',\n",
       " 'YAYAY',\n",
       " 'YAYYA',\n",
       " 'YYAAA',\n",
       " 'YYAAY',\n",
       " 'YYAYA',\n",
       " 'YYYAA']"
      ]
     },
     "execution_count": 39,
     "metadata": {},
     "output_type": "execute_result"
    }
   ],
   "source": [
    " [''.join(x) for x in itertools.product('AY', repeat=5) if ((correct_sequence(x,3) and not startwith(x,3)))]"
   ]
  },
  {
   "cell_type": "code",
   "execution_count": 48,
   "metadata": {
    "code_folding": []
   },
   "outputs": [
    {
     "data": {
      "text/plain": [
       "False"
      ]
     },
     "execution_count": 48,
     "metadata": {},
     "output_type": "execute_result"
    }
   ],
   "source": [
    "word = 'BBAAA'\n",
    "\n",
    "startwith(word,3)"
   ]
  },
  {
   "cell_type": "code",
   "execution_count": null,
   "metadata": {},
   "outputs": [],
   "source": []
  },
  {
   "cell_type": "code",
   "execution_count": null,
   "metadata": {},
   "outputs": [],
   "source": []
  },
  {
   "cell_type": "code",
   "execution_count": null,
   "metadata": {},
   "outputs": [],
   "source": []
  },
  {
   "cell_type": "code",
   "execution_count": null,
   "metadata": {},
   "outputs": [],
   "source": []
  },
  {
   "cell_type": "code",
   "execution_count": null,
   "metadata": {},
   "outputs": [],
   "source": []
  },
  {
   "cell_type": "code",
   "execution_count": null,
   "metadata": {},
   "outputs": [],
   "source": []
  },
  {
   "cell_type": "code",
   "execution_count": null,
   "metadata": {},
   "outputs": [],
   "source": []
  },
  {
   "cell_type": "code",
   "execution_count": 41,
   "metadata": {},
   "outputs": [
    {
     "data": {
      "text/plain": [
       "['AAAAA',\n",
       " 'AAAAY',\n",
       " 'AAAYA',\n",
       " 'AAAYY',\n",
       " 'AAYAA',\n",
       " 'AAYAY',\n",
       " 'AAYYA',\n",
       " 'AAYYY',\n",
       " 'AYAAA',\n",
       " 'AYAAY',\n",
       " 'AYAYA',\n",
       " 'AYAYY',\n",
       " 'AYYAA',\n",
       " 'AYYAY',\n",
       " 'AYYYA',\n",
       " 'AYYYY',\n",
       " 'YAAAA',\n",
       " 'YAAAY',\n",
       " 'YAAYA',\n",
       " 'YAAYY',\n",
       " 'YAYAA',\n",
       " 'YAYAY',\n",
       " 'YAYYA',\n",
       " 'YAYYY',\n",
       " 'YYAAA',\n",
       " 'YYAAY',\n",
       " 'YYAYA',\n",
       " 'YYAYY',\n",
       " 'YYYAA',\n",
       " 'YYYAY',\n",
       " 'YYYYA',\n",
       " 'YYYYY']"
      ]
     },
     "execution_count": 41,
     "metadata": {},
     "output_type": "execute_result"
    }
   ],
   "source": [
    "[''.join(x) for x in itertools.product('AY', repeat=5) if not contains_consecutive(x,range(0,5))]"
   ]
  },
  {
   "cell_type": "code",
   "execution_count": 42,
   "metadata": {},
   "outputs": [
    {
     "ename": "SyntaxError",
     "evalue": "invalid syntax (<ipython-input-42-784b09704ceb>, line 1)",
     "output_type": "error",
     "traceback": [
      "\u001b[1;36m  File \u001b[1;32m\"<ipython-input-42-784b09704ceb>\"\u001b[1;36m, line \u001b[1;32m1\u001b[0m\n\u001b[1;33m    set(itertools.permutations(s2)).\u001b[0m\n\u001b[1;37m                                    ^\u001b[0m\n\u001b[1;31mSyntaxError\u001b[0m\u001b[1;31m:\u001b[0m invalid syntax\n"
     ]
    }
   ],
   "source": [
    "set(itertools.permutations(s2))."
   ]
  },
  {
   "cell_type": "code",
   "execution_count": null,
   "metadata": {},
   "outputs": [],
   "source": []
  }
 ],
 "metadata": {
  "kernelspec": {
   "display_name": "Python 3",
   "language": "python",
   "name": "python3"
  },
  "language_info": {
   "codemirror_mode": {
    "name": "ipython",
    "version": 3
   },
   "file_extension": ".py",
   "mimetype": "text/x-python",
   "name": "python",
   "nbconvert_exporter": "python",
   "pygments_lexer": "ipython3",
   "version": "3.7.9"
  }
 },
 "nbformat": 4,
 "nbformat_minor": 4
}
