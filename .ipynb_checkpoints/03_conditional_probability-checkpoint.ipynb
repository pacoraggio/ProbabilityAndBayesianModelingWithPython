{
 "cells": [
  {
   "cell_type": "markdown",
   "metadata": {},
   "source": [
    "# Conditional Probability"
   ]
  },
  {
   "cell_type": "markdown",
   "metadata": {},
   "source": [
    "## Introduction: The three card Problem"
   ]
  },
  {
   "cell_type": "markdown",
   "metadata": {},
   "source": [
    "Suppose one has three cards – one card is blue on both sides, one card is pink on both sides, and one card is blue on one side and pink on the other side. Suppose one chooses a card and place it down showing “blue”. What is the chance that the other side is also blue?\n",
    "\n",
    "This is an illustration of a famous conditional probability problem. One is given certain information – here the information is that one side of the card is blue – and one wishes to determine the probability that the other side is blue.\n",
    "\n",
    "Most people think that this probability is $1/2$, but actually this is wrong. The correct answer is demonstrated by simulating this experiment many times. One can do this simulation by hand, but we will illustrate this using a Python script.\n",
    "\n",
    "Suppose one thinks of this experiments are first choosing a card, and then choosing a side from the card. There are three possible cards, which we call \"Blue\", \"Pink\" and \"mixed\". For the blue card, there are two blue sides; for the pink card, there are two pink sides, and the \"mixed\" card has a blue side and a pink side."
   ]
  },
  {
   "cell_type": "markdown",
   "metadata": {},
   "source": [
    "##### Conditional Probabilities by Simulation"
   ]
  },
  {
   "cell_type": "markdown",
   "metadata": {},
   "source": [
    "We illustrate using Python to perform this simulation. A data frame `df` with two variables `Card` and `Side` is defined. The `np.random.choice()` function randomly chooses a card and a side by choosing a random row from the data frame. This experiment was repeated 1000 times and the `pd.crosstab()` function is used to classify the outcomes by card and side."
   ]
  },
  {
   "cell_type": "code",
   "execution_count": 1,
   "metadata": {},
   "outputs": [],
   "source": [
    "import pandas as pd\n",
    "\n",
    "df = pd.DataFrame({'Card':['Blue', 'Blue', 'Pink', 'Pink', 'Mixed','Mixed'],\n",
    "                  'Side':['Blue','Blue', 'Pink','Pink','Blue','Pink']})"
   ]
  },
  {
   "cell_type": "code",
   "execution_count": 2,
   "metadata": {},
   "outputs": [
    {
     "data": {
      "text/html": [
       "<div>\n",
       "<style scoped>\n",
       "    .dataframe tbody tr th:only-of-type {\n",
       "        vertical-align: middle;\n",
       "    }\n",
       "\n",
       "    .dataframe tbody tr th {\n",
       "        vertical-align: top;\n",
       "    }\n",
       "\n",
       "    .dataframe thead th {\n",
       "        text-align: right;\n",
       "    }\n",
       "</style>\n",
       "<table border=\"1\" class=\"dataframe\">\n",
       "  <thead>\n",
       "    <tr style=\"text-align: right;\">\n",
       "      <th></th>\n",
       "      <th>Card</th>\n",
       "      <th>Side</th>\n",
       "    </tr>\n",
       "  </thead>\n",
       "  <tbody>\n",
       "    <tr>\n",
       "      <th>0</th>\n",
       "      <td>Blue</td>\n",
       "      <td>Blue</td>\n",
       "    </tr>\n",
       "    <tr>\n",
       "      <th>1</th>\n",
       "      <td>Blue</td>\n",
       "      <td>Blue</td>\n",
       "    </tr>\n",
       "    <tr>\n",
       "      <th>2</th>\n",
       "      <td>Pink</td>\n",
       "      <td>Pink</td>\n",
       "    </tr>\n",
       "    <tr>\n",
       "      <th>3</th>\n",
       "      <td>Pink</td>\n",
       "      <td>Pink</td>\n",
       "    </tr>\n",
       "    <tr>\n",
       "      <th>4</th>\n",
       "      <td>Mixed</td>\n",
       "      <td>Blue</td>\n",
       "    </tr>\n",
       "    <tr>\n",
       "      <th>5</th>\n",
       "      <td>Mixed</td>\n",
       "      <td>Pink</td>\n",
       "    </tr>\n",
       "  </tbody>\n",
       "</table>\n",
       "</div>"
      ],
      "text/plain": [
       "    Card  Side\n",
       "0   Blue  Blue\n",
       "1   Blue  Blue\n",
       "2   Pink  Pink\n",
       "3   Pink  Pink\n",
       "4  Mixed  Blue\n",
       "5  Mixed  Pink"
      ]
     },
     "execution_count": 2,
     "metadata": {},
     "output_type": "execute_result"
    }
   ],
   "source": [
    "df"
   ]
  },
  {
   "cell_type": "code",
   "execution_count": 3,
   "metadata": {},
   "outputs": [],
   "source": [
    "import numpy as np\n",
    "n_picks = 1000\n",
    "np.random.seed(1234)\n",
    "\n",
    "cards = df.iloc[np.random.choice(np.arange(df.shape[0]),size = n_picks, replace = True)]"
   ]
  },
  {
   "cell_type": "code",
   "execution_count": 4,
   "metadata": {},
   "outputs": [
    {
     "data": {
      "text/plain": [
       "Pink     350\n",
       "Blue     329\n",
       "Mixed    321\n",
       "Name: Card, dtype: int64"
      ]
     },
     "execution_count": 4,
     "metadata": {},
     "output_type": "execute_result"
    }
   ],
   "source": [
    "cards['Card'].value_counts()"
   ]
  },
  {
   "cell_type": "code",
   "execution_count": 5,
   "metadata": {},
   "outputs": [
    {
     "data": {
      "text/html": [
       "<div>\n",
       "<style scoped>\n",
       "    .dataframe tbody tr th:only-of-type {\n",
       "        vertical-align: middle;\n",
       "    }\n",
       "\n",
       "    .dataframe tbody tr th {\n",
       "        vertical-align: top;\n",
       "    }\n",
       "\n",
       "    .dataframe thead th {\n",
       "        text-align: right;\n",
       "    }\n",
       "</style>\n",
       "<table border=\"1\" class=\"dataframe\">\n",
       "  <thead>\n",
       "    <tr style=\"text-align: right;\">\n",
       "      <th>Side</th>\n",
       "      <th>Blue</th>\n",
       "      <th>Pink</th>\n",
       "    </tr>\n",
       "    <tr>\n",
       "      <th>Card</th>\n",
       "      <th></th>\n",
       "      <th></th>\n",
       "    </tr>\n",
       "  </thead>\n",
       "  <tbody>\n",
       "    <tr>\n",
       "      <th>Blue</th>\n",
       "      <td>329</td>\n",
       "      <td>0</td>\n",
       "    </tr>\n",
       "    <tr>\n",
       "      <th>Mixed</th>\n",
       "      <td>155</td>\n",
       "      <td>166</td>\n",
       "    </tr>\n",
       "    <tr>\n",
       "      <th>Pink</th>\n",
       "      <td>0</td>\n",
       "      <td>350</td>\n",
       "    </tr>\n",
       "  </tbody>\n",
       "</table>\n",
       "</div>"
      ],
      "text/plain": [
       "Side   Blue  Pink\n",
       "Card             \n",
       "Blue    329     0\n",
       "Mixed   155   166\n",
       "Pink      0   350"
      ]
     },
     "execution_count": 5,
     "metadata": {},
     "output_type": "execute_result"
    }
   ],
   "source": [
    "pd.crosstab(cards.Card, cards.Side)"
   ]
  },
  {
   "cell_type": "markdown",
   "metadata": {},
   "source": [
    "One observed side is blue and we are interested in the probability of the event \"card is blue\". In this experiment, the blue side was observed $329 + 155 = 484$ times – of these, the card was blue 329 times. So the probability the other side is blue is approximated by 329/484 which is close to $2/3$. This example illustrates that one’s intuition can be faulty in figuring out probabilities of the conditional type."
   ]
  },
  {
   "cell_type": "markdown",
   "metadata": {},
   "source": [
    "### Selecting Slips of Paper"
   ]
  },
  {
   "cell_type": "markdown",
   "metadata": {},
   "source": [
    "To illustrate the conditional nature of probabilities, suppose one has a box that has 6 slips of paper – the slips are labeled with the numbers 2, 4, 6, 8, 10, and 12. One selects two slips at random from the box. It is assumed that one is sampling without replacement and the order that one selects the slips is not important. Then one lists all of the possible outcomes. Note that since two numbers are chosen from six, the total number of outcomes will be $^6C_{2} = 15$.\n",
    "\n",
    "$$S = \\{(2, 4), (2, 6), (2, 8), (2, 10), (2, 12), (4, 6), (4, 8), (4, 10), (4, 12) (6, 8), (6, 10), (6, 12), (8, 10), (8, 12), (10, 12)\\}$$\n",
    "\n",
    "Suppose one is interested in the probability the sum of the numbers on the two slips is 14 or higher. Assuming that the 15 outcomes listed above are equally likely, one sees there are 9 outcomes where the sum is 14 or higher and so\n",
    "\n",
    "$$Prob(\\text{sum 14 or higher}) = \\frac{9}{15}$$\n",
    "\n",
    "Next, suppose one is given some new information about this experiment – both of the numbers on the slips are single digits. Given this information, one now has only six possible outcomes. This new sample space is called the reduced sample space based on the new information.\n",
    "\n",
    "$$ S = \\{(2, 4), (2, 6), (2, 8), (4, 6), (4, 8), (6, 8)\\} $$\n",
    "\n",
    "One evaluates the probability $Prob(\\text{sum 14 or higher})$ given that both of the slip numbers are single digits. Since there is only one way of obtaining a sum of 14 or higher in our new sample space, one sees\n",
    "\n",
    "$$Prob(\\text{sum 14 or higher}) = \\frac{1}{6}$$\n",
    "\n",
    "**Notation**: Suppose that $E$ is our event of interest and $H$ is our new information. Then one writes the probability of $E$ given the new information $H$ as $Prob(E|H)$, where the vertical line \"|\" means \"conditional on\" or given the new information. Here it was found\n",
    "\n",
    "$$Prob(\\text{sum is 14 or higher} | \\text{both slip numbers are single digits})$$\n",
    "\n",
    "How does the probability of \"14 or higher\" change given the new information? Initially, the probability of 14 and higher was pretty high ($9/15$), but given the new information, the probability dropped to $1/6$. Does this make sense? Yes. If one is told that both numbers are single digits, then one has drawn small numbers and that would tend to make the sum of the digits small."
   ]
  },
  {
   "cell_type": "markdown",
   "metadata": {},
   "source": [
    "### Independent Events"
   ]
  },
  {
   "cell_type": "markdown",
   "metadata": {},
   "source": [
    "One says that events $A$ and $B$ are independent if the knowledge of event $A$ does not change the probability of the event $B$. Using symbols\n",
    "\n",
    "$$P(A|B) = P(B)$$"
   ]
  },
  {
   "cell_type": "markdown",
   "metadata": {},
   "source": [
    "### Rolls of two dice"
   ]
  },
  {
   "cell_type": "markdown",
   "metadata": {},
   "source": [
    "To illustrate the concept of independence, consider an example where one rolls a red die and a white die. Consider the following three events:\n",
    "\n",
    "- $S = \\text{the sum of the two rolls is 7}$\n",
    "- $E = \\text{the red die is an even number}$\n",
    "- $D = \\text{the rolls of the two dice are different}$"
   ]
  },
  {
   "cell_type": "markdown",
   "metadata": {},
   "source": [
    "##### Are events $S$ and $E$ independent?\n",
    "\n",
    "1. First one finds the probability one rolls a sum equal to 7, that is, $P(S)$. There are 36 outcomes and 6 outcomes results in a sum of 7, so $P(S) = 6/36$.\n",
    "2. Next, one finds $P(S | E)$. Given that the red die is an even number (event $E$), note that there are 18 outcomes where $E$ occurs. Of these 18 outcomes, there are 3 outcomes where the sum is equal to 7. So $P(S | E) = 3/18$.\n",
    "3. Note $P(S | E) = P(S)$, so events $S$ and $E$ are independent. Knowing the red die is even does not change one’s probability of rolling a 7."
   ]
  },
  {
   "cell_type": "markdown",
   "metadata": {},
   "source": [
    "##### Are events $S$ and $D$ independent?\n",
    "\n",
    "To see if these two events are independent, one computes $P(S | D)$ and checks if $P(S | D) = P(S)$. One can show that $P(S | D) = 6/30$. This probability is not equal to $P(S)$ so $S$ and $D$ are not independent events."
   ]
  },
  {
   "cell_type": "markdown",
   "metadata": {},
   "source": [
    "##### Conditional Probabilities by Simulation"
   ]
  },
  {
   "cell_type": "markdown",
   "metadata": {},
   "source": [
    "One can demonstrate conditional probability by the use of the filter() function in the dplyr package. To illustrate, a data frame `df` is constructed with simulated rolls of two dice – the associated variables are `roll_1` and `roll_2`."
   ]
  },
  {
   "cell_type": "code",
   "execution_count": 6,
   "metadata": {},
   "outputs": [],
   "source": [
    "import pandas as pd\n",
    "import numpy as np\n",
    "\n",
    "np.random.seed(1234)\n",
    "n_throws = 1000\n",
    "\n",
    "df = pd.DataFrame({'roll_1': np.random.choice(np.arange(1,7), size = n_throws),\n",
    "                 'roll_2': np.random.choice(np.arange(1,7), size = n_throws)}) "
   ]
  },
  {
   "cell_type": "markdown",
   "metadata": {},
   "source": [
    "We now define a new column `sum` that is the sum of the two rolls."
   ]
  },
  {
   "cell_type": "code",
   "execution_count": 7,
   "metadata": {},
   "outputs": [],
   "source": [
    "df['sum'] = df.roll_1 + df.roll_2"
   ]
  },
  {
   "cell_type": "code",
   "execution_count": 8,
   "metadata": {},
   "outputs": [
    {
     "data": {
      "text/html": [
       "<div>\n",
       "<style scoped>\n",
       "    .dataframe tbody tr th:only-of-type {\n",
       "        vertical-align: middle;\n",
       "    }\n",
       "\n",
       "    .dataframe tbody tr th {\n",
       "        vertical-align: top;\n",
       "    }\n",
       "\n",
       "    .dataframe thead th {\n",
       "        text-align: right;\n",
       "    }\n",
       "</style>\n",
       "<table border=\"1\" class=\"dataframe\">\n",
       "  <thead>\n",
       "    <tr style=\"text-align: right;\">\n",
       "      <th></th>\n",
       "      <th>roll_1</th>\n",
       "      <th>roll_2</th>\n",
       "      <th>sum</th>\n",
       "    </tr>\n",
       "  </thead>\n",
       "  <tbody>\n",
       "    <tr>\n",
       "      <th>0</th>\n",
       "      <td>4</td>\n",
       "      <td>1</td>\n",
       "      <td>5</td>\n",
       "    </tr>\n",
       "    <tr>\n",
       "      <th>1</th>\n",
       "      <td>6</td>\n",
       "      <td>1</td>\n",
       "      <td>7</td>\n",
       "    </tr>\n",
       "    <tr>\n",
       "      <th>2</th>\n",
       "      <td>5</td>\n",
       "      <td>3</td>\n",
       "      <td>8</td>\n",
       "    </tr>\n",
       "    <tr>\n",
       "      <th>3</th>\n",
       "      <td>5</td>\n",
       "      <td>5</td>\n",
       "      <td>10</td>\n",
       "    </tr>\n",
       "    <tr>\n",
       "      <th>4</th>\n",
       "      <td>1</td>\n",
       "      <td>2</td>\n",
       "      <td>3</td>\n",
       "    </tr>\n",
       "  </tbody>\n",
       "</table>\n",
       "</div>"
      ],
      "text/plain": [
       "   roll_1  roll_2  sum\n",
       "0       4       1    5\n",
       "1       6       1    7\n",
       "2       5       3    8\n",
       "3       5       5   10\n",
       "4       1       2    3"
      ]
     },
     "execution_count": 8,
     "metadata": {},
     "output_type": "execute_result"
    }
   ],
   "source": [
    "df.head()"
   ]
  },
  {
   "cell_type": "markdown",
   "metadata": {},
   "source": [
    "Suppose one is told that the roll of the first die is greater than 3 – how does that information change the probabilities for `sum`? Let's restrict die rolls to only the ones where `roll_1` > 3."
   ]
  },
  {
   "cell_type": "code",
   "execution_count": 9,
   "metadata": {},
   "outputs": [],
   "source": [
    "df_gt_3 = df[df['roll_1'] > 3].reset_index(drop = True)"
   ]
  },
  {
   "cell_type": "code",
   "execution_count": 10,
   "metadata": {},
   "outputs": [
    {
     "data": {
      "text/html": [
       "<div>\n",
       "<style scoped>\n",
       "    .dataframe tbody tr th:only-of-type {\n",
       "        vertical-align: middle;\n",
       "    }\n",
       "\n",
       "    .dataframe tbody tr th {\n",
       "        vertical-align: top;\n",
       "    }\n",
       "\n",
       "    .dataframe thead th {\n",
       "        text-align: right;\n",
       "    }\n",
       "</style>\n",
       "<table border=\"1\" class=\"dataframe\">\n",
       "  <thead>\n",
       "    <tr style=\"text-align: right;\">\n",
       "      <th></th>\n",
       "      <th>roll_1</th>\n",
       "      <th>roll_2</th>\n",
       "      <th>sum</th>\n",
       "    </tr>\n",
       "  </thead>\n",
       "  <tbody>\n",
       "    <tr>\n",
       "      <th>0</th>\n",
       "      <td>4</td>\n",
       "      <td>1</td>\n",
       "      <td>5</td>\n",
       "    </tr>\n",
       "    <tr>\n",
       "      <th>1</th>\n",
       "      <td>6</td>\n",
       "      <td>1</td>\n",
       "      <td>7</td>\n",
       "    </tr>\n",
       "    <tr>\n",
       "      <th>2</th>\n",
       "      <td>5</td>\n",
       "      <td>3</td>\n",
       "      <td>8</td>\n",
       "    </tr>\n",
       "    <tr>\n",
       "      <th>3</th>\n",
       "      <td>5</td>\n",
       "      <td>5</td>\n",
       "      <td>10</td>\n",
       "    </tr>\n",
       "    <tr>\n",
       "      <th>4</th>\n",
       "      <td>4</td>\n",
       "      <td>1</td>\n",
       "      <td>5</td>\n",
       "    </tr>\n",
       "  </tbody>\n",
       "</table>\n",
       "</div>"
      ],
      "text/plain": [
       "   roll_1  roll_2  sum\n",
       "0       4       1    5\n",
       "1       6       1    7\n",
       "2       5       3    8\n",
       "3       5       5   10\n",
       "4       4       1    5"
      ]
     },
     "execution_count": 10,
     "metadata": {},
     "output_type": "execute_result"
    }
   ],
   "source": [
    "df_gt_3.head()"
   ]
  },
  {
   "cell_type": "markdown",
   "metadata": {},
   "source": [
    "Then the frequencies and corresponding approximate probabilities of different sums are found on these \"restricted\" die rolls. For example, one sees that the probability $Prob(\\text{sum = 10}|\\text{roll_1} > 3) \\approx 0.177$"
   ]
  },
  {
   "cell_type": "code",
   "execution_count": 11,
   "metadata": {},
   "outputs": [
    {
     "data": {
      "text/plain": [
       "0.17693836978131214"
      ]
     },
     "execution_count": 11,
     "metadata": {},
     "output_type": "execute_result"
    }
   ],
   "source": [
    "df_gt_3[df_gt_3['sum'] ==  10].shape[0]/df_gt_3.shape[0]"
   ]
  },
  {
   "cell_type": "code",
   "execution_count": 12,
   "metadata": {},
   "outputs": [
    {
     "data": {
      "text/plain": [
       "8     96\n",
       "10    89\n",
       "7     78\n",
       "9     77\n",
       "6     55\n",
       "11    45\n",
       "12    34\n",
       "5     29\n",
       "Name: sum, dtype: int64"
      ]
     },
     "execution_count": 12,
     "metadata": {},
     "output_type": "execute_result"
    }
   ],
   "source": [
    "df_gt_3['sum'].value_counts()"
   ]
  },
  {
   "cell_type": "code",
   "execution_count": 13,
   "metadata": {},
   "outputs": [],
   "source": [
    "df_sum = pd.DataFrame(df_gt_3.groupby('sum')['roll_1'].count()).rename(columns = {'roll_1':'count'})"
   ]
  },
  {
   "cell_type": "code",
   "execution_count": 14,
   "metadata": {},
   "outputs": [],
   "source": [
    "df_sum['probability'] = df_sum['count']/df_sum['count'].sum()"
   ]
  },
  {
   "cell_type": "code",
   "execution_count": 15,
   "metadata": {},
   "outputs": [
    {
     "data": {
      "text/html": [
       "<div>\n",
       "<style scoped>\n",
       "    .dataframe tbody tr th:only-of-type {\n",
       "        vertical-align: middle;\n",
       "    }\n",
       "\n",
       "    .dataframe tbody tr th {\n",
       "        vertical-align: top;\n",
       "    }\n",
       "\n",
       "    .dataframe thead th {\n",
       "        text-align: right;\n",
       "    }\n",
       "</style>\n",
       "<table border=\"1\" class=\"dataframe\">\n",
       "  <thead>\n",
       "    <tr style=\"text-align: right;\">\n",
       "      <th></th>\n",
       "      <th>count</th>\n",
       "      <th>probability</th>\n",
       "    </tr>\n",
       "    <tr>\n",
       "      <th>sum</th>\n",
       "      <th></th>\n",
       "      <th></th>\n",
       "    </tr>\n",
       "  </thead>\n",
       "  <tbody>\n",
       "    <tr>\n",
       "      <th>5</th>\n",
       "      <td>29</td>\n",
       "      <td>0.057654</td>\n",
       "    </tr>\n",
       "    <tr>\n",
       "      <th>6</th>\n",
       "      <td>55</td>\n",
       "      <td>0.109344</td>\n",
       "    </tr>\n",
       "    <tr>\n",
       "      <th>7</th>\n",
       "      <td>78</td>\n",
       "      <td>0.155070</td>\n",
       "    </tr>\n",
       "    <tr>\n",
       "      <th>8</th>\n",
       "      <td>96</td>\n",
       "      <td>0.190855</td>\n",
       "    </tr>\n",
       "    <tr>\n",
       "      <th>9</th>\n",
       "      <td>77</td>\n",
       "      <td>0.153082</td>\n",
       "    </tr>\n",
       "    <tr>\n",
       "      <th>10</th>\n",
       "      <td>89</td>\n",
       "      <td>0.176938</td>\n",
       "    </tr>\n",
       "    <tr>\n",
       "      <th>11</th>\n",
       "      <td>45</td>\n",
       "      <td>0.089463</td>\n",
       "    </tr>\n",
       "    <tr>\n",
       "      <th>12</th>\n",
       "      <td>34</td>\n",
       "      <td>0.067594</td>\n",
       "    </tr>\n",
       "  </tbody>\n",
       "</table>\n",
       "</div>"
      ],
      "text/plain": [
       "     count  probability\n",
       "sum                    \n",
       "5       29     0.057654\n",
       "6       55     0.109344\n",
       "7       78     0.155070\n",
       "8       96     0.190855\n",
       "9       77     0.153082\n",
       "10      89     0.176938\n",
       "11      45     0.089463\n",
       "12      34     0.067594"
      ]
     },
     "execution_count": 15,
     "metadata": {},
     "output_type": "execute_result"
    }
   ],
   "source": [
    "df_sum"
   ]
  },
  {
   "cell_type": "markdown",
   "metadata": {},
   "source": [
    "## In Everyday Life"
   ]
  },
  {
   "cell_type": "markdown",
   "metadata": {},
   "source": [
    "Generally one’s beliefs about uncertain events can change when new information is obtained. Conditional probability provides a way to precisely say how one’s beliefs change. Let’s illustrate this with a simple example.\n",
    "\n",
    "Suppose one is interested in estimating the population of Philadelphia, Pennsylvania in the current year. Consider three possible events:\n",
    "\n",
    "- $A = \\text{Philadelphia’s population is under one million}$\n",
    "- $B = \\text{Philadelphia’s population is between one and two million}$\n",
    "- $C = \\text{Philadelphia’s population is over two million}$\n",
    "\n",
    "If one knows little about Philadelphia, then one probably is not very knowledgeable about its population. So initially the probabilities are assigned shown in the next table:\n",
    "\n",
    "##### Table 3.1 - Probabilities of events about Philadelphia’s population, $P(Event | I)$.\n",
    "| Event | $$ P(Event | I) $$ |\n",
    "|:---|:--------|\n",
    "|Under one million| 0.3|\n",
    "|between one and two million| 0.3|\n",
    "|over two million| 0.4|\n",
    "|Total|1.0|\n",
    "\n",
    "\n",
    "One is assigning approximately the same probability to each of the three events, indicating that they are all equally likely in his or her mind. These can be viewed as conditional probabilities since they are conditional on one’s initial information – these probabilities are denoted by $P(Event | I)$, where $I$ denotes one’s initial information. Now suppose some new information is provided about Philadelphia’s population. One is not told the current population, but is told that in 1990, Philadelphia was the fifth largest city in the country, and the population of the sixth largest city, San Diego, was 1.1 million in 1990. So this tells one that in 1990, the population of Philadelphia had to exceed 1.1 million. Now one might not be sure about how the population of Philadelphia has changed between 1990 and 2020, but it probably has not changed a significant\n",
    "amount. So one thinks that\n",
    "\n",
    "- The population of Philadelphia is most likely to be between 1 and 2 million.\n",
    "- It is very unlikely that Philadelphia’s population is over 2 million\n",
    "- There is a small chance that Philadelphia’s population is under 1 million.\n",
    "\n",
    "One revises his or her probabilities that reflect these beliefs as shown in Table 3.2. These probabilities are denoted as $P(Event | N)$, which are probabilities of these population events conditional on the newer information $N$, in Table 3.2.\n",
    "\n",
    "##### Table 3.2 - Probabilities of events about Philadelphia’s population, $P(Event | N)$.\n",
    "| Event | $$P(Event|N)$$ |\n",
    "|:---|:--------|\n",
    "|Under one million| 0.2|\n",
    "|between one and two million| 0.78|\n",
    "|over two million| 0.02|\n",
    "|Total|1.0|\n",
    "\n",
    "Now, additional information is provided. To find the current population of Philadelphia, one looks up the census estimated figures and the population of Philadelphia’s population was reported to be 1,567,872 in 2016. Even though the census number is a few years old, one doesn’t think that the population has changed much – definitely not enough to put in a new category of the table. So one’s probabilities will change again as shown in Table 3.3. We call these probabilities of events conditional on additional information A\n",
    "\n",
    "##### Table 3.3 - Probabilities of events about Philadelphia’s population, $P(Event | A)$.\n",
    "| Event |$$P(Event|N)$$|\n",
    "|:---|:--------|\n",
    "|Under one million| 0.0|\n",
    "|between one and two million| 1.0|\n",
    "|over two million| 0.0|\n",
    "|Total|1.0|\n",
    "\n",
    "All of us actually make many judgments every day based on uncertainty. For example, we make decisions about the weather based on information such as the weather report, how it looks outside, and advice from friends. We make decisions about who we think will win a sports event based on what we read in the paper, our knowledge of the teams’ strengths, and discussion with friends. Conditional probability is simply a way of quantifying our beliefs about uncertain events given information."
   ]
  },
  {
   "cell_type": "markdown",
   "metadata": {},
   "source": [
    "### In a Two-way table"
   ]
  },
  {
   "cell_type": "markdown",
   "metadata": {},
   "source": [
    "It can be easier to think about, and compute conditional probabilities when they are found from observed counts in a two-way table."
   ]
  },
  {
   "cell_type": "markdown",
   "metadata": {},
   "source": [
    "The following `hs_athlets` data frame containg  high school athletes data in 14 sports that are classified with respect to their sport and their gender. These numbers are recorded in thousands, so the 454 entry in the Baseball/Softball – Male cell means that 454,000 males played baseball or softball this year.\n",
    "\n",
    "-  Counts of high school athletes by sport and gender."
   ]
  },
  {
   "cell_type": "code",
   "execution_count": 16,
   "metadata": {},
   "outputs": [
    {
     "data": {
      "text/html": [
       "<div>\n",
       "<style scoped>\n",
       "    .dataframe tbody tr th:only-of-type {\n",
       "        vertical-align: middle;\n",
       "    }\n",
       "\n",
       "    .dataframe tbody tr th {\n",
       "        vertical-align: top;\n",
       "    }\n",
       "\n",
       "    .dataframe thead th {\n",
       "        text-align: right;\n",
       "    }\n",
       "</style>\n",
       "<table border=\"1\" class=\"dataframe\">\n",
       "  <thead>\n",
       "    <tr style=\"text-align: right;\">\n",
       "      <th></th>\n",
       "      <th>Male</th>\n",
       "      <th>Female</th>\n",
       "      <th>TOTAL</th>\n",
       "    </tr>\n",
       "    <tr>\n",
       "      <th>Sport</th>\n",
       "      <th></th>\n",
       "      <th></th>\n",
       "      <th></th>\n",
       "    </tr>\n",
       "  </thead>\n",
       "  <tbody>\n",
       "    <tr>\n",
       "      <th>Baseball/Softball</th>\n",
       "      <td>454</td>\n",
       "      <td>373</td>\n",
       "      <td>827</td>\n",
       "    </tr>\n",
       "    <tr>\n",
       "      <th>Basketball</th>\n",
       "      <td>541</td>\n",
       "      <td>456</td>\n",
       "      <td>997</td>\n",
       "    </tr>\n",
       "    <tr>\n",
       "      <th>Cross Country</th>\n",
       "      <td>192</td>\n",
       "      <td>163</td>\n",
       "      <td>355</td>\n",
       "    </tr>\n",
       "    <tr>\n",
       "      <th>Football</th>\n",
       "      <td>1048</td>\n",
       "      <td>1</td>\n",
       "      <td>1049</td>\n",
       "    </tr>\n",
       "    <tr>\n",
       "      <th>Gymnastics</th>\n",
       "      <td>2</td>\n",
       "      <td>21</td>\n",
       "      <td>23</td>\n",
       "    </tr>\n",
       "    <tr>\n",
       "      <th>Golf</th>\n",
       "      <td>163</td>\n",
       "      <td>62</td>\n",
       "      <td>225</td>\n",
       "    </tr>\n",
       "    <tr>\n",
       "      <th>Ice Hockey</th>\n",
       "      <td>35</td>\n",
       "      <td>7</td>\n",
       "      <td>42</td>\n",
       "    </tr>\n",
       "    <tr>\n",
       "      <th>Lacrosse</th>\n",
       "      <td>50</td>\n",
       "      <td>39</td>\n",
       "      <td>89</td>\n",
       "    </tr>\n",
       "    <tr>\n",
       "      <th>Soccer</th>\n",
       "      <td>345</td>\n",
       "      <td>301</td>\n",
       "      <td>646</td>\n",
       "    </tr>\n",
       "    <tr>\n",
       "      <th>Swimming</th>\n",
       "      <td>95</td>\n",
       "      <td>141</td>\n",
       "      <td>236</td>\n",
       "    </tr>\n",
       "    <tr>\n",
       "      <th>Tennis</th>\n",
       "      <td>145</td>\n",
       "      <td>163</td>\n",
       "      <td>308</td>\n",
       "    </tr>\n",
       "    <tr>\n",
       "      <th>Track and Field</th>\n",
       "      <td>550</td>\n",
       "      <td>462</td>\n",
       "      <td>1012</td>\n",
       "    </tr>\n",
       "    <tr>\n",
       "      <th>Volleyball</th>\n",
       "      <td>39</td>\n",
       "      <td>397</td>\n",
       "      <td>436</td>\n",
       "    </tr>\n",
       "    <tr>\n",
       "      <th>Wrestling</th>\n",
       "      <td>240</td>\n",
       "      <td>4</td>\n",
       "      <td>244</td>\n",
       "    </tr>\n",
       "    <tr>\n",
       "      <th>TOTAL</th>\n",
       "      <td>3899</td>\n",
       "      <td>2590</td>\n",
       "      <td>6489</td>\n",
       "    </tr>\n",
       "  </tbody>\n",
       "</table>\n",
       "</div>"
      ],
      "text/plain": [
       "                   Male  Female  TOTAL\n",
       "Sport                                 \n",
       "Baseball/Softball   454     373    827\n",
       "Basketball          541     456    997\n",
       "Cross Country       192     163    355\n",
       "Football           1048       1   1049\n",
       "Gymnastics            2      21     23\n",
       "Golf                163      62    225\n",
       "Ice Hockey           35       7     42\n",
       "Lacrosse             50      39     89\n",
       "Soccer              345     301    646\n",
       "Swimming             95     141    236\n",
       "Tennis              145     163    308\n",
       "Track and Field     550     462   1012\n",
       "Volleyball           39     397    436\n",
       "Wrestling           240       4    244\n",
       "TOTAL              3899    2590   6489"
      ]
     },
     "execution_count": 16,
     "metadata": {},
     "output_type": "execute_result"
    }
   ],
   "source": [
    "import pandas as pd\n",
    "\n",
    "hs_athlets = pd.read_csv('./data/table01.csv', index_col='Sport')\n",
    "hs_athlets"
   ]
  },
  {
   "cell_type": "code",
   "execution_count": 17,
   "metadata": {},
   "outputs": [
    {
     "data": {
      "text/plain": [
       "6489"
      ]
     },
     "execution_count": 17,
     "metadata": {},
     "output_type": "execute_result"
    }
   ],
   "source": [
    "hs_athlets['TOTAL']['TOTAL']"
   ]
  },
  {
   "cell_type": "code",
   "execution_count": 18,
   "metadata": {},
   "outputs": [
    {
     "data": {
      "text/plain": [
       "3899"
      ]
     },
     "execution_count": 18,
     "metadata": {},
     "output_type": "execute_result"
    }
   ],
   "source": [
    "hs_athlets['Male'][:-1].sum()"
   ]
  },
  {
   "cell_type": "code",
   "execution_count": 19,
   "metadata": {},
   "outputs": [
    {
     "data": {
      "text/plain": [
       "2590"
      ]
     },
     "execution_count": 19,
     "metadata": {},
     "output_type": "execute_result"
    }
   ],
   "source": [
    "hs_athlets['Female'][:-1].sum()"
   ]
  },
  {
   "cell_type": "markdown",
   "metadata": {},
   "source": [
    "Suppose one chooses a high school athlete at random who is involved in one of these 14 sports. Consider several events:\n",
    "\n",
    "- $F = \\text{athlete chosen is female}$\n",
    "- $S = \\text{athlete is a swimmer}$\n",
    "- $V = \\text{athlete plays volleyball}$\n"
   ]
  },
  {
   "cell_type": "markdown",
   "metadata": {},
   "source": [
    "What is the probability that the athlete is female? Of the 6489 (thousand) athletes, 2590 were female, so the probability is"
   ]
  },
  {
   "cell_type": "code",
   "execution_count": 20,
   "metadata": {},
   "outputs": [
    {
     "data": {
      "text/plain": [
       "0.3991"
      ]
     },
     "execution_count": 20,
     "metadata": {},
     "output_type": "execute_result"
    }
   ],
   "source": [
    "round(hs_athlets['Female'][14]/hs_athlets['TOTAL'][14],4)"
   ]
  },
  {
   "cell_type": "markdown",
   "metadata": {},
   "source": [
    "Likewise, the probability that the randomly chosen athlete is a swimmer is"
   ]
  },
  {
   "cell_type": "code",
   "execution_count": 21,
   "metadata": {},
   "outputs": [
    {
     "data": {
      "text/plain": [
       "0.0364"
      ]
     },
     "execution_count": 21,
     "metadata": {},
     "output_type": "execute_result"
    }
   ],
   "source": [
    "round(hs_athlets.loc['Swimming']['TOTAL']/hs_athlets['TOTAL']['TOTAL'],4)"
   ]
  },
  {
   "cell_type": "markdown",
   "metadata": {},
   "source": [
    "and the probability he or she plays volleyball is"
   ]
  },
  {
   "cell_type": "code",
   "execution_count": 22,
   "metadata": {},
   "outputs": [
    {
     "data": {
      "text/plain": [
       "0.0672"
      ]
     },
     "execution_count": 22,
     "metadata": {},
     "output_type": "execute_result"
    }
   ],
   "source": [
    "round(hs_athlets.loc['Volleyball']['TOTAL']/hs_athlets['TOTAL']['TOTAL'],4)"
   ]
  },
  {
   "cell_type": "markdown",
   "metadata": {},
   "source": [
    "Next, consider the computation of some conditional probabilities. What is the probability a volleyball player is female? In other words, conditional on the fact that the athlete plays volleyball, what is the chance that the athlete is female:\n",
    "\n",
    "$$ P(F|V) $$"
   ]
  },
  {
   "cell_type": "markdown",
   "metadata": {},
   "source": [
    "To find this probability, restrict attention only to the volleyball players in the table."
   ]
  },
  {
   "cell_type": "code",
   "execution_count": 23,
   "metadata": {},
   "outputs": [
    {
     "data": {
      "text/html": [
       "<div>\n",
       "<style scoped>\n",
       "    .dataframe tbody tr th:only-of-type {\n",
       "        vertical-align: middle;\n",
       "    }\n",
       "\n",
       "    .dataframe tbody tr th {\n",
       "        vertical-align: top;\n",
       "    }\n",
       "\n",
       "    .dataframe thead th {\n",
       "        text-align: right;\n",
       "    }\n",
       "</style>\n",
       "<table border=\"1\" class=\"dataframe\">\n",
       "  <thead>\n",
       "    <tr style=\"text-align: right;\">\n",
       "      <th></th>\n",
       "      <th>Male</th>\n",
       "      <th>Female</th>\n",
       "      <th>TOTAL</th>\n",
       "    </tr>\n",
       "    <tr>\n",
       "      <th>Sport</th>\n",
       "      <th></th>\n",
       "      <th></th>\n",
       "      <th></th>\n",
       "    </tr>\n",
       "  </thead>\n",
       "  <tbody>\n",
       "    <tr>\n",
       "      <th>Volleyball</th>\n",
       "      <td>39</td>\n",
       "      <td>397</td>\n",
       "      <td>436</td>\n",
       "    </tr>\n",
       "  </tbody>\n",
       "</table>\n",
       "</div>"
      ],
      "text/plain": [
       "            Male  Female  TOTAL\n",
       "Sport                          \n",
       "Volleyball    39     397    436"
      ]
     },
     "execution_count": 23,
     "metadata": {},
     "output_type": "execute_result"
    }
   ],
   "source": [
    "hs_athlets[hs_athlets.index == 'Volleyball']"
   ]
  },
  {
   "cell_type": "markdown",
   "metadata": {},
   "source": [
    "Of the 436 (thousand) volleyball players, 397 are female, so\n",
    "\n",
    "$$P(F|V) = \\frac{397}{436} = 0.9106$$"
   ]
  },
  {
   "cell_type": "code",
   "execution_count": 24,
   "metadata": {},
   "outputs": [
    {
     "data": {
      "text/plain": [
       "Sport\n",
       "Volleyball    0.9106\n",
       "dtype: float64"
      ]
     },
     "execution_count": 24,
     "metadata": {},
     "output_type": "execute_result"
    }
   ],
   "source": [
    "round(hs_athlets[hs_athlets.index == 'Volleyball']['Female']/hs_athlets[hs_athlets.index == 'Volleyball']['TOTAL'],4)"
   ]
  },
  {
   "cell_type": "code",
   "execution_count": 25,
   "metadata": {},
   "outputs": [
    {
     "data": {
      "text/plain": [
       "0.9106"
      ]
     },
     "execution_count": 25,
     "metadata": {},
     "output_type": "execute_result"
    }
   ],
   "source": [
    "round(hs_athlets['Female']['Volleyball']/hs_athlets['TOTAL']['Volleyball'],4)"
   ]
  },
  {
   "cell_type": "markdown",
   "metadata": {},
   "source": [
    "What is the probability a woman athlete is a swimmer? In other words, if one knows that the athlete is female, what is the (conditional) probability she is a swimmer, or $P(S|F)$?\n",
    "\n",
    "Here since one is given the information that the athlete is female, one restricts attention to the \"Female\" column of counts. There are a total of 2590 (thousand) women who play one of these sports; of these, 141 are swimmers. So\n",
    "\n",
    "$$P(S|V) = \\frac{141}{2590} = 0.0544$$"
   ]
  },
  {
   "cell_type": "code",
   "execution_count": 26,
   "metadata": {},
   "outputs": [
    {
     "data": {
      "text/plain": [
       "0.0544"
      ]
     },
     "execution_count": 26,
     "metadata": {},
     "output_type": "execute_result"
    }
   ],
   "source": [
    "round(hs_athlets['Female']['Swimming']/hs_athlets['Female']['TOTAL'],4)"
   ]
  },
  {
   "cell_type": "markdown",
   "metadata": {},
   "source": [
    "Are event $F$ and $V$ independent? One can check this several ways. Above it was found that the probability a randomly chosen athlete is a volleyball player is $P(V) = 0.0672$. Suppose one is told that the athlete is a female ($F$). Will that change the probability that she is a volleyball player? Of the 2590 women, 397 are volleyball players, and so $P(V|F)=397/2590 = 0.1533$. Note that $P(V)$ is different from $P(V|F)$ that means that the knowledge the athlete is female has increased one’s probability that the athlete is a volleyball player. So the two events are not independent."
   ]
  },
  {
   "cell_type": "markdown",
   "metadata": {},
   "source": [
    "##### Conditional Probabilities in a Two-Way Table in Python"
   ]
  },
  {
   "cell_type": "markdown",
   "metadata": {},
   "source": [
    "Suppose one has two spinners, each that will record a 1, 2, 3, or 4 with equal probabilities. Suppose the smaller of the two spins is 2 – what is the probability that the larger spin is equal to 4? One can answer this question by use of a simulation experiment. First one constructs a data frame – by two uses of the `sample()` function, 5000 random spins of the first spinner are stored in `Spin_1` and 5000 spins of the second spinner in `Spin_2`"
   ]
  },
  {
   "cell_type": "code",
   "execution_count": 27,
   "metadata": {},
   "outputs": [],
   "source": [
    "import numpy as np\n",
    "import pandas as pd\n",
    "\n",
    "np.random.seed(1234)\n",
    "n_spins = 5000\n",
    "\n",
    "df = pd.DataFrame({'Spin_1':np.random.choice(np.arange(1,5), size = n_spins,replace = True),\n",
    "                   'Spin_2':np.random.choice(np.arange(1,5), size = n_spins,replace = True)})"
   ]
  },
  {
   "cell_type": "code",
   "execution_count": 28,
   "metadata": {},
   "outputs": [
    {
     "data": {
      "text/plain": [
       "array([1, 2, 3, 4])"
      ]
     },
     "execution_count": 28,
     "metadata": {},
     "output_type": "execute_result"
    }
   ],
   "source": [
    "np.arange(1,5)"
   ]
  },
  {
   "cell_type": "code",
   "execution_count": 29,
   "metadata": {},
   "outputs": [],
   "source": [
    "df['Min'] = np.minimum(df.Spin_1, df.Spin_2)\n",
    "df['Max'] = np.maximum(df.Spin_1, df.Spin_2)"
   ]
  },
  {
   "cell_type": "code",
   "execution_count": 30,
   "metadata": {},
   "outputs": [],
   "source": [
    "t1 = df.groupby(['Min','Max']).count()['Spin_1']"
   ]
  },
  {
   "cell_type": "code",
   "execution_count": 31,
   "metadata": {},
   "outputs": [
    {
     "data": {
      "text/html": [
       "<div>\n",
       "<style scoped>\n",
       "    .dataframe tbody tr th:only-of-type {\n",
       "        vertical-align: middle;\n",
       "    }\n",
       "\n",
       "    .dataframe tbody tr th {\n",
       "        vertical-align: top;\n",
       "    }\n",
       "\n",
       "    .dataframe thead th {\n",
       "        text-align: right;\n",
       "    }\n",
       "</style>\n",
       "<table border=\"1\" class=\"dataframe\">\n",
       "  <thead>\n",
       "    <tr style=\"text-align: right;\">\n",
       "      <th>Max</th>\n",
       "      <th>1</th>\n",
       "      <th>2</th>\n",
       "      <th>3</th>\n",
       "      <th>4</th>\n",
       "    </tr>\n",
       "    <tr>\n",
       "      <th>Min</th>\n",
       "      <th></th>\n",
       "      <th></th>\n",
       "      <th></th>\n",
       "      <th></th>\n",
       "    </tr>\n",
       "  </thead>\n",
       "  <tbody>\n",
       "    <tr>\n",
       "      <th>1</th>\n",
       "      <td>298.0</td>\n",
       "      <td>606.0</td>\n",
       "      <td>633.0</td>\n",
       "      <td>621.0</td>\n",
       "    </tr>\n",
       "    <tr>\n",
       "      <th>2</th>\n",
       "      <td>NaN</td>\n",
       "      <td>321.0</td>\n",
       "      <td>660.0</td>\n",
       "      <td>618.0</td>\n",
       "    </tr>\n",
       "    <tr>\n",
       "      <th>3</th>\n",
       "      <td>NaN</td>\n",
       "      <td>NaN</td>\n",
       "      <td>288.0</td>\n",
       "      <td>618.0</td>\n",
       "    </tr>\n",
       "    <tr>\n",
       "      <th>4</th>\n",
       "      <td>NaN</td>\n",
       "      <td>NaN</td>\n",
       "      <td>NaN</td>\n",
       "      <td>337.0</td>\n",
       "    </tr>\n",
       "  </tbody>\n",
       "</table>\n",
       "</div>"
      ],
      "text/plain": [
       "Max      1      2      3      4\n",
       "Min                            \n",
       "1    298.0  606.0  633.0  621.0\n",
       "2      NaN  321.0  660.0  618.0\n",
       "3      NaN    NaN  288.0  618.0\n",
       "4      NaN    NaN    NaN  337.0"
      ]
     },
     "execution_count": 31,
     "metadata": {},
     "output_type": "execute_result"
    }
   ],
   "source": [
    "t1.unstack()"
   ]
  },
  {
   "cell_type": "markdown",
   "metadata": {},
   "source": [
    "Since one is told that the smaller of the two spins is equal to 2, one restricts attention to the row where `Min=2`. One observes that `Max` is equal to 2, 3, 4 with frequencies 321, 660, and 618. So\n",
    "\n",
    "$$P(\\text{Max spin = 4}|\\text{Min spin = 2}) = \\frac{618}{321+660+618} = 0.386$$"
   ]
  },
  {
   "cell_type": "code",
   "execution_count": 32,
   "metadata": {},
   "outputs": [
    {
     "data": {
      "text/plain": [
       "0.38649155722326456"
      ]
     },
     "execution_count": 32,
     "metadata": {},
     "output_type": "execute_result"
    }
   ],
   "source": [
    "618/(321+660+618)"
   ]
  },
  {
   "cell_type": "code",
   "execution_count": 33,
   "metadata": {},
   "outputs": [
    {
     "data": {
      "text/plain": [
       "0.38649155722326456"
      ]
     },
     "execution_count": 33,
     "metadata": {},
     "output_type": "execute_result"
    }
   ],
   "source": [
    "t1.unstack().loc[2][4]/t1.unstack().loc[2].sum()"
   ]
  },
  {
   "cell_type": "markdown",
   "metadata": {},
   "source": [
    "## Definition and The Multiplication Rule"
   ]
  },
  {
   "cell_type": "markdown",
   "metadata": {},
   "source": [
    "In this chapter, conditional probabilities have been computed by considering a reduced sample space. There is a formal definition of conditional probability that is useful in computing probabilities of complicated events.\n",
    "\n",
    "Suppose one has two events $A$ and $B$ where the probability of event $B$ is positive, that is $P(B) \\gt 0$. Then the probability of $A$ given $B$ is defined as the quotient\n",
    "\n",
    "$$P(A|B) = \\frac{P(A \\cap B)}{P(B)}$$\n"
   ]
  },
  {
   "cell_type": "markdown",
   "metadata": {},
   "source": [
    "##### How many boys?\n",
    "\n",
    "To illustrate this conditional probability definition, suppose a couple has four children. One is told that this couple has at least one boy. What is the chance that they have exactly two boys?\n",
    "\n",
    "If one lets $L$ be the event \"at least one boy\" and $B$ the event \"have two boys\", one wish to find $P(B|L)$\n",
    "\n",
    "Suppose one represents the genders of the four children (from youngest to oldest) as a sequence of four letters. For example, the sequence $BBGG$ means that the first two children were boys and the last two were girls. If we represent outcomes this way, there are 16 possible outcomes of four births:"
   ]
  },
  {
   "cell_type": "code",
   "execution_count": 34,
   "metadata": {},
   "outputs": [
    {
     "data": {
      "text/html": [
       "<div>\n",
       "<style scoped>\n",
       "    .dataframe tbody tr th:only-of-type {\n",
       "        vertical-align: middle;\n",
       "    }\n",
       "\n",
       "    .dataframe tbody tr th {\n",
       "        vertical-align: top;\n",
       "    }\n",
       "\n",
       "    .dataframe thead th {\n",
       "        text-align: right;\n",
       "    }\n",
       "</style>\n",
       "<table border=\"1\" class=\"dataframe\">\n",
       "  <thead>\n",
       "    <tr style=\"text-align: right;\">\n",
       "      <th></th>\n",
       "      <th>0</th>\n",
       "      <th>1</th>\n",
       "      <th>2</th>\n",
       "      <th>3</th>\n",
       "    </tr>\n",
       "  </thead>\n",
       "  <tbody>\n",
       "    <tr>\n",
       "      <th>0</th>\n",
       "      <td>BBBB</td>\n",
       "      <td>BBBG</td>\n",
       "      <td>BBGB</td>\n",
       "      <td>BBGG</td>\n",
       "    </tr>\n",
       "    <tr>\n",
       "      <th>1</th>\n",
       "      <td>BGBB</td>\n",
       "      <td>BGBG</td>\n",
       "      <td>BGGB</td>\n",
       "      <td>BGGG</td>\n",
       "    </tr>\n",
       "    <tr>\n",
       "      <th>2</th>\n",
       "      <td>GBBB</td>\n",
       "      <td>GBBG</td>\n",
       "      <td>GBGB</td>\n",
       "      <td>GBGG</td>\n",
       "    </tr>\n",
       "    <tr>\n",
       "      <th>3</th>\n",
       "      <td>GGBB</td>\n",
       "      <td>GGBG</td>\n",
       "      <td>GGGB</td>\n",
       "      <td>GGGG</td>\n",
       "    </tr>\n",
       "  </tbody>\n",
       "</table>\n",
       "</div>"
      ],
      "text/plain": [
       "      0     1     2     3\n",
       "0  BBBB  BBBG  BBGB  BBGG\n",
       "1  BGBB  BGBG  BGGB  BGGG\n",
       "2  GBBB  GBBG  GBGB  GBGG\n",
       "3  GGBB  GGBG  GGGB  GGGG"
      ]
     },
     "execution_count": 34,
     "metadata": {},
     "output_type": "execute_result"
    }
   ],
   "source": [
    "import itertools\n",
    "a = [''.join(x) for x in itertools.product('BG', repeat=4)]\n",
    "\n",
    "b = np.matrix([a[0:4],a[4:8],a[8:12],a[12:16]])\n",
    "pd.DataFrame(b)"
   ]
  },
  {
   "cell_type": "code",
   "execution_count": 35,
   "metadata": {},
   "outputs": [
    {
     "data": {
      "text/plain": [
       "15"
      ]
     },
     "execution_count": 35,
     "metadata": {},
     "output_type": "execute_result"
    }
   ],
   "source": [
    "len([i for i in a if i.count('B') >= 1])"
   ]
  },
  {
   "cell_type": "code",
   "execution_count": 36,
   "metadata": {},
   "outputs": [
    {
     "data": {
      "text/plain": [
       "6"
      ]
     },
     "execution_count": 36,
     "metadata": {},
     "output_type": "execute_result"
    }
   ],
   "source": [
    "len([i for i in a if i.count('B') == 2])"
   ]
  },
  {
   "cell_type": "markdown",
   "metadata": {},
   "source": [
    "If one assumes that boys and girls are equally likely (is this really true?), then each of the outcomes is equally likely and each outcome is assigned a probability of 1/16. Applying the definition of conditional probability, one has:\n",
    "\n",
    "$$P(B|L) = \\frac{P(B \\cap L)}{P(L)}$$\n",
    "\n",
    "There are 15 outcomes in the set $L$, and 6 outcomes where both events $B$ and $L$ occur. So using the definition\n",
    "\n",
    "$$P(B|L) = \\frac{6/16}{15/16}$$\n"
   ]
  },
  {
   "cell_type": "markdown",
   "metadata": {},
   "source": [
    "## The Multiplication Rule\n",
    "\n",
    "If one takes the conditional probability definition and multiplies both sides of the equation by $P(B)$, one obtains the multiplication rule:\n",
    "\n",
    "$$ P(A \\cap B)=P(B)P(A|B)$$"
   ]
  },
  {
   "cell_type": "markdown",
   "metadata": {},
   "source": [
    "#### Choosing balls from a random bowl\n",
    "\n",
    "The multiplication rule is especially useful for experiments that can be divided into stages. Suppose one has two bowls – Bowl 1 is filled with one white and 5 black balls, and Bowl 2 has 4 white and 2 black balls. One first spins the spinner below that determines which bowl to select, and then selects one ball from the bowl. What the chance that the ball one selects is white?\n",
    "\n",
    "One can demonstrate the multiplication rule by the tree diagram in Figure 3.1. The first set of branches corresponds to the spinner result (choose Bowl 1 or choose Bowl 2) and the second set of branches corresponds to the ball selection."
   ]
  },
  {
   "cell_type": "markdown",
   "metadata": {},
   "source": [
    "<img src=\"./figures/chap_03/figure_3_1.png\">"
   ]
  },
  {
   "cell_type": "code",
   "execution_count": null,
   "metadata": {},
   "outputs": [],
   "source": []
  },
  {
   "cell_type": "markdown",
   "metadata": {},
   "source": [
    "One places numbers on the diagram corresponding to the probabilities that are given in the problem, shown in Figure 3.2."
   ]
  },
  {
   "cell_type": "markdown",
   "metadata": {},
   "source": [
    "<img src=\"./figures/chap_03/figure_3_2.png\">"
   ]
  },
  {
   "cell_type": "markdown",
   "metadata": {},
   "source": [
    "Since one quarter of the spinner region is \"Bowl 1\", the chance of choosing Bowl 1 is $1/4$ and so the chance of choosing Bowl 2 is $3/4$ – these probabilities are placed at the first set of branches. Also one knows that if Bowl 1 is selected, the chances of choosing a white ball and a black ball are respectively $1/6$ and $5/6$. These conditional probabilities, $P(\\text{white}|\\text{Bowl 1})$ and $P(\\text{black}|\\text{Bowl 2})$, are placed at the top set of branches at the second level. Also, if one selects Bowl 2, the conditional probabilities of selecting a white ball and a black ball are given by $P(\\text{white}|\\text{Bowl 2}) = 4/6$ and $P(\\text{black}|\\text{Bowl 2}) = 2/6$ – these probabilities are placed at the bottom set of branches.\n",
    "\n",
    "Now that the probabilities are assigned on the tree, one uses the multiplication rule to compute the probabilities of interest:\n",
    "\n",
    "- What is the probability of selecting Bowl 1 and selecting a white ball? By the multiplication rule\n",
    "\n",
    "$$\n",
    "\\begin{align*}\n",
    "P(\\text{Bowl 1} \\cap \\text{white ball}) &= P(\\text{Bowl 1})P(\\text{white ball} | \\text{Bowl 1}) \\\\\n",
    "&= \\frac{1}{4} \\times \\frac{1}{6} = \\frac{1}{24}\n",
    "\\end{align*}\n",
    "$$\n",
    "\n",
    "One is just multiplying probabilities along the top branch of the tree.\n",
    "\n",
    "- What is the probability of selecting a white ball? One sees from the tree that there are two ways of selecting a white depending on which bowl is selected. One can either (1) select Bowl 1 and choose a white ball or (2) select Bowl 2 and choose a white ball. One finds the probability of each of the two outcomes and add the probabilities to get the answer.\n",
    "\n",
    "$$\n",
    "\\begin{align*}\n",
    "P(\\text{white ball}) &= P(\\text{Bowl 1} \\cap \\text{white ball}) + P(\\text{Bowl 2} \\cap \\text{white ball}) \\\\\n",
    "&= \\frac{1}{4} \\times \\frac{1}{6} + \\frac{3}{4} \\times \\frac{4}{6} = \\frac{13}{24}\n",
    "\\end{align*}\n",
    "$$"
   ]
  },
  {
   "cell_type": "markdown",
   "metadata": {},
   "source": [
    "##### Simulating choosing balls from a random bowl"
   ]
  },
  {
   "cell_type": "markdown",
   "metadata": {},
   "source": [
    "One simulate this balls and bowl experiment on R. Using the `np.random.choice()` function, one simulates 1000 choices of the bowl where the probabilities of choosing Bowl 1 and Bowl 2 are $1/4$ and $3/4$ and places the bowl choices in variable Bowl. In a similar fashion, one simulates 10000 ball selections from Bowl 1 (variable `color_1`) and 10000 selections from Bowl 2 (variable `color_2`). Last, by use of a `np.where`function, one lets the ball color be equal to Color 1 if Bowl 1 is selection, or Color 2 if Bowl 2 is selected"
   ]
  },
  {
   "cell_type": "code",
   "execution_count": 37,
   "metadata": {},
   "outputs": [
    {
     "data": {
      "text/html": [
       "<div>\n",
       "<style scoped>\n",
       "    .dataframe tbody tr th:only-of-type {\n",
       "        vertical-align: middle;\n",
       "    }\n",
       "\n",
       "    .dataframe tbody tr th {\n",
       "        vertical-align: top;\n",
       "    }\n",
       "\n",
       "    .dataframe thead th {\n",
       "        text-align: right;\n",
       "    }\n",
       "</style>\n",
       "<table border=\"1\" class=\"dataframe\">\n",
       "  <thead>\n",
       "    <tr style=\"text-align: right;\">\n",
       "      <th>Color</th>\n",
       "      <th>black</th>\n",
       "      <th>white</th>\n",
       "    </tr>\n",
       "    <tr>\n",
       "      <th>Bowl</th>\n",
       "      <th></th>\n",
       "      <th></th>\n",
       "    </tr>\n",
       "  </thead>\n",
       "  <tbody>\n",
       "    <tr>\n",
       "      <th>1</th>\n",
       "      <td>2079</td>\n",
       "      <td>421</td>\n",
       "    </tr>\n",
       "    <tr>\n",
       "      <th>2</th>\n",
       "      <td>2541</td>\n",
       "      <td>4959</td>\n",
       "    </tr>\n",
       "  </tbody>\n",
       "</table>\n",
       "</div>"
      ],
      "text/plain": [
       "Color  black  white\n",
       "Bowl               \n",
       "1       2079    421\n",
       "2       2541   4959"
      ]
     },
     "execution_count": 37,
     "metadata": {},
     "output_type": "execute_result"
    }
   ],
   "source": [
    "import numpy as np\n",
    "bowl = np.random.choice([1,2], size=10000, p=[1/4,3/4])\n",
    "\n",
    "np.random.seed(1234)\n",
    "\n",
    "color_1 = np.random.choice(['white','black'], size=10000, p=[1/6,5/6])\n",
    "color_2 = np.random.choice(['white','black'], size=10000, p=[4/6,2/6])\n",
    "\n",
    "# Color <- ifelse(Bowl == 1, Color_1, Color_2)\n",
    "\n",
    "a = np.where(bowl == 1, color_1, color_2)\n",
    "\n",
    "import pandas as pd\n",
    "df_bowl = pd.DataFrame({'Bowl':bowl,\n",
    "              'Color':a})\n",
    "\n",
    "pd.crosstab(index = df_bowl['Bowl'], columns=df_bowl['Color'])\n",
    "# print(pd.crosstab(index = df_bowl['Bowl'], columns=df_bowl['Color']).iloc[1]['white'])"
   ]
  },
  {
   "cell_type": "markdown",
   "metadata": {},
   "source": [
    "The probability that Bowl 1 was selected and a white ball was chosen is approximately equal to "
   ]
  },
  {
   "cell_type": "code",
   "execution_count": 38,
   "metadata": {},
   "outputs": [
    {
     "data": {
      "text/plain": [
       "0.0421"
      ]
     },
     "execution_count": 38,
     "metadata": {},
     "output_type": "execute_result"
    }
   ],
   "source": [
    "pd.crosstab(index = df_bowl['Bowl'], columns=df_bowl['Color']).loc[1]['white']/df_bowl.value_counts().sum()"
   ]
  },
  {
   "cell_type": "markdown",
   "metadata": {},
   "source": [
    " The chance of choosing a white ball is approximated by"
   ]
  },
  {
   "cell_type": "code",
   "execution_count": 39,
   "metadata": {},
   "outputs": [
    {
     "data": {
      "text/plain": [
       "0.538"
      ]
     },
     "execution_count": 39,
     "metadata": {},
     "output_type": "execute_result"
    }
   ],
   "source": [
    "pd.crosstab(index = df_bowl['Bowl'], columns=df_bowl['Color'])['white'].sum()/df_bowl.value_counts().sum()"
   ]
  },
  {
   "cell_type": "markdown",
   "metadata": {},
   "source": [
    "## The Multiplication Rule Under Independence"
   ]
  },
  {
   "cell_type": "markdown",
   "metadata": {},
   "source": [
    "When two events $A$ and $B$ are **independent**, then the multiplication rule takes the simple form\n",
    "\n",
    "$$P(A \\cap B) = P(A) \\times P(B)$$\n",
    "\n",
    "Moreover, if one has a sequence of independent events, say $A_1,A_2, \\dots, A_k$ then the probability that all events happen simultaneously is the product of the probabilities of the individual events \n",
    "\n",
    "$$P(A_1 \\cap A_2 \\cap \\dots \\cap A_K) = P(A_1) \\times P(A_2) \\dots \\times P(A_k)$$\n",
    "\n",
    "By use of the assumption of independent events and multiplying, one finds probabilities of sophisticated events. We illustrate this in several examples."
   ]
  },
  {
   "cell_type": "markdown",
   "metadata": {},
   "source": [
    "#### Blood types of Couples  "
   ]
  },
  {
   "cell_type": "markdown",
   "metadata": {},
   "source": [
    "White Americans have the blood types $0$,$A$,$B$, and $AB$ with respectively proportions 0.45, 0.40, 0.11, and 0.04. Suppose two people in this group are married. \n",
    "\n",
    "1. **What is the probability that the man has blood type O and the woman has blood type A?** Let $0_M$ denote the event that the man has $0$ blood type and $A_W$ the event that the woman has $A$ blood type. Since these two people are not related, it is reasonable to assume that $0_M$ and $A_W$ are independent events. Applying the multiplication rule, the probability the couple have these two specific blood types is"
   ]
  },
  {
   "cell_type": "markdown",
   "metadata": {},
   "source": [
    "$$\n",
    "\\begin{align*} \n",
    "P(0_M \\cap A_W) &= P(0_M) \\times P(A_W)\\\\ \n",
    "&= (0.45) \\times (0.40) = 0.18\\\\ \n",
    "\\end{align*}\n",
    "$$"
   ]
  },
  {
   "cell_type": "markdown",
   "metadata": {},
   "source": [
    "2. **What is the probability the couple have O and A blood types?** This is a different question from the first one since it is not been specified who has the two blood types. Either the man has blood type $0$ and the woman has blood type $A$, or the other way around. So the probability of interest is\n",
    "\n",
    "$$\n",
    "\\begin{align*} \n",
    "P(\\text{two have} A,0 \\text{ types}) &= P((0_M \\cap A_W)) \\cup ((0_W \\cap A_M)) \\\\\n",
    "&= P(0_M \\cap A_W) + P(0_W \\cap A_M)\n",
    "\\end{align*}\n",
    "$$\n",
    "\n",
    "One adds the probabilities since $0_M \\cap A_W$ and $0_W \\cap A_M$ are different outcomes. One uses the multiplication rule with the independence assumption to find the probability:\n",
    "\n",
    "$$\n",
    "\\begin{align*} \n",
    "P(\\text{two have} A,0 \\text{ types}) &= P((0_M \\cap A_W)) \\cup ((0_W \\cap A_M)) \\\\\n",
    "&= P(0_M \\cap A_W) + P(0_W \\cap A_M) \\\\\n",
    "&= P(0_M) \\times P(A_W) + P(0_W) \\times P(A_M) \\\\\n",
    "&= (0.45) + (0.40) + (0.45) + (0.40) \\\\\n",
    "&= 0.36\n",
    "\\end{align*}\n",
    "$$\n",
    "\n",
    "3. **What is the probability the man and the woman have the same blood type?** This is a more general question than the earlier parts since one hasn’t specified the blood types – one is just interested in the event that the two people have the same type. There are four possible ways for this to happen: they can both have type $0$, they both have type $A$, they have type $B$, or they have type $AB$. One first finds the probability of each possible outcome and then sum the outcome probabilities to obtain the probability of interest. One obtains\n",
    "\n",
    "$$\n",
    "\\begin{align*} \n",
    "P(\\text{same type})  &= P((0_M \\cap 0_W) \\cup (A_M \\cap A_W) \\cup (B_M \\cap B_W) \\cap (AB_M \\cap AB_W))\\\\\n",
    "&= (0.45)^2 + (0.40)^2 + (0.11)^2 + (0.04)^2 \\\\\n",
    "&= 0.3762\n",
    "\\end{align*}\n",
    "$$"
   ]
  },
  {
   "cell_type": "markdown",
   "metadata": {},
   "source": [
    "4. **What is the probability the couple have different blood types?** One way of doing this problem is to consider all of the ways to have different blood types – the two people could have blood types $0$ and $A$, types $0$ and $B$, and so on, and add the probabilities of the different outcomes. But it is simpler to note that the event “having different blood types” is the complement of the event “have the same blood type”. Then using the complement property of probability\n",
    "\n",
    "$$\n",
    "\\begin{align*} \n",
    "P(\\text{different type})  &= 1 = P(\\text{same type})\\\\\n",
    "&= 1-P(\\text{same type}) \\\\\n",
    "&= 1-0.3762 \\\\\n",
    "&= 0.6238\n",
    "\\end{align*}\n",
    "$$"
   ]
  },
  {
   "cell_type": "markdown",
   "metadata": {},
   "source": [
    "#### A Five-Game Playoff\n",
    "\n",
    "Suppose two baseball teams play in a \"best of five\" playoff series, where the first team to win three games wins the series. Suppose the Yankees play the Angels and one believes that the probability the Yankees will win a single game is 0.6. If the results of the games are assumed independent, what is the probability the Yankees win the series?\n",
    "\n",
    "This is a more sophisticated problem than the first example, since there are numerous outcomes of this series of games. The first thing to note is that the playoff can last three games, four games, or five games. In listing outcomes, one lets $Y$ and $A$ respectively the single-game outcomes \"Yankees win\" and \"Angels win\". Then a series result is represented by a sequence of letters. For example, $YYAY$ means that the Yankees won the first two games, the Angels won the third game, and the Yankees won the fourth game and the series. Using this notation, all of the possible outcomes of the five-game series are written below."
   ]
  },
  {
   "cell_type": "markdown",
   "metadata": {},
   "source": [
    "|Three games|Four games |Five games|\n",
    "|:----:|:-----:|:-----:|\n",
    "| <ins>YYY</ins> | <ins>YYAY</ins>, AAYA |<ins>YYAAY</ins>, AAYYA| \n",
    "|AAA| <ins>YAYY</ins>, AYAA |<ins>YAYAY</ins>, AYAYA |\n",
    "| | <ins>AYYY</ins>, YAAA| <ins>YAAYY</ins> , AYYAA |\n",
    "| | | <ins>AYYAY</ins>, YAAYA|\n",
    "| | | <ins>AYAYY</ins>, YAYAA|\n",
    "| | | <ins>AAYYY</ins>, YYAAA|\n",
    "\n",
    "One is interested in the probability the Yankees win the series. All of the outcomes above where the Yankees win are underlined. By the assumption of independence, one finds the probability of a specific outcome – for example, the probability of the outcome $YYAY$ as \n",
    "\n",
    "$$\n",
    "\\begin{align*}\n",
    "P(YYAY) &= (0.6) \\times (0.6) \\times (0.4) \\times (0.6) \\\\\n",
    "&= 0.0864\n",
    "\\end{align*}\n",
    "$$\n",
    "\n",
    "One finds the probability that the Yankees win the series by finding the probabilities of each type of Yankees win and adding the outcome probabilities. The probability of each outcome is written down in the next table.\n",
    "\n",
    "|Three games|Four games |Five games|\n",
    "|:----:|:-----:|:-----:|\n",
    "| P(YYY) = 0.216 | P(YYAY) = 0.0864 |P(YYAAY) = 0.0364| \n",
    "| | P(YAYY) = 0.0864 |P(YAYAY) = 0.0364 |\n",
    "| | P(AYYY) = 0.0864 | P(YAAYY) = 0.0364|\n",
    "| | | P(AYYAY)= 0.0364|\n",
    "| | | P(AYAYY) = 0.0364|\n",
    "| | | P(AAYYY) = 0.0364|\n",
    "\n",
    "So the probability of interest is given by\n",
    "\n",
    "$$\n",
    "\\begin{align*}\n",
    "P(\\text{Yankees win series}) &= P(YYY, YYAY,YAYY, \\dots) \\\\\n",
    "&= 0.216 + 3 \\times 0.864 + 6 \\times 0.0346 \\\\\n",
    "&= 0.683\n",
    "\\end{align*}\n",
    "$$\n"
   ]
  },
  {
   "cell_type": "code",
   "execution_count": null,
   "metadata": {},
   "outputs": [],
   "source": []
  },
  {
   "cell_type": "code",
   "execution_count": null,
   "metadata": {},
   "outputs": [],
   "source": []
  },
  {
   "cell_type": "code",
   "execution_count": 40,
   "metadata": {},
   "outputs": [
    {
     "data": {
      "text/plain": [
       "['YYYY',\n",
       " 'YAAY',\n",
       " 'YYYA',\n",
       " 'YAAA',\n",
       " 'AYAA',\n",
       " 'AAYA',\n",
       " 'YYAA',\n",
       " 'YAYA',\n",
       " 'YYAY',\n",
       " 'YAYY',\n",
       " 'AYAY',\n",
       " 'AAYY',\n",
       " 'AYYY',\n",
       " 'AAAY',\n",
       " 'AYYA',\n",
       " 'AAAA']"
      ]
     },
     "execution_count": 40,
     "metadata": {},
     "output_type": "execute_result"
    }
   ],
   "source": [
    "\n",
    "s1 = 'YYYA'\n",
    "\n",
    "[''.join(x) for x in set(itertools.product(s1, repeat = 4))]"
   ]
  },
  {
   "cell_type": "code",
   "execution_count": null,
   "metadata": {},
   "outputs": [],
   "source": []
  },
  {
   "cell_type": "code",
   "execution_count": 41,
   "metadata": {},
   "outputs": [],
   "source": [
    "def startwith(word, rep):\n",
    "    if(word[:rep].count(word[0]) == rep):\n",
    "        return True\n",
    "    return False"
   ]
  },
  {
   "cell_type": "code",
   "execution_count": 42,
   "metadata": {},
   "outputs": [
    {
     "data": {
      "text/plain": [
       "True"
      ]
     },
     "execution_count": 42,
     "metadata": {},
     "output_type": "execute_result"
    }
   ],
   "source": [
    "a = 'AAABB'\n",
    "\n",
    "startwith(a,3)"
   ]
  },
  {
   "cell_type": "code",
   "execution_count": null,
   "metadata": {},
   "outputs": [],
   "source": []
  },
  {
   "cell_type": "code",
   "execution_count": null,
   "metadata": {},
   "outputs": [],
   "source": []
  },
  {
   "cell_type": "code",
   "execution_count": 43,
   "metadata": {},
   "outputs": [],
   "source": [
    "import itertools\n",
    "\n",
    "def contains_consecutive(word):\n",
    "    groups = itertools.groupby(word)\n",
    "    return([(sum(1 for _ in group)) for label, group in groups])\n"
   ]
  },
  {
   "cell_type": "code",
   "execution_count": 44,
   "metadata": {},
   "outputs": [],
   "source": [
    "import itertools\n",
    "\n",
    "def contains_consecutive(word, rep):\n",
    "    groups = itertools.groupby(word)\n",
    "    for label, group in groups:\n",
    "        if(sum(1 for _ in group) == rep):\n",
    "            return True\n",
    "    return False\n"
   ]
  },
  {
   "cell_type": "code",
   "execution_count": 45,
   "metadata": {},
   "outputs": [
    {
     "data": {
      "text/plain": [
       "False"
      ]
     },
     "execution_count": 45,
     "metadata": {},
     "output_type": "execute_result"
    }
   ],
   "source": [
    "contains_consecutive('YYYAA',4)"
   ]
  },
  {
   "cell_type": "code",
   "execution_count": null,
   "metadata": {},
   "outputs": [],
   "source": []
  },
  {
   "cell_type": "code",
   "execution_count": null,
   "metadata": {},
   "outputs": [],
   "source": []
  },
  {
   "cell_type": "code",
   "execution_count": 46,
   "metadata": {},
   "outputs": [
    {
     "data": {
      "text/plain": [
       "['YAYYA',\n",
       " 'YYAYA',\n",
       " 'AYYYA',\n",
       " 'YAYAY',\n",
       " 'YAAYY',\n",
       " 'YYAAY',\n",
       " 'AYYAY',\n",
       " 'AYAYY',\n",
       " 'AAYYY']"
      ]
     },
     "execution_count": 46,
     "metadata": {},
     "output_type": "execute_result"
    }
   ],
   "source": [
    "s2 = 'YYYAA'\n",
    "[''.join(x) for x in set(itertools.permutations(s2)) if not startwith(x,3)]"
   ]
  },
  {
   "cell_type": "code",
   "execution_count": 47,
   "metadata": {},
   "outputs": [
    {
     "data": {
      "text/plain": [
       "['YAYYA', 'YYAYA', 'YAYAY', 'YAAYY', 'YYAAY', 'AYYAY', 'AYAYY']"
      ]
     },
     "execution_count": 47,
     "metadata": {},
     "output_type": "execute_result"
    }
   ],
   "source": [
    "[''.join(x) for x in set(itertools.permutations(s2)) if not contains_consecutive(x,3)]"
   ]
  },
  {
   "cell_type": "code",
   "execution_count": 48,
   "metadata": {},
   "outputs": [],
   "source": [
    "r = [''.join(x) for x in set(itertools.permutations(s2))]"
   ]
  },
  {
   "cell_type": "code",
   "execution_count": 49,
   "metadata": {},
   "outputs": [
    {
     "data": {
      "text/plain": [
       "['YAYYA',\n",
       " 'YYAYA',\n",
       " 'YYYAA',\n",
       " 'AYYYA',\n",
       " 'YAYAY',\n",
       " 'YAAYY',\n",
       " 'YYAAY',\n",
       " 'AYYAY',\n",
       " 'AYAYY',\n",
       " 'AAYYY']"
      ]
     },
     "execution_count": 49,
     "metadata": {},
     "output_type": "execute_result"
    }
   ],
   "source": [
    "r"
   ]
  },
  {
   "cell_type": "code",
   "execution_count": 50,
   "metadata": {},
   "outputs": [],
   "source": [
    "def not_last(word,c,n):\n",
    "    if(word[:-1].count(c) == n):\n",
    "        return True\n",
    "    return False"
   ]
  },
  {
   "cell_type": "code",
   "execution_count": 51,
   "metadata": {},
   "outputs": [
    {
     "name": "stdout",
     "output_type": "stream",
     "text": [
      "True\n",
      "True\n",
      "True\n",
      "True\n",
      "False\n",
      "False\n",
      "False\n",
      "False\n",
      "False\n",
      "False\n"
     ]
    }
   ],
   "source": [
    "for i in r:\n",
    "    print(not_last(i,'Y',3))"
   ]
  },
  {
   "cell_type": "code",
   "execution_count": 52,
   "metadata": {},
   "outputs": [
    {
     "data": {
      "text/plain": [
       "['YAYAY', 'YAAYY', 'YYAAY', 'AYYAY', 'AYAYY', 'AAYYY']"
      ]
     },
     "execution_count": 52,
     "metadata": {},
     "output_type": "execute_result"
    }
   ],
   "source": [
    "[''.join(x) for x in set(itertools.permutations(s2)) if not not_last(x,'Y',3)]"
   ]
  },
  {
   "cell_type": "code",
   "execution_count": 53,
   "metadata": {},
   "outputs": [
    {
     "data": {
      "text/plain": [
       "['YAYYA', 'YYAYA', 'YAYAY', 'YAAYY', 'YYAAY', 'AYYAY', 'AYAYY']"
      ]
     },
     "execution_count": 53,
     "metadata": {},
     "output_type": "execute_result"
    }
   ],
   "source": [
    "[''.join(x) for x in set(itertools.permutations(s2)) if not not_last(x,'A',3) and not contains_consecutive(x,3)]"
   ]
  },
  {
   "cell_type": "code",
   "execution_count": 54,
   "metadata": {},
   "outputs": [],
   "source": [
    "a1 = [''.join(x) for x in itertools.product('AY', repeat=5)]"
   ]
  },
  {
   "cell_type": "code",
   "execution_count": 55,
   "metadata": {},
   "outputs": [],
   "source": [
    "def correct_sequence(word, n):\n",
    "    for i in list(set(word)):\n",
    "        if(word.count(i) > n):\n",
    "            return False\n",
    "    return True"
   ]
  },
  {
   "cell_type": "code",
   "execution_count": 56,
   "metadata": {},
   "outputs": [
    {
     "data": {
      "text/plain": [
       "['AAYYA',\n",
       " 'AAYYY',\n",
       " 'AYAYA',\n",
       " 'AYAYY',\n",
       " 'AYYAA',\n",
       " 'AYYAY',\n",
       " 'YAAYA',\n",
       " 'YAAYY',\n",
       " 'YAYAA',\n",
       " 'YAYAY',\n",
       " 'YYAAA',\n",
       " 'YYAAY']"
      ]
     },
     "execution_count": 56,
     "metadata": {},
     "output_type": "execute_result"
    }
   ],
   "source": [
    " [''.join(x) for x in itertools.product('AY', repeat=5) if ((correct_sequence(x,3) and \n",
    "                                                             not startwith(x,3) and\n",
    "                                                            not not_last(x,'A',3) and\n",
    "                                                            not not_last(x,'Y',3)))]"
   ]
  },
  {
   "cell_type": "code",
   "execution_count": 57,
   "metadata": {
    "code_folding": []
   },
   "outputs": [
    {
     "data": {
      "text/plain": [
       "True"
      ]
     },
     "execution_count": 57,
     "metadata": {},
     "output_type": "execute_result"
    }
   ],
   "source": [
    "not_last('AYAAY','A',3)"
   ]
  },
  {
   "cell_type": "code",
   "execution_count": 58,
   "metadata": {},
   "outputs": [],
   "source": [
    "def p_game(games,w, prob):\n",
    "    #print(len(games)-games.count(w))\n",
    "    #print((1-prob)**(len(games)-games.count(w)))\n",
    "    return(prob**games.count(w)*(1-prob)**(len(games)-games.count(w)))"
   ]
  },
  {
   "cell_type": "code",
   "execution_count": 59,
   "metadata": {},
   "outputs": [
    {
     "data": {
      "text/plain": [
       "0.03456"
      ]
     },
     "execution_count": 59,
     "metadata": {},
     "output_type": "execute_result"
    }
   ],
   "source": [
    "games = \"YYAAY\"\n",
    "p = 0.6\n",
    "\n",
    "p_game(games,'Y',p)"
   ]
  },
  {
   "cell_type": "code",
   "execution_count": 60,
   "metadata": {},
   "outputs": [
    {
     "data": {
      "text/plain": [
       "1"
      ]
     },
     "execution_count": 60,
     "metadata": {},
     "output_type": "execute_result"
    }
   ],
   "source": [
    "3**0"
   ]
  },
  {
   "cell_type": "code",
   "execution_count": null,
   "metadata": {},
   "outputs": [],
   "source": []
  },
  {
   "cell_type": "code",
   "execution_count": null,
   "metadata": {},
   "outputs": [],
   "source": []
  },
  {
   "cell_type": "code",
   "execution_count": null,
   "metadata": {},
   "outputs": [],
   "source": []
  },
  {
   "cell_type": "code",
   "execution_count": null,
   "metadata": {},
   "outputs": [],
   "source": []
  },
  {
   "cell_type": "code",
   "execution_count": null,
   "metadata": {},
   "outputs": [],
   "source": []
  },
  {
   "cell_type": "code",
   "execution_count": 61,
   "metadata": {},
   "outputs": [
    {
     "data": {
      "text/plain": [
       "['HHHHH',\n",
       " 'HHHHT',\n",
       " 'HHHTH',\n",
       " 'HHHTT',\n",
       " 'HHTHH',\n",
       " 'HHTHT',\n",
       " 'HHTTH',\n",
       " 'HHTTT',\n",
       " 'HTHHH',\n",
       " 'HTHHT',\n",
       " 'HTHTH',\n",
       " 'HTHTT',\n",
       " 'HTTHH',\n",
       " 'HTTHT',\n",
       " 'HTTTH',\n",
       " 'HTTTT',\n",
       " 'THHHH',\n",
       " 'THHHT',\n",
       " 'THHTH',\n",
       " 'THHTT',\n",
       " 'THTHH',\n",
       " 'THTHT',\n",
       " 'THTTH',\n",
       " 'THTTT',\n",
       " 'TTHHH',\n",
       " 'TTHHT',\n",
       " 'TTHTH',\n",
       " 'TTHTT',\n",
       " 'TTTHH',\n",
       " 'TTTHT',\n",
       " 'TTTTH',\n",
       " 'TTTTT']"
      ]
     },
     "execution_count": 61,
     "metadata": {},
     "output_type": "execute_result"
    }
   ],
   "source": [
    "[''.join(x) for x in itertools.product('HT', repeat=5)]"
   ]
  },
  {
   "cell_type": "code",
   "execution_count": null,
   "metadata": {},
   "outputs": [],
   "source": []
  }
 ],
 "metadata": {
  "kernelspec": {
   "display_name": "Python 3",
   "language": "python",
   "name": "python3"
  },
  "language_info": {
   "codemirror_mode": {
    "name": "ipython",
    "version": 3
   },
   "file_extension": ".py",
   "mimetype": "text/x-python",
   "name": "python",
   "nbconvert_exporter": "python",
   "pygments_lexer": "ipython3",
   "version": "3.7.9"
  }
 },
 "nbformat": 4,
 "nbformat_minor": 4
}
