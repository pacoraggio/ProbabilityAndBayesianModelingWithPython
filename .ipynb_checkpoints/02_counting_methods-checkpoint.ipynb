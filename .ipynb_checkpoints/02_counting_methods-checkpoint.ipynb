{
 "cells": [
  {
   "cell_type": "markdown",
   "metadata": {},
   "source": [
    "# Counting Methods"
   ]
  },
  {
   "cell_type": "markdown",
   "metadata": {},
   "source": [
    "## Introduction: Rolling Dice, Yahtzee, and Roulette"
   ]
  },
  {
   "cell_type": "markdown",
   "metadata": {},
   "source": [
    "Dice are one of the oldest randomization devices known to man. Egyptian tombs, dated from 2000 BC, were found containing dice and there is some evidence of dice in archaeological excavations dating back to 6000 BC. It is interesting to note that dice appeared to be invented independently by many ancient cultures across the world. In ancient times, the result of a die throw\n",
    "was not just considered luck, but determined by gods. So casting dice was often used as a way of making decisions such as choosing rulers or dividing inheritances. The Roman goddess, Fortuna, daughter of Zeus was believed to bring good or bad luck to individual"
   ]
  },
  {
   "cell_type": "markdown",
   "metadata": {},
   "source": [
    "## The Game of Yahtzee"
   ]
  },
  {
   "cell_type": "markdown",
   "metadata": {},
   "source": [
    "In the 19<sup>th</sup> and 20<sup>th</sup> centuries, standard six-sided dice became a basic component of many commercial board games that were developed. One of the most current popular games is Yahtzee that is played with five dice. The [Hasbro game company](http://www.hasbro.com) presents the history of the game. Yahtzee was invented by a wealthy Canadian couple to play aboard their yacht. This \"yacht\" game was popular among the couple’s friends, who wanted copies of the game for themselves. The couple approached Mr. Edwin Lowe, who made a fortune selling bingo games, about marketing the game. Mr. Lowe’s initial attempts to sell the game of Yahtzee by placing ads were not successful. Lowe thought that the game had to be played to be appreciated\n",
    "and he hosted a number of Yahtzee parties and the game became very successful. The Milton Bradley company acquired the E. S. Lowe Company and Yahtzee in 1973 and currently more than 50 million games are sold annually."
   ]
  },
  {
   "cell_type": "markdown",
   "metadata": {},
   "source": [
    "## The Casino Game of Roulette"
   ]
  },
  {
   "cell_type": "markdown",
   "metadata": {},
   "source": [
    "Roulette is one of the most popular casino games. The name roulette is derived from the French word meaning small wheel. Although the origin of the game is not clear, it became very popular during the 18<sup>th</sup> century when Prince Charles introduced gambling to Monaco to alleviate the country’s financial problems.\n",
    "\n",
    "The game was brought to America in the early part of the 19<sup>th</sup> century and is currently featured in all casinos. In addition, roulette is a popular game among people who like to game online. \n",
    "\n",
    "The American version of the game discussed in this book varies slightly from the European version. The American roulette wheel contains 38 pockets, numbers 1 through 36 plus zero plus double zero. The wheel is spun and a small metal ball comes to rest in one of the 38 pockets.\n",
    "\n",
    "Players will place chips on particular locations on a roulette table, predicting where the ball will land when after the wheel is spun and the ball comes to a stop. The dealer places a mark on the winning number. The players who have bet on the winning number are rewarded while the players who bet on losing numbers lose their chips to the casino."
   ]
  },
  {
   "cell_type": "markdown",
   "metadata": {},
   "source": [
    "## Equally Likely Outcomes"
   ]
  },
  {
   "cell_type": "markdown",
   "metadata": {},
   "source": [
    "Assume one writes the sample space in such a way that the outcomes are equally likely. Then, applying the classical interpretation, the probability of each outcome will be\n",
    "\n",
    "$$Prob(Outcome) = \\frac{1}{\\text{Number of outcomes}}$$\n",
    "\n",
    "If one is interested in the probability of some event, then the probability is given by:\n",
    "\n",
    "$$Prob(Event) = \\frac{\\text{Number of outcomes in event}}{\\text{Number of outcomes}}$$\n",
    "\n",
    "This simple formula should be used with caution. To illustrate the use (and misuse) of this formula, suppose one has a box containing five balls of which three are red, one is blue, and one is white. One selects three balls without replacement from the box – what is the probability that all red balls are chosen?"
   ]
  },
  {
   "cell_type": "markdown",
   "metadata": {},
   "source": [
    "Let's consider two representations of the sample space of this experiment.\n",
    "\n",
    "- **Sample space 1**: Suppose one does not distinguish between balls of the same color and does not care about the order in which the balls are selected. Then if $R$, $B$, $W$ denote choosing a red, blue, and white ball respectively, then there are four possible outcomes:\n",
    "\n",
    "$$S_{1} = \\{(R,R,R),(R,R,B),(R,R,W),(R,B,W)\\}$$\n",
    "\n",
    "If these outcomes in $S_{1}$ are assumed equally likely, then the probability of choosing all red balls is:\n",
    "\n",
    "$$Prob(\\text{all reds}) = \\frac{1}{4}$$"
   ]
  },
  {
   "cell_type": "markdown",
   "metadata": {},
   "source": [
    "- **Sample space 2**: Suppose instead that one distinguishes the balls of the same color, so the balls in the box are denoted by $R_{1}$, $R_{2}$, $R_{3}$, $B$, $W$. Then one writes down ten possible outcomes\n",
    "\n",
    "$$S_{2}=\\{(R_{1},R_{2},R_{3}), (R_{1},R_{2},B), (R_{1},R_{2},W), (R_{1},R_{3},B), (R_{1},R_{3},W), (R_{2},R_{3},B), (R_{2},R_{3},W),(R_{1},B,W),(R_{2},B,W),(R_{3},B,W)\\}$$\n",
    "\n",
    "If one assumes these outcomes are equally likely, then the probability of choosing all reds is\n",
    "\n",
    "$$Prob(\\text{all reds}) = \\frac{1}{10}$$"
   ]
  },
  {
   "cell_type": "markdown",
   "metadata": {},
   "source": [
    "If one compares the answers, one sees an obvious problem since one obtains two different answers for the probability of choosing all reds. What is going on? The problem is that the outcomes in the first sample space $S_{1}$ are not equally likely. In particular, the chance of choosing three reds $(R,R,R)$ is smaller than the chance of choosing a red, blue and white $(R,B,W)$ - there is only one way of selecting three reds, but there are three ways of selecting exactly one red. On the other hand, the outcomes in sample space $S_{2}$ are equally likely since one was careful to distinguish the five balls in the box, and it is reasonable that any three of the five balls has the same chance of being selected."
   ]
  },
  {
   "cell_type": "markdown",
   "metadata": {},
   "source": [
    "From this example, a couple of things have been learned. First, when one writes down a sample space, one should think carefully about the assumption that outcomes are equally likely. Second, when one has an experiment with duplicate items (like three red balls), it may be preferable to distinguish the items when one writes down the sample space and computes probabilities."
   ]
  },
  {
   "cell_type": "markdown",
   "metadata": {},
   "source": [
    "##### Sampling from a box\n",
    "\n",
    "One simulates this experiment on Python by first creating a list with the ball colors, and then using the `numpy` function `random.choice` to sample three balls from the list. The argument indicates that a sample of 3 is chosen, and the argument ensures that the sampling is done without replacement. In this particular simulation, one observes a red, blue, and red ball in our sample."
   ]
  },
  {
   "cell_type": "code",
   "execution_count": 1,
   "metadata": {},
   "outputs": [
    {
     "data": {
      "text/plain": [
       "array(['blue', 'red', 'white'], dtype='<U5')"
      ]
     },
     "execution_count": 1,
     "metadata": {},
     "output_type": "execute_result"
    }
   ],
   "source": [
    "import numpy as np\n",
    "\n",
    "box = ['red','red','red','blue','white']\n",
    "\n",
    "np.random.choice(box,3,replace = False)"
   ]
  },
  {
   "cell_type": "markdown",
   "metadata": {},
   "source": [
    "## The Multiplication Counting Rule"
   ]
  },
  {
   "cell_type": "markdown",
   "metadata": {},
   "source": [
    "To apply the equally likely recipe for computing probabilities, one needs some methods for counting the number of outcomes in the sample space and the number of outcomes in the event. Here we illustrate a basic counting rule called the multiplication rule.\n",
    "\n",
    "Suppose you are dining at your favorite restaurant. Your dinner consists of an appetizer, an entrée, and a dessert. You can either choose soup, fruit cup, or quesadillas for your appetizer, you have the choice of chicken, beef, fish, or lamb for your entrée, and you can have either pie or ice cream for your dessert. We first use a tree diagram to write down all of your possible dinners, in Figure 2.1. The first set of branches shows the appetizers, the next set of branches the entr´ ees, and the last set of branches the desserts."
   ]
  },
  {
   "cell_type": "markdown",
   "metadata": {
    "caption": "somecaption",
    "hide_input": false,
    "label": "fig:somelabel",
    "widefigure": true
   },
   "source": [
    "<img src=\"./figures/chap_02/figure_2_1.png\">"
   ]
  },
  {
   "cell_type": "markdown",
   "metadata": {},
   "source": [
    "Note that there are 3 possible appetizers, 4 possible entrée, and 2 possible desserts. For each appetizer, there are 4 possible entrée, and so there are $3 \\times 4 = 12$ possible choices of appetizer and entrée. Using similar reasoning, for each combination of appetizer and entrée, there are 2 possible desserts, and so the total number of complete dinners would be\n",
    "\n",
    "$$\\text{Number of dinners} = 3 \\times 4 \\times 2 = 24$$\n",
    "\n",
    "The above dining example illustrates a general counting rule that we call the **multiplication rule**."
   ]
  },
  {
   "cell_type": "markdown",
   "metadata": {},
   "source": [
    "- **Multiplication Rule**: Suppose one is performing a task that consists of $k$ steps. One performs the first step $n_{1}$ ways, the second step in $n_{2}$ ways and so on. Then the number of ways of completing the task, denoted by $n$, is the product of the different ways of doing the $k$ steps, or\n",
    "\n",
    "$$n = n_{1} \\times n_{2} \\times n_{3} \\times \\dots n_{k} $$\n"
   ]
  },
  {
   "cell_type": "markdown",
   "metadata": {},
   "source": [
    "## Permutations\n",
    "\n",
    "Suppose one places six songs, Song A, Song B, Song C, Song D, Song E, and Song F in one’s playlist on the streaming service. The songs are played in a random order and one listens to the first three songs. How many different selections of three songs can one hear? In this example, one is assuming that the order that the songs are played is important. So hearing the selections\n",
    "\n",
    "$$\\text{Song } A, \\text{Song } B, \\text{Song } C$$\n",
    "\n",
    "in that order will be considered different from hearing the selections in the sequence\n",
    "\n",
    "$$\\text{Song } C, \\text{Song } B, \\text{Song } A$$\n",
    "\n",
    "An outcome such as this is called a permutation or arrangement of 3 out of the 6 songs. One represents possible permutations by a set of three blanks, where songs are placed in the blanks.\n",
    "\n",
    "|   -    |   -    |    -    |\n",
    "|--------|--------|---------|\n",
    "|1st Song|2nd Song|3rd Song |\n",
    "\n",
    "One computes the number of permutations as follows:\n",
    "\n",
    "1. First,  it is known that 6 possible songs can be played first. One places this number in the first blank above.\n",
    "\n",
    "|   6    |   -    |    -    |\n",
    "|--------|--------|---------|\n",
    "|1st Song|2nd Song|3rd Song |\n",
    "\n"
   ]
  },
  {
   "cell_type": "markdown",
   "metadata": {},
   "source": [
    "2. If one places a particular song, say Song A, in the first slot, there are 5 possible songs in the second position. One places this number in the second blank.\n",
    "\n",
    "|   6    |   5    |    -    |\n",
    "|--------|--------|---------|\n",
    "|1st Song|2nd Song|3rd Song |\n",
    "\n",
    "By use of the multiplication rule, there are $6 \\times 5 = 30$ ways of placing two songs in the first two slots.\n",
    "\n",
    "3. Continuing in the same way, one sees that there are 4 ways of putting a song in the third slot and completing the list of three songs.\n",
    "\n",
    "|   6    |   5    |    4    |\n",
    "|--------|--------|---------|\n",
    "|1st Song|2nd Song|3rd Song |\n",
    "\n",
    "\n",
    "Again using the multiplication rule, we see that the number of possible permutations of six songs in the three positions is\n",
    "\n",
    "$$6 \\times 5 \\times 4$$\n",
    "\n",
    "A second basic counting rule has just been illustrated."
   ]
  },
  {
   "cell_type": "markdown",
   "metadata": {},
   "source": [
    "- **Permutation Rule**: if one has $n$ objects (all distinguishable), then the number of ways to arrange $r$ of them, called the *number of permutation* is:\n",
    "$$_{n}P_{r} = n \\times (n-1) \\times (n-2) \\times \\dots \\times (n-r-1)$$.\n",
    "\n",
    "$$ ^nP_r=\\frac{n!}{(n-r)!} = n \\times (n-1) \\times (n-2) \\times \\dots \\times (n-r-1)$$"
   ]
  },
  {
   "cell_type": "markdown",
   "metadata": {},
   "source": [
    "In this example, $n = 6$ and $r = 3$, and If three songs are played in one’s playlist, each of the 120 possible permutations will be equally likely to occur. So the probability of any single permutation, say\n",
    "\n",
    "$$\\text{Song } A, \\text{Song } D, \\text{Song } B$$\n",
    "\n",
    "is equal to $1/120$.\n",
    "\n",
    "Suppose one listens to all six songs on the playlist. How many possible orders are there? In this case, one is interested in finding the number of ways of arranging the entire set of 6 objects. Here $n = 6$ and $r = 6$ and, applying the permutation rule formula, the number of permutations is\n",
    "\n",
    "$$ ^6P_6= {n!} = {6!} = 6 \\times 5 \\times 4 \\times  \\dots \\times 1 = 720$$\n",
    "\n",
    "One uses the special symbol $n!$, pronounced \"n factorial\", to denote the product of the integers from 1 to $n$. So the number of ways of arranging $n$ distinct objects is\n",
    "\n",
    "$$ ^nP_n= {n!} = {n!} = n \\times (n-1) \\times (n-2) \\times \\dots \\times 1 = 720$$"
   ]
  },
  {
   "cell_type": "markdown",
   "metadata": {},
   "source": [
    "##### Simulating a Permutation"
   ]
  },
  {
   "cell_type": "markdown",
   "metadata": {},
   "source": [
    "To illustrate simulating a permutation, we can define a function `permutation()` with arguments `d` and `size`. Inside the function, the `np.random.choice()` function takes a sample of size `size` without replacement from the vector `d` and creates a single string with the arrangement of the `Size` values. To use this function, a vector songs is defined containing the names of the six songs. One applies the `permutation()` function with arguments `songs` and $3$ and the simulated arrangement of songs is C, B, and F."
   ]
  },
  {
   "cell_type": "code",
   "execution_count": 2,
   "metadata": {},
   "outputs": [],
   "source": [
    "songs = [\"Song A\", \"Song B\", \"Song C\", \"Song D\",\"Song E\", \"Song F\"]"
   ]
  },
  {
   "cell_type": "code",
   "execution_count": 3,
   "metadata": {},
   "outputs": [],
   "source": [
    "import numpy as np\n",
    "np.random.seed(1234)\n",
    "\n",
    "def permutation(d, size):\n",
    "    ls = np.random.choice(songs,3, replace = False)\n",
    "    out = \"\"\n",
    "    for i in ls:\n",
    "        out = out + i + \" \"\n",
    "    \n",
    "    return(out[:-1])"
   ]
  },
  {
   "cell_type": "code",
   "execution_count": 4,
   "metadata": {},
   "outputs": [
    {
     "data": {
      "text/plain": [
       "'Song C Song B Song F'"
      ]
     },
     "execution_count": 4,
     "metadata": {},
     "output_type": "execute_result"
    }
   ],
   "source": [
    "permutation(songs, 3)"
   ]
  },
  {
   "cell_type": "markdown",
   "metadata": {},
   "source": [
    "## Combinations"
   ]
  },
  {
   "cell_type": "markdown",
   "metadata": {},
   "source": [
    "Suppose one has a box with five balls – three are white and two are black. One first shakes up the box and then chooses two balls out without replacement, i.e. once one takes a ball out, one does not return it to the box before the second ball is taken out.\n",
    "\n",
    "To make it easier to talk about outcomes, the five balls have been labelled from 1 to 5. Remember one is choosing two balls from the box and an outcome is the numbers of the two balls that one selects. When one lists possible outcomes, one should decide if it matters how one orders the selection of balls. That is, if one chooses ball 1 and then ball 2, is that different than choosing ball 2 and then ball 1?\n",
    "\n",
    "One could say that order is important – so choosing ball 1 then ball 2 is a different outcome from ball 2 then ball 1. But in this type of selection problem, it is common practice not to consider the order of the selection. Then all that matters is the collection of two balls that we select. In this case, one calls the resulting outcome a combination.\n",
    "\n",
    "When order does not matter, there are 10 possible pairs of balls that one can select. "
   ]
  },
  {
   "cell_type": "markdown",
   "metadata": {},
   "source": [
    "- **Combinations Rule**: Suppose one has $n$ objects and one wishes to take a subset of size $r$ from the group of objects without regards to order. Then the number of subsets or combinations is given by the formula:\n",
    "\n",
    "$$ \\text{number of combinations} = \\binom{n}{r} = {}^{n}C_{r} = C_{n}^k  = \\frac{n!}{r!(n - r)!}$$\n",
    "\n",
    "where $k!$ stands for $k$ factorial $k! = k \\times (k−1) \\times (k−2) \\times \\dots \\times 1$. You might have seen another notation $\\binom{n}{r}$ when people talk about combinations. This notation is pronounced \"n choose r\", and it is the same as $\\binom{n}{r}$.\n",
    "\n",
    "Let’s try the formula in our example to see if it agrees with our number. In our setting, one has $n = 5$ balls and one is selecting a subset of size $r = 2$ from the box of balls. Using $n = 5$ and $r = 2$ in the formula, one obtains\n",
    "\n",
    "$$\\binom{5}{2} = \\frac{5!}{2!(5-2)!} = \\frac{5 \\times 4 \\times 3 \\times 2 \\times 1}{[2 \\times 1] \\times [3 \\times 2 \\times 1]} = \\frac{120}{12} = 10$$\n",
    "\n",
    "that agrees with our earlier answer of 10 outcomes in the sample space."
   ]
  },
  {
   "cell_type": "markdown",
   "metadata": {},
   "source": [
    "##### Simulating Combinations"
   ]
  },
  {
   "cell_type": "markdown",
   "metadata": {},
   "source": [
    "To illustrate combinations, define a vector `numbers` containing the integers from 1 to 5. The Python function `itertools.combinations()` generates all combinations of a set of a specific size. The matrix all combo is displayed which contains all combinations of size 2 from Numbers"
   ]
  },
  {
   "cell_type": "code",
   "execution_count": 5,
   "metadata": {},
   "outputs": [
    {
     "data": {
      "text/plain": [
       "[(1, 2),\n",
       " (1, 3),\n",
       " (1, 4),\n",
       " (1, 5),\n",
       " (2, 3),\n",
       " (2, 4),\n",
       " (2, 5),\n",
       " (3, 4),\n",
       " (3, 5),\n",
       " (4, 5)]"
      ]
     },
     "execution_count": 5,
     "metadata": {},
     "output_type": "execute_result"
    }
   ],
   "source": [
    "import itertools\n",
    "import numpy as np\n",
    "\n",
    "numbers = [1, 2, 3, 4, 5]\n",
    "months = ['Jan','Feb','Mar','May','Jun','Jul','Aug','Sep','Oct','Nov','Dec']\n",
    "mt = np.array(months)\n",
    "\n",
    "list(itertools.combinations(numbers, 2))"
   ]
  },
  {
   "cell_type": "code",
   "execution_count": 6,
   "metadata": {},
   "outputs": [
    {
     "data": {
      "text/plain": [
       "330"
      ]
     },
     "execution_count": 6,
     "metadata": {},
     "output_type": "execute_result"
    }
   ],
   "source": [
    "len(list(itertools.combinations(mt, 4)))"
   ]
  },
  {
   "cell_type": "code",
   "execution_count": 7,
   "metadata": {},
   "outputs": [
    {
     "data": {
      "text/plain": [
       "330.0"
      ]
     },
     "execution_count": 7,
     "metadata": {},
     "output_type": "execute_result"
    }
   ],
   "source": [
    "from scipy.special import binom\n",
    "\n",
    "binom(len(mt),4)"
   ]
  },
  {
   "cell_type": "code",
   "execution_count": 8,
   "metadata": {},
   "outputs": [
    {
     "data": {
      "text/plain": [
       "<ufunc 'binom'>"
      ]
     },
     "execution_count": 8,
     "metadata": {},
     "output_type": "execute_result"
    }
   ],
   "source": [
    "binom"
   ]
  },
  {
   "cell_type": "markdown",
   "metadata": {},
   "source": [
    "### Number of subsets "
   ]
  },
  {
   "cell_type": "markdown",
   "metadata": {},
   "source": [
    "Suppose one has a group of $n$ objects and one is interested in the total number of subsets of this group. Then this total number is:\n",
    "\n",
    "$$2^n = \\binom{n}{0} + \\binom{n}{1} + \\dots + \\binom{n}{n}$$\n",
    "\n",
    "the formula $2^n$ is found by noticing there are two possibilities for each object – either the object is in the subset or it is not – and then applying the multiplication rule. The right hand side of the equation is derived by first counting the number of subsets of size 0, of size 1, of size 2, and so on, and then adding all of these subset numbers to get the total number."
   ]
  },
  {
   "cell_type": "markdown",
   "metadata": {},
   "source": [
    "##### Counting the number of pizzas\n",
    "\n",
    "To illustrate the combinations rule, consider a situation where one is interested in ordering a pizza and there are six possible toppings.\n",
    "\n",
    "How many toppings can there be in the pizza? Since there are six possible toppings, one can either have 0, 1, 2, 3, 4, 5, or 6 toppings on our pizza. Using combinations rule formula,\n",
    "\n",
    "- There are $\\binom{6}{0}$ pizzas that have no toppings\n",
    "- There are $\\binom{6}{1}$ pizzas that have one topping\n",
    "- There are $\\binom{6}{2}$ pizzas that have two toppings\n",
    "\n",
    "To compute the total number of different pizzas, one continues in this fashion and the total number of possible pizzas is:\n",
    "\n",
    "$$ N = \\binom{6}{0} + \\binom{6}{1} +\\binom{6}{2} +\\binom{6}{3} +\\binom{6}{4} +\\binom{6}{5} +\\binom{6}{6}$$"
   ]
  },
  {
   "cell_type": "code",
   "execution_count": 9,
   "metadata": {},
   "outputs": [
    {
     "data": {
      "text/plain": [
       "64.0"
      ]
     },
     "execution_count": 9,
     "metadata": {},
     "output_type": "execute_result"
    }
   ],
   "source": [
    "sum = 0\n",
    "for i in range(0,7):\n",
    "    sum = sum + binom(6,i)\n",
    "    \n",
    "sum"
   ]
  },
  {
   "cell_type": "code",
   "execution_count": 10,
   "metadata": {},
   "outputs": [
    {
     "data": {
      "text/plain": [
       "64"
      ]
     },
     "execution_count": 10,
     "metadata": {},
     "output_type": "execute_result"
    }
   ],
   "source": [
    "2**6"
   ]
  },
  {
   "cell_type": "markdown",
   "metadata": {},
   "source": [
    "## Arrangements of Non-Distinct Objects"
   ]
  },
  {
   "cell_type": "markdown",
   "metadata": {},
   "source": [
    "First let’s use a simple example to review the two basic counting rules that we have discussed. Suppose one is making up silly words from the letters \"a\", \"b\", \"c\", \"d\", \"e\", \"f\", like bacedf, decabf, eabcfd. \n",
    "\n",
    "How many different words cane one make up? Here one has $n=6$ objects. Using the permutation rule, the number of possible permutations is $6! = 6 \\times 5 \\times 4 \\times 3 \\times 2 \\times 1$"
   ]
  },
  {
   "cell_type": "markdown",
   "metadata": {},
   "source": [
    "To illustrate the second counting rule, suppose one has six letters \"a\", \"b\", \"c\", \"d\", \"e\", \"f\", and one is going to choose three of the letters to construct a three-letter word. One cannot choose the same letter twice and the order in which one chooses the letters is not important. In this case, one is interested in the number of combinations – applying our combination rule with $n=6$ and $k = 3$ the number of ways of choosing three letters from six is equal to:\n",
    "\n",
    "$$\\binom{6}{3} = \\frac{6!}{3!3!}$$"
   ]
  },
  {
   "cell_type": "markdown",
   "metadata": {},
   "source": [
    "Now consider a different arrangement problem. Suppose one randomly arranges four triangles and five squares. What is the chance that the first and last location are occupied by triangles?  This is an arrangement problem with one difference – the objects are not all distinct – one cannot distinguish the four triangles or the five squares. So one cannot use the earlier permutations rule that assumes the objects are distinguishable. How can one count the number of possible arrangements? It turns out that the combinations rule is useful here."
   ]
  },
  {
   "cell_type": "markdown",
   "metadata": {},
   "source": [
    "To think about possible arrangements, suppose one writes down a list of nine slots and an arrangement is constructed by placing the triangles and the squares in the nine slots. It is helpful to label the slots with the numbers 1 through 9"
   ]
  },
  {
   "cell_type": "markdown",
   "metadata": {},
   "source": [
    "One specifies an arrangement by choosing four locations from the slot locations {1, 2, 3, 4, 5, 6, 7, 8, 9}. How many ways can this be done? One knows that the number of ways of selecting four objects (here labels of locations) from a group of nine objects is\n",
    "\n",
    "$$\\binom{9}{4} = \\frac{9!}{4!(9-4)!} = 126$$"
   ]
  },
  {
   "cell_type": "code",
   "execution_count": 11,
   "metadata": {},
   "outputs": [
    {
     "data": {
      "text/plain": [
       "126.0"
      ]
     },
     "execution_count": 11,
     "metadata": {},
     "output_type": "execute_result"
    }
   ],
   "source": [
    "binom(9,4)"
   ]
  },
  {
   "cell_type": "code",
   "execution_count": 12,
   "metadata": {},
   "outputs": [
    {
     "data": {
      "text/plain": [
       "<BarContainer object of 10 artists>"
      ]
     },
     "execution_count": 12,
     "metadata": {},
     "output_type": "execute_result"
    },
    {
     "data": {
      "image/png": "[encoded data removed]",
      "text/plain": [
       "<Figure size 432x288 with 1 Axes>"
      ]
     },
     "metadata": {
      "needs_background": "light"
     },
     "output_type": "display_data"
    }
   ],
   "source": [
    "import matplotlib.pyplot as plt\n",
    "import numpy as np\n",
    "\n",
    "n = 9\n",
    "\n",
    "y = binom(n,np.arange(0,n+1))\n",
    "\n",
    "plt.bar(np.arange(0,n+1),y)"
   ]
  },
  {
   "cell_type": "markdown",
   "metadata": {},
   "source": [
    "So there are 126 ways of choosing the four locations for the triangles. Once the triangles have been placed, one finishes the arrangement by putting in the squares. But there is only one way of doing this. For example, if one places triangles in slots 2, 5, 6, 7, then the squares must go in slots 1, 3, 4, 8, 9. So applying the multiplication rule, the number of ways of arranging four triangles and five squares is $126 \\times 1 = 126$"
   ]
  },
  {
   "cell_type": "markdown",
   "metadata": {},
   "source": [
    "- **Permutations Rule for Non-Distinct Objects**: The number of permutation of $n$ non-distinct objects where $r$ are of one type and $n-r$ are of a second type is:\n",
    "\n",
    "$$\\binom{n}{r}=\\frac{n!}{r!(n-r)!}$$"
   ]
  },
  {
   "cell_type": "markdown",
   "metadata": {},
   "source": [
    "Recall the question that of interest: Suppose four triangles and five squares are randomly arranged. What is the chance that the first and last locations are occupied by triangles?\n",
    "\n",
    "It has already been shown that there are 126 ways of mixing up four triangles and five squares. Each possible arrangement is equally likely and has a chance of 1/126 of occurring.\n",
    "\n",
    "To find the probability, one needs to count the number of ways of arranging the triangles and squares so that the first and last positions are filled with triangles."
   ]
  },
  {
   "cell_type": "markdown",
   "metadata": {},
   "source": [
    "If one places triangles in slots 1 and 9 (and there is only one way of doing that), then one is free to arrange the remaining two triangles and five squares in slots {2, 3, 4, 5, 6, 7, 8, 9}. By use of the new arrangements formula, the number of ways of doing this is\n",
    "\n",
    "$$\\binom{7}{2} = \\frac{7!}{2!(7-2)!} = 21$$\n",
    "\n",
    "and so the probability the first and last slots are filled with triangles is equal to $21/126$."
   ]
  },
  {
   "cell_type": "markdown",
   "metadata": {},
   "source": [
    "##### Simulating Arrangements of Non-Distinct Objects\n",
    "\n",
    "Consider the above example of four triangles and five squares for permutation for Non Distinct object and see the resoult of a simulation of different sample sets.  We will simulate triangels and squares with a pyton list of characters ('t' for triangles and 's' for squares).\n",
    "\n",
    "Using `numpy.random.choice` function to simulate a permutation of non-distinct object case with a different sample size we will see how increasing the sample size will provide a better approssimation of the theoretical (classical) result."
   ]
  },
  {
   "cell_type": "code",
   "execution_count": 13,
   "metadata": {},
   "outputs": [],
   "source": [
    "from numpy.random import choice as msample\n",
    "\n",
    "def permutation(lst, size):\n",
    "    draw = msample(lst_obj, size, replace = False)\n",
    "    out = \"\"\n",
    "    for i in draw:\n",
    "        out = out + i\n",
    "    return(out)"
   ]
  },
  {
   "cell_type": "code",
   "execution_count": 14,
   "metadata": {},
   "outputs": [],
   "source": [
    "import pandas as pd\n",
    "import numpy as np\n",
    "\n",
    "lst_obj = ['s','s','s','s','s','t','t','t','t']\n",
    "places = 9\n",
    "\n",
    "n_arrange = 10000\n",
    "df = pd.DataFrame({'Iter':np.arange(0,n_arrange),\n",
    "                 'Arrangement':[permutation(lst_obj,places) for _ in np.arange(0,n_arrange)]})"
   ]
  },
  {
   "cell_type": "code",
   "execution_count": 15,
   "metadata": {},
   "outputs": [],
   "source": [
    "n_arrange = np.linspace(100,5000,20)\n",
    "\n",
    "first_final_sum = []\n",
    "for i in n_arrange:\n",
    "    df = pd.DataFrame({'Iter':np.arange(0,i),\n",
    "                     'Arrangement':[permutation(lst_obj,places) for _ in np.arange(0,i)]})\n",
    "    lst_index = [it for it in df.groupby('Arrangement').count().index if(it[0] == it[-1] == 't')]\n",
    "    first_final_sum.append(df.groupby('Arrangement').count().loc[lst_index]['Iter'].sum())"
   ]
  },
  {
   "cell_type": "code",
   "execution_count": 16,
   "metadata": {},
   "outputs": [
    {
     "data": {
      "text/plain": [
       "array([0.14      , 0.17044118, 0.20136752, 0.1636747 , 0.18381395,\n",
       "       0.17272727, 0.17178914, 0.17162983, 0.18676399, 0.171     ,\n",
       "       0.16013752, 0.16820789, 0.17184514, 0.15553354, 0.16358865,\n",
       "       0.16505305, 0.17059776, 0.16123239, 0.16891232, 0.1686    ])"
      ]
     },
     "execution_count": 16,
     "metadata": {},
     "output_type": "execute_result"
    }
   ],
   "source": [
    "np.array(first_final_sum)/np.array(n_arrange)"
   ]
  },
  {
   "cell_type": "code",
   "execution_count": 17,
   "metadata": {},
   "outputs": [
    {
     "data": {
      "text/plain": [
       "0.16666666666666666"
      ]
     },
     "execution_count": 17,
     "metadata": {},
     "output_type": "execute_result"
    }
   ],
   "source": [
    "21/126"
   ]
  },
  {
   "cell_type": "code",
   "execution_count": 18,
   "metadata": {},
   "outputs": [
    {
     "data": {
      "text/plain": [
       "[<matplotlib.lines.Line2D at 0x1c54f381a08>]"
      ]
     },
     "execution_count": 18,
     "metadata": {},
     "output_type": "execute_result"
    },
    {
     "data": {
      "image/png": "[encoded data removed]",
      "text/plain": [
       "<Figure size 432x288 with 1 Axes>"
      ]
     },
     "metadata": {
      "needs_background": "light"
     },
     "output_type": "display_data"
    }
   ],
   "source": [
    "plt.plot(np.array(n_arrange),np.array(first_final_sum)/np.array(n_arrange),marker='+',)"
   ]
  },
  {
   "cell_type": "code",
   "execution_count": 19,
   "metadata": {},
   "outputs": [
    {
     "data": {
      "text/plain": [
       "126"
      ]
     },
     "execution_count": 19,
     "metadata": {},
     "output_type": "execute_result"
    }
   ],
   "source": [
    "len(df.groupby('Arrangement').count())"
   ]
  },
  {
   "cell_type": "code",
   "execution_count": 20,
   "metadata": {},
   "outputs": [],
   "source": [
    "lst_index = [it for it in df.groupby('Arrangement').count().index if(it[0] == it[-1] == 't')]"
   ]
  },
  {
   "cell_type": "code",
   "execution_count": 21,
   "metadata": {},
   "outputs": [
    {
     "data": {
      "text/plain": [
       "21"
      ]
     },
     "execution_count": 21,
     "metadata": {},
     "output_type": "execute_result"
    }
   ],
   "source": [
    "df.groupby('Arrangement').count().loc[lst_index].shape[0]"
   ]
  },
  {
   "cell_type": "code",
   "execution_count": 22,
   "metadata": {},
   "outputs": [
    {
     "data": {
      "text/plain": [
       "843"
      ]
     },
     "execution_count": 22,
     "metadata": {},
     "output_type": "execute_result"
    }
   ],
   "source": [
    "df.groupby('Arrangement').count().loc[lst_index]['Iter'].sum()"
   ]
  },
  {
   "cell_type": "code",
   "execution_count": 23,
   "metadata": {},
   "outputs": [
    {
     "name": "stdout",
     "output_type": "stream",
     "text": [
      "sssstttts\n",
      "ssststtts\n",
      "sssttstts\n",
      "ssstttsts\n",
      "sssttttss\n",
      "sstssttts\n",
      "sstststts\n",
      "sststtsts\n",
      "sststttss\n",
      "ssttsstts\n",
      "ssttststs\n",
      "ssttsttss\n",
      "sstttssts\n",
      "sstttstss\n",
      "ssttttsss\n",
      "stsssttts\n",
      "stsststts\n",
      "stssttsts\n",
      "stsstttss\n",
      "ststsstts\n",
      "ststststs\n",
      "stststtss\n",
      "ststtssts\n",
      "ststtstss\n",
      "ststttsss\n",
      "sttssstts\n",
      "sttsststs\n",
      "sttssttss\n",
      "sttstssts\n",
      "sttststss\n",
      "sttsttsss\n",
      "stttsssts\n",
      "stttsstss\n",
      "stttstsss\n",
      "sttttssss\n"
     ]
    }
   ],
   "source": [
    "for it in df.groupby('Arrangement').count().index:\n",
    "    if(it[0] == it[-1] == 's'):\n",
    "        print(it)"
   ]
  },
  {
   "cell_type": "markdown",
   "metadata": {},
   "source": [
    "### Which Rule to Use?\n",
    "\n",
    "Three important counting rules have been described, the permutations rule for distinct objects, the combinations rule, and the permutations rule for non-distinct objects. How can one decide which rule to apply in a given problem? Here are some tips to help one find the right rule\n",
    "\n",
    "- **Do We Care About Order**: If an outcome consists of a collection of objects, does the order that one list the objects matter? If order does matter, then a permutations rule may be appropriate. If the order of the objects does not matter, such as choosing a subset from a larger group, then a combinations rule is probably more suitable.\n",
    "\n",
    "- **Are the Objects Distinguishable**: There are two permutation rules, one that applies when all of the objects are distinguishable, and the second where there are two types of objects and one cannot? distinguish between the objects of each type.\n",
    "\n",
    "- **When In Doubt**: If the first two tips do not seem helpful, it may benefit to start writing down a few outcomes in the sample space. When one looks at different outcomes, one should recognize if order is important and if the objects are distinguishable."
   ]
  },
  {
   "cell_type": "code",
   "execution_count": null,
   "metadata": {},
   "outputs": [],
   "source": []
  },
  {
   "cell_type": "code",
   "execution_count": null,
   "metadata": {},
   "outputs": [],
   "source": []
  },
  {
   "cell_type": "code",
   "execution_count": null,
   "metadata": {},
   "outputs": [],
   "source": []
  },
  {
   "cell_type": "markdown",
   "metadata": {},
   "source": [
    "## Python Appendix"
   ]
  },
  {
   "cell_type": "markdown",
   "metadata": {},
   "source": [
    "Let's look to some exercise about counting methods and compare the theoretical value with the python output. For the following exercises, I will use the following notation:\n",
    "\n",
    "- Permutation:\n",
    "\n",
    "$$ ^nP_r=\\frac{n!}{(n-r)!} = n \\times (n-1) \\times (n-2) \\times \\dots \\times (n-r-1)$$\n",
    "\n",
    "- Combination\n",
    "\n",
    "$$ ^nC_r=\\frac{n!}{r!(n-r)!}$$\n",
    "\n",
    "I will also use the following function for computing permutations and combinations"
   ]
  },
  {
   "cell_type": "code",
   "execution_count": 24,
   "metadata": {},
   "outputs": [],
   "source": [
    "import numpy as np\n",
    "from math import factorial\n",
    "\n",
    "def m_nperm(n, r=None):\n",
    "    '''\n",
    "    Compute the number of permutation\n",
    "    '''\n",
    "    if r is None:\n",
    "        r = n\n",
    "    return(factorial(n)/factorial(n-r))"
   ]
  },
  {
   "cell_type": "code",
   "execution_count": 25,
   "metadata": {},
   "outputs": [],
   "source": [
    "import numpy as np\n",
    "from math import factorial\n",
    "\n",
    "def m_ncomb(n,r):\n",
    "    '''\n",
    "    Compute the number of combination\n",
    "    '''\n",
    "    return(factorial(n)/(factorial(r)*factorial(n-r)))"
   ]
  },
  {
   "cell_type": "markdown",
   "metadata": {},
   "source": [
    "I will also use the `itertools` python package to generate the permutations and combinations of different entities "
   ]
  },
  {
   "cell_type": "markdown",
   "metadata": {},
   "source": [
    "##### Exercise 1\n",
    "\n",
    "> Eight birds are to be placed in eight different cages. How many arrangements are possible if each bird is placed in a separate cage.\n",
    "\n",
    "This problem involves the ***permutation*** of eight different objects in eight different $^8P_8$. The number of items in the sample space is: "
   ]
  },
  {
   "cell_type": "code",
   "execution_count": 26,
   "metadata": {},
   "outputs": [
    {
     "name": "stdout",
     "output_type": "stream",
     "text": [
      "40320.0\n"
     ]
    }
   ],
   "source": [
    "print(m_nperm(8,8))"
   ]
  },
  {
   "cell_type": "markdown",
   "metadata": {},
   "source": [
    "Now let's use Python to generate all possible permutations of eight objects (characters) and count how many outcomes we get. "
   ]
  },
  {
   "cell_type": "code",
   "execution_count": 27,
   "metadata": {},
   "outputs": [],
   "source": [
    "import itertools\n",
    "import numpy as np\n",
    "\n",
    "l1 = list('abcdefgh')\n",
    "\n",
    "perm_birds = [''.join(x) for x in itertools.permutations(l1)]\n",
    "perm_birds_2 = [''.join(x) for x in set(itertools.permutations(l1))]"
   ]
  },
  {
   "cell_type": "code",
   "execution_count": 28,
   "metadata": {},
   "outputs": [
    {
     "data": {
      "text/plain": [
       "40320"
      ]
     },
     "execution_count": 28,
     "metadata": {},
     "output_type": "execute_result"
    }
   ],
   "source": [
    "len(perm_birds)"
   ]
  },
  {
   "cell_type": "code",
   "execution_count": 29,
   "metadata": {},
   "outputs": [
    {
     "data": {
      "text/plain": [
       "40320"
      ]
     },
     "execution_count": 29,
     "metadata": {},
     "output_type": "execute_result"
    }
   ],
   "source": [
    "len(perm_birds_2)"
   ]
  },
  {
   "cell_type": "markdown",
   "metadata": {},
   "source": [
    "We can also print different examples of the permutations"
   ]
  },
  {
   "cell_type": "code",
   "execution_count": 30,
   "metadata": {},
   "outputs": [
    {
     "name": "stdout",
     "output_type": "stream",
     "text": [
      "hbdfeagc\n",
      "agedhfbc\n",
      "efdbhagc\n",
      "aghbdcef\n",
      "ahgcefbd\n"
     ]
    }
   ],
   "source": [
    "for i in np.random.choice(perm_birds, 5, replace = False):\n",
    "    print(i)"
   ]
  },
  {
   "cell_type": "markdown",
   "metadata": {},
   "source": [
    "##### Exercise 2\n",
    "\n",
    "> 1. How many committees of 4 people can be chosen from 5 men and 3 women? \n",
    "> 2. How many of these could be all men? (c) How many would consist of 2 men and 2 women?\n",
    "\n",
    "1. To answer this question we need to find all the combination of 4 people composed by 8 persons (5 men and 3 women) $^nC_r$. "
   ]
  },
  {
   "cell_type": "code",
   "execution_count": 31,
   "metadata": {},
   "outputs": [
    {
     "name": "stdout",
     "output_type": "stream",
     "text": [
      "70.0\n"
     ]
    }
   ],
   "source": [
    "print(m_ncomb(8,4))"
   ]
  },
  {
   "cell_type": "code",
   "execution_count": 32,
   "metadata": {},
   "outputs": [],
   "source": [
    "candidates = list('mmmmmwww')\n",
    "\n",
    "# len(list(itertools.combinations(candidates, 4)))\n",
    "comb_candidates = np.array([''.join(x) for x in itertools.combinations(candidates, 4)])"
   ]
  },
  {
   "cell_type": "code",
   "execution_count": 33,
   "metadata": {},
   "outputs": [
    {
     "data": {
      "text/plain": [
       "70"
      ]
     },
     "execution_count": 33,
     "metadata": {},
     "output_type": "execute_result"
    }
   ],
   "source": [
    "len(comb_candidates)"
   ]
  },
  {
   "cell_type": "code",
   "execution_count": 34,
   "metadata": {},
   "outputs": [
    {
     "data": {
      "text/plain": [
       "array(['mmmm', 'mmmm', 'mmmw', 'mmmw', 'mmmw', 'mmmm', 'mmmw', 'mmmw',\n",
       "       'mmmw', 'mmmw'], dtype='<U4')"
      ]
     },
     "execution_count": 34,
     "metadata": {},
     "output_type": "execute_result"
    }
   ],
   "source": [
    "comb_candidates[:10]"
   ]
  },
  {
   "cell_type": "markdown",
   "metadata": {},
   "source": [
    "- (b) For this question we can just consider the number of combinations that 5 men can form with 4 places $^5C_4 = 5$"
   ]
  },
  {
   "cell_type": "code",
   "execution_count": 35,
   "metadata": {},
   "outputs": [
    {
     "name": "stdout",
     "output_type": "stream",
     "text": [
      "5.0\n"
     ]
    }
   ],
   "source": [
    "print(m_ncomb(5,4))"
   ]
  },
  {
   "cell_type": "code",
   "execution_count": 36,
   "metadata": {},
   "outputs": [
    {
     "data": {
      "text/plain": [
       "5"
      ]
     },
     "execution_count": 36,
     "metadata": {},
     "output_type": "execute_result"
    }
   ],
   "source": [
    "len(comb_candidates[comb_candidates == 'mmmm'])"
   ]
  },
  {
   "cell_type": "markdown",
   "metadata": {},
   "source": [
    "- (c) How many would consist of 2 men and 2 women?"
   ]
  },
  {
   "cell_type": "code",
   "execution_count": 37,
   "metadata": {},
   "outputs": [
    {
     "name": "stdout",
     "output_type": "stream",
     "text": [
      "30.0\n"
     ]
    }
   ],
   "source": [
    "print(m_ncomb(5,2) * m_ncomb(3,2))  "
   ]
  },
  {
   "cell_type": "code",
   "execution_count": 38,
   "metadata": {},
   "outputs": [
    {
     "data": {
      "text/plain": [
       "30"
      ]
     },
     "execution_count": 38,
     "metadata": {},
     "output_type": "execute_result"
    }
   ],
   "source": [
    "len(comb_candidates[np.char.count(comb_candidates, 'm') == 2])"
   ]
  },
  {
   "cell_type": "code",
   "execution_count": 39,
   "metadata": {},
   "outputs": [
    {
     "name": "stdout",
     "output_type": "stream",
     "text": [
      "0\n",
      "5\n",
      "30\n",
      "30\n",
      "5\n"
     ]
    }
   ],
   "source": [
    "for i in np.arange(5):\n",
    "    print(len(comb_candidates[np.char.count(comb_candidates, 'm') == i]))"
   ]
  },
  {
   "cell_type": "markdown",
   "metadata": {},
   "source": [
    "#### Exercise 3\n",
    "\n",
    "> 1. How many arrangements of the letters in the word 'success' are there?\n",
    "> 2. How many of these begin with an 's'?"
   ]
  },
  {
   "cell_type": "markdown",
   "metadata": {},
   "source": [
    "In the word \"success\" there are 3 's's and 2 'c's meaning that in all permutations there will be the same word counted multiple time. In this case we need to consider all combination of the symbols 's'"
   ]
  },
  {
   "cell_type": "code",
   "execution_count": 40,
   "metadata": {},
   "outputs": [
    {
     "data": {
      "text/plain": [
       "420"
      ]
     },
     "execution_count": 40,
     "metadata": {},
     "output_type": "execute_result"
    }
   ],
   "source": [
    "7*6*5*2"
   ]
  },
  {
   "cell_type": "code",
   "execution_count": 41,
   "metadata": {},
   "outputs": [],
   "source": [
    "word = 'success'\n",
    "\n",
    "perm_word = np.array([''.join(x) for x in itertools.permutations(word)])\n",
    "perm_word_2 =np.array([''.join(x) for x in set(itertools.permutations(word))])"
   ]
  },
  {
   "cell_type": "code",
   "execution_count": 42,
   "metadata": {},
   "outputs": [
    {
     "data": {
      "text/plain": [
       "5040"
      ]
     },
     "execution_count": 42,
     "metadata": {},
     "output_type": "execute_result"
    }
   ],
   "source": [
    "len(perm_word)"
   ]
  },
  {
   "cell_type": "code",
   "execution_count": 43,
   "metadata": {},
   "outputs": [
    {
     "data": {
      "text/plain": [
       "420"
      ]
     },
     "execution_count": 43,
     "metadata": {},
     "output_type": "execute_result"
    }
   ],
   "source": [
    "len(perm_word_2)"
   ]
  },
  {
   "cell_type": "code",
   "execution_count": 44,
   "metadata": {},
   "outputs": [
    {
     "data": {
      "text/plain": [
       "180"
      ]
     },
     "execution_count": 44,
     "metadata": {},
     "output_type": "execute_result"
    }
   ],
   "source": [
    "first_char = lambda i: i[0]\n",
    "vect_first_char = np.vectorize(first_char)\n",
    "\n",
    "len(perm_word_2[vect_first_char(perm_word_2) == 's'])"
   ]
  },
  {
   "cell_type": "markdown",
   "metadata": {},
   "source": [
    "$$\\frac{6!}{2!2!}$$"
   ]
  },
  {
   "cell_type": "markdown",
   "metadata": {},
   "source": [
    "##### Exercise: Contructing a Word"
   ]
  },
  {
   "cell_type": "markdown",
   "metadata": {},
   "source": [
    "Suppose you select three letters at random from {a, b, c, d, e, f} to form a word."
   ]
  },
  {
   "cell_type": "markdown",
   "metadata": {},
   "source": [
    "- **(a) How many possible words are there?**\n",
    "\n",
    "To answer this question we have to consirer all possible permutation of 3 characters words we can form with the given characters. \n",
    "The number of all possible 3 characters permutation from the list ['a','b', 'c', 'd', 'e','f'] is $^6P_3$"
   ]
  },
  {
   "cell_type": "code",
   "execution_count": 45,
   "metadata": {},
   "outputs": [
    {
     "data": {
      "text/plain": [
       "120.0"
      ]
     },
     "execution_count": 45,
     "metadata": {},
     "output_type": "execute_result"
    }
   ],
   "source": [
    "m_nperm(6,3)"
   ]
  },
  {
   "cell_type": "code",
   "execution_count": 46,
   "metadata": {},
   "outputs": [
    {
     "data": {
      "text/plain": [
       "120"
      ]
     },
     "execution_count": 46,
     "metadata": {},
     "output_type": "execute_result"
    }
   ],
   "source": [
    "chars = list('abcdef')\n",
    "\n",
    "chars_perm = np.array([''.join(x) for x in set(itertools.permutations(chars,3))])\n",
    "len(chars_perm)"
   ]
  },
  {
   "cell_type": "markdown",
   "metadata": {},
   "source": [
    "- **(b) What is the probability the word you choose is \"fad\"?**\n",
    "\n",
    "There is only one possibility to obtain the word 'fad' and so the probability to choose it, is $\\frac{1}{120}$"
   ]
  },
  {
   "cell_type": "code",
   "execution_count": 47,
   "metadata": {},
   "outputs": [
    {
     "data": {
      "text/plain": [
       "array(['fad'], dtype='<U3')"
      ]
     },
     "execution_count": 47,
     "metadata": {},
     "output_type": "execute_result"
    }
   ],
   "source": [
    "chars_perm[chars_perm == 'fad']"
   ]
  },
  {
   "cell_type": "code",
   "execution_count": 48,
   "metadata": {},
   "outputs": [
    {
     "data": {
      "text/plain": [
       "0.008333333333333333"
      ]
     },
     "execution_count": 48,
     "metadata": {},
     "output_type": "execute_result"
    }
   ],
   "source": [
    "len(chars_perm[chars_perm == 'fad'])/len(chars_perm)"
   ]
  },
  {
   "cell_type": "markdown",
   "metadata": {},
   "source": [
    "- **(c) What is the probability the word you choose contains the letter \"a\"?**\n",
    "\n",
    "To count all words containing the character 'a' in a three word we must fix this character in the three possible positions (length of the word) and then all possible permutations of the remaining six characters in the two left spaces:\n",
    "\n",
    "$$ 3 \\times \\text{  } ^5P_2 $$"
   ]
  },
  {
   "cell_type": "code",
   "execution_count": 49,
   "metadata": {},
   "outputs": [
    {
     "data": {
      "text/plain": [
       "60.0"
      ]
     },
     "execution_count": 49,
     "metadata": {},
     "output_type": "execute_result"
    }
   ],
   "source": [
    "3 *m_nperm(5,2)"
   ]
  },
  {
   "cell_type": "code",
   "execution_count": 50,
   "metadata": {},
   "outputs": [
    {
     "data": {
      "text/plain": [
       "60"
      ]
     },
     "execution_count": 50,
     "metadata": {},
     "output_type": "execute_result"
    }
   ],
   "source": [
    "np.char.count(chars_perm,'a').sum()"
   ]
  },
  {
   "cell_type": "code",
   "execution_count": 51,
   "metadata": {},
   "outputs": [
    {
     "data": {
      "text/plain": [
       "array(['dca', 'fea', 'acd', 'cda', 'dae', 'fad', 'cab', 'fda', 'bda',\n",
       "       'fab', 'acf', 'cae', 'fae', 'dab', 'ade', 'bea', 'baf', 'ead',\n",
       "       'fba', 'bad', 'ace', 'cea', 'aeb', 'eaf', 'caf', 'adf', 'bae',\n",
       "       'bfa', 'dea', 'cad', 'eab', 'eac', 'afe', 'afc', 'cfa', 'afd',\n",
       "       'bac', 'dba', 'acb', 'abc', 'abd', 'cba', 'adb', 'adc', 'bca',\n",
       "       'abf', 'dfa', 'fac', 'eba', 'dac', 'eca', 'eda', 'abe', 'fca',\n",
       "       'aec', 'aef', 'afb', 'aed', 'efa', 'daf'], dtype='<U3')"
      ]
     },
     "execution_count": 51,
     "metadata": {},
     "output_type": "execute_result"
    }
   ],
   "source": [
    "chars_perm[np.char.count(chars_perm,'a') != 0]"
   ]
  },
  {
   "cell_type": "code",
   "execution_count": 52,
   "metadata": {},
   "outputs": [
    {
     "data": {
      "text/plain": [
       "60"
      ]
     },
     "execution_count": 52,
     "metadata": {},
     "output_type": "execute_result"
    }
   ],
   "source": [
    "len(chars_perm[np.char.count(chars_perm,'a') != 0])"
   ]
  },
  {
   "cell_type": "code",
   "execution_count": 53,
   "metadata": {},
   "outputs": [
    {
     "data": {
      "text/plain": [
       "60"
      ]
     },
     "execution_count": 53,
     "metadata": {},
     "output_type": "execute_result"
    }
   ],
   "source": [
    "b_chars = list('bcdef')\n",
    "\n",
    "3 * (len(np.array([''.join(x) for x in set(itertools.permutations(b_chars,2))])))"
   ]
  },
  {
   "cell_type": "markdown",
   "metadata": {},
   "source": [
    "- **(d) What is the chance that the first letter in the word is 'a'?**\n",
    "\n",
    "In this case we need to fix the first character of the word with an 'a' and then consider all the other $^{5}P_{2}$ word permutation"
   ]
  },
  {
   "cell_type": "code",
   "execution_count": 54,
   "metadata": {},
   "outputs": [
    {
     "data": {
      "text/plain": [
       "20.0"
      ]
     },
     "execution_count": 54,
     "metadata": {},
     "output_type": "execute_result"
    }
   ],
   "source": [
    "m_nperm(5,2)"
   ]
  },
  {
   "cell_type": "code",
   "execution_count": 55,
   "metadata": {},
   "outputs": [
    {
     "data": {
      "text/plain": [
       "20"
      ]
     },
     "execution_count": 55,
     "metadata": {},
     "output_type": "execute_result"
    }
   ],
   "source": [
    "np.char.startswith(chars_perm, 'a').sum()"
   ]
  },
  {
   "cell_type": "code",
   "execution_count": 56,
   "metadata": {},
   "outputs": [
    {
     "data": {
      "text/plain": [
       "array(['acd', 'acf', 'ade', 'ace', 'aeb', 'adf', 'afe', 'afc', 'afd',\n",
       "       'acb', 'abc', 'abd', 'adb', 'adc', 'abf', 'abe', 'aec', 'aef',\n",
       "       'afb', 'aed'], dtype='<U3')"
      ]
     },
     "execution_count": 56,
     "metadata": {},
     "output_type": "execute_result"
    }
   ],
   "source": [
    "chars_perm[np.char.startswith(chars_perm, 'a') == True]"
   ]
  },
  {
   "cell_type": "markdown",
   "metadata": {},
   "source": [
    "- **(e) What is the probability that the word contains the letters 'd', 'e', and 'f'?**\n",
    "\n",
    "Let's first count how many permutation we can have of the characters \"d\", \"e\", and \"f\" $^3P_3$"
   ]
  },
  {
   "cell_type": "code",
   "execution_count": 57,
   "metadata": {},
   "outputs": [
    {
     "data": {
      "text/plain": [
       "6.0"
      ]
     },
     "execution_count": 57,
     "metadata": {},
     "output_type": "execute_result"
    }
   ],
   "source": [
    "m_nperm(3,3)"
   ]
  },
  {
   "cell_type": "code",
   "execution_count": 58,
   "metadata": {},
   "outputs": [
    {
     "data": {
      "text/plain": [
       "array(['edf', 'fde', 'fed', 'efd', 'def', 'dfe'], dtype='<U3')"
      ]
     },
     "execution_count": 58,
     "metadata": {},
     "output_type": "execute_result"
    }
   ],
   "source": [
    "chars_perm[(np.char.count(chars_perm, 'd') != 0) &\n",
    "          (np.char.count(chars_perm, 'e') != 0) &\n",
    "          (np.char.count(chars_perm, 'f') != 0)]"
   ]
  },
  {
   "cell_type": "code",
   "execution_count": 59,
   "metadata": {},
   "outputs": [
    {
     "data": {
      "text/plain": [
       "6"
      ]
     },
     "execution_count": 59,
     "metadata": {},
     "output_type": "execute_result"
    }
   ],
   "source": [
    "len(chars_perm[(np.char.count(chars_perm, 'd') != 0) &\n",
    "          (np.char.count(chars_perm, 'e') != 0) &\n",
    "          (np.char.count(chars_perm, 'f') != 0)])"
   ]
  },
  {
   "cell_type": "code",
   "execution_count": 60,
   "metadata": {},
   "outputs": [
    {
     "data": {
      "text/plain": [
       "0.05"
      ]
     },
     "execution_count": 60,
     "metadata": {},
     "output_type": "execute_result"
    }
   ],
   "source": [
    "len(chars_perm[(np.char.count(chars_perm, 'd') != 0) &\n",
    "          (np.char.count(chars_perm, 'e') != 0) &\n",
    "          (np.char.count(chars_perm, 'f') != 0)])/len(chars_perm)"
   ]
  },
  {
   "cell_type": "markdown",
   "metadata": {},
   "source": [
    "##### Exercise: Running a race\n",
    "\n",
    "There are seven runners in a race – three runners are from Team A and four runners are from Team B."
   ]
  },
  {
   "cell_type": "markdown",
   "metadata": {},
   "source": [
    "- **(a) Suppose you record which runners finish first, second, and third. Count the number of possible outcomes of this race.**\n",
    "\n",
    "Suppose Team A is composed of runners 'a', 'b' and 'c' and team B of 'd', 'e', 'f' and 'g'. To calculate the number of all possible outcomes of this race, taking into account only the first three places, we have to compute the permutation of 8 objects into 3 places $^8P_{3} = 210$"
   ]
  },
  {
   "cell_type": "code",
   "execution_count": 61,
   "metadata": {},
   "outputs": [
    {
     "data": {
      "text/plain": [
       "210.0"
      ]
     },
     "execution_count": 61,
     "metadata": {},
     "output_type": "execute_result"
    }
   ],
   "source": [
    "m_nperm(7,3)"
   ]
  },
  {
   "cell_type": "markdown",
   "metadata": {},
   "source": [
    "Again, let's use Python to generate all possible combinations."
   ]
  },
  {
   "cell_type": "code",
   "execution_count": 62,
   "metadata": {},
   "outputs": [
    {
     "data": {
      "text/plain": [
       "210"
      ]
     },
     "execution_count": 62,
     "metadata": {},
     "output_type": "execute_result"
    }
   ],
   "source": [
    "runners = list('abcdefg')\n",
    "\n",
    "winners_perm = np.array([''.join(x) for x in set(itertools.permutations(runners,3))])\n",
    "len(winners_perm)"
   ]
  },
  {
   "cell_type": "code",
   "execution_count": 63,
   "metadata": {},
   "outputs": [
    {
     "data": {
      "text/plain": [
       "array(['dca', 'bdf', 'fbe', 'feb', 'cge', 'dcb', 'gfc', 'fea', 'gcd',\n",
       "       'bdg', 'fag', 'fdc', 'acd', 'cda', 'deb', 'fdb', 'cgd', 'dae',\n",
       "       'aeg', 'fad', 'cab', 'fda', 'bfg', 'bda', 'dgf', 'beg', 'dcf',\n",
       "       'fab', 'ecg', 'dbf', 'acf', 'cae', 'fae', 'dab', 'cgf', 'ade',\n",
       "       'bea', 'edc', 'edf', 'fbg', 'gca', 'fde', 'baf', 'cfg', 'ead',\n",
       "       'ebc', 'fcg', 'egb', 'gba', 'cgb', 'dce', 'cga', 'fba', 'bad',\n",
       "       'dgc', 'dbe', 'ace', 'cea', 'cbd', 'aeb', 'age', 'ceb', 'bcf',\n",
       "       'eaf', 'gab', 'caf', 'adf', 'bae', 'fed', 'gbe', 'bfa', 'bcd',\n",
       "       'bga', 'agd', 'gdc', 'abg', 'cdb', 'cad', 'cbf', 'dea', 'efd',\n",
       "       'eab', 'fge', 'gdf', 'dfg', 'cef', 'eac', 'ebd', 'bce', 'gec',\n",
       "       'gcb', 'dfc', 'afe', 'afc', 'agf', 'cde', 'ced', 'egf', 'cfa',\n",
       "       'ega', 'dfb', 'bge', 'afg', 'gde', 'ged', 'cbe', 'ebf', 'gae',\n",
       "       'gbf', 'afd', 'egd', 'fgc', 'bac', 'dba', 'abc', 'acb', 'deg',\n",
       "       'gbd', 'cdg', 'dbc', 'fgd', 'gef', 'abd', 'dec', 'cdf', 'cba',\n",
       "       'def', 'bgf', 'adb', 'feg', 'gaf', 'gea', 'ebg', 'adc', 'bca',\n",
       "       'abf', 'bgd', 'cfb', 'dfa', 'gad', 'cfe', 'fac', 'adg', 'fdg',\n",
       "       'cag', 'eag', 'eba', 'efg', 'fga', 'egc', 'dac', 'eca', 'edb',\n",
       "       'ceg', 'cfd', 'bec', 'ecb', 'eda', 'cbg', 'abe', 'dga', 'bag',\n",
       "       'gac', 'fca', 'gfe', 'dgb', 'bcg', 'bgc', 'fbc', 'fcb', 'gda',\n",
       "       'gdb', 'aec', 'acg', 'bfc', 'dfe', 'ecd', 'gce', 'efb', 'geb',\n",
       "       'aef', 'afb', 'bde', 'bed', 'edg', 'gbc', 'bdc', 'aed', 'dbg',\n",
       "       'ecf', 'fcd', 'bfd', 'fgb', 'agc', 'efa', 'dcg', 'bef', 'fbd',\n",
       "       'efc', 'dge', 'gfd', 'daf', 'agb', 'dag', 'gcf', 'fce', 'fec',\n",
       "       'bfe', 'gfb', 'gfa'], dtype='<U3')"
      ]
     },
     "execution_count": 63,
     "metadata": {},
     "output_type": "execute_result"
    }
   ],
   "source": [
    "winners_perm"
   ]
  },
  {
   "cell_type": "markdown",
   "metadata": {},
   "source": [
    "- **(b) If the runners all have the same ability, then each of the outcomes in (a) is equally likely. Find the probability that Team A runners finish first, second, and third.**\n",
    "\n",
    "We consider now all possible permutation of runners 'a', 'b' and 'c' in the first three places $^3P_3 = 6$ "
   ]
  },
  {
   "cell_type": "code",
   "execution_count": 64,
   "metadata": {},
   "outputs": [
    {
     "data": {
      "text/plain": [
       "6.0"
      ]
     },
     "execution_count": 64,
     "metadata": {},
     "output_type": "execute_result"
    }
   ],
   "source": [
    "m_nperm(3,3)"
   ]
  },
  {
   "cell_type": "markdown",
   "metadata": {},
   "source": [
    "And so the probability to have this outcome in the winners sample space is $\\frac{6}{210} = 0.0286$"
   ]
  },
  {
   "cell_type": "code",
   "execution_count": 65,
   "metadata": {},
   "outputs": [
    {
     "data": {
      "text/plain": [
       "0.0286"
      ]
     },
     "execution_count": 65,
     "metadata": {},
     "output_type": "execute_result"
    }
   ],
   "source": [
    "np.round(6/210, 4)"
   ]
  },
  {
   "cell_type": "code",
   "execution_count": 66,
   "metadata": {},
   "outputs": [
    {
     "data": {
      "text/plain": [
       "array(['cab', 'bac', 'abc', 'acb', 'cba', 'bca'], dtype='<U3')"
      ]
     },
     "execution_count": 66,
     "metadata": {},
     "output_type": "execute_result"
    }
   ],
   "source": [
    "winners_perm[(np.char.count(winners_perm,'a') == 1) &\n",
    "            (np.char.count(winners_perm,'b') == 1) &\n",
    "            (np.char.count(winners_perm,'c') == 1)]"
   ]
  },
  {
   "cell_type": "code",
   "execution_count": 67,
   "metadata": {},
   "outputs": [
    {
     "data": {
      "text/plain": [
       "6"
      ]
     },
     "execution_count": 67,
     "metadata": {},
     "output_type": "execute_result"
    }
   ],
   "source": [
    "len(winners_perm[(np.char.count(winners_perm,'a') == 1) &\n",
    "            (np.char.count(winners_perm,'b') == 1) &\n",
    "            (np.char.count(winners_perm,'c') == 1)])"
   ]
  },
  {
   "cell_type": "markdown",
   "metadata": {},
   "source": [
    "Consideriamo un attimo tutte le permutazioni (ossia tutti i risultati possibili)"
   ]
  },
  {
   "cell_type": "code",
   "execution_count": 68,
   "metadata": {},
   "outputs": [
    {
     "data": {
      "text/plain": [
       "5040"
      ]
     },
     "execution_count": 68,
     "metadata": {},
     "output_type": "execute_result"
    }
   ],
   "source": [
    "runners = list('abcdefg')\n",
    "\n",
    "winners_perm = np.array([''.join(x) for x in set(itertools.permutations(runners))])\n",
    "len(winners_perm)"
   ]
  },
  {
   "cell_type": "code",
   "execution_count": 69,
   "metadata": {},
   "outputs": [
    {
     "data": {
      "text/plain": [
       "array(['fbecagd', 'degcabf', 'adgecbf', 'cadfbeg'], dtype='<U7')"
      ]
     },
     "execution_count": 69,
     "metadata": {},
     "output_type": "execute_result"
    }
   ],
   "source": [
    "winners_perm[:4]"
   ]
  },
  {
   "cell_type": "code",
   "execution_count": 70,
   "metadata": {},
   "outputs": [
    {
     "data": {
      "text/plain": [
       "5040"
      ]
     },
     "execution_count": 70,
     "metadata": {},
     "output_type": "execute_result"
    }
   ],
   "source": [
    "len(winners_perm)"
   ]
  },
  {
   "cell_type": "code",
   "execution_count": 71,
   "metadata": {},
   "outputs": [
    {
     "data": {
      "text/plain": [
       "24"
      ]
     },
     "execution_count": 71,
     "metadata": {},
     "output_type": "execute_result"
    }
   ],
   "source": [
    "np.char.startswith(winners_perm, 'abc').sum()"
   ]
  },
  {
   "cell_type": "code",
   "execution_count": 72,
   "metadata": {},
   "outputs": [
    {
     "data": {
      "text/plain": [
       "0.004761904761904762"
      ]
     },
     "execution_count": 72,
     "metadata": {},
     "output_type": "execute_result"
    }
   ],
   "source": [
    "24/5040"
   ]
  },
  {
   "cell_type": "code",
   "execution_count": 73,
   "metadata": {},
   "outputs": [
    {
     "data": {
      "text/plain": [
       "24"
      ]
     },
     "execution_count": 73,
     "metadata": {},
     "output_type": "execute_result"
    }
   ],
   "source": [
    "np.char.startswith(winners_perm, 'bac').sum()"
   ]
  },
  {
   "cell_type": "code",
   "execution_count": 74,
   "metadata": {},
   "outputs": [
    {
     "data": {
      "text/plain": [
       "0.02857142857142857"
      ]
     },
     "execution_count": 74,
     "metadata": {},
     "output_type": "execute_result"
    }
   ],
   "source": [
    "(24*6)/5040"
   ]
  },
  {
   "cell_type": "code",
   "execution_count": 75,
   "metadata": {},
   "outputs": [
    {
     "data": {
      "text/plain": [
       "210.0"
      ]
     },
     "execution_count": 75,
     "metadata": {},
     "output_type": "execute_result"
    }
   ],
   "source": [
    "5040/24"
   ]
  },
  {
   "cell_type": "code",
   "execution_count": 76,
   "metadata": {},
   "outputs": [
    {
     "data": {
      "text/plain": [
       "360.0"
      ]
     },
     "execution_count": 76,
     "metadata": {},
     "output_type": "execute_result"
    }
   ],
   "source": [
    "m_nperm(6,4)"
   ]
  },
  {
   "cell_type": "code",
   "execution_count": 77,
   "metadata": {},
   "outputs": [
    {
     "data": {
      "text/plain": [
       "1.0"
      ]
     },
     "execution_count": 77,
     "metadata": {},
     "output_type": "execute_result"
    }
   ],
   "source": [
    "m_ncomb(6,6)"
   ]
  },
  {
   "cell_type": "code",
   "execution_count": 78,
   "metadata": {},
   "outputs": [
    {
     "data": {
      "text/plain": [
       "<matplotlib.collections.PathCollection at 0x1c54fb390c8>"
      ]
     },
     "execution_count": 78,
     "metadata": {},
     "output_type": "execute_result"
    },
    {
     "data": {
      "image/png": "[encoded data removed]",
      "text/plain": [
       "<Figure size 432x288 with 1 Axes>"
      ]
     },
     "metadata": {
      "needs_background": "light"
     },
     "output_type": "display_data"
    }
   ],
   "source": [
    "m = 8\n",
    "\n",
    "k = np.arange(m+1)\n",
    "n_comb_vect = np.vectorize(m_ncomb)\n",
    "n_perm_vect = np.vectorize(m_nperm)\n",
    "\n",
    "plt.scatter(k, n_comb_vect(m,k), marker='.')"
   ]
  },
  {
   "cell_type": "code",
   "execution_count": 79,
   "metadata": {},
   "outputs": [
    {
     "data": {
      "text/plain": [
       "<matplotlib.collections.PathCollection at 0x1c54ff752c8>"
      ]
     },
     "execution_count": 79,
     "metadata": {},
     "output_type": "execute_result"
    },
    {
     "data": {
      "image/png": "[encoded data removed]",
      "text/plain": [
       "<Figure size 432x288 with 1 Axes>"
      ]
     },
     "metadata": {
      "needs_background": "light"
     },
     "output_type": "display_data"
    }
   ],
   "source": [
    "plt.scatter(k, n_perm_vect(m, k), marker='.')"
   ]
  },
  {
   "cell_type": "code",
   "execution_count": 80,
   "metadata": {},
   "outputs": [
    {
     "data": {
      "text/plain": [
       "1.0"
      ]
     },
     "execution_count": 80,
     "metadata": {},
     "output_type": "execute_result"
    }
   ],
   "source": [
    "m_nperm(6,0)"
   ]
  },
  {
   "cell_type": "code",
   "execution_count": null,
   "metadata": {},
   "outputs": [],
   "source": []
  }
 ],
 "metadata": {
  "kernelspec": {
   "display_name": "Python 3",
   "language": "python",
   "name": "python3"
  },
  "language_info": {
   "codemirror_mode": {
    "name": "ipython",
    "version": 3
   },
   "file_extension": ".py",
   "mimetype": "text/x-python",
   "name": "python",
   "nbconvert_exporter": "python",
   "pygments_lexer": "ipython3",
   "version": "3.7.9"
  }
 },
 "nbformat": 4,
 "nbformat_minor": 4
}
