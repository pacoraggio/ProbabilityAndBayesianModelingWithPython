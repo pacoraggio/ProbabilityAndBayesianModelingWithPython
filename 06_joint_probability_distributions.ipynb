{
 "cells": [
  {
   "cell_type": "markdown",
   "id": "paperback-transmission",
   "metadata": {},
   "source": [
    "# Joint Probability Distributions"
   ]
  },
  {
   "cell_type": "markdown",
   "id": "applied-montana",
   "metadata": {},
   "source": [
    "## Introduction"
   ]
  },
  {
   "cell_type": "markdown",
   "id": "attractive-bishop",
   "metadata": {},
   "source": [
    "In this chapter, examples of the general situation will be described where several random variables, e.g. $X$ and $Y$, are observed. The joint probability mass function (discrete case) and the joint density (continuous case) are used to compute probabilities involving $X$ and $Y$."
   ]
  },
  {
   "cell_type": "markdown",
   "id": "sporting-devices",
   "metadata": {},
   "source": [
    "## Joint Probability Mass Function: Sampling from a Box"
   ]
  },
  {
   "cell_type": "markdown",
   "id": "solid-wrestling",
   "metadata": {},
   "source": [
    "To begin the discussion of two random variables, we start with a familiar example. Suppose one has a box of ten balls – four are white, three are red, and three are black. One selects five balls out of the box without replacement and counts the number of white and red balls in the sample. What is the probability one observes two white and two red balls in the sample?\n",
    "\n",
    "This probability can be found using ideas from previous chapters.\n",
    "\n",
    "1. First, one thinks the total number of ways of selecting five balls with replacement from a box of ten balls. One assumes the balls are distinct and one does not care about the order that one selects the balls, so the total number of outcomes is\n",
    "\n",
    "$$N = \\binom{10}{5} = 252$$\n",
    "\n",
    "2. Next, one thinks about the number of ways of selecting two white and two red balls. One does this in steps – first select the white balls, then select the red balls, and then select the one remaining black ball. Note that five balls are selected, so exactly one of the balls must be black. Since the box has four white balls, the number of ways of choose two white is $\\binom{4}{2} = 6$.  Of the three red balls, one wants to choose two – the number of ways of doing that is $\\binom{3}{2} = 3$. Last, the number of ways of choosing the remaining one black ball is $\\binom{3}{1} = 3$. So the total number of ways of choosing two white, two red, and one black ball is the product:\n",
    "\n",
    "$$\\binom{4}{2} \\times \\binom{3}{2} \\times \\binom{3}{1} = 6 \\times 3 \\times 54$$\n",
    "\n",
    "3. Each one of the $\\binom{10}{5} = 252$ possible outcomes of five balls is equally likely to be chosen. Of these outcomes, 54 resulted in two white and two red balls, so the probability of choosing two white and two red ball is\n",
    "\n",
    "$$ P(\\text{2 white and 2 red}) = \\frac{54}{252}$$\n",
    "\n",
    "Here the probability of choosing a specific number of white and red balls has been found. To do this calculation for other outcomes, it is convenient to define two random variables?\n",
    "\n",
    "$$X = \\text{number of red balls selected}, Y = \\text{number of white balls selected}$$\n",
    "\n",
    "Based on what was found,\n",
    "\n",
    "$$ P(X = 2, Y = 2) = \\frac{54}{252}$$\n"
   ]
  },
  {
   "cell_type": "markdown",
   "id": "civilian-wheel",
   "metadata": {},
   "source": [
    "### Joint probability mass function"
   ]
  },
  {
   "cell_type": "markdown",
   "id": "built-chain",
   "metadata": {},
   "source": [
    "Suppose this calculation is done for every possible pair of values of X and Y. The table of probabilities is given by:"
   ]
  },
  {
   "cell_type": "markdown",
   "id": "according-relaxation",
   "metadata": {},
   "source": [
    "<table>\n",
    " <tr>\n",
    "  <td>&nbsp;</td>\n",
    "  <td style=\"text-align:center\" colspan=\"5\"> <strong><em>Y</em> = # of White</strong></td>\n",
    " </tr>\n",
    " <tr>\n",
    "  <td style=\"text-align:center\"><strong><em>X</em> = # of Red</strong></td>\n",
    "  <td style=\"text-align:center\">0</td>\n",
    "  <td style=\"text-align:center\">1</td>\n",
    "  <td style=\"text-align:center\">2</td>\n",
    "  <td style=\"text-align:center\">3</td>\n",
    "  <td style=\"text-align:center\">4</td>\n",
    "\n",
    " </tr>\n",
    " <tr>\n",
    "  <td style=\"text-align:center\">0</td>\n",
    "  <td style=\"text-align:center\">0</td>\n",
    "  <td style=\"text-align:center\">0</td>\n",
    "  <td style=\"text-align:center\">6/252</td>\n",
    "  <td style=\"text-align:center\">12/252</td>\n",
    "  <td style=\"text-align:center\">3/252</td>\n",
    " </tr>\n",
    " \n",
    " <tr>\n",
    "  <td style=\"text-align:center\">1</td>\n",
    "  <td style=\"text-align:center\">0</td>\n",
    "  <td style=\"text-align:center\">12/252</td>\n",
    "  <td style=\"text-align:center\">54/252</td>\n",
    "  <td style=\"text-align:center\">36/252</td>\n",
    "  <td style=\"text-align:center\">3/252</td>\n",
    " </tr>\n",
    "\n",
    " <tr>\n",
    "  <td style=\"text-align:center\">2</td>\n",
    "  <td style=\"text-align:center\">3/252</td>\n",
    "  <td style=\"text-align:center\">36/252</td>\n",
    "  <td style=\"text-align:center\">54/252</td>\n",
    "  <td style=\"text-align:center\">12/252</td>\n",
    "  <td style=\"text-align:center\">0</td>\n",
    " </tr>\n",
    "\n",
    " <tr>\n",
    "  <td style=\"text-align:center\">3</td>\n",
    "  <td style=\"text-align:center\">3/252</td>\n",
    "  <td style=\"text-align:center\">12/252</td>\n",
    "  <td style=\"text-align:center\">6/252</td>\n",
    "  <td style=\"text-align:center\">0</td>\n",
    "  <td style=\"text-align:center\">0</td>\n",
    " </tr>\n",
    "\n",
    "</table>"
   ]
  },
  {
   "cell_type": "markdown",
   "id": "medical-testimony",
   "metadata": {},
   "source": [
    "This table is called the ***joint probability mass function (pmf)*** $f(x,y)$ of ($X$,$Y$). As for any probability distribution, one requires that each of the probability values are nonnegative and the sum of the probabilities over all values\n",
    "of $X$ and $Y$ is one. That is, the function $f(x,y)$ satisfies two properties:\n",
    "\n",
    "1. $f(x,y) \\geq 0$ for all $x$, $y$\n",
    "2. $\\sum_{x,y}f(x,y) = 1$\n",
    "\n",
    "It is clear from the previous table that all of the probabilities are nonnegative and the reader can confirm that the sum of the probabilities is equal to one.\n",
    "\n",
    "Using the table, one sees that some particular pairs ($x,y$) are not possible as $f(x,y) = 0$. For example, $f(0,1) = 0$ which means that it is not possible to observe 0 red balls and 1 white ball in the sample. Note that five balls were sampled, and if one only observed one red or white ball, that means that one must have sampled 5 − 1 = 4 black balls which is not possible. One finds probabilities of any event involving X and Y by summing probabilities from the table. \n",
    "\n",
    "1. **What is $P(X = Y)$, the probability that one samples the same number of red and white balls?** By the table, one sees that this is possible only when $X = 1$, $Y = 1$ or $X = 2,Y = 2$. So the probability\n",
    "\n",
    "$$P(X = Y) = f(1,1) + f(2,2) = \\frac{12}{252} + \\frac{54}{252} = \\frac{66}{252}$$\n",
    "\n",
    "2. **What is $P(X > Y)$, the probability one samples more red balls than white balls?**  From the table, one identifies the outcomes where $X > Y$, and then sums the corresponding probabilities.\n",
    "\n",
    "$$\n",
    "\\begin{align}\n",
    "P(X > Y) &= f(1,0) + f(2,0) + f(2,1) + f(3,0) + f(3,1) + f(3,2) \\\\\n",
    "&= \\frac{3}{252} + \\frac{36}{252} + \\frac{3}{252} + \\frac{12}{252} + \\frac{6}{252} \\\\\n",
    "&= \\frac{60}{252}\n",
    "\\end{align}$$"
   ]
  },
  {
   "cell_type": "markdown",
   "id": "serial-reynolds",
   "metadata": {},
   "source": [
    "##### Simulating sampling from a box"
   ]
  },
  {
   "cell_type": "markdown",
   "id": "amateur-works",
   "metadata": {},
   "source": [
    "The variable `box` is a vector containing the colors of the ten balls in the box. The function one `rep()` simulates drawing five balls from the box and computing the number of red balls and number of white balls."
   ]
  },
  {
   "cell_type": "code",
   "execution_count": 1,
   "id": "incorporate-somewhere",
   "metadata": {},
   "outputs": [],
   "source": [
    "import numpy as np\n",
    "\n",
    "box = np.array(['white', 'white', 'white', 'white',\n",
    "               'red','red','red',\n",
    "               'black','black','black'])"
   ]
  },
  {
   "cell_type": "code",
   "execution_count": 2,
   "id": "honest-indie",
   "metadata": {},
   "outputs": [],
   "source": [
    "def one_rep():\n",
    "    balls = np.random.choice(box, 5, replace = False)\n",
    "    #print(balls)\n",
    "    # return((np.char.count(balls,'red').sum(), np.char.count(balls,'white').sum()))\n",
    "    return(np.array([np.char.count(balls,'red').sum(), np.char.count(balls,'white').sum()]))\n"
   ]
  },
  {
   "cell_type": "code",
   "execution_count": 3,
   "id": "driven-proposal",
   "metadata": {},
   "outputs": [
    {
     "data": {
      "text/plain": [
       "array([3, 1])"
      ]
     },
     "execution_count": 3,
     "metadata": {},
     "output_type": "execute_result"
    }
   ],
   "source": [
    "a = one_rep()\n",
    "a"
   ]
  },
  {
   "cell_type": "code",
   "execution_count": 4,
   "id": "interesting-default",
   "metadata": {},
   "outputs": [
    {
     "data": {
      "text/plain": [
       "array([0, 2, 1, 3, 1, 1, 1, 1, 0, 1])"
      ]
     },
     "execution_count": 4,
     "metadata": {},
     "output_type": "execute_result"
    }
   ],
   "source": [
    "np.random.seed(1234)\n",
    "n_rep = 5000\n",
    "\n",
    "t = np.array([one_rep() for _ in np.arange(n_rep)])\n",
    "t[:10,0]"
   ]
  },
  {
   "cell_type": "code",
   "execution_count": 5,
   "id": "mature-infection",
   "metadata": {},
   "outputs": [
    {
     "data": {
      "text/plain": [
       "5000"
      ]
     },
     "execution_count": 5,
     "metadata": {},
     "output_type": "execute_result"
    }
   ],
   "source": [
    "len(t[:,0])"
   ]
  },
  {
   "cell_type": "code",
   "execution_count": 6,
   "id": "thorough-teens",
   "metadata": {},
   "outputs": [],
   "source": [
    "import pandas as pd\n",
    "\n",
    "results = pd.DataFrame({'X':t[:,0],\n",
    "                        'Y':t[:,1]})"
   ]
  },
  {
   "cell_type": "code",
   "execution_count": 7,
   "id": "chief-clinton",
   "metadata": {},
   "outputs": [
    {
     "data": {
      "text/html": [
       "<div>\n",
       "<style scoped>\n",
       "    .dataframe tbody tr th:only-of-type {\n",
       "        vertical-align: middle;\n",
       "    }\n",
       "\n",
       "    .dataframe tbody tr th {\n",
       "        vertical-align: top;\n",
       "    }\n",
       "\n",
       "    .dataframe thead th {\n",
       "        text-align: right;\n",
       "    }\n",
       "</style>\n",
       "<table border=\"1\" class=\"dataframe\">\n",
       "  <thead>\n",
       "    <tr style=\"text-align: right;\">\n",
       "      <th></th>\n",
       "      <th>X</th>\n",
       "      <th>Y</th>\n",
       "    </tr>\n",
       "  </thead>\n",
       "  <tbody>\n",
       "    <tr>\n",
       "      <th>0</th>\n",
       "      <td>0</td>\n",
       "      <td>3</td>\n",
       "    </tr>\n",
       "    <tr>\n",
       "      <th>1</th>\n",
       "      <td>2</td>\n",
       "      <td>2</td>\n",
       "    </tr>\n",
       "    <tr>\n",
       "      <th>2</th>\n",
       "      <td>1</td>\n",
       "      <td>1</td>\n",
       "    </tr>\n",
       "    <tr>\n",
       "      <th>3</th>\n",
       "      <td>3</td>\n",
       "      <td>1</td>\n",
       "    </tr>\n",
       "    <tr>\n",
       "      <th>4</th>\n",
       "      <td>1</td>\n",
       "      <td>2</td>\n",
       "    </tr>\n",
       "  </tbody>\n",
       "</table>\n",
       "</div>"
      ],
      "text/plain": [
       "   X  Y\n",
       "0  0  3\n",
       "1  2  2\n",
       "2  1  1\n",
       "3  3  1\n",
       "4  1  2"
      ]
     },
     "execution_count": 7,
     "metadata": {},
     "output_type": "execute_result"
    }
   ],
   "source": [
    "results.head()"
   ]
  },
  {
   "cell_type": "code",
   "execution_count": 8,
   "id": "irish-local",
   "metadata": {},
   "outputs": [
    {
     "data": {
      "text/plain": [
       "0.2378"
      ]
     },
     "execution_count": 8,
     "metadata": {},
     "output_type": "execute_result"
    }
   ],
   "source": [
    "len(t[t[:,0] > t[:,1]])/len(t)"
   ]
  },
  {
   "cell_type": "code",
   "execution_count": 9,
   "id": "revised-enclosure",
   "metadata": {},
   "outputs": [
    {
     "data": {
      "text/plain": [
       "0.2857142857142857"
      ]
     },
     "execution_count": 9,
     "metadata": {},
     "output_type": "execute_result"
    }
   ],
   "source": [
    "72/252"
   ]
  },
  {
   "cell_type": "code",
   "execution_count": null,
   "id": "designing-victor",
   "metadata": {},
   "outputs": [],
   "source": []
  },
  {
   "cell_type": "code",
   "execution_count": null,
   "id": "collected-seating",
   "metadata": {},
   "outputs": [],
   "source": []
  },
  {
   "cell_type": "code",
   "execution_count": 10,
   "id": "minute-hierarchy",
   "metadata": {},
   "outputs": [],
   "source": [
    "df_prob = pd.DataFrame({'0':[0,0,3/252,3/252],\n",
    "                        '1':[0,12/252,36/252,12/252],\n",
    "                        '2':[6/252,54/252,54/252,6/252],\n",
    "                        '3':[12/252,36/252,12/252,0],\n",
    "                        '4':[3/252,3/252,0,0,]},\n",
    "                      index=['0','1','2','3'])"
   ]
  },
  {
   "cell_type": "code",
   "execution_count": 11,
   "id": "polar-lithuania",
   "metadata": {},
   "outputs": [
    {
     "data": {
      "text/html": [
       "<div>\n",
       "<style scoped>\n",
       "    .dataframe tbody tr th:only-of-type {\n",
       "        vertical-align: middle;\n",
       "    }\n",
       "\n",
       "    .dataframe tbody tr th {\n",
       "        vertical-align: top;\n",
       "    }\n",
       "\n",
       "    .dataframe thead th {\n",
       "        text-align: right;\n",
       "    }\n",
       "</style>\n",
       "<table border=\"1\" class=\"dataframe\">\n",
       "  <thead>\n",
       "    <tr style=\"text-align: right;\">\n",
       "      <th></th>\n",
       "      <th>0</th>\n",
       "      <th>1</th>\n",
       "      <th>2</th>\n",
       "      <th>3</th>\n",
       "      <th>4</th>\n",
       "    </tr>\n",
       "  </thead>\n",
       "  <tbody>\n",
       "    <tr>\n",
       "      <th>0</th>\n",
       "      <td>0.000000</td>\n",
       "      <td>0.000000</td>\n",
       "      <td>0.023810</td>\n",
       "      <td>0.047619</td>\n",
       "      <td>0.011905</td>\n",
       "    </tr>\n",
       "    <tr>\n",
       "      <th>1</th>\n",
       "      <td>0.000000</td>\n",
       "      <td>0.047619</td>\n",
       "      <td>0.214286</td>\n",
       "      <td>0.142857</td>\n",
       "      <td>0.011905</td>\n",
       "    </tr>\n",
       "    <tr>\n",
       "      <th>2</th>\n",
       "      <td>0.011905</td>\n",
       "      <td>0.142857</td>\n",
       "      <td>0.214286</td>\n",
       "      <td>0.047619</td>\n",
       "      <td>0.000000</td>\n",
       "    </tr>\n",
       "    <tr>\n",
       "      <th>3</th>\n",
       "      <td>0.011905</td>\n",
       "      <td>0.047619</td>\n",
       "      <td>0.023810</td>\n",
       "      <td>0.000000</td>\n",
       "      <td>0.000000</td>\n",
       "    </tr>\n",
       "  </tbody>\n",
       "</table>\n",
       "</div>"
      ],
      "text/plain": [
       "          0         1         2         3         4\n",
       "0  0.000000  0.000000  0.023810  0.047619  0.011905\n",
       "1  0.000000  0.047619  0.214286  0.142857  0.011905\n",
       "2  0.011905  0.142857  0.214286  0.047619  0.000000\n",
       "3  0.011905  0.047619  0.023810  0.000000  0.000000"
      ]
     },
     "execution_count": 11,
     "metadata": {},
     "output_type": "execute_result"
    }
   ],
   "source": [
    "df_prob"
   ]
  },
  {
   "cell_type": "code",
   "execution_count": 12,
   "id": "affecting-gossip",
   "metadata": {},
   "outputs": [
    {
     "data": {
      "text/html": [
       "<div>\n",
       "<style scoped>\n",
       "    .dataframe tbody tr th:only-of-type {\n",
       "        vertical-align: middle;\n",
       "    }\n",
       "\n",
       "    .dataframe tbody tr th {\n",
       "        vertical-align: top;\n",
       "    }\n",
       "\n",
       "    .dataframe thead th {\n",
       "        text-align: right;\n",
       "    }\n",
       "</style>\n",
       "<table border=\"1\" class=\"dataframe\">\n",
       "  <thead>\n",
       "    <tr style=\"text-align: right;\">\n",
       "      <th>y</th>\n",
       "      <th>0</th>\n",
       "      <th>1</th>\n",
       "      <th>2</th>\n",
       "      <th>3</th>\n",
       "      <th>4</th>\n",
       "    </tr>\n",
       "    <tr>\n",
       "      <th>x</th>\n",
       "      <th></th>\n",
       "      <th></th>\n",
       "      <th></th>\n",
       "      <th></th>\n",
       "      <th></th>\n",
       "    </tr>\n",
       "  </thead>\n",
       "  <tbody>\n",
       "    <tr>\n",
       "      <th>0</th>\n",
       "      <td>0.0000</td>\n",
       "      <td>0.0000</td>\n",
       "      <td>0.0222</td>\n",
       "      <td>0.0500</td>\n",
       "      <td>0.0138</td>\n",
       "    </tr>\n",
       "    <tr>\n",
       "      <th>1</th>\n",
       "      <td>0.0000</td>\n",
       "      <td>0.0470</td>\n",
       "      <td>0.2178</td>\n",
       "      <td>0.1418</td>\n",
       "      <td>0.0092</td>\n",
       "    </tr>\n",
       "    <tr>\n",
       "      <th>2</th>\n",
       "      <td>0.0124</td>\n",
       "      <td>0.1424</td>\n",
       "      <td>0.2154</td>\n",
       "      <td>0.0450</td>\n",
       "      <td>0.0000</td>\n",
       "    </tr>\n",
       "    <tr>\n",
       "      <th>3</th>\n",
       "      <td>0.0140</td>\n",
       "      <td>0.0454</td>\n",
       "      <td>0.0236</td>\n",
       "      <td>0.0000</td>\n",
       "      <td>0.0000</td>\n",
       "    </tr>\n",
       "  </tbody>\n",
       "</table>\n",
       "</div>"
      ],
      "text/plain": [
       "y       0       1       2       3       4\n",
       "x                                        \n",
       "0  0.0000  0.0000  0.0222  0.0500  0.0138\n",
       "1  0.0000  0.0470  0.2178  0.1418  0.0092\n",
       "2  0.0124  0.1424  0.2154  0.0450  0.0000\n",
       "3  0.0140  0.0454  0.0236  0.0000  0.0000"
      ]
     },
     "execution_count": 12,
     "metadata": {},
     "output_type": "execute_result"
    }
   ],
   "source": [
    "df_results = pd.crosstab(results['X'], results['Y'], rownames = ['x'], colnames = ['y'])/n_rep\n",
    "df_results"
   ]
  },
  {
   "cell_type": "code",
   "execution_count": 13,
   "id": "obvious-community",
   "metadata": {},
   "outputs": [
    {
     "data": {
      "text/plain": [
       "0.9999999999999999"
      ]
     },
     "execution_count": 13,
     "metadata": {},
     "output_type": "execute_result"
    }
   ],
   "source": [
    "df_prob.sum().sum()"
   ]
  },
  {
   "cell_type": "code",
   "execution_count": 14,
   "id": "ecological-thanksgiving",
   "metadata": {},
   "outputs": [
    {
     "data": {
      "text/plain": [
       "1.0"
      ]
     },
     "execution_count": 14,
     "metadata": {},
     "output_type": "execute_result"
    }
   ],
   "source": [
    "pd.crosstab(results['X'], results['Y'], rownames = ['x'], colnames = ['y']).sum().sum()/n_rep"
   ]
  },
  {
   "cell_type": "markdown",
   "id": "reverse-wheel",
   "metadata": {},
   "source": [
    "### Marginal  probability functions\n",
    "\n",
    "Once a joint probability mass function for ($X,Y$) has been constructed, one finds probabilities for one of the two variables. In our balls example, suppose one wants to find the probability that exactly three red balls are chosen, that is $P(X = 3)$. This probability is found by summing values of the pmf $f(x,y)$ where $x = 3$ and $y$ can be any possible value of the random variable $Y$, that is,\n",
    "\n",
    "$$\n",
    "\\begin{align}\n",
    "P(X = 3) &= \\sum_{y}f(3,y) \\\\\n",
    "&= f(3,0) + f(3,1) + f(3,2) \\\\\n",
    "&= \\frac{3}{252} + \\frac{12}{252} + \\frac{6}{252} \\\\\n",
    "&= \\frac{21}{252}\n",
    "\\end{align}\n",
    "$$\n",
    "\n",
    "This operation is done for each of the possible values of $X$ – the ***marginal probability mass function of X***, $f_{X}()$ is defined as follows:\n",
    "\n",
    "$$f_{X}(y) = \\sum_{y}f(x,y)$$\n",
    "\n",
    "One finds this marginal pmf of X from previous table by summing the joint probabilities for each row of the table. The marginal pmf is displayed in the next table:\n",
    "\n",
    "|x|$f_{X}(x)$|\n",
    "|-|----------|\n",
    "|0|21/252|\n",
    "|1|105/252|\n",
    "|2|105/252|\n",
    "|3|21/252|\n",
    "\n",
    "Note that a marginal pmf is a legitimate probability function in that the values are nonnegative and the probabilities sum to one. \n",
    "\n",
    "One can also find the marginal pmf of $Y$ , denoted by $f_{Y}()$, by a similar operation – for a fixed value of $Y = y$ one sums over all of the possible values of $X$.\n",
    "\n",
    "$$f_{Y}(y) = \\sum_{x}f(x,y)$$\n",
    "\n",
    "For example, if one wants to find $f_{Y}(2) = P(Y = 2)$ in our example, one sums the joint probabilities in the previous table over the rows in the column where $Y = 2$. One obtains the probability:\n",
    "\n",
    "$$\n",
    "\\begin{align}\n",
    "f_{Y}(2) &= \\sum_{x}f(x,2) \\\\\n",
    "&= f(0,2) + f(1,2) + f(2,2) + f(3,2) \\\\\n",
    "&= \\frac{6}{252} + \\frac{54}{252} + \\frac{54}{252} + \\frac{6}{252}\\\\\n",
    "&= \\frac{120}{252}\n",
    "\\end{align}\n",
    "$$\n",
    "\n",
    "By repeating this exercise for each value of Y , one obtains the marginal pmf displayed in the next table:\n",
    "\n",
    "|y|$f_{Y}(y)$|\n",
    "|-|----------|\n",
    "|0|6/252|\n",
    "|1|60/252|\n",
    "|2|120/252|\n",
    "|3|60/252|\n",
    "|4|6/252|\n"
   ]
  },
  {
   "cell_type": "markdown",
   "id": "continuing-whale",
   "metadata": {},
   "source": [
    "### Conditional probability mass functions"
   ]
  },
  {
   "cell_type": "markdown",
   "id": "premier-leone",
   "metadata": {},
   "source": [
    "In Chapter 3, the conditional probability of an event $A$ was defined given knowledge of another event $B$. Moving back to the sampling balls from a box example, suppose one is told that exactly two red balls are sampled, that is $X = 2$ – how does that information change the probabilities about the number of white balls $Y$?\n",
    "\n",
    "In this example, one is interested in finding $P(Y = y | X = 2)$. Using the definition of conditional probability, one has\n",
    "\n",
    "$$\n",
    "\\begin{align}\n",
    "P(Y = y | X = 2) &= \\frac{P(Y=y | X = 2)}{P(X = 2)} \\\\\n",
    "&= \\frac{f(2,y)}{f_{X}(2)}\n",
    "\\end{align}\n",
    "$$\n",
    "\n",
    "For example, the probability of observing two white balls given that we have two red balls is equal to\n",
    "\n",
    "$$\n",
    "\\begin{align}\n",
    "P(Y = 2 | X = 2) &= \\frac{P(Y=2 | X = 2)}{P(X = 2)} \\\\\n",
    "&= \\frac{f(2,2)}{f_{X}(2)} \\\\\n",
    "&= \\frac{54/252}{105/252} = \\frac{54}{105}\n",
    "\\end{align}\n",
    "$$\n",
    "\n",
    "Suppose this calculation is repeated for all possible values of Y – one obtains the values displayed in the next table:\n",
    "\n",
    "\n",
    "|y| $f_{X|Y}$ ($y|X$ =2) |\n",
    "|-|----------|\n",
    "|0|3/105|\n",
    "|1|36/105|\n",
    "|2|54/105|\n",
    "|3|12/105|\n",
    "\n",
    "These probabilities represent the conditional pmf for $Y$ conditional on $X = 2$. This conditional pmf is just like any other probability distribution in that the values are nonnegative and they sum to one. To illustrate using this distribution, suppose one is told that two red balls are selected (that is, $X = 2$) and one wants to find the probability that more than one white ball is chosen. This probability is given by\n",
    "\n",
    "$$\n",
    "\\begin{align}\n",
    "P(Y > 1 | X = 2) &= \\sum_{y>1}f_{Y|X}(y|X=2) \\\\\n",
    "&= f_{Y|X}(2|X=2) + f_{Y|X}(3|X=2)\\\\\n",
    "&= \\frac{54}{105} + \\frac{12}{105} = \\frac{66}{105}\n",
    "\\end{align}\n",
    "$$\n",
    "\n",
    "In general, the conditional probability mass function of $Y$ conditional on $X = x$, denoted by $f_{Y|X}(y|x)$"
   ]
  },
  {
   "cell_type": "markdown",
   "id": "dangerous-teaching",
   "metadata": {},
   "source": [
    "##### Simulating sampling from a box"
   ]
  },
  {
   "cell_type": "markdown",
   "id": "correct-denial",
   "metadata": {},
   "source": [
    "Recall that the data frame results contains the simulated outcomes for 5000 selections of balls from the box. By filtering on the value $X = 2$ and tabulating the values of $Y$, one is simulating from the conditional pmf of $Y$ conditional on $X = 2$. Note that the relative frequencies displayed below are approximately equal to the exact probabilities shown in $x, f_{X}(x)$ table."
   ]
  },
  {
   "cell_type": "code",
   "execution_count": 15,
   "id": "mediterranean-detroit",
   "metadata": {},
   "outputs": [
    {
     "data": {
      "text/html": [
       "<div>\n",
       "<style scoped>\n",
       "    .dataframe tbody tr th:only-of-type {\n",
       "        vertical-align: middle;\n",
       "    }\n",
       "\n",
       "    .dataframe tbody tr th {\n",
       "        vertical-align: top;\n",
       "    }\n",
       "\n",
       "    .dataframe thead th {\n",
       "        text-align: right;\n",
       "    }\n",
       "</style>\n",
       "<table border=\"1\" class=\"dataframe\">\n",
       "  <thead>\n",
       "    <tr style=\"text-align: right;\">\n",
       "      <th></th>\n",
       "      <th>0</th>\n",
       "      <th>1</th>\n",
       "      <th>2</th>\n",
       "      <th>3</th>\n",
       "      <th>4</th>\n",
       "    </tr>\n",
       "  </thead>\n",
       "  <tbody>\n",
       "    <tr>\n",
       "      <th>0</th>\n",
       "      <td>0.000000</td>\n",
       "      <td>0.000000</td>\n",
       "      <td>0.023810</td>\n",
       "      <td>0.047619</td>\n",
       "      <td>0.011905</td>\n",
       "    </tr>\n",
       "    <tr>\n",
       "      <th>1</th>\n",
       "      <td>0.000000</td>\n",
       "      <td>0.047619</td>\n",
       "      <td>0.214286</td>\n",
       "      <td>0.142857</td>\n",
       "      <td>0.011905</td>\n",
       "    </tr>\n",
       "    <tr>\n",
       "      <th>2</th>\n",
       "      <td>0.011905</td>\n",
       "      <td>0.142857</td>\n",
       "      <td>0.214286</td>\n",
       "      <td>0.047619</td>\n",
       "      <td>0.000000</td>\n",
       "    </tr>\n",
       "    <tr>\n",
       "      <th>3</th>\n",
       "      <td>0.011905</td>\n",
       "      <td>0.047619</td>\n",
       "      <td>0.023810</td>\n",
       "      <td>0.000000</td>\n",
       "      <td>0.000000</td>\n",
       "    </tr>\n",
       "  </tbody>\n",
       "</table>\n",
       "</div>"
      ],
      "text/plain": [
       "          0         1         2         3         4\n",
       "0  0.000000  0.000000  0.023810  0.047619  0.011905\n",
       "1  0.000000  0.047619  0.214286  0.142857  0.011905\n",
       "2  0.011905  0.142857  0.214286  0.047619  0.000000\n",
       "3  0.011905  0.047619  0.023810  0.000000  0.000000"
      ]
     },
     "execution_count": 15,
     "metadata": {},
     "output_type": "execute_result"
    }
   ],
   "source": [
    "df_prob"
   ]
  },
  {
   "cell_type": "code",
   "execution_count": 16,
   "id": "moved-handbook",
   "metadata": {},
   "outputs": [
    {
     "data": {
      "text/html": [
       "<div>\n",
       "<style scoped>\n",
       "    .dataframe tbody tr th:only-of-type {\n",
       "        vertical-align: middle;\n",
       "    }\n",
       "\n",
       "    .dataframe tbody tr th {\n",
       "        vertical-align: top;\n",
       "    }\n",
       "\n",
       "    .dataframe thead th {\n",
       "        text-align: right;\n",
       "    }\n",
       "</style>\n",
       "<table border=\"1\" class=\"dataframe\">\n",
       "  <thead>\n",
       "    <tr style=\"text-align: right;\">\n",
       "      <th>y</th>\n",
       "      <th>0</th>\n",
       "      <th>1</th>\n",
       "      <th>2</th>\n",
       "      <th>3</th>\n",
       "      <th>4</th>\n",
       "    </tr>\n",
       "    <tr>\n",
       "      <th>x</th>\n",
       "      <th></th>\n",
       "      <th></th>\n",
       "      <th></th>\n",
       "      <th></th>\n",
       "      <th></th>\n",
       "    </tr>\n",
       "  </thead>\n",
       "  <tbody>\n",
       "    <tr>\n",
       "      <th>0</th>\n",
       "      <td>0.0000</td>\n",
       "      <td>0.0000</td>\n",
       "      <td>0.0222</td>\n",
       "      <td>0.0500</td>\n",
       "      <td>0.0138</td>\n",
       "    </tr>\n",
       "    <tr>\n",
       "      <th>1</th>\n",
       "      <td>0.0000</td>\n",
       "      <td>0.0470</td>\n",
       "      <td>0.2178</td>\n",
       "      <td>0.1418</td>\n",
       "      <td>0.0092</td>\n",
       "    </tr>\n",
       "    <tr>\n",
       "      <th>2</th>\n",
       "      <td>0.0124</td>\n",
       "      <td>0.1424</td>\n",
       "      <td>0.2154</td>\n",
       "      <td>0.0450</td>\n",
       "      <td>0.0000</td>\n",
       "    </tr>\n",
       "    <tr>\n",
       "      <th>3</th>\n",
       "      <td>0.0140</td>\n",
       "      <td>0.0454</td>\n",
       "      <td>0.0236</td>\n",
       "      <td>0.0000</td>\n",
       "      <td>0.0000</td>\n",
       "    </tr>\n",
       "  </tbody>\n",
       "</table>\n",
       "</div>"
      ],
      "text/plain": [
       "y       0       1       2       3       4\n",
       "x                                        \n",
       "0  0.0000  0.0000  0.0222  0.0500  0.0138\n",
       "1  0.0000  0.0470  0.2178  0.1418  0.0092\n",
       "2  0.0124  0.1424  0.2154  0.0450  0.0000\n",
       "3  0.0140  0.0454  0.0236  0.0000  0.0000"
      ]
     },
     "execution_count": 16,
     "metadata": {},
     "output_type": "execute_result"
    }
   ],
   "source": [
    "df_results"
   ]
  },
  {
   "cell_type": "code",
   "execution_count": 17,
   "id": "religious-scene",
   "metadata": {},
   "outputs": [
    {
     "data": {
      "text/html": [
       "<div>\n",
       "<style scoped>\n",
       "    .dataframe tbody tr th:only-of-type {\n",
       "        vertical-align: middle;\n",
       "    }\n",
       "\n",
       "    .dataframe tbody tr th {\n",
       "        vertical-align: top;\n",
       "    }\n",
       "\n",
       "    .dataframe thead th {\n",
       "        text-align: right;\n",
       "    }\n",
       "</style>\n",
       "<table border=\"1\" class=\"dataframe\">\n",
       "  <thead>\n",
       "    <tr style=\"text-align: right;\">\n",
       "      <th></th>\n",
       "      <th>Y</th>\n",
       "      <th>X</th>\n",
       "      <th>P</th>\n",
       "    </tr>\n",
       "  </thead>\n",
       "  <tbody>\n",
       "    <tr>\n",
       "      <th>0</th>\n",
       "      <td>0</td>\n",
       "      <td>62</td>\n",
       "      <td>0.029865</td>\n",
       "    </tr>\n",
       "    <tr>\n",
       "      <th>1</th>\n",
       "      <td>1</td>\n",
       "      <td>712</td>\n",
       "      <td>0.342967</td>\n",
       "    </tr>\n",
       "    <tr>\n",
       "      <th>2</th>\n",
       "      <td>2</td>\n",
       "      <td>1077</td>\n",
       "      <td>0.518786</td>\n",
       "    </tr>\n",
       "    <tr>\n",
       "      <th>3</th>\n",
       "      <td>3</td>\n",
       "      <td>225</td>\n",
       "      <td>0.108382</td>\n",
       "    </tr>\n",
       "  </tbody>\n",
       "</table>\n",
       "</div>"
      ],
      "text/plain": [
       "   Y     X         P\n",
       "0  0    62  0.029865\n",
       "1  1   712  0.342967\n",
       "2  2  1077  0.518786\n",
       "3  3   225  0.108382"
      ]
     },
     "execution_count": 17,
     "metadata": {},
     "output_type": "execute_result"
    }
   ],
   "source": [
    "results = results[results['X'] == 2].groupby('Y').count().reset_index()\n",
    "results['P'] =results['X']/results['X'].sum()\n",
    "results"
   ]
  },
  {
   "cell_type": "markdown",
   "id": "involved-raise",
   "metadata": {},
   "source": [
    "### Multinomial experiments"
   ]
  },
  {
   "cell_type": "markdown",
   "id": "arbitrary-cincinnati",
   "metadata": {},
   "source": [
    "Suppose one rolls the usual six-sided die where one side shows 1, two sides show 2, and three sides show 3. One rolls this die ten times – what is the chance that one will observe three 1’s and five 2’s? This situation resembles the coin-tossing experiment described in Chapter 4. One is repeating the same process, that is rolling the die, repeated times, and one regards the individual die results as independent outcomes. The difference is that the coin-tossing experiment had only two possible outcomes on a single trial, and here there are three outcomes on a single die roll, 1, 2, and 3.\n",
    "\n",
    "Suppose a random experiment consists of a sequence of $n$ independent trials where there are $k$ possible outcomes on a single trial where $k \\geq 2$. . Denote the possible outcomes as 1, 2, ..., $k$, and let $p_{1}, p_{2}, \\dots , p_{k}$ denote the associated probabilities. If $X_{1}, X_{2}, \\dots, X_{k}$ denote the number of 1s, 2s, ..., $k$s observed in the $n$ trials, the vector of outcomes $X = (X_{1}, X_{2}, \\dots, X_{n})$ has a multinomial distribution with sample size $n$ and vector of probabilities $p = (p_{1}, p_{2}, \\dots, p_{k})$\n",
    "\n",
    "In our example, each die roll has $k = 3$ possible outcomes and the associated vector of probabilities is $p = (1/6,2/6,3/6)$. The number of observed 1’s, 2’s, 3’s in n = 10 trials, $X = (X_{1} ,X_{2} ,X_{3})$ has a ***multinomial distribution with parameters $n$ and $p$***.\n",
    "\n",
    "By generalizing the arguments made in Chapter 4, one can show that the probability that $X_{1} = x_{1} ,\\dots,X_{k} = x_{k}$ has the general form\n",
    "\n",
    "$$f(x_{1}, \\dots, x_{n}) = \\left( \\frac{n!}{n_{1}! \\dots n_{k}!} \\right) \\prod_{j=1}^{k}p_{j}^{x_j}$$\n",
    "\n",
    "where $x_{j} = 0,1,2, \\dots$, $j = 1, \\dots, k$ and $\\sum_{j=1}^{n}x_{j} = n$.\n",
    "\n",
    "This formula can be used to compute a probability for our example. One has $n = 10$ trials and the outcome three 1’s and five 2’s is equivalent to the outcome $X_{1} = 3$, $X_{2} = 5$. The number of 3's $X_{3}$ Is not random since we know that $X_{1} + X_{2} + X_{3} = 10$. The probability vector is $p = (1/6,2/6,3/6)$. By substituting in the formula we have:\n",
    "\n",
    "$$P(X_{1} = 3, X_{2} = 5, X_{3} = 2) = \\left( \\frac{10!}{3!5!2!} \\right) \\left(\\frac{1}{6}\\right)^{3}\\left(\\frac{2}{6}\\right)^{5}\\left(\\frac{3}{6}\\right)^{2}$$\n",
    "\n",
    "Computing in Python:"
   ]
  },
  {
   "cell_type": "code",
   "execution_count": 18,
   "id": "typical-shanghai",
   "metadata": {},
   "outputs": [
    {
     "data": {
      "text/plain": [
       "0.012002743484224958"
      ]
     },
     "execution_count": 18,
     "metadata": {},
     "output_type": "execute_result"
    }
   ],
   "source": [
    "import math\n",
    "(math.factorial(10)/(math.factorial(3)*math.factorial(5)*math.factorial(2)))*((1/6)**3)*((2/6)**5)*((3/6)**2)\n"
   ]
  },
  {
   "cell_type": "markdown",
   "id": "proud-junior",
   "metadata": {},
   "source": [
    "Other probabilities can be found by summing the joint multinomial pmf over sets of interest. For example, suppose one is interested in computing the probability that the number of 1’s exceeds the number of 2’s in our ten dice rolls. One is interested in the probability $P(X_{1} > X_{2})$ which is given by\n",
    "\n",
    "$$P(X_{1} > X_{2}) = \\sum_{x_{1} > x_{2}} \\left(\\frac{10!}{3!5!2!} \\right) \\left( \\frac{1}{6} \\right)^{x_{1}} \\left( \\frac{2}{6} \\right)^{x_{2}}  \\left( \\frac{3}{6} \\right)^{10 - x_{1} - x_{2}}$$\n",
    "\n",
    "where one is summing over all of the outcomes ($x_{1} ,x_{2}$) where $x_{1} > x_{2}$ "
   ]
  },
  {
   "cell_type": "markdown",
   "id": "negative-invalid",
   "metadata": {},
   "source": [
    "### Marginal Distributions"
   ]
  },
  {
   "cell_type": "markdown",
   "id": "identical-edwards",
   "metadata": {},
   "source": [
    "One attractive feature of the multinomial distribution is that the marginal distributions have familiar functional forms. In the dice roll example, suppose one is interested only in $X_{1}$, the number of 1’s in ten rolls of our die. One obtains the marginal probability distribution of $X_{1}$ directly by summing out the other variables from the joint pmf of $X_{1}$ and $X_{1}$ . For example, one finds, say $P(X_{1} = 2)$, by summing the joint probability values over all ($x_{1}$,$x_{2}$) pairs\n",
    "where $x_{1} = 2$:\n",
    "\n",
    "$$ P(X_{1} = 2) = \\sum_{x_{2},x_{1} + x_{2} \\leq 10}f(x_{1},x_{2}) $$\n",
    "\n",
    "In this computation, it is important to recognize that the sum of rolls of 1 and 2, $x_{1} + x_{2}$ cannot exceed the number of trials $n = 10$.\n",
    "\n",
    "A more intuitive way to obtain a marginal distribution relies on the previous knowledge of binomial distributions. In each die roll, suppose one records if one gets a one or not. Then $X_{1}$ , the number of ones in $n$ trials, will be binomial distributed with parameters $n$ and $p = 1/6$. Using a similar argument, $X_{2}$, the number of twos in $n$ trials, will be binomial with $n$ trials and $p = 2/6$."
   ]
  },
  {
   "cell_type": "markdown",
   "id": "tested-reunion",
   "metadata": {},
   "source": [
    "### Conditional distributions\n",
    "\n",
    "One applies the knowledge about marginal distributions to compute conditional distributions in the multinomial situation. Suppose that one is given that $X_{2} = 3$ in $n = 10$ trials. What can one say about the probabilities of $X_{1}$?\n",
    "\n",
    "One uses the conditional pmf definition to compute the conditional probability $P(X_{1} = x | X_{2} = 3)$. First, it is helpful to think about possible values for $X_{1}$ . Since one has $n = 10$ rolls of the die and we know that we observe $X_{2} = 3$ (three twos), the possible values of $X_{1}$ can be $0, 1, \\dots, 7$. For these values, we have\n",
    "\n",
    "$$P(X_{1} = x | X_{2} = 3) = \\frac{P(X_{1} = x, X_{2} = 3)}{P(X_{2} = 3)}$$\n",
    "\n",
    "The numerator is the multinomial probability and since $X_{2}$ has a marginal binomial distribution, the denominator is a binomial probability. Making the substitutions, one has\n",
    "\n",
    "$$P(X_{1} = x | X_{2} = 3) = \\frac{\\left( \\frac{10!}{x!3!(10-x-3)!}\\right) \\left( \\frac{1}{6} \\right)^{x} \\left( \\frac{2}{6} \\right)^{3} \\left( \\frac{3}{6} \\right)^{10-x-3}}{ \\binom{10}{3} \\left(\\frac{2}{6} \\right)^{3} \\left(1 - \\frac{2}{6} \\right)^{10-3}}$$\n",
    "\n",
    "After some simplification, one obtains\n",
    "\n",
    "$$P(X_{1}=x | X_{2} = 3) = \\binom{7}{x} \\left(\\frac{1}{4} \\right)^{x} \\left( 1-\\frac{1}{4}\\right)^{7-x}, x = 0, \\dots, 7$$\n",
    "\n",
    "which is a binomial distribution with 7 trials and probability of success 1/4."
   ]
  },
  {
   "cell_type": "markdown",
   "id": "exclusive-struggle",
   "metadata": {},
   "source": [
    "##### Simulating Multinomial experiments"
   ]
  },
  {
   "cell_type": "markdown",
   "id": "controlled-shuttle",
   "metadata": {},
   "source": [
    "The function `sim_die_rolls()` will simulate 10 rolls of the special weighted die. The `np.random.choice()` function draws values of 1, 2, 3 with replacement where the respective probabilities are $1/6$, $2/6$, and $3/6$. The outputs are values of $X_{1}$, $X_{2}$ and $X_{3}$."
   ]
  },
  {
   "cell_type": "code",
   "execution_count": 19,
   "id": "understood-termination",
   "metadata": {},
   "outputs": [],
   "source": [
    "import numpy as np\n",
    "def sim_die_rolls():\n",
    "    p = np.array([1,2,3])/6\n",
    "    roll = np.random.choice(np.arange(1,4), size = 10, p = p)\n",
    "    return(np.array([len(roll[roll == 1]),\n",
    "                   len(roll[roll == 2]),\n",
    "                   len(roll[roll == 3])]))"
   ]
  },
  {
   "cell_type": "markdown",
   "id": "intermediate-conflict",
   "metadata": {},
   "source": [
    "One simulates the Multinomial experiment for 5000 iterations. The outcomes are placed in a data frame with variable names `X1`, `X2` and `X3`."
   ]
  },
  {
   "cell_type": "code",
   "execution_count": 20,
   "id": "loved-novelty",
   "metadata": {},
   "outputs": [],
   "source": [
    "np.random.seed(1234)\n",
    "n_exp = 15000\n",
    "\n",
    "reps = np.array([sim_die_rolls() for _ in np.arange(n_exp)])"
   ]
  },
  {
   "cell_type": "code",
   "execution_count": 21,
   "id": "attractive-syntax",
   "metadata": {},
   "outputs": [],
   "source": [
    "import pandas as pd\n",
    "\n",
    "df_results = pd.DataFrame({'X1':reps[:,0],\n",
    "                          'X2':reps[:,1],\n",
    "                          'X3':reps[:,2]})"
   ]
  },
  {
   "cell_type": "code",
   "execution_count": 22,
   "id": "subsequent-shame",
   "metadata": {},
   "outputs": [
    {
     "data": {
      "text/html": [
       "<div>\n",
       "<style scoped>\n",
       "    .dataframe tbody tr th:only-of-type {\n",
       "        vertical-align: middle;\n",
       "    }\n",
       "\n",
       "    .dataframe tbody tr th {\n",
       "        vertical-align: top;\n",
       "    }\n",
       "\n",
       "    .dataframe thead th {\n",
       "        text-align: right;\n",
       "    }\n",
       "</style>\n",
       "<table border=\"1\" class=\"dataframe\">\n",
       "  <thead>\n",
       "    <tr style=\"text-align: right;\">\n",
       "      <th></th>\n",
       "      <th>X1</th>\n",
       "      <th>X2</th>\n",
       "      <th>X3</th>\n",
       "    </tr>\n",
       "  </thead>\n",
       "  <tbody>\n",
       "    <tr>\n",
       "      <th>0</th>\n",
       "      <td>0</td>\n",
       "      <td>4</td>\n",
       "      <td>6</td>\n",
       "    </tr>\n",
       "    <tr>\n",
       "      <th>1</th>\n",
       "      <td>1</td>\n",
       "      <td>2</td>\n",
       "      <td>7</td>\n",
       "    </tr>\n",
       "    <tr>\n",
       "      <th>2</th>\n",
       "      <td>1</td>\n",
       "      <td>4</td>\n",
       "      <td>5</td>\n",
       "    </tr>\n",
       "    <tr>\n",
       "      <th>3</th>\n",
       "      <td>1</td>\n",
       "      <td>3</td>\n",
       "      <td>6</td>\n",
       "    </tr>\n",
       "    <tr>\n",
       "      <th>4</th>\n",
       "      <td>3</td>\n",
       "      <td>2</td>\n",
       "      <td>5</td>\n",
       "    </tr>\n",
       "  </tbody>\n",
       "</table>\n",
       "</div>"
      ],
      "text/plain": [
       "   X1  X2  X3\n",
       "0   0   4   6\n",
       "1   1   2   7\n",
       "2   1   4   5\n",
       "3   1   3   6\n",
       "4   3   2   5"
      ]
     },
     "execution_count": 22,
     "metadata": {},
     "output_type": "execute_result"
    }
   ],
   "source": [
    "df_results.head()"
   ]
  },
  {
   "cell_type": "markdown",
   "id": "realistic-feeding",
   "metadata": {},
   "source": [
    "Given this simulated output, one can compute many different probabilities of interest. For example, suppose one is interested in $P(X_{1} + X_{2} < 5)$. One approximates this probability by simulation by finding the proportion of simulated pairs ($X1, X2$) where $X1 + X2 < 5$"
   ]
  },
  {
   "cell_type": "code",
   "execution_count": 23,
   "id": "international-temperature",
   "metadata": {},
   "outputs": [
    {
     "data": {
      "text/plain": [
       "0.3751333333333333"
      ]
     },
     "execution_count": 23,
     "metadata": {},
     "output_type": "execute_result"
    }
   ],
   "source": [
    "df_results[(df_results['X1'] + df_results['X2']) < 5].shape[0]/n_exp"
   ]
  },
  {
   "cell_type": "markdown",
   "id": "adjustable-liquid",
   "metadata": {},
   "source": [
    "Suppose one is interested in finding the mean of the distribution of $X_{1}$ conditional on $X_{2} = 3$. We can consider to choose only the Multinomial results where $X2 = 3$ and the summarize() function finds the mean of X1 among these results. One estimates $E(X_{1} | X_{2} = 3) \\approx  1.76518424$. Note that it was found earlier that the conditional distribution of $X_{1}$  conditional on $X_{2} = 3$ is $\\binom{7}{1/4}$ with mean $7(1/4)$ which is consistent with the simulation-based calculation."
   ]
  },
  {
   "cell_type": "code",
   "execution_count": 24,
   "id": "specialized-branch",
   "metadata": {},
   "outputs": [
    {
     "data": {
      "text/plain": [
       "1.7651842439644219"
      ]
     },
     "execution_count": 24,
     "metadata": {},
     "output_type": "execute_result"
    }
   ],
   "source": [
    "df_results[df_results['X2'] == 3]['X1'].mean()"
   ]
  },
  {
   "cell_type": "markdown",
   "id": "nasty-printer",
   "metadata": {},
   "source": [
    "### Joint Density Functions"
   ]
  },
  {
   "cell_type": "markdown",
   "id": "olympic-wesley",
   "metadata": {},
   "source": [
    "One can also describe probabilities when the two variables $X$ and $Y$ are continuous. As a simple example, suppose that one randomly chooses two points $X$ and $Y$ on the interval ($0, 2$) where $X < Y$. One defines the joint probability density function or joint pdf of $X$ and $Y$ to be the function:\n",
    "\n",
    "$$\n",
    "\\begin{equation}\n",
    "  f(x,y) =\n",
    "    \\begin{cases}\n",
    "      \\frac{1}{2}, 0<x<y<2;\\\\\n",
    "      0, \\text{ } \\text{elsewhere}\\\\\n",
    "    \\end{cases}       \n",
    "\\end{equation}\n",
    "$$\n",
    "\n",
    "This joint pdf is viewed as a plane of constant height over the set of points ($x,y$) where $0 < x < y < 2$. This region of points in the plane is shown in Figure 6.1."
   ]
  },
  {
   "cell_type": "code",
   "execution_count": 25,
   "id": "bearing-melbourne",
   "metadata": {},
   "outputs": [
    {
     "data": {
      "image/png": "[encoded data removed]",
      "text/plain": [
       "<Figure size 432x288 with 1 Axes>"
      ]
     },
     "metadata": {
      "needs_background": "light"
     },
     "output_type": "display_data"
    }
   ],
   "source": [
    "import matplotlib.pyplot as plt\n",
    "import seaborn as sns\n",
    "import numpy as np\n",
    "\n",
    "fig = plt.figure();\n",
    "ax = fig.add_axes((0.1, 0.2, 0.8, 0.7))\n",
    "txt = 'Figure 6.1 - Region where the joint pdf $f(x,y)$ is positive in the \"choose two points\" example.';\n",
    "\n",
    "plt.style.use('ggplot')\n",
    "x = np.linspace(0,2,50)\n",
    "f_x = x\n",
    "\n",
    "f_x1 = 2\n",
    "plt.fill_between(x, f_x1, f_x, color='#0e0e92', alpha = 0.2);\n",
    "# plt.fill_between(x, f_x, color='#0e0e92', alpha = 0.0);\n",
    "plt.gca().set_aspect('equal', adjustable='box')\n",
    "plt.plot(x, f_x, c = 'white');\n",
    "\n",
    "plt.figtext(0.5, 0.01, txt, wrap=True, horizontalalignment='center', fontsize=12);"
   ]
  },
  {
   "cell_type": "markdown",
   "id": "wooden-centre",
   "metadata": {},
   "source": [
    "In the one variable situation in Chapter 5, a function $f$ is a legitimate density function or pdf if it is nonnegative over the real line and the total area under the curve is equal to one. Similarly for two variables, any function $f(x,y)$ is considered a pdf if it satisfies two properties:\n",
    "\n",
    "1. Density in nonnegative over the whole plane:\n",
    "\n",
    "$$f(x,y) \\geq 0, \\text{for all }x, y$$ \n",
    "\n",
    "2. The total volume under the density is equal to one:\n",
    "\n",
    "$$\\int \\int f(x,y)dxdy = 1$$\n",
    "\n",
    "One can check that the pdf in our example is indeed a legitimate pdf. It is pretty obvious that the density that was defined is nonnegative, but it is less clear that the integral of the density is equal to one. Since the density is a plane of constant height, one computes this double integral geometrically. Using the familiar \"one half base times height\" argument, the area of the triangle in the plane is $(1/2)(2)(2) = 2$ and since the pdf has constant height of $1/2$, the volume under the surface is equal to $2(1/2) = 1$.\n",
    "\n",
    "Probabilities about $X$ and $Y$ are found by finding volumes under the pdf surface. For example, suppose one wants to find the probability that the sum of locations $X + Y > 3$, that is $P(X + Y > 3)$. The region in the ($x,y$) plane of interest is first identified, and then one finds the volume under the joint pdf over this region. In Figure 6.2, the region where $x + y > 3$ has been shaded. The probability $P(X + Y > 3)$ is the volume under the pdf over this region."
   ]
  },
  {
   "cell_type": "code",
   "execution_count": 26,
   "id": "champion-responsibility",
   "metadata": {},
   "outputs": [
    {
     "data": {
      "image/png": "[encoded data removed]",
      "text/plain": [
       "<Figure size 432x288 with 1 Axes>"
      ]
     },
     "metadata": {},
     "output_type": "display_data"
    }
   ],
   "source": [
    "import matplotlib.pyplot as plt\n",
    "import seaborn as sns\n",
    "import numpy as np\n",
    "\n",
    "fig = plt.figure();\n",
    "ax = fig.add_axes((0.1, 0.2, 0.8, 0.7))\n",
    "txt = 'Figure 6.2 - haded region where $x + y > 3$ in the “choose two points” example';\n",
    "\n",
    "plt.style.use('ggplot')\n",
    "x = np.linspace(0,2,50)\n",
    "f_x = x\n",
    "f_x1 = 2\n",
    "\n",
    "plt.fill_between(x, f_x1, f_x, color='#0e0e92', alpha = 0.2);\n",
    "# plt.fill_between(x, f_x, color='#0e0e92', alpha = 0.0);\n",
    "plt.gca().set_aspect('equal', adjustable='box')\n",
    "plt.plot(x, f_x, c = 'white', linewidth=2);\n",
    "\n",
    "#xs = np.linspace(0,1,30)\n",
    "#ys = 2\n",
    "xa = np.linspace(1,1.5,20)\n",
    "ya = -xa + 3\n",
    "xb = np.linspace(1.5,2,20)\n",
    "yb = xb\n",
    "\n",
    "plt.plot(np.concatenate((xa,xb)), np.concatenate((ya,yb)), c = 'white',  linewidth=0.5)\n",
    "plt.fill_between(x, f_x1, f_x, color='#0e0e92', alpha = 0.2);\n",
    "plt.fill_between(xa, f_x1, ya, color='#0e0e92', alpha = 0.8);\n",
    "plt.fill_between(xb, f_x1, yb, color='#0e0e92', alpha = 0.8);\n",
    "plt.figtext(0.5, 0.01, txt, wrap=True, horizontalalignment='center', fontsize=12);"
   ]
  },
  {
   "cell_type": "markdown",
   "id": "annoying-india",
   "metadata": {},
   "source": [
    "Applying a geometric argument, one notes that the area of the shaded region is $1/4$, and so the probability of interest is $(1/4)(1/2) = 1/8$. One also finds this probability by integrating the joint pdf over the region as follows:\n",
    "\n",
    "\n",
    "$$\n",
    "\\begin{align}\n",
    "P(X+Y <3) &= \\int_{1.5}^{2} \\int_{3-y}^{y} f(x,y)dxdy \\\\\n",
    "&= \\int_{1.5}^{2} \\int_{3-y}^{y} \\frac{1}{2}dxdy \\\\\n",
    "&= \\int_{1.5}^{2}  \\frac{2y - 3}{2}dxdy \\\\\n",
    "&= \\frac{y^{2} - 3y}{2} \\Big|_{1.5}^{2} \\\\\n",
    "&= \\frac{1}{8}\n",
    "\\end{align}\n",
    "$$"
   ]
  },
  {
   "cell_type": "markdown",
   "id": "careful-place",
   "metadata": {},
   "source": [
    "#### Marginal Probability Density functions"
   ]
  },
  {
   "cell_type": "markdown",
   "id": "structured-queue",
   "metadata": {},
   "source": [
    "Given a joint pdf $f(x,y)$ that describes probabilities of two continuous variables $X$ and $Y$, one summarizes probabilities about each variable individually by the computation of marginal pdfs. The marginal pdf of $X$, $f_{X}(x)$, is obtained by integrating out $y$ from the joint pdf.\n",
    "\n",
    "$$f_{X} = \\int f(x,y)dy$$\n",
    "\n",
    "In a similar fashion, one defines the marginal pdf of $Y$ by integrating out $x$ from the joint pdf.\n",
    "\n",
    "$$f_{Y} = \\int f(x,y)dx$$\n",
    "\n",
    "Let’s illustrate the computation of marginal pdfs for our example. One has to be careful about the limits of the integration due to the dependence between $x$ and $y$ in the support of the joint density. Looking back at Figure 6.1, one sees that if the value of x is fixed, then the limits for $y$ go from $x$ to 2. So the marginal density of $X$ is given by\n",
    "\n",
    "$$\n",
    "\\begin{align}\n",
    "f_{X}(x) &= \\int f(x,y)dxdy \\\\\n",
    "&= \\int_{x}^{2} \\frac{1}{2}dy \\\\\n",
    "&= \\frac{2-x}{2}, 0<x<2 \\\\\n",
    "\\end{align}\n",
    "$$\n",
    "\n",
    "By a similar calculation, one can verify that the marginal density of $Y$ is equal to:\n",
    "\n",
    "$$f_{Y} = \\frac{y}{2}, 0<y<2$$"
   ]
  },
  {
   "cell_type": "markdown",
   "id": "acquired-vaccine",
   "metadata": {},
   "source": [
    "#### Conditional probability density functions"
   ]
  },
  {
   "cell_type": "markdown",
   "id": "caring-lebanon",
   "metadata": {},
   "source": [
    "Once a joint pdf $f(x,y)$ has been defined, one can also define conditional pdfs. In our example, suppose one is told that the first random location is equal to $X = 1.5$. What has one learned about the value of the second random variable $Y$?\n",
    "\n",
    "To answer this question, one defines the notion of a ***conditional pdf***. The conditional pdf of the random variable $Y$ given the value $X = x$ is defined as the quotient\n",
    "\n",
    "$$\n",
    "\\begin{align}\n",
    "f_{X|Y}(y|X=1.5) &= \\frac{f(1.5, y)}{f_{X}(1.5)} \\\\\n",
    "&=\\frac{1/2}{(2-1.5)/2} \\\\\n",
    "&= 2, 1.5<y<2\n",
    "\\end{align}\n",
    "$$\n",
    "\n",
    "In other words, the conditional density for $Y$ when $X = 1.5$ is uniform from 1.5 to 2.\n",
    "\n",
    "A conditional pdf is a legitimate density function, so the integral of the pdf over all values $y$ is equal to one. We use this density to compute conditional probabilities. For example, if $X = 1.5$, what is the probability that $Y$ is greater than 1.7? This probability is the conditional probability $P(Y > 1.7 | X = 1.5)$ that is equal to an integral over the conditional density $f_{Y|X}(y | 1.5)$:\n",
    "\n",
    "$$\n",
    "\\begin{align}\n",
    "P(Y>1.7 | X = 1.5) &= \\int_{1.7}^{2} f_{Y|X}(y|1.5) dy \\\\\n",
    "&= \\int_{1.7}^{2} 2dy \\\\\n",
    "&= 0.6\n",
    "\\end{align}\n",
    "$$\n"
   ]
  },
  {
   "cell_type": "markdown",
   "id": "julian-darkness",
   "metadata": {},
   "source": [
    "#### Turn the random variables around"
   ]
  },
  {
   "cell_type": "markdown",
   "id": "material-accessory",
   "metadata": {},
   "source": [
    "Above, we looked at the pdf of $Y$ conditional on a value of $X$. One can also consider a pdf of $X$ conditional on a value of $Y$ . Returning to our example, suppose that one learns that $Y$, the larger random variable on the interval is equal to 0.8. In this case, what would one expect for the random variable $X$? This question is answered in two steps – one first finds the conditional pdf of $X$ conditional on $Y = 0.8$. Then once this conditional pdf is found, one finds the mean of this distribution.\n",
    "\n",
    "The conditional pdf of $X$ given the value $Y = y$ is defined as the quotient\n",
    "\n",
    "$$f_{X|Y}(x|Y=y) = \\frac{f(x,y)}{f_{Y}(y)}, \\text{ if } f_{Y} > 0 $$\n",
    "\n",
    "Looking back at Figure 6.1, one sees that if $Y = 0.8$, the possible values of $X$ are from 0 to 0.8. Over these values the conditional pdf of $X$ is given by\n",
    "\n",
    "$$\n",
    "\\begin{align}\n",
    "f_{X|Y}(x|0.8) &= \\frac{f(x, 0.8)}{f_{Y}(0.8)} \\\\\n",
    "&= \\frac{1/2}{0.8/2} \\\\\n",
    "&= 1.25, 0<x<0.8\n",
    "\\end{align}\n",
    "$$\n",
    "\n",
    "So if one knows that $Y = 0.8$, then the conditional pdf for $X$ is **Uniform** on ($0, 0.8$).\n",
    "\n",
    "To find the \"expected\" value of $X$ knowing that $Y = 0.8$, one finds the mean of this distribution.\n",
    "\n",
    "$$\n",
    "\\begin{align}\n",
    "E(X| Y=0.8) &= \\int_{0}^{0.8} xf_{X|Y}(x|0.8)dx \\\\\n",
    "&= \\int_{0}^{0.8} x1.25dx \\\\\n",
    "&= (0.8)^{2}/2 \\times 1.25 = 0.4 \n",
    "\\end{align}\n",
    "$$\n"
   ]
  },
  {
   "cell_type": "markdown",
   "id": "hindu-arbor",
   "metadata": {},
   "source": [
    "### Independence and Measuring Association"
   ]
  },
  {
   "cell_type": "markdown",
   "id": "freelance-contribution",
   "metadata": {},
   "source": [
    "As a second example, suppose one has two random variables (X,Y ) that have the joint density\n",
    "\n",
    "$$\n",
    "\\begin{equation}\n",
    "  f(x,y) =\n",
    "    \\begin{cases}\n",
    "      x+y, 0<x<1, 0<y<2;\\\\\n",
    "      0, \\text{ } \\text{elsewhere}\\\\\n",
    "    \\end{cases}       \n",
    "\\end{equation}\n",
    "$$\n",
    "\n",
    "This density is positive over the unit square, but the value of the density increases in $X$ (for fixed $y$) and also in $Y$ (for fixed $x$). Figure 6.3 displays a graph of this joint pdf – the density is a section of a plane that reaches its\n",
    "maximum value at the point (1, 1)."
   ]
  },
  {
   "cell_type": "code",
   "execution_count": 46,
   "id": "major-jewel",
   "metadata": {},
   "outputs": [
    {
     "data": {
      "application/vnd.plotly.v1+json": {
       "config": {
        "plotlyServerURL": "https://plot.ly"
       },
       "data": [
        {
         "type": "surface",
         "x": [
          0,
          0.05263157894736842,
          0.10526315789473684,
          0.15789473684210525,
          0.21052631578947367,
          0.2631578947368421,
          0.3157894736842105,
          0.3684210526315789,
          0.42105263157894735,
          0.47368421052631576,
          0.5263157894736842,
          0.5789473684210527,
          0.631578947368421,
          0.6842105263157894,
          0.7368421052631579,
          0.7894736842105263,
          0.8421052631578947,
          0.894736842105263,
          0.9473684210526315,
          1
         ],
         "y": [
          0,
          0.05263157894736842,
          0.10526315789473684,
          0.15789473684210525,
          0.21052631578947367,
          0.2631578947368421,
          0.3157894736842105,
          0.3684210526315789,
          0.42105263157894735,
          0.47368421052631576,
          0.5263157894736842,
          0.5789473684210527,
          0.631578947368421,
          0.6842105263157894,
          0.7368421052631579,
          0.7894736842105263,
          0.8421052631578947,
          0.894736842105263,
          0.9473684210526315,
          1
         ],
         "z": [
          [
           0,
           0.05263157894736842,
           0.10526315789473684,
           0.15789473684210525,
           0.21052631578947367,
           0.2631578947368421,
           0.3157894736842105,
           0.3684210526315789,
           0.42105263157894735,
           0.47368421052631576,
           0.5263157894736842,
           0.5789473684210527,
           0.631578947368421,
           0.6842105263157894,
           0.7368421052631579,
           0.7894736842105263,
           0.8421052631578947,
           0.894736842105263,
           0.9473684210526315,
           1
          ],
          [
           0.05263157894736842,
           0.10526315789473684,
           0.15789473684210525,
           0.21052631578947367,
           0.2631578947368421,
           0.3157894736842105,
           0.3684210526315789,
           0.42105263157894735,
           0.47368421052631576,
           0.5263157894736842,
           0.5789473684210527,
           0.631578947368421,
           0.6842105263157894,
           0.7368421052631577,
           0.7894736842105263,
           0.8421052631578947,
           0.894736842105263,
           0.9473684210526314,
           1,
           1.0526315789473684
          ],
          [
           0.10526315789473684,
           0.15789473684210525,
           0.21052631578947367,
           0.2631578947368421,
           0.3157894736842105,
           0.3684210526315789,
           0.42105263157894735,
           0.47368421052631576,
           0.5263157894736842,
           0.5789473684210527,
           0.631578947368421,
           0.6842105263157895,
           0.7368421052631579,
           0.7894736842105262,
           0.8421052631578947,
           0.8947368421052632,
           0.9473684210526315,
           0.9999999999999999,
           1.0526315789473684,
           1.1052631578947367
          ],
          [
           0.15789473684210525,
           0.21052631578947367,
           0.2631578947368421,
           0.3157894736842105,
           0.3684210526315789,
           0.42105263157894735,
           0.47368421052631576,
           0.5263157894736842,
           0.5789473684210527,
           0.631578947368421,
           0.6842105263157894,
           0.736842105263158,
           0.7894736842105263,
           0.8421052631578947,
           0.894736842105263,
           0.9473684210526316,
           1,
           1.0526315789473684,
           1.1052631578947367,
           1.1578947368421053
          ],
          [
           0.21052631578947367,
           0.2631578947368421,
           0.3157894736842105,
           0.3684210526315789,
           0.42105263157894735,
           0.47368421052631576,
           0.5263157894736842,
           0.5789473684210527,
           0.631578947368421,
           0.6842105263157894,
           0.7368421052631579,
           0.7894736842105263,
           0.8421052631578947,
           0.894736842105263,
           0.9473684210526315,
           1,
           1.0526315789473684,
           1.1052631578947367,
           1.1578947368421053,
           1.2105263157894737
          ],
          [
           0.2631578947368421,
           0.3157894736842105,
           0.3684210526315789,
           0.42105263157894735,
           0.47368421052631576,
           0.5263157894736842,
           0.5789473684210527,
           0.631578947368421,
           0.6842105263157894,
           0.7368421052631579,
           0.7894736842105263,
           0.8421052631578947,
           0.894736842105263,
           0.9473684210526314,
           1,
           1.0526315789473684,
           1.1052631578947367,
           1.157894736842105,
           1.2105263157894737,
           1.263157894736842
          ],
          [
           0.3157894736842105,
           0.3684210526315789,
           0.42105263157894735,
           0.47368421052631576,
           0.5263157894736842,
           0.5789473684210527,
           0.631578947368421,
           0.6842105263157894,
           0.7368421052631579,
           0.7894736842105263,
           0.8421052631578947,
           0.8947368421052632,
           0.9473684210526315,
           0.9999999999999999,
           1.0526315789473684,
           1.1052631578947367,
           1.1578947368421053,
           1.2105263157894735,
           1.263157894736842,
           1.3157894736842106
          ],
          [
           0.3684210526315789,
           0.42105263157894735,
           0.47368421052631576,
           0.5263157894736842,
           0.5789473684210527,
           0.631578947368421,
           0.6842105263157894,
           0.7368421052631579,
           0.7894736842105263,
           0.8421052631578947,
           0.894736842105263,
           0.9473684210526316,
           1,
           1.0526315789473684,
           1.1052631578947367,
           1.1578947368421053,
           1.2105263157894737,
           1.263157894736842,
           1.3157894736842104,
           1.368421052631579
          ],
          [
           0.42105263157894735,
           0.47368421052631576,
           0.5263157894736842,
           0.5789473684210527,
           0.631578947368421,
           0.6842105263157894,
           0.7368421052631579,
           0.7894736842105263,
           0.8421052631578947,
           0.894736842105263,
           0.9473684210526315,
           1,
           1.0526315789473684,
           1.1052631578947367,
           1.1578947368421053,
           1.2105263157894737,
           1.263157894736842,
           1.3157894736842104,
           1.3684210526315788,
           1.4210526315789473
          ],
          [
           0.47368421052631576,
           0.5263157894736842,
           0.5789473684210527,
           0.631578947368421,
           0.6842105263157894,
           0.7368421052631579,
           0.7894736842105263,
           0.8421052631578947,
           0.894736842105263,
           0.9473684210526315,
           1,
           1.0526315789473684,
           1.1052631578947367,
           1.157894736842105,
           1.2105263157894737,
           1.263157894736842,
           1.3157894736842104,
           1.3684210526315788,
           1.4210526315789473,
           1.4736842105263157
          ],
          [
           0.5263157894736842,
           0.5789473684210527,
           0.631578947368421,
           0.6842105263157894,
           0.7368421052631579,
           0.7894736842105263,
           0.8421052631578947,
           0.894736842105263,
           0.9473684210526315,
           1,
           1.0526315789473684,
           1.1052631578947367,
           1.1578947368421053,
           1.2105263157894735,
           1.263157894736842,
           1.3157894736842106,
           1.3684210526315788,
           1.4210526315789473,
           1.4736842105263157,
           1.526315789473684
          ],
          [
           0.5789473684210527,
           0.631578947368421,
           0.6842105263157895,
           0.736842105263158,
           0.7894736842105263,
           0.8421052631578947,
           0.8947368421052632,
           0.9473684210526316,
           1,
           1.0526315789473684,
           1.1052631578947367,
           1.1578947368421053,
           1.2105263157894737,
           1.263157894736842,
           1.3157894736842106,
           1.368421052631579,
           1.4210526315789473,
           1.4736842105263157,
           1.526315789473684,
           1.5789473684210527
          ],
          [
           0.631578947368421,
           0.6842105263157894,
           0.7368421052631579,
           0.7894736842105263,
           0.8421052631578947,
           0.894736842105263,
           0.9473684210526315,
           1,
           1.0526315789473684,
           1.1052631578947367,
           1.1578947368421053,
           1.2105263157894737,
           1.263157894736842,
           1.3157894736842104,
           1.3684210526315788,
           1.4210526315789473,
           1.4736842105263157,
           1.526315789473684,
           1.5789473684210527,
           1.631578947368421
          ],
          [
           0.6842105263157894,
           0.7368421052631577,
           0.7894736842105262,
           0.8421052631578947,
           0.894736842105263,
           0.9473684210526314,
           0.9999999999999999,
           1.0526315789473684,
           1.1052631578947367,
           1.157894736842105,
           1.2105263157894735,
           1.263157894736842,
           1.3157894736842104,
           1.3684210526315788,
           1.4210526315789473,
           1.4736842105263157,
           1.526315789473684,
           1.5789473684210524,
           1.6315789473684208,
           1.6842105263157894
          ],
          [
           0.7368421052631579,
           0.7894736842105263,
           0.8421052631578947,
           0.894736842105263,
           0.9473684210526315,
           1,
           1.0526315789473684,
           1.1052631578947367,
           1.1578947368421053,
           1.2105263157894737,
           1.263157894736842,
           1.3157894736842106,
           1.3684210526315788,
           1.4210526315789473,
           1.4736842105263157,
           1.526315789473684,
           1.5789473684210527,
           1.6315789473684208,
           1.6842105263157894,
           1.736842105263158
          ],
          [
           0.7894736842105263,
           0.8421052631578947,
           0.8947368421052632,
           0.9473684210526316,
           1,
           1.0526315789473684,
           1.1052631578947367,
           1.1578947368421053,
           1.2105263157894737,
           1.263157894736842,
           1.3157894736842106,
           1.368421052631579,
           1.4210526315789473,
           1.4736842105263157,
           1.526315789473684,
           1.5789473684210527,
           1.631578947368421,
           1.6842105263157894,
           1.736842105263158,
           1.7894736842105263
          ],
          [
           0.8421052631578947,
           0.894736842105263,
           0.9473684210526315,
           1,
           1.0526315789473684,
           1.1052631578947367,
           1.1578947368421053,
           1.2105263157894737,
           1.263157894736842,
           1.3157894736842104,
           1.3684210526315788,
           1.4210526315789473,
           1.4736842105263157,
           1.526315789473684,
           1.5789473684210527,
           1.631578947368421,
           1.6842105263157894,
           1.7368421052631577,
           1.789473684210526,
           1.8421052631578947
          ],
          [
           0.894736842105263,
           0.9473684210526314,
           0.9999999999999999,
           1.0526315789473684,
           1.1052631578947367,
           1.157894736842105,
           1.2105263157894735,
           1.263157894736842,
           1.3157894736842104,
           1.3684210526315788,
           1.4210526315789473,
           1.4736842105263157,
           1.526315789473684,
           1.5789473684210524,
           1.6315789473684208,
           1.6842105263157894,
           1.7368421052631577,
           1.789473684210526,
           1.8421052631578947,
           1.894736842105263
          ],
          [
           0.9473684210526315,
           1,
           1.0526315789473684,
           1.1052631578947367,
           1.1578947368421053,
           1.2105263157894737,
           1.263157894736842,
           1.3157894736842104,
           1.3684210526315788,
           1.4210526315789473,
           1.4736842105263157,
           1.526315789473684,
           1.5789473684210527,
           1.6315789473684208,
           1.6842105263157894,
           1.736842105263158,
           1.789473684210526,
           1.8421052631578947,
           1.894736842105263,
           1.9473684210526314
          ],
          [
           1,
           1.0526315789473684,
           1.1052631578947367,
           1.1578947368421053,
           1.2105263157894737,
           1.263157894736842,
           1.3157894736842106,
           1.368421052631579,
           1.4210526315789473,
           1.4736842105263157,
           1.526315789473684,
           1.5789473684210527,
           1.631578947368421,
           1.6842105263157894,
           1.736842105263158,
           1.7894736842105263,
           1.8421052631578947,
           1.894736842105263,
           1.9473684210526314,
           2
          ]
         ]
        }
       ],
       "layout": {
        "template": {
         "data": {
          "bar": [
           {
            "error_x": {
             "color": "#2a3f5f"
            },
            "error_y": {
             "color": "#2a3f5f"
            },
            "marker": {
             "line": {
              "color": "#E5ECF6",
              "width": 0.5
             }
            },
            "type": "bar"
           }
          ],
          "barpolar": [
           {
            "marker": {
             "line": {
              "color": "#E5ECF6",
              "width": 0.5
             }
            },
            "type": "barpolar"
           }
          ],
          "carpet": [
           {
            "aaxis": {
             "endlinecolor": "#2a3f5f",
             "gridcolor": "white",
             "linecolor": "white",
             "minorgridcolor": "white",
             "startlinecolor": "#2a3f5f"
            },
            "baxis": {
             "endlinecolor": "#2a3f5f",
             "gridcolor": "white",
             "linecolor": "white",
             "minorgridcolor": "white",
             "startlinecolor": "#2a3f5f"
            },
            "type": "carpet"
           }
          ],
          "choropleth": [
           {
            "colorbar": {
             "outlinewidth": 0,
             "ticks": ""
            },
            "type": "choropleth"
           }
          ],
          "contour": [
           {
            "colorbar": {
             "outlinewidth": 0,
             "ticks": ""
            },
            "colorscale": [
             [
              0,
              "#0d0887"
             ],
             [
              0.1111111111111111,
              "#46039f"
             ],
             [
              0.2222222222222222,
              "#7201a8"
             ],
             [
              0.3333333333333333,
              "#9c179e"
             ],
             [
              0.4444444444444444,
              "#bd3786"
             ],
             [
              0.5555555555555556,
              "#d8576b"
             ],
             [
              0.6666666666666666,
              "#ed7953"
             ],
             [
              0.7777777777777778,
              "#fb9f3a"
             ],
             [
              0.8888888888888888,
              "#fdca26"
             ],
             [
              1,
              "#f0f921"
             ]
            ],
            "type": "contour"
           }
          ],
          "contourcarpet": [
           {
            "colorbar": {
             "outlinewidth": 0,
             "ticks": ""
            },
            "type": "contourcarpet"
           }
          ],
          "heatmap": [
           {
            "colorbar": {
             "outlinewidth": 0,
             "ticks": ""
            },
            "colorscale": [
             [
              0,
              "#0d0887"
             ],
             [
              0.1111111111111111,
              "#46039f"
             ],
             [
              0.2222222222222222,
              "#7201a8"
             ],
             [
              0.3333333333333333,
              "#9c179e"
             ],
             [
              0.4444444444444444,
              "#bd3786"
             ],
             [
              0.5555555555555556,
              "#d8576b"
             ],
             [
              0.6666666666666666,
              "#ed7953"
             ],
             [
              0.7777777777777778,
              "#fb9f3a"
             ],
             [
              0.8888888888888888,
              "#fdca26"
             ],
             [
              1,
              "#f0f921"
             ]
            ],
            "type": "heatmap"
           }
          ],
          "heatmapgl": [
           {
            "colorbar": {
             "outlinewidth": 0,
             "ticks": ""
            },
            "colorscale": [
             [
              0,
              "#0d0887"
             ],
             [
              0.1111111111111111,
              "#46039f"
             ],
             [
              0.2222222222222222,
              "#7201a8"
             ],
             [
              0.3333333333333333,
              "#9c179e"
             ],
             [
              0.4444444444444444,
              "#bd3786"
             ],
             [
              0.5555555555555556,
              "#d8576b"
             ],
             [
              0.6666666666666666,
              "#ed7953"
             ],
             [
              0.7777777777777778,
              "#fb9f3a"
             ],
             [
              0.8888888888888888,
              "#fdca26"
             ],
             [
              1,
              "#f0f921"
             ]
            ],
            "type": "heatmapgl"
           }
          ],
          "histogram": [
           {
            "marker": {
             "colorbar": {
              "outlinewidth": 0,
              "ticks": ""
             }
            },
            "type": "histogram"
           }
          ],
          "histogram2d": [
           {
            "colorbar": {
             "outlinewidth": 0,
             "ticks": ""
            },
            "colorscale": [
             [
              0,
              "#0d0887"
             ],
             [
              0.1111111111111111,
              "#46039f"
             ],
             [
              0.2222222222222222,
              "#7201a8"
             ],
             [
              0.3333333333333333,
              "#9c179e"
             ],
             [
              0.4444444444444444,
              "#bd3786"
             ],
             [
              0.5555555555555556,
              "#d8576b"
             ],
             [
              0.6666666666666666,
              "#ed7953"
             ],
             [
              0.7777777777777778,
              "#fb9f3a"
             ],
             [
              0.8888888888888888,
              "#fdca26"
             ],
             [
              1,
              "#f0f921"
             ]
            ],
            "type": "histogram2d"
           }
          ],
          "histogram2dcontour": [
           {
            "colorbar": {
             "outlinewidth": 0,
             "ticks": ""
            },
            "colorscale": [
             [
              0,
              "#0d0887"
             ],
             [
              0.1111111111111111,
              "#46039f"
             ],
             [
              0.2222222222222222,
              "#7201a8"
             ],
             [
              0.3333333333333333,
              "#9c179e"
             ],
             [
              0.4444444444444444,
              "#bd3786"
             ],
             [
              0.5555555555555556,
              "#d8576b"
             ],
             [
              0.6666666666666666,
              "#ed7953"
             ],
             [
              0.7777777777777778,
              "#fb9f3a"
             ],
             [
              0.8888888888888888,
              "#fdca26"
             ],
             [
              1,
              "#f0f921"
             ]
            ],
            "type": "histogram2dcontour"
           }
          ],
          "mesh3d": [
           {
            "colorbar": {
             "outlinewidth": 0,
             "ticks": ""
            },
            "type": "mesh3d"
           }
          ],
          "parcoords": [
           {
            "line": {
             "colorbar": {
              "outlinewidth": 0,
              "ticks": ""
             }
            },
            "type": "parcoords"
           }
          ],
          "pie": [
           {
            "automargin": true,
            "type": "pie"
           }
          ],
          "scatter": [
           {
            "marker": {
             "colorbar": {
              "outlinewidth": 0,
              "ticks": ""
             }
            },
            "type": "scatter"
           }
          ],
          "scatter3d": [
           {
            "line": {
             "colorbar": {
              "outlinewidth": 0,
              "ticks": ""
             }
            },
            "marker": {
             "colorbar": {
              "outlinewidth": 0,
              "ticks": ""
             }
            },
            "type": "scatter3d"
           }
          ],
          "scattercarpet": [
           {
            "marker": {
             "colorbar": {
              "outlinewidth": 0,
              "ticks": ""
             }
            },
            "type": "scattercarpet"
           }
          ],
          "scattergeo": [
           {
            "marker": {
             "colorbar": {
              "outlinewidth": 0,
              "ticks": ""
             }
            },
            "type": "scattergeo"
           }
          ],
          "scattergl": [
           {
            "marker": {
             "colorbar": {
              "outlinewidth": 0,
              "ticks": ""
             }
            },
            "type": "scattergl"
           }
          ],
          "scattermapbox": [
           {
            "marker": {
             "colorbar": {
              "outlinewidth": 0,
              "ticks": ""
             }
            },
            "type": "scattermapbox"
           }
          ],
          "scatterpolar": [
           {
            "marker": {
             "colorbar": {
              "outlinewidth": 0,
              "ticks": ""
             }
            },
            "type": "scatterpolar"
           }
          ],
          "scatterpolargl": [
           {
            "marker": {
             "colorbar": {
              "outlinewidth": 0,
              "ticks": ""
             }
            },
            "type": "scatterpolargl"
           }
          ],
          "scatterternary": [
           {
            "marker": {
             "colorbar": {
              "outlinewidth": 0,
              "ticks": ""
             }
            },
            "type": "scatterternary"
           }
          ],
          "surface": [
           {
            "colorbar": {
             "outlinewidth": 0,
             "ticks": ""
            },
            "colorscale": [
             [
              0,
              "#0d0887"
             ],
             [
              0.1111111111111111,
              "#46039f"
             ],
             [
              0.2222222222222222,
              "#7201a8"
             ],
             [
              0.3333333333333333,
              "#9c179e"
             ],
             [
              0.4444444444444444,
              "#bd3786"
             ],
             [
              0.5555555555555556,
              "#d8576b"
             ],
             [
              0.6666666666666666,
              "#ed7953"
             ],
             [
              0.7777777777777778,
              "#fb9f3a"
             ],
             [
              0.8888888888888888,
              "#fdca26"
             ],
             [
              1,
              "#f0f921"
             ]
            ],
            "type": "surface"
           }
          ],
          "table": [
           {
            "cells": {
             "fill": {
              "color": "#EBF0F8"
             },
             "line": {
              "color": "white"
             }
            },
            "header": {
             "fill": {
              "color": "#C8D4E3"
             },
             "line": {
              "color": "white"
             }
            },
            "type": "table"
           }
          ]
         },
         "layout": {
          "annotationdefaults": {
           "arrowcolor": "#2a3f5f",
           "arrowhead": 0,
           "arrowwidth": 1
          },
          "autotypenumbers": "strict",
          "coloraxis": {
           "colorbar": {
            "outlinewidth": 0,
            "ticks": ""
           }
          },
          "colorscale": {
           "diverging": [
            [
             0,
             "#8e0152"
            ],
            [
             0.1,
             "#c51b7d"
            ],
            [
             0.2,
             "#de77ae"
            ],
            [
             0.3,
             "#f1b6da"
            ],
            [
             0.4,
             "#fde0ef"
            ],
            [
             0.5,
             "#f7f7f7"
            ],
            [
             0.6,
             "#e6f5d0"
            ],
            [
             0.7,
             "#b8e186"
            ],
            [
             0.8,
             "#7fbc41"
            ],
            [
             0.9,
             "#4d9221"
            ],
            [
             1,
             "#276419"
            ]
           ],
           "sequential": [
            [
             0,
             "#0d0887"
            ],
            [
             0.1111111111111111,
             "#46039f"
            ],
            [
             0.2222222222222222,
             "#7201a8"
            ],
            [
             0.3333333333333333,
             "#9c179e"
            ],
            [
             0.4444444444444444,
             "#bd3786"
            ],
            [
             0.5555555555555556,
             "#d8576b"
            ],
            [
             0.6666666666666666,
             "#ed7953"
            ],
            [
             0.7777777777777778,
             "#fb9f3a"
            ],
            [
             0.8888888888888888,
             "#fdca26"
            ],
            [
             1,
             "#f0f921"
            ]
           ],
           "sequentialminus": [
            [
             0,
             "#0d0887"
            ],
            [
             0.1111111111111111,
             "#46039f"
            ],
            [
             0.2222222222222222,
             "#7201a8"
            ],
            [
             0.3333333333333333,
             "#9c179e"
            ],
            [
             0.4444444444444444,
             "#bd3786"
            ],
            [
             0.5555555555555556,
             "#d8576b"
            ],
            [
             0.6666666666666666,
             "#ed7953"
            ],
            [
             0.7777777777777778,
             "#fb9f3a"
            ],
            [
             0.8888888888888888,
             "#fdca26"
            ],
            [
             1,
             "#f0f921"
            ]
           ]
          },
          "colorway": [
           "#636efa",
           "#EF553B",
           "#00cc96",
           "#ab63fa",
           "#FFA15A",
           "#19d3f3",
           "#FF6692",
           "#B6E880",
           "#FF97FF",
           "#FECB52"
          ],
          "font": {
           "color": "#2a3f5f"
          },
          "geo": {
           "bgcolor": "white",
           "lakecolor": "white",
           "landcolor": "#E5ECF6",
           "showlakes": true,
           "showland": true,
           "subunitcolor": "white"
          },
          "hoverlabel": {
           "align": "left"
          },
          "hovermode": "closest",
          "mapbox": {
           "style": "light"
          },
          "paper_bgcolor": "white",
          "plot_bgcolor": "#E5ECF6",
          "polar": {
           "angularaxis": {
            "gridcolor": "white",
            "linecolor": "white",
            "ticks": ""
           },
           "bgcolor": "#E5ECF6",
           "radialaxis": {
            "gridcolor": "white",
            "linecolor": "white",
            "ticks": ""
           }
          },
          "scene": {
           "xaxis": {
            "backgroundcolor": "#E5ECF6",
            "gridcolor": "white",
            "gridwidth": 2,
            "linecolor": "white",
            "showbackground": true,
            "ticks": "",
            "zerolinecolor": "white"
           },
           "yaxis": {
            "backgroundcolor": "#E5ECF6",
            "gridcolor": "white",
            "gridwidth": 2,
            "linecolor": "white",
            "showbackground": true,
            "ticks": "",
            "zerolinecolor": "white"
           },
           "zaxis": {
            "backgroundcolor": "#E5ECF6",
            "gridcolor": "white",
            "gridwidth": 2,
            "linecolor": "white",
            "showbackground": true,
            "ticks": "",
            "zerolinecolor": "white"
           }
          },
          "shapedefaults": {
           "line": {
            "color": "#2a3f5f"
           }
          },
          "ternary": {
           "aaxis": {
            "gridcolor": "white",
            "linecolor": "white",
            "ticks": ""
           },
           "baxis": {
            "gridcolor": "white",
            "linecolor": "white",
            "ticks": ""
           },
           "bgcolor": "#E5ECF6",
           "caxis": {
            "gridcolor": "white",
            "linecolor": "white",
            "ticks": ""
           }
          },
          "title": {
           "x": 0.05
          },
          "xaxis": {
           "automargin": true,
           "gridcolor": "white",
           "linecolor": "white",
           "ticks": "",
           "title": {
            "standoff": 15
           },
           "zerolinecolor": "white",
           "zerolinewidth": 2
          },
          "yaxis": {
           "automargin": true,
           "gridcolor": "white",
           "linecolor": "white",
           "ticks": "",
           "title": {
            "standoff": 15
           },
           "zerolinecolor": "white",
           "zerolinewidth": 2
          }
         }
        },
        "xaxis": {
         "fixedrange": true,
         "title": {
          "text": "x-axis"
         }
        },
        "yaxis": {
         "fixedrange": true,
         "title": {
          "text": "y-axis"
         }
        }
       }
      },
      "text/html": [
       "<div>                            <div id=\"baea2908-16bc-4037-9484-7591ef378195\" class=\"plotly-graph-div\" style=\"height:525px; width:100%;\"></div>            <script type=\"text/javascript\">                require([\"plotly\"], function(Plotly) {                    window.PLOTLYENV=window.PLOTLYENV || {};                                    if (document.getElementById(\"baea2908-16bc-4037-9484-7591ef378195\")) {                    Plotly.newPlot(                        \"baea2908-16bc-4037-9484-7591ef378195\",                        [{\"type\": \"surface\", \"x\": [0.0, 0.05263157894736842, 0.10526315789473684, 0.15789473684210525, 0.21052631578947367, 0.2631578947368421, 0.3157894736842105, 0.3684210526315789, 0.42105263157894735, 0.47368421052631576, 0.5263157894736842, 0.5789473684210527, 0.631578947368421, 0.6842105263157894, 0.7368421052631579, 0.7894736842105263, 0.8421052631578947, 0.894736842105263, 0.9473684210526315, 1.0], \"y\": [0.0, 0.05263157894736842, 0.10526315789473684, 0.15789473684210525, 0.21052631578947367, 0.2631578947368421, 0.3157894736842105, 0.3684210526315789, 0.42105263157894735, 0.47368421052631576, 0.5263157894736842, 0.5789473684210527, 0.631578947368421, 0.6842105263157894, 0.7368421052631579, 0.7894736842105263, 0.8421052631578947, 0.894736842105263, 0.9473684210526315, 1.0], \"z\": [[0.0, 0.05263157894736842, 0.10526315789473684, 0.15789473684210525, 0.21052631578947367, 0.2631578947368421, 0.3157894736842105, 0.3684210526315789, 0.42105263157894735, 0.47368421052631576, 0.5263157894736842, 0.5789473684210527, 0.631578947368421, 0.6842105263157894, 0.7368421052631579, 0.7894736842105263, 0.8421052631578947, 0.894736842105263, 0.9473684210526315, 1.0], [0.05263157894736842, 0.10526315789473684, 0.15789473684210525, 0.21052631578947367, 0.2631578947368421, 0.3157894736842105, 0.3684210526315789, 0.42105263157894735, 0.47368421052631576, 0.5263157894736842, 0.5789473684210527, 0.631578947368421, 0.6842105263157894, 0.7368421052631577, 0.7894736842105263, 0.8421052631578947, 0.894736842105263, 0.9473684210526314, 1.0, 1.0526315789473684], [0.10526315789473684, 0.15789473684210525, 0.21052631578947367, 0.2631578947368421, 0.3157894736842105, 0.3684210526315789, 0.42105263157894735, 0.47368421052631576, 0.5263157894736842, 0.5789473684210527, 0.631578947368421, 0.6842105263157895, 0.7368421052631579, 0.7894736842105262, 0.8421052631578947, 0.8947368421052632, 0.9473684210526315, 0.9999999999999999, 1.0526315789473684, 1.1052631578947367], [0.15789473684210525, 0.21052631578947367, 0.2631578947368421, 0.3157894736842105, 0.3684210526315789, 0.42105263157894735, 0.47368421052631576, 0.5263157894736842, 0.5789473684210527, 0.631578947368421, 0.6842105263157894, 0.736842105263158, 0.7894736842105263, 0.8421052631578947, 0.894736842105263, 0.9473684210526316, 1.0, 1.0526315789473684, 1.1052631578947367, 1.1578947368421053], [0.21052631578947367, 0.2631578947368421, 0.3157894736842105, 0.3684210526315789, 0.42105263157894735, 0.47368421052631576, 0.5263157894736842, 0.5789473684210527, 0.631578947368421, 0.6842105263157894, 0.7368421052631579, 0.7894736842105263, 0.8421052631578947, 0.894736842105263, 0.9473684210526315, 1.0, 1.0526315789473684, 1.1052631578947367, 1.1578947368421053, 1.2105263157894737], [0.2631578947368421, 0.3157894736842105, 0.3684210526315789, 0.42105263157894735, 0.47368421052631576, 0.5263157894736842, 0.5789473684210527, 0.631578947368421, 0.6842105263157894, 0.7368421052631579, 0.7894736842105263, 0.8421052631578947, 0.894736842105263, 0.9473684210526314, 1.0, 1.0526315789473684, 1.1052631578947367, 1.157894736842105, 1.2105263157894737, 1.263157894736842], [0.3157894736842105, 0.3684210526315789, 0.42105263157894735, 0.47368421052631576, 0.5263157894736842, 0.5789473684210527, 0.631578947368421, 0.6842105263157894, 0.7368421052631579, 0.7894736842105263, 0.8421052631578947, 0.8947368421052632, 0.9473684210526315, 0.9999999999999999, 1.0526315789473684, 1.1052631578947367, 1.1578947368421053, 1.2105263157894735, 1.263157894736842, 1.3157894736842106], [0.3684210526315789, 0.42105263157894735, 0.47368421052631576, 0.5263157894736842, 0.5789473684210527, 0.631578947368421, 0.6842105263157894, 0.7368421052631579, 0.7894736842105263, 0.8421052631578947, 0.894736842105263, 0.9473684210526316, 1.0, 1.0526315789473684, 1.1052631578947367, 1.1578947368421053, 1.2105263157894737, 1.263157894736842, 1.3157894736842104, 1.368421052631579], [0.42105263157894735, 0.47368421052631576, 0.5263157894736842, 0.5789473684210527, 0.631578947368421, 0.6842105263157894, 0.7368421052631579, 0.7894736842105263, 0.8421052631578947, 0.894736842105263, 0.9473684210526315, 1.0, 1.0526315789473684, 1.1052631578947367, 1.1578947368421053, 1.2105263157894737, 1.263157894736842, 1.3157894736842104, 1.3684210526315788, 1.4210526315789473], [0.47368421052631576, 0.5263157894736842, 0.5789473684210527, 0.631578947368421, 0.6842105263157894, 0.7368421052631579, 0.7894736842105263, 0.8421052631578947, 0.894736842105263, 0.9473684210526315, 1.0, 1.0526315789473684, 1.1052631578947367, 1.157894736842105, 1.2105263157894737, 1.263157894736842, 1.3157894736842104, 1.3684210526315788, 1.4210526315789473, 1.4736842105263157], [0.5263157894736842, 0.5789473684210527, 0.631578947368421, 0.6842105263157894, 0.7368421052631579, 0.7894736842105263, 0.8421052631578947, 0.894736842105263, 0.9473684210526315, 1.0, 1.0526315789473684, 1.1052631578947367, 1.1578947368421053, 1.2105263157894735, 1.263157894736842, 1.3157894736842106, 1.3684210526315788, 1.4210526315789473, 1.4736842105263157, 1.526315789473684], [0.5789473684210527, 0.631578947368421, 0.6842105263157895, 0.736842105263158, 0.7894736842105263, 0.8421052631578947, 0.8947368421052632, 0.9473684210526316, 1.0, 1.0526315789473684, 1.1052631578947367, 1.1578947368421053, 1.2105263157894737, 1.263157894736842, 1.3157894736842106, 1.368421052631579, 1.4210526315789473, 1.4736842105263157, 1.526315789473684, 1.5789473684210527], [0.631578947368421, 0.6842105263157894, 0.7368421052631579, 0.7894736842105263, 0.8421052631578947, 0.894736842105263, 0.9473684210526315, 1.0, 1.0526315789473684, 1.1052631578947367, 1.1578947368421053, 1.2105263157894737, 1.263157894736842, 1.3157894736842104, 1.3684210526315788, 1.4210526315789473, 1.4736842105263157, 1.526315789473684, 1.5789473684210527, 1.631578947368421], [0.6842105263157894, 0.7368421052631577, 0.7894736842105262, 0.8421052631578947, 0.894736842105263, 0.9473684210526314, 0.9999999999999999, 1.0526315789473684, 1.1052631578947367, 1.157894736842105, 1.2105263157894735, 1.263157894736842, 1.3157894736842104, 1.3684210526315788, 1.4210526315789473, 1.4736842105263157, 1.526315789473684, 1.5789473684210524, 1.6315789473684208, 1.6842105263157894], [0.7368421052631579, 0.7894736842105263, 0.8421052631578947, 0.894736842105263, 0.9473684210526315, 1.0, 1.0526315789473684, 1.1052631578947367, 1.1578947368421053, 1.2105263157894737, 1.263157894736842, 1.3157894736842106, 1.3684210526315788, 1.4210526315789473, 1.4736842105263157, 1.526315789473684, 1.5789473684210527, 1.6315789473684208, 1.6842105263157894, 1.736842105263158], [0.7894736842105263, 0.8421052631578947, 0.8947368421052632, 0.9473684210526316, 1.0, 1.0526315789473684, 1.1052631578947367, 1.1578947368421053, 1.2105263157894737, 1.263157894736842, 1.3157894736842106, 1.368421052631579, 1.4210526315789473, 1.4736842105263157, 1.526315789473684, 1.5789473684210527, 1.631578947368421, 1.6842105263157894, 1.736842105263158, 1.7894736842105263], [0.8421052631578947, 0.894736842105263, 0.9473684210526315, 1.0, 1.0526315789473684, 1.1052631578947367, 1.1578947368421053, 1.2105263157894737, 1.263157894736842, 1.3157894736842104, 1.3684210526315788, 1.4210526315789473, 1.4736842105263157, 1.526315789473684, 1.5789473684210527, 1.631578947368421, 1.6842105263157894, 1.7368421052631577, 1.789473684210526, 1.8421052631578947], [0.894736842105263, 0.9473684210526314, 0.9999999999999999, 1.0526315789473684, 1.1052631578947367, 1.157894736842105, 1.2105263157894735, 1.263157894736842, 1.3157894736842104, 1.3684210526315788, 1.4210526315789473, 1.4736842105263157, 1.526315789473684, 1.5789473684210524, 1.6315789473684208, 1.6842105263157894, 1.7368421052631577, 1.789473684210526, 1.8421052631578947, 1.894736842105263], [0.9473684210526315, 1.0, 1.0526315789473684, 1.1052631578947367, 1.1578947368421053, 1.2105263157894737, 1.263157894736842, 1.3157894736842104, 1.3684210526315788, 1.4210526315789473, 1.4736842105263157, 1.526315789473684, 1.5789473684210527, 1.6315789473684208, 1.6842105263157894, 1.736842105263158, 1.789473684210526, 1.8421052631578947, 1.894736842105263, 1.9473684210526314], [1.0, 1.0526315789473684, 1.1052631578947367, 1.1578947368421053, 1.2105263157894737, 1.263157894736842, 1.3157894736842106, 1.368421052631579, 1.4210526315789473, 1.4736842105263157, 1.526315789473684, 1.5789473684210527, 1.631578947368421, 1.6842105263157894, 1.736842105263158, 1.7894736842105263, 1.8421052631578947, 1.894736842105263, 1.9473684210526314, 2.0]]}],                        {\"template\": {\"data\": {\"bar\": [{\"error_x\": {\"color\": \"#2a3f5f\"}, \"error_y\": {\"color\": \"#2a3f5f\"}, \"marker\": {\"line\": {\"color\": \"#E5ECF6\", \"width\": 0.5}}, \"type\": \"bar\"}], \"barpolar\": [{\"marker\": {\"line\": {\"color\": \"#E5ECF6\", \"width\": 0.5}}, \"type\": \"barpolar\"}], \"carpet\": [{\"aaxis\": {\"endlinecolor\": \"#2a3f5f\", \"gridcolor\": \"white\", \"linecolor\": \"white\", \"minorgridcolor\": \"white\", \"startlinecolor\": \"#2a3f5f\"}, \"baxis\": {\"endlinecolor\": \"#2a3f5f\", \"gridcolor\": \"white\", \"linecolor\": \"white\", \"minorgridcolor\": \"white\", \"startlinecolor\": \"#2a3f5f\"}, \"type\": \"carpet\"}], \"choropleth\": [{\"colorbar\": {\"outlinewidth\": 0, \"ticks\": \"\"}, \"type\": \"choropleth\"}], \"contour\": [{\"colorbar\": {\"outlinewidth\": 0, \"ticks\": \"\"}, \"colorscale\": [[0.0, \"#0d0887\"], [0.1111111111111111, \"#46039f\"], [0.2222222222222222, \"#7201a8\"], [0.3333333333333333, \"#9c179e\"], [0.4444444444444444, \"#bd3786\"], [0.5555555555555556, \"#d8576b\"], [0.6666666666666666, \"#ed7953\"], [0.7777777777777778, \"#fb9f3a\"], [0.8888888888888888, \"#fdca26\"], [1.0, \"#f0f921\"]], \"type\": \"contour\"}], \"contourcarpet\": [{\"colorbar\": {\"outlinewidth\": 0, \"ticks\": \"\"}, \"type\": \"contourcarpet\"}], \"heatmap\": [{\"colorbar\": {\"outlinewidth\": 0, \"ticks\": \"\"}, \"colorscale\": [[0.0, \"#0d0887\"], [0.1111111111111111, \"#46039f\"], [0.2222222222222222, \"#7201a8\"], [0.3333333333333333, \"#9c179e\"], [0.4444444444444444, \"#bd3786\"], [0.5555555555555556, \"#d8576b\"], [0.6666666666666666, \"#ed7953\"], [0.7777777777777778, \"#fb9f3a\"], [0.8888888888888888, \"#fdca26\"], [1.0, \"#f0f921\"]], \"type\": \"heatmap\"}], \"heatmapgl\": [{\"colorbar\": {\"outlinewidth\": 0, \"ticks\": \"\"}, \"colorscale\": [[0.0, \"#0d0887\"], [0.1111111111111111, \"#46039f\"], [0.2222222222222222, \"#7201a8\"], [0.3333333333333333, \"#9c179e\"], [0.4444444444444444, \"#bd3786\"], [0.5555555555555556, \"#d8576b\"], [0.6666666666666666, \"#ed7953\"], [0.7777777777777778, \"#fb9f3a\"], [0.8888888888888888, \"#fdca26\"], [1.0, \"#f0f921\"]], \"type\": \"heatmapgl\"}], \"histogram\": [{\"marker\": {\"colorbar\": {\"outlinewidth\": 0, \"ticks\": \"\"}}, \"type\": \"histogram\"}], \"histogram2d\": [{\"colorbar\": {\"outlinewidth\": 0, \"ticks\": \"\"}, \"colorscale\": [[0.0, \"#0d0887\"], [0.1111111111111111, \"#46039f\"], [0.2222222222222222, \"#7201a8\"], [0.3333333333333333, \"#9c179e\"], [0.4444444444444444, \"#bd3786\"], [0.5555555555555556, \"#d8576b\"], [0.6666666666666666, \"#ed7953\"], [0.7777777777777778, \"#fb9f3a\"], [0.8888888888888888, \"#fdca26\"], [1.0, \"#f0f921\"]], \"type\": \"histogram2d\"}], \"histogram2dcontour\": [{\"colorbar\": {\"outlinewidth\": 0, \"ticks\": \"\"}, \"colorscale\": [[0.0, \"#0d0887\"], [0.1111111111111111, \"#46039f\"], [0.2222222222222222, \"#7201a8\"], [0.3333333333333333, \"#9c179e\"], [0.4444444444444444, \"#bd3786\"], [0.5555555555555556, \"#d8576b\"], [0.6666666666666666, \"#ed7953\"], [0.7777777777777778, \"#fb9f3a\"], [0.8888888888888888, \"#fdca26\"], [1.0, \"#f0f921\"]], \"type\": \"histogram2dcontour\"}], \"mesh3d\": [{\"colorbar\": {\"outlinewidth\": 0, \"ticks\": \"\"}, \"type\": \"mesh3d\"}], \"parcoords\": [{\"line\": {\"colorbar\": {\"outlinewidth\": 0, \"ticks\": \"\"}}, \"type\": \"parcoords\"}], \"pie\": [{\"automargin\": true, \"type\": \"pie\"}], \"scatter\": [{\"marker\": {\"colorbar\": {\"outlinewidth\": 0, \"ticks\": \"\"}}, \"type\": \"scatter\"}], \"scatter3d\": [{\"line\": {\"colorbar\": {\"outlinewidth\": 0, \"ticks\": \"\"}}, \"marker\": {\"colorbar\": {\"outlinewidth\": 0, \"ticks\": \"\"}}, \"type\": \"scatter3d\"}], \"scattercarpet\": [{\"marker\": {\"colorbar\": {\"outlinewidth\": 0, \"ticks\": \"\"}}, \"type\": \"scattercarpet\"}], \"scattergeo\": [{\"marker\": {\"colorbar\": {\"outlinewidth\": 0, \"ticks\": \"\"}}, \"type\": \"scattergeo\"}], \"scattergl\": [{\"marker\": {\"colorbar\": {\"outlinewidth\": 0, \"ticks\": \"\"}}, \"type\": \"scattergl\"}], \"scattermapbox\": [{\"marker\": {\"colorbar\": {\"outlinewidth\": 0, \"ticks\": \"\"}}, \"type\": \"scattermapbox\"}], \"scatterpolar\": [{\"marker\": {\"colorbar\": {\"outlinewidth\": 0, \"ticks\": \"\"}}, \"type\": \"scatterpolar\"}], \"scatterpolargl\": [{\"marker\": {\"colorbar\": {\"outlinewidth\": 0, \"ticks\": \"\"}}, \"type\": \"scatterpolargl\"}], \"scatterternary\": [{\"marker\": {\"colorbar\": {\"outlinewidth\": 0, \"ticks\": \"\"}}, \"type\": \"scatterternary\"}], \"surface\": [{\"colorbar\": {\"outlinewidth\": 0, \"ticks\": \"\"}, \"colorscale\": [[0.0, \"#0d0887\"], [0.1111111111111111, \"#46039f\"], [0.2222222222222222, \"#7201a8\"], [0.3333333333333333, \"#9c179e\"], [0.4444444444444444, \"#bd3786\"], [0.5555555555555556, \"#d8576b\"], [0.6666666666666666, \"#ed7953\"], [0.7777777777777778, \"#fb9f3a\"], [0.8888888888888888, \"#fdca26\"], [1.0, \"#f0f921\"]], \"type\": \"surface\"}], \"table\": [{\"cells\": {\"fill\": {\"color\": \"#EBF0F8\"}, \"line\": {\"color\": \"white\"}}, \"header\": {\"fill\": {\"color\": \"#C8D4E3\"}, \"line\": {\"color\": \"white\"}}, \"type\": \"table\"}]}, \"layout\": {\"annotationdefaults\": {\"arrowcolor\": \"#2a3f5f\", \"arrowhead\": 0, \"arrowwidth\": 1}, \"autotypenumbers\": \"strict\", \"coloraxis\": {\"colorbar\": {\"outlinewidth\": 0, \"ticks\": \"\"}}, \"colorscale\": {\"diverging\": [[0, \"#8e0152\"], [0.1, \"#c51b7d\"], [0.2, \"#de77ae\"], [0.3, \"#f1b6da\"], [0.4, \"#fde0ef\"], [0.5, \"#f7f7f7\"], [0.6, \"#e6f5d0\"], [0.7, \"#b8e186\"], [0.8, \"#7fbc41\"], [0.9, \"#4d9221\"], [1, \"#276419\"]], \"sequential\": [[0.0, \"#0d0887\"], [0.1111111111111111, \"#46039f\"], [0.2222222222222222, \"#7201a8\"], [0.3333333333333333, \"#9c179e\"], [0.4444444444444444, \"#bd3786\"], [0.5555555555555556, \"#d8576b\"], [0.6666666666666666, \"#ed7953\"], [0.7777777777777778, \"#fb9f3a\"], [0.8888888888888888, \"#fdca26\"], [1.0, \"#f0f921\"]], \"sequentialminus\": [[0.0, \"#0d0887\"], [0.1111111111111111, \"#46039f\"], [0.2222222222222222, \"#7201a8\"], [0.3333333333333333, \"#9c179e\"], [0.4444444444444444, \"#bd3786\"], [0.5555555555555556, \"#d8576b\"], [0.6666666666666666, \"#ed7953\"], [0.7777777777777778, \"#fb9f3a\"], [0.8888888888888888, \"#fdca26\"], [1.0, \"#f0f921\"]]}, \"colorway\": [\"#636efa\", \"#EF553B\", \"#00cc96\", \"#ab63fa\", \"#FFA15A\", \"#19d3f3\", \"#FF6692\", \"#B6E880\", \"#FF97FF\", \"#FECB52\"], \"font\": {\"color\": \"#2a3f5f\"}, \"geo\": {\"bgcolor\": \"white\", \"lakecolor\": \"white\", \"landcolor\": \"#E5ECF6\", \"showlakes\": true, \"showland\": true, \"subunitcolor\": \"white\"}, \"hoverlabel\": {\"align\": \"left\"}, \"hovermode\": \"closest\", \"mapbox\": {\"style\": \"light\"}, \"paper_bgcolor\": \"white\", \"plot_bgcolor\": \"#E5ECF6\", \"polar\": {\"angularaxis\": {\"gridcolor\": \"white\", \"linecolor\": \"white\", \"ticks\": \"\"}, \"bgcolor\": \"#E5ECF6\", \"radialaxis\": {\"gridcolor\": \"white\", \"linecolor\": \"white\", \"ticks\": \"\"}}, \"scene\": {\"xaxis\": {\"backgroundcolor\": \"#E5ECF6\", \"gridcolor\": \"white\", \"gridwidth\": 2, \"linecolor\": \"white\", \"showbackground\": true, \"ticks\": \"\", \"zerolinecolor\": \"white\"}, \"yaxis\": {\"backgroundcolor\": \"#E5ECF6\", \"gridcolor\": \"white\", \"gridwidth\": 2, \"linecolor\": \"white\", \"showbackground\": true, \"ticks\": \"\", \"zerolinecolor\": \"white\"}, \"zaxis\": {\"backgroundcolor\": \"#E5ECF6\", \"gridcolor\": \"white\", \"gridwidth\": 2, \"linecolor\": \"white\", \"showbackground\": true, \"ticks\": \"\", \"zerolinecolor\": \"white\"}}, \"shapedefaults\": {\"line\": {\"color\": \"#2a3f5f\"}}, \"ternary\": {\"aaxis\": {\"gridcolor\": \"white\", \"linecolor\": \"white\", \"ticks\": \"\"}, \"baxis\": {\"gridcolor\": \"white\", \"linecolor\": \"white\", \"ticks\": \"\"}, \"bgcolor\": \"#E5ECF6\", \"caxis\": {\"gridcolor\": \"white\", \"linecolor\": \"white\", \"ticks\": \"\"}}, \"title\": {\"x\": 0.05}, \"xaxis\": {\"automargin\": true, \"gridcolor\": \"white\", \"linecolor\": \"white\", \"ticks\": \"\", \"title\": {\"standoff\": 15}, \"zerolinecolor\": \"white\", \"zerolinewidth\": 2}, \"yaxis\": {\"automargin\": true, \"gridcolor\": \"white\", \"linecolor\": \"white\", \"ticks\": \"\", \"title\": {\"standoff\": 15}, \"zerolinecolor\": \"white\", \"zerolinewidth\": 2}}}, \"xaxis\": {\"fixedrange\": true, \"title\": {\"text\": \"x-axis\"}}, \"yaxis\": {\"fixedrange\": true, \"title\": {\"text\": \"y-axis\"}}},                        {\"responsive\": true}                    ).then(function(){\n",
       "                            \n",
       "var gd = document.getElementById('baea2908-16bc-4037-9484-7591ef378195');\n",
       "var x = new MutationObserver(function (mutations, observer) {{\n",
       "        var display = window.getComputedStyle(gd).display;\n",
       "        if (!display || display === 'none') {{\n",
       "            console.log([gd, 'removed!']);\n",
       "            Plotly.purge(gd);\n",
       "            observer.disconnect();\n",
       "        }}\n",
       "}});\n",
       "\n",
       "// Listen for the removal of the full notebook cells\n",
       "var notebookContainer = gd.closest('#notebook-container');\n",
       "if (notebookContainer) {{\n",
       "    x.observe(notebookContainer, {childList: true});\n",
       "}}\n",
       "\n",
       "// Listen for the clearing of the current output cell\n",
       "var outputEl = gd.closest('.output');\n",
       "if (outputEl) {{\n",
       "    x.observe(outputEl, {childList: true});\n",
       "}}\n",
       "\n",
       "                        })                };                });            </script>        </div>"
      ]
     },
     "metadata": {},
     "output_type": "display_data"
    }
   ],
   "source": [
    "import plotly.graph_objects as go\n",
    "import numpy as np\n",
    "import matplotlib.pyplot as plt\n",
    "\n",
    "x = np.linspace(0,1,20)\n",
    "y = np.linspace(0,1,20)\n",
    "\n",
    "X,Y = np.meshgrid(x,y)\n",
    "Z = X + Y\n",
    "\n",
    "\n",
    "layout = go.Layout(\n",
    "    xaxis={'title': 'x-axis','fixedrange':True},\n",
    "    yaxis={'title': 'y-axis','fixedrange':True})\n",
    "\n",
    "\n",
    "fig = go.Figure(data = go.Surface(x = x,y = y,z = Z),\n",
    "               layout = layout)\n",
    "\n",
    "\n",
    "# fig.update_layout(scene_camera=camera)\n",
    "\n",
    "fig.show()"
   ]
  },
  {
   "cell_type": "markdown",
   "id": "straight-durham",
   "metadata": {},
   "source": [
    "From this density, one computes the marginal pdfs of $X$ and $Y$. For example, the marginal density of $X$ is given by\n",
    "\n",
    "$$\n",
    "\\begin{align}\n",
    "f_{X}(x) &= \\int_{0}^{1} (x+y) dy \\\\\n",
    "&= x + \\frac{1}{2}, 0<x<1\n",
    "\\end{align}\n",
    "$$\n",
    "\n",
    "Similarly, one can show that the marginal density of $Y$ is given by $f_{Y}(y) = y + \\tfrac{1}{2}$ for $0<y<1$."
   ]
  },
  {
   "cell_type": "markdown",
   "id": "successful-modern",
   "metadata": {},
   "source": [
    "#### Indipendence"
   ]
  },
  {
   "cell_type": "markdown",
   "id": "downtown-identifier",
   "metadata": {},
   "source": [
    "Two random variables $X$ and $Y$ are said to be ***independent*** if the joint pdf factors into a product of their marginal densities, that is\n",
    "\n",
    "$$f(x,y) = f_{X}(x)f_{Y}(y)$$\n",
    "\n",
    "for all values of $X$ and $Y$. Are $X$ and $Y$ independent in our example? Since we have computed the marginal densities, we look at the product\n",
    "\n",
    "$$f_{X}(x)f_{Y}(y) = \\left(x+\\frac{1}{2}\\right) \\left(y+\\frac{1}{2} \\right)$$\n",
    "\n",
    "which is clearly not equal to the joint pdf $f(x,y) = x + y$ for values of $x$ and $y$ in the unit square. So $X$ and $Y$ are not independent in this example."
   ]
  },
  {
   "cell_type": "markdown",
   "id": "expected-wonder",
   "metadata": {},
   "source": [
    "#### Measuring association by covariance"
   ]
  },
  {
   "cell_type": "markdown",
   "id": "significant-angola",
   "metadata": {},
   "source": [
    "In the situation like this one where two random variables are not independent, it is desirable to measure the association pattern. A standard measure of association is the ***covariance*** defined as the expectation\n",
    "\n",
    "$$\n",
    "\\begin{align}\n",
    "Cov(X,Y) &= E((X-\\mu_{X})(Y-\\mu_{Y})) \\\\\n",
    "&= \\int \\int (x-\\mu_{X})(y-\\mu_{Y})f(x,y)dxdy \n",
    "\\end{align}\n",
    "$$\n",
    "\n",
    "For computational purposes, one writes the covariance as\n",
    "\n",
    "$$\n",
    "\\begin{align}\n",
    "Cov(X,Y) &= E(XY) - \\mu_{X} \\mu_{Y}\\\\\n",
    "&= \\int \\int (xy)f(x,y)dxdy - \\mu_{X}\\mu_{Y} \n",
    "\\end{align}\n",
    "$$\n",
    "\n",
    "For our example, one computes the expectation $E(XY)$ from the joint density:\n",
    "\n",
    "$$\n",
    "\\begin{align}\n",
    "E(X,Y) &= \\int_{0}^{1} \\int_{0}^{1} (xy)f(x,y)dxdy  \\\\\n",
    "&= \\int \\frac{y}{3} + \\frac{y^{2}}{2} dy \\\\\n",
    "&= \\frac{1}{3}\n",
    "\\end{align}\n",
    "$$\n",
    "\n",
    "One can compute that the means of $X$ and $Y$ are given by $\\mu_{X} = 7/12$ and $\\mu_{Y} = 7/12$, respectively. So then the covariance of $X$ and $Y$ is given by\n",
    "\n",
    "$$\n",
    "\\begin{align}\n",
    "Cov(X,Y) &= E(XY) -\\mu_{X} \\mu_{Y} \\\\\n",
    "&= \\frac{1}{3} - \\left(\\frac{7}{12}\\right) \\left(\\frac{7}{12}\\right)\\\\\n",
    "&= -\\frac{1}{144}\n",
    "\\end{align}\n",
    "$$\n",
    "\n",
    "It can be difficult to interpret a covariance value since it depends on the scale of the support of the $X$ and $Y$ variables. One standardizes this measure of association by dividing by the standard deviations of $X$ and $Y$ resulting in the correlation measure $\\rho$.\n",
    "\n",
    "$$\\rho = \\frac{Cov(X,Y)}{\\sigma_{X}\\sigma_{Y}}$$\n",
    "\n",
    "In a separate calculation one can find the variances of $X$ and $Y$ to be $\\sigma_{X}^{2} = 11/144$ and $\\sigma_{Y}^{2} = 11/144$. Then the correlation is given by:\n",
    "\n",
    "$$\n",
    "\\begin{align}\n",
    "\\rho &= \\frac{-1/144}{\\sqrt{11/144} \\sqrt{11/144}} \\\\\n",
    "&= -\\frac{1}{11}\n",
    "\\end{align}\n",
    "$$\n",
    "\n",
    "It can be shown that the value of the correlation $\\rho$ falls in the interval ($−1,1$) where a value of $\\rho = −1$ or $\\rho = 1$ indicates that $Y$ is a linear function of X with probability 1. Here the correlation value is a small negative value\n",
    "indicating weak negative association between $X$ and $Y$."
   ]
  },
  {
   "cell_type": "markdown",
   "id": "indian-certificate",
   "metadata": {},
   "source": [
    "### Flipping a Random Coin: The Beta Binomial Distribution"
   ]
  },
  {
   "cell_type": "markdown",
   "id": "negative-empire",
   "metadata": {},
   "source": [
    "Suppose one has a box of coins where the coin probabilities vary. If one selects a coin from the box, $p$, the probability the coin lands heads follows the distribution\n",
    "\n",
    "$$g(p) = \\frac{1}{B(6,6)}p^{5}(1-p)^{5}, 0<p<1$$\n",
    "\n",
    "where $B(6,6)$ is the ***beta function***, which will be more thoroughly discussed in Chapter 7. This density is plotted in Figure 6.4."
   ]
  },
  {
   "cell_type": "code",
   "execution_count": 28,
   "id": "opponent-andrews",
   "metadata": {},
   "outputs": [
    {
     "data": {
      "image/png": "[encoded data removed]",
      "text/plain": [
       "<Figure size 432x288 with 1 Axes>"
      ]
     },
     "metadata": {},
     "output_type": "display_data"
    }
   ],
   "source": [
    "import numpy as np\n",
    "import matplotlib.pyplot as plt\n",
    "from scipy.stats import beta\n",
    "\n",
    "\n",
    "fig = plt.figure();\n",
    "ax = fig.add_axes((0.1, 0.2, 0.8, 0.7));\n",
    "txt = 'Figure 6.4 - Beta(6, 6) density representing the distribution of probabilities of heads for a large collection of random coins.';\n",
    "\n",
    "#\n",
    "# Set the shape paremeters\n",
    "#\n",
    "a, b = 6, 6\n",
    "#\n",
    "# Generate the value between \n",
    "#\n",
    "x = np.linspace(beta.ppf(0.0, a, b),beta.ppf(1, a, b), 100)\n",
    "#\n",
    "# Plot the beta distribution\n",
    "#\n",
    "plt.plot(x, beta.pdf(x, a, b), 'b-');\n",
    "\n",
    "plt.xlabel('P', fontsize='10');\n",
    "plt.ylabel('y', fontsize='10');\n",
    "\n",
    "plt.figtext(0.5, 0.01, txt, wrap=True, horizontalalignment='center', fontsize=12);"
   ]
  },
  {
   "cell_type": "markdown",
   "id": "smooth-pipeline",
   "metadata": {},
   "source": [
    "A couple of things to notice about this density. First, the density has a significant height over a range of plausible values of the probability – this reflects the idea that we are really unsure about the chance of observing a heads when flipped. Second, the density is symmetric about $p = 0.5$, which means that the coin is equally likely to be biased towards heads or biased towards tails.\n",
    "\n",
    "One next flips this \"random\" coin 20 times. Denote the outcome of this experiment by the random variable $Y$ which is equal to the count of heads. If we are given a value of the probability $p$, then $Y$ has a binomial distribution with $n = 20$ trials and success probability $p$. This probability function is actually the conditional probability of observing $y$ heads given a value of the probability $p$:\n",
    "\n",
    "$$f(y|p) = \\binom{20}{y}p^{y}(1-p)^{20-y}, y = 0,1, \\dots, 20.$$\n",
    "\n",
    "Given the density of $p$ and the conditional density of $Y$ conditional on $p$, one computes the joint density by the product\n",
    "\n",
    "$$\n",
    "\\begin{align}\n",
    "f(y,p) &= g(p)f(y|p) = \\left[ \\frac{1}{B(6,6)}p^{5}(1-p)^{5}\\right] \\left[\\binom{20}{y}p^{y}(1-p)^{20-y} \\right] \\\\\n",
    "&= \\frac{1}{B(6,6)} \\binom{20}{y}p^{y+5}(1-p)^{25-y}, 0<p<1, y = 0,1, \\dots, 20\n",
    "\\end{align}\n",
    "$$\n",
    "\n",
    "This beta-binomial density is a mixed density in the sense that one variable ($p$) is continuous and one ($Y$) is discrete. This will not create any problems in the computation of marginal or conditional distributions, but one should be careful to understand the support of each random variable."
   ]
  },
  {
   "cell_type": "markdown",
   "id": "competent-prototype",
   "metadata": {},
   "source": [
    "##### Simulating from the beta-binomial distribution"
   ]
  },
  {
   "cell_type": "markdown",
   "id": "indoor-corpus",
   "metadata": {},
   "source": [
    "Using Python it is straightforward to simulate a sample of ($p,y$) values from the Beta-Binomial distribution. Using the rbeta() function, one takes a random sample of 500 draws from the beta(6, 6) distribution. Then for each probability value $p$, one uses the rbinom() function to simulate the number of heads in 20 flips of this \"p coin\". A scatterplot of the simulated values of $p$ and $Y$ is displayed in Figure 6.5. "
   ]
  },
  {
   "cell_type": "code",
   "execution_count": 29,
   "id": "general-session",
   "metadata": {},
   "outputs": [
    {
     "data": {
      "image/png": "[encoded data removed]",
      "text/plain": [
       "<Figure size 432x288 with 1 Axes>"
      ]
     },
     "metadata": {},
     "output_type": "display_data"
    }
   ],
   "source": [
    "from scipy.stats import beta, binom\n",
    "import pandas as pd\n",
    "import matplotlib.pyplot as plt\n",
    "import seaborn as sns\n",
    "\n",
    "fig = plt.figure();\n",
    "ax = fig.add_axes((0.1, 0.2, 0.8, 0.7));\n",
    "txt = 'Figure 6.4 - Beta(6, 6) density representing the distribution of probabilities of heads for a large collection of random coins.';\n",
    "\n",
    "\n",
    "np.random.seed(12345)\n",
    "n_samples = 500\n",
    "\n",
    "pr = beta.rvs(6,6, size = n_samples)\n",
    "Y = binom.rvs(n = 20, p = pr, size = n_samples)\n",
    "\n",
    "def jitter(values,j):\n",
    "    return values + np.random.normal(j,0.1,values.shape)\n",
    "\n",
    "df_trial =pd.DataFrame({'p' : pr,\n",
    "                       'Y' : Y})\n",
    "\n",
    "sns.scatterplot(x = jitter(df_trial.p, 0.01),\n",
    "               y = jitter(df_trial.Y,0.2),\n",
    "               s = 8,\n",
    "               color = 'b')\n",
    "\n",
    "plt.figtext(0.5, 0.01, txt, wrap=True, horizontalalignment='center', fontsize=12);"
   ]
  },
  {
   "cell_type": "markdown",
   "id": "external-helen",
   "metadata": {},
   "source": [
    "Note that the variables are positively correlated, which indicates that one tends to observe a large number of heads with coins with a large probability of heads.\n",
    "\n",
    "What is the probability that one observes exactly 10 heads in the 20 flips, that is $P(Y = 10$)? One performs this calculation by computing the marginal probability function for $Y$. This is obtained by integrating out the probability $p$ from the joint density. This density is a special case of the beta-binomial distribution.\n",
    "\n",
    "$$\n",
    "\\begin{align}\n",
    "f(y) &= \\int_{0}^{1} g(p) f(y|p) dp\\\\\n",
    "&= \\int_{0}^{1} \\frac{1}{B(6,6)} \\binom{20}{y}p^{y+5}(1-p)^{25-y} dp \\\\\n",
    "&= \\binom{20}{y}\\frac{B(y+6,26-y)}{B(6,6)}, y=0,1, \\dots, 20\n",
    "\\end{align}\n",
    "$$\n",
    "\n",
    "Using this formula with the substitution $y = 10$, we use Python to find the probability $P(Y = 10)$."
   ]
  },
  {
   "cell_type": "code",
   "execution_count": 30,
   "id": "minus-heaven",
   "metadata": {},
   "outputs": [
    {
     "data": {
      "text/plain": [
       "0.10650481211007398"
      ]
     },
     "execution_count": 30,
     "metadata": {},
     "output_type": "execute_result"
    }
   ],
   "source": [
    "# https://stackoverflow.com/questions/58340600/printing-binomial-coefficient-using-numpy\n",
    "    \n",
    "from scipy.special import binom\n",
    "from scipy.special import beta\n",
    "\n",
    "binom(20, 10) * beta(10+6, 26-10) / beta(6,6)"
   ]
  },
  {
   "cell_type": "markdown",
   "id": "consistent-feelings",
   "metadata": {},
   "source": [
    "### Bivariate Normal Distribution"
   ]
  },
  {
   "cell_type": "markdown",
   "id": "sapphire-criterion",
   "metadata": {},
   "source": [
    "Suppose one collects multiple body measurements from a group of 30 students. For example, for each of 30 students, one might collect the diameter of the wrist and the diameter of the ankle. If $X$ and $Y$ denote the two body measurements (measured in cm) for a student, then one might think that the density of $X$ and the density of $Y$ are normally distributed. Moreover, the\n",
    "two random variables would be positively correlated – if a student has a large wrist diameter, one would predict her to also have a large forearm length. A convenient joint density function for two continuous measurements $X$ and $Y$ , each variable measured on the whole real line, is the bivariate normal density with density given by\n",
    "\n",
    "$$f(x,y) = \\frac{1}{2 \\pi \\sigma_{X} \\sigma_{Y} \\sqrt{1- \\rho}} \\text{exp} \\left[-\\frac{1}{2(1-\\rho^{2})} (z^{2}_{X} - 2\\rho z_{X}z_{Y} + z_{Y}^{2})\\right]$$\n",
    "\n",
    "where $z_{X}$ and $z_{Y}$ are the *standardized scores*\n",
    "\n",
    "$$z_{X} = \\frac{x-\\mu_{X}}{\\sigma_{X}}, z_{Y} = \\frac{y-\\mu_{Y}}{\\sigma_{Y}}$$\n",
    "\n",
    "and $\\mu_{X}$, $\\mu_{Y}$ and $\\sigma_{X}$, $\\sigma_{Y}$ are respectively the means and standard deviations of $X$ and $Y$. The parameter $\\rho$ is the correlation of $X$ and $Y$ and measures the association between the two variables."
   ]
  },
  {
   "cell_type": "markdown",
   "id": "caring-appreciation",
   "metadata": {},
   "source": [
    "Figure 6.6 shows contour plots of four bivariate normal distributions. The bottom right graph corresponds to the values $\\mu_{x} = 17$, $\\mu_{Y}= 23$, $\\sigma_{X}=2$, $\\sigma_{Y}=3$ and $\\rho = 0.4$ where $X$ and $Y$ represent the wrist diameter and ankle diameter measurements of the student. The correlation value of $\\rho = 0.4$ reflects the moderate positive correlation of the two body measurements. The other three graphs use the same means and standard deviations but different values of the $\\rho$ parameter. This figure shows that the bivariate normal distribution is able to model a variety of association structures between two continuous measurements."
   ]
  },
  {
   "cell_type": "code",
   "execution_count": 31,
   "id": "collectible-petite",
   "metadata": {},
   "outputs": [],
   "source": [
    "def cov_matrix(sigma, rho):\n",
    "    a = np.diag((rho*sigma[0]*sigma[1],rho*sigma[1]*sigma[0]))\n",
    "    return(np.diag((sigma[0]**2,sigma[1]**2)) + a[:,[1,0]])"
   ]
  },
  {
   "cell_type": "code",
   "execution_count": 32,
   "id": "roman-ontario",
   "metadata": {},
   "outputs": [],
   "source": [
    "mu = np.array([17.0, 23.0])\n",
    "sigma = np.array([2.0,3.0])\n",
    "rho = 0.4"
   ]
  },
  {
   "cell_type": "code",
   "execution_count": 33,
   "id": "peripheral-caution",
   "metadata": {},
   "outputs": [
    {
     "data": {
      "image/png": "[encoded data removed]",
      "text/plain": [
       "<Figure size 576x432 with 4 Axes>"
      ]
     },
     "metadata": {},
     "output_type": "display_data"
    }
   ],
   "source": [
    "import matplotlib.pyplot as plt\n",
    "import numpy as np\n",
    "from scipy.stats import multivariate_normal\n",
    "\n",
    "n = 500\n",
    "\n",
    "x = np.linspace(12, 22, n, endpoint=False)\n",
    "y = np.linspace(15, 30, n, endpoint=False)\n",
    "\n",
    "cov_1 = cov_matrix(sigma, 0.9)\n",
    "cov_2 = cov_matrix(sigma, -0.4)\n",
    "cov_3 = cov_matrix(sigma, -0.9)\n",
    "cov_4 = cov_matrix(sigma, 0.4)\n",
    "\n",
    "xv, yv = np.meshgrid(x, y)\n",
    "pos = np.empty((n, n, 2))\n",
    "pos[:, :, 0] = xv\n",
    "pos[:, :, 1] = yv\n",
    "\n",
    "pdf_1 = multivariate_normal.pdf(pos, mu, cov_1)\n",
    "pdf_2 = multivariate_normal.pdf(pos, mu, cov_2)\n",
    "pdf_3 = multivariate_normal.pdf(pos, mu, cov_3)\n",
    "pdf_4 = multivariate_normal.pdf(pos, mu, cov_4)\n",
    "\n",
    "fig, ax =  plt.subplots(nrows = 2, ncols = 2, figsize=(8,6));\n",
    "# ax = fig.add_axes((0.1, 0.2, 0.8, 0.7));\n",
    "fig.tight_layout(h_pad=2)\n",
    "\n",
    "txt = 'Figure 6.6 - Contour graphs of four Bivariate Normal distributions with different correlations.';\n",
    "\n",
    "# plt.subplot(2,2,1)\n",
    "# plt.title('$\\\\rho$  = 0.9')\n",
    "# plt.contour(xv,yv,pdf_1,colors = 'blue');\n",
    "\n",
    "ax[0, 0].set_title('$\\\\rho$  = 0.9')\n",
    "ax[0, 0].contour(xv,yv,pdf_1,colors = 'blue');\n",
    "\n",
    "# plt.subplot(2,2,2)\n",
    "# plt.set_title('$\\\\rho$  = -0.4')\n",
    "# plt.contour(xv,yv,pdf_2,colors = 'blue');\n",
    "\n",
    "ax[0, 1].set_title('$\\\\rho$  = -0.4')\n",
    "ax[0, 1].contour(xv,yv,pdf_2,colors = 'blue');\n",
    "\n",
    "# plt.subplot(2,2,3)\n",
    "# plt.title('$\\\\rho$  = -0.9')\n",
    "# plt.contour(xv,yv,pdf_3,colors = 'blue');\n",
    "\n",
    "ax[1, 0].set_title('$\\\\rho$  = -0.9')\n",
    "ax[1, 0].contour(xv,yv,pdf_3,colors = 'blue');\n",
    "\n",
    "# plt.subplot(2,2,4)\n",
    "# plt.title('$\\\\rho$  = 0.4')\n",
    "# plt.contour(xv,yv,pdf_4,colors = 'blue');\n",
    "\n",
    "ax[1, 1].set_title('$\\\\rho$  = 0.4')\n",
    "ax[1, 1].contour(xv,yv,pdf_4,colors = 'blue');\n",
    "\n",
    "plt.figtext(0.5, -0.01, txt, wrap=True, horizontalalignment='center', fontsize=12);\n"
   ]
  },
  {
   "cell_type": "markdown",
   "id": "recovered-funeral",
   "metadata": {},
   "source": [
    "There are a number of attractive properties of the bivariate normal distribution.\n",
    "\n",
    "1. **The marginal densities of $X$ and $Y$ are Normal**. So $X$ has a normal density with parameters $\\mu_{X}$ and $\\sigma_{X}$ and likewise $Y$ is normal $\\mathcal{N}(\\mu_{Y} , \\sigma_{Y})$\n",
    "2. **$X$ and $Y$ are normal, conditional densities will also be normal**. For example, if one is given that $Y = y$, then the conditional density of $X$ given $Y = y$ is normal where\n",
    "\n",
    "    $$E(X|Y=y) = \\mu_{X} + \\rho \\frac{\\sigma_{X}}{\\sigma_{Y}}(y-\\mu_{Y}) \\text{ , } Var(X|Y=y) = \\sigma^{2}_{X}(1-\\rho^{2})$$\n",
    "    \n",
    "Similarly, if one knows that $X = x$, then the conditional density of $Y$ given $X = x$ is normal with mean $\\mu_{Y} + \\rho \\frac{\\sigma_{Y}}{\\sigma_{X}}(x-\\mu_{X})$ and variance $\\sigma_{Y}^{2}(1-\\rho^{2})$.\n",
    "\n",
    "3. **For a bivariate normal distribution, $X$ and $Y$ are (linearly) independent if and only if the correlation $\\rho = 0$**. In contrast, as the correlation parameter ρ approaches +1 and −1, then all of the probability mass will be concentrated on a line where $Y = aX + b$."
   ]
  },
  {
   "cell_type": "markdown",
   "id": "controversial-advertising",
   "metadata": {},
   "source": [
    "##### Bivariate normal calculations"
   ]
  },
  {
   "cell_type": "markdown",
   "id": "daily-purchase",
   "metadata": {},
   "source": [
    "Returning to the body measurements application, different uses of the bivariate normal model can be illustrated. Recall that $X$ denotes the wrist diameter, $Y$ represents the ankle diameter and we are assuming $(X,Y)$ has a bivariate normal distribution with parameters $\\mu_{X} = 17$, $\\mu_{Y} = 23$, $\\sigma_{X} = 2$, $\\sigma_{Y} = 3$ and $\\rho = 0.4$"
   ]
  },
  {
   "cell_type": "markdown",
   "id": "continued-egypt",
   "metadata": {},
   "source": [
    "- 1. **Find the probability a student’s wrist diameter exceeds 20 cm.**\n",
    "\n",
    "Here one is interested in the probability $P(X > 20)$. From the facts above, the marginal density for $X$ will be normal with mean $\\mu_{X} = 17$ and standard deviation $\\sigma_{X} = 2$. So this probability is computed using the function `norm.cdf()` from `scipy.stats` "
   ]
  },
  {
   "cell_type": "code",
   "execution_count": 34,
   "id": "unsigned-words",
   "metadata": {},
   "outputs": [
    {
     "data": {
      "text/plain": [
       "0.06680720126885809"
      ]
     },
     "execution_count": 34,
     "metadata": {},
     "output_type": "execute_result"
    }
   ],
   "source": [
    "from scipy.stats import norm\n",
    "\n",
    "wrist_distr = norm(loc = 17., scale = 2.)\n",
    "1 - wrist_distr.cdf(20)"
   ]
  },
  {
   "cell_type": "markdown",
   "id": "moral-cycling",
   "metadata": {},
   "source": [
    " - 2. **Suppose one is told that the student’s ankle diameter is 20 cm – find the conditional probability $P(X > 20 | Y = 20)$**"
   ]
  },
  {
   "cell_type": "markdown",
   "id": "spread-inquiry",
   "metadata": {},
   "source": [
    "By above the distribution of $X$ conditional on the value $Y = y$ is normal with mean $\\mu_{x} + \\rho\\frac{\\sigma_{X}}{\\sigma{Y}}(y-\\mu_{Y})$ and variance $\\sigma_{X}^{2}(1-\\rho^{2})$. Here one is conditioning on the value $Y = 20$ and one computes the mean and standard deviation and apply the `pnorm()` function."
   ]
  },
  {
   "cell_type": "markdown",
   "id": "considerable-savannah",
   "metadata": {},
   "source": [
    "$$\n",
    "\\begin{align}\n",
    "E(X|Y=20) &= \\mu_{X} + \\rho\\frac{\\sigma_{X}}{\\sigma_{Y}}(y-\\mu_{Y}) \\\\\n",
    "&= 17 + 0.4 \\left(\\frac{2}{3} \\right)(20-23) \\\\\n",
    "&= 16.2\n",
    "\\end{align}\n",
    "$$\n",
    "\n",
    "$$\n",
    "\\begin{align}\n",
    "SD(X|Y = 20) &= \\sqrt{\\sigma^{2}_{X}(1- \\rho^{2})} \\\\\n",
    "&= \\sqrt{2^{2}(1-0.4^{2})} \\\\\n",
    "&= 1.83\n",
    "\\end{align}\n",
    "$$"
   ]
  },
  {
   "cell_type": "code",
   "execution_count": 35,
   "id": "judicial-subscriber",
   "metadata": {},
   "outputs": [
    {
     "data": {
      "text/plain": [
       "0.018923739345007684"
      ]
     },
     "execution_count": 35,
     "metadata": {},
     "output_type": "execute_result"
    }
   ],
   "source": [
    "1 - norm.cdf(20.0, 16.2, 1.83)"
   ]
  },
  {
   "cell_type": "markdown",
   "id": "fresh-recording",
   "metadata": {},
   "source": [
    "- 3. **Are X and Y independent variables?**\n",
    "\n",
    "By the properties above, for a bivariate normal distribution, a necessary and sufficient condition for independence is that the correlation $\\rho = 0$. Since the correlation between the two variables is not zero, the random variables $X$ and $Y$ can not be independent."
   ]
  },
  {
   "cell_type": "markdown",
   "id": "tamil-loading",
   "metadata": {},
   "source": [
    "- 4. **Find the probability a student’s ankle diameter measurement is at 50 percent greater than her wrist diameter measurement, that is $P(Y > 1.5X)$**"
   ]
  },
  {
   "cell_type": "markdown",
   "id": "hollywood-enclosure",
   "metadata": {},
   "source": [
    "##### Simulating Bivariate Normal measurements"
   ]
  },
  {
   "cell_type": "markdown",
   "id": "cooperative-image",
   "metadata": {},
   "source": [
    "The computation of the probability $P(Y > 1.5X)$ is not obvious from the information provided. But simulation provides an attractive method of computing this probability. One simulates a large number, say 1000, draws from the bivariate normal distribution and then finds the fraction of simulated $(x,y)$ pairs where $y > 1.5x$. Figure 6.7 displays a scatterplot of these simulated draws and the line $y = 1.5x$"
   ]
  },
  {
   "cell_type": "code",
   "execution_count": 36,
   "id": "exposed-brunswick",
   "metadata": {},
   "outputs": [],
   "source": [
    "from scipy.stats import multivariate_normal\n",
    "import numpy as np\n",
    "import pandas as pd\n",
    "np.random.seed(1234)\n",
    "\n",
    "mu = np.array([17.0, 23.0])\n",
    "sigma = np.array([2.0,3.0])\n",
    "rho = 0.4\n",
    "\n",
    "cov = cov_matrix(sigma, 0.4)\n",
    "wrist_ankle_dist = multivariate_normal(mu, cov)\n",
    "\n",
    "samples = wrist_ankle_dist.rvs(1000)\n",
    "\n",
    "df_samples = pd.DataFrame({'x':samples[:,0],\n",
    "                          'y':samples[:,1]})"
   ]
  },
  {
   "cell_type": "code",
   "execution_count": 37,
   "id": "modular-shade",
   "metadata": {},
   "outputs": [
    {
     "data": {
      "image/png": "[encoded data removed]",
      "text/plain": [
       "<Figure size 432x288 with 1 Axes>"
      ]
     },
     "metadata": {},
     "output_type": "display_data"
    }
   ],
   "source": [
    "import matplotlib.pyplot as plt\n",
    "import numpy as np\n",
    "\n",
    "fig = plt.figure();\n",
    "ax = fig.add_axes((0.1, 0.2, 0.8, 0.7));\n",
    "\n",
    "txt = 'Figure 6.7 - Scatterplot of simulated draws from the bivariate normal in body measurement example. \\n The probability that $Y > 1.5X$ is approximated by the proportion of simulated points \\n that fall to the left of the line $y = 1.5x$.';\n",
    "\n",
    "x = np.linspace(8.5, 24, 20)\n",
    "y = 1.5 * x\n",
    "\n",
    "plt.scatter(samples[:,0], samples[:,1], \n",
    "            marker = '.', \n",
    "            c = 'black');\n",
    "\n",
    "plt.plot(x,y, color = 'blue');\n",
    "\n",
    "plt.figtext(0.5, -0.05, txt, wrap=True, horizontalalignment='center', fontsize=12);"
   ]
  },
  {
   "cell_type": "markdown",
   "id": "talented-weather",
   "metadata": {},
   "source": [
    "The probability is estimated by the fraction of points that fall to the left of this line. In the Python script above we created a matrix containing  1000 simulated draws from a bivariate normal distribution with inputted parameters $\\mu_{X}$, $\\mu_{Y}$, $\\sigma_{X}$, $\\sigma_{X}$, $\\rho$. The bivariate normal parameters are set to the values in this example and the probability of interest is approximated by 0.221"
   ]
  },
  {
   "cell_type": "code",
   "execution_count": 38,
   "id": "lucky-hunter",
   "metadata": {},
   "outputs": [
    {
     "data": {
      "text/plain": [
       "0.221"
      ]
     },
     "execution_count": 38,
     "metadata": {},
     "output_type": "execute_result"
    }
   ],
   "source": [
    "df_samples[df_samples['y'] > 1.5*df_samples['x']].shape[0]/df_samples.shape[0]"
   ]
  },
  {
   "cell_type": "code",
   "execution_count": null,
   "id": "eleven-greek",
   "metadata": {},
   "outputs": [],
   "source": []
  }
 ],
 "metadata": {
  "kernelspec": {
   "display_name": "Python 3",
   "language": "python",
   "name": "python3"
  },
  "language_info": {
   "codemirror_mode": {
    "name": "ipython",
    "version": 3
   },
   "file_extension": ".py",
   "mimetype": "text/x-python",
   "name": "python",
   "nbconvert_exporter": "python",
   "pygments_lexer": "ipython3",
   "version": "3.7.9"
  }
 },
 "nbformat": 4,
 "nbformat_minor": 5
}
