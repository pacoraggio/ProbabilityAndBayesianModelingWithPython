{
 "cells": [
  {
   "cell_type": "markdown",
   "id": "comparative-europe",
   "metadata": {},
   "source": [
    "# Conditional Probability - Python"
   ]
  },
  {
   "cell_type": "markdown",
   "id": "funky-coupon",
   "metadata": {},
   "source": [
    "## Tree diagram of Choosing balls from a random bowl"
   ]
  },
  {
   "cell_type": "markdown",
   "id": "copyrighted-administrator",
   "metadata": {},
   "source": [
    "We are using again `newtorkx` package to produce the requested image"
   ]
  },
  {
   "cell_type": "code",
   "execution_count": 1,
   "id": "differential-witch",
   "metadata": {},
   "outputs": [],
   "source": [
    "pos = {0: (0, 0), \n",
    "       1: (1, 2), 2: (1, -2), \n",
    "       3: (2, 3), 4: (2,1), 5: (2,-1), 6: (2,-3)\n",
    "      } \n",
    "\n",
    "name = {0:' ', 1:'Bowl 1', 2:'Bowl 2',\n",
    "        3:'White Ball', 4:'Black Ball', 5:'White Ball',6:'Black Ball'\n",
    "       }\n",
    "\n",
    "y_shift = 0.06\n",
    "x_shift = -0.25\n",
    "\n",
    "pos_label = {x: (pos[x][0]+x_shift, pos[x][1] + y_shift) for x in pos}"
   ]
  },
  {
   "cell_type": "code",
   "execution_count": 2,
   "id": "other-correlation",
   "metadata": {},
   "outputs": [],
   "source": [
    "import networkx as nx"
   ]
  },
  {
   "cell_type": "code",
   "execution_count": 3,
   "id": "broadband-booth",
   "metadata": {},
   "outputs": [],
   "source": [
    "X=nx.Graph()\n",
    "X.add_nodes_from(pos.keys())"
   ]
  },
  {
   "cell_type": "code",
   "execution_count": 4,
   "id": "expired-reduction",
   "metadata": {},
   "outputs": [],
   "source": [
    "X.add_edges_from([(0, 1),(0, 2),\n",
    "                  (1, 3),(1, 4),(2, 5),(2, 6)\n",
    "                 ])"
   ]
  },
  {
   "cell_type": "code",
   "execution_count": 5,
   "id": "seasonal-crystal",
   "metadata": {},
   "outputs": [],
   "source": [
    "nnames = [i for i in name.values()]"
   ]
  },
  {
   "cell_type": "code",
   "execution_count": 6,
   "id": "welcome-implement",
   "metadata": {},
   "outputs": [],
   "source": [
    "for i in range(0,7):\n",
    "    X.add_nodes_from([i], name = nnames[i])"
   ]
  },
  {
   "cell_type": "code",
   "execution_count": 13,
   "id": "cardiac-passion",
   "metadata": {},
   "outputs": [
    {
     "data": {
      "image/png": "[encoded data removed]",
      "text/plain": [
       "<Figure size 288x216 with 1 Axes>"
      ]
     },
     "metadata": {},
     "output_type": "display_data"
    }
   ],
   "source": [
    "import matplotlib.pyplot as plt\n",
    "\n",
    "\n",
    "plt.figure(figsize=(4,3), facecolor=\"w\", frameon=False)\n",
    "size = [1 for _ in range(0,7)]\n",
    "txt = 'Figure 3.1 - Tree diagram of choosing balls from a random bowl, part 1.';\n",
    "\n",
    "nx.draw(X, pos, node_size = size)\n",
    "\n",
    "node_labels = nx.get_node_attributes(X,'name')\n",
    "nx.draw_networkx_labels(X, pos_label, labels = node_labels, font_size=12);\n",
    "\n",
    "plt.figtext(0.5, -0.05, txt, wrap=True, horizontalalignment='center');\n",
    "plt.savefig(\"./figures/chap_03/figure_3_1.png\", format=\"PNG\")"
   ]
  },
  {
   "cell_type": "code",
   "execution_count": 15,
   "id": "decimal-account",
   "metadata": {},
   "outputs": [
    {
     "data": {
      "image/png": "[encoded data removed]",
      "text/plain": [
       "<Figure size 288x216 with 1 Axes>"
      ]
     },
     "metadata": {},
     "output_type": "display_data"
    }
   ],
   "source": [
    "import matplotlib.pyplot as plt\n",
    "\n",
    "\n",
    "plt.figure(figsize=(4,3), facecolor=\"w\", frameon=False)\n",
    "size = [1 for _ in range(0,7)]\n",
    "txt = 'Figure 3.2 - Tree diagram of choosing balls from a random bowl, part 2.';\n",
    "\n",
    "nx.draw(X, pos, node_size = size)\n",
    "\n",
    "node_labels = nx.get_node_attributes(X,'name')\n",
    "nx.draw_networkx_labels(X, pos_label, labels = node_labels, font_size=12);\n",
    "\n",
    "nx.draw_networkx_edge_labels(X,pos,edge_labels={(0,1):'1/4',(0,2):'3/4',(1,3):'1/6',\n",
    "                                               (1,4):'5/6',(2,5):'4/6',(2,6):'2/6'},font_color='red')\n",
    "\n",
    "plt.figtext(0.5, -0.05, txt, wrap=True, horizontalalignment='center');\n",
    "plt.savefig(\"./figures/chap_03/figure_3_2.png\", format=\"PNG\")"
   ]
  },
  {
   "cell_type": "markdown",
   "id": "furnished-locking",
   "metadata": {},
   "source": [
    "### A Five-Game Playoff"
   ]
  },
  {
   "cell_type": "markdown",
   "id": "becoming-adrian",
   "metadata": {},
   "source": [
    "Let's see how to generate all possible combinations where the Yankees wins the series. As for the three games, there is only one possible output and it's $YYY$.\n",
    "\n",
    "When we consider a four games win, we must first consider all combinations from the string 'YYYA'"
   ]
  },
  {
   "cell_type": "code",
   "execution_count": null,
   "id": "fluid-liberia",
   "metadata": {},
   "outputs": [],
   "source": []
  }
 ],
 "metadata": {
  "kernelspec": {
   "display_name": "Python 3",
   "language": "python",
   "name": "python3"
  },
  "language_info": {
   "codemirror_mode": {
    "name": "ipython",
    "version": 3
   },
   "file_extension": ".py",
   "mimetype": "text/x-python",
   "name": "python",
   "nbconvert_exporter": "python",
   "pygments_lexer": "ipython3",
   "version": "3.7.9"
  }
 },
 "nbformat": 4,
 "nbformat_minor": 5
}
